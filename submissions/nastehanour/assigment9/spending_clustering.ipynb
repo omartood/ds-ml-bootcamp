{
 "cells": [
  {
   "cell_type": "code",
   "execution_count": 5,
   "id": "de7f9244-f130-4d43-9ceb-9fc1675a88d9",
   "metadata": {},
   "outputs": [],
   "source": [
    "import pandas as pd\n",
    "from sklearn.cluster import KMeans\n",
    "from sklearn.preprocessing import StandardScaler\n",
    "from sklearn.metrics import silhouette_score, davies_bouldin_score"
   ]
  },
  {
   "cell_type": "code",
   "execution_count": 6,
   "id": "7a63bf89-1be6-46a3-9cbf-4a4c58f012e1",
   "metadata": {},
   "outputs": [
    {
     "name": "stdout",
     "output_type": "stream",
     "text": [
      "---- INITIAL HEAD OF DATA ----\n",
      "   CustomerID  Age  Income_$  SpendingScore  VisitsPerMonth  OnlinePurchases  \\\n",
      "0           1   28        33             78              14                9   \n",
      "1           2   21        25             87               8               23   \n",
      "2           3   23        24             88              13               10   \n",
      "3           4   24        25             73              16               11   \n",
      "4           5   20        23             88              17               16   \n",
      "\n",
      "   Gender Region  \n",
      "0  Female   East  \n",
      "1    Male  North  \n",
      "2    Male  South  \n",
      "3  Female   West  \n",
      "4    Male   West  \n"
     ]
    }
   ],
   "source": [
    "# 1) Load dataset ---\n",
    "CSV_PATH = \"spending_l9_dataset.csv\"\n",
    "df = pd.read_csv(CSV_PATH)\n",
    "print(\"---- INITIAL HEAD OF DATA ----\")\n",
    "print(df.head())\n"
   ]
  },
  {
   "cell_type": "code",
   "execution_count": 9,
   "id": "38d616f6-fc3d-413b-8603-a7aa12433c89",
   "metadata": {},
   "outputs": [
    {
     "name": "stdout",
     "output_type": "stream",
     "text": [
      "\n",
      "=== FEATURES SNAPSHOT ===\n",
      "   Age  Income_$  SpendingScore\n",
      "0   28        33             78\n",
      "1   21        25             87\n",
      "2   23        24             88\n",
      "3   24        25             73\n",
      "4   20        23             88\n"
     ]
    }
   ],
   "source": [
    "# 2) features OF clustering ----\n",
    "\n",
    "Features = ['Age','Income_$', 'SpendingScore']\n",
    "X = df[Features].copy()\n",
    "print(\"\\n=== FEATURES SNAPSHOT ===\")\n",
    "print(X.head())"
   ]
  },
  {
   "cell_type": "code",
   "execution_count": 10,
   "id": "2434aed9-fc99-4f86-81a7-a39edc5ab5cc",
   "metadata": {},
   "outputs": [
    {
     "name": "stdout",
     "output_type": "stream",
     "text": [
      "\n",
      "Scaled shape: (200, 3)\n"
     ]
    }
   ],
   "source": [
    " #Scaled features\n",
    "scaler = StandardScaler()\n",
    "X_scaled = scaler.fit_transform(X)\n",
    "print(\"\\nScaled shape:\", X_scaled.shape)"
   ]
  },
  {
   "cell_type": "code",
   "execution_count": 11,
   "id": "864eda8b-5226-4616-bf98-451ba66f13a4",
   "metadata": {},
   "outputs": [
    {
     "name": "stdout",
     "output_type": "stream",
     "text": [
      "k=1 → SSE=600.00\n",
      "k=2 → SSE=263.82\n",
      "k=3 → SSE=112.13\n",
      "k=4 → SSE=36.61\n",
      "k=5 → SSE=34.30\n",
      "k=6 → SSE=30.95\n",
      "k=7 → SSE=27.52\n",
      "k=8 → SSE=25.15\n",
      "k=9 → SSE=23.59\n",
      "k=10 → SSE=21.29\n"
     ]
    }
   ],
   "source": [
    "for k in range(1, 11):\n",
    "    km = KMeans(n_clusters=k, n_init=\"auto\", random_state=42)\n",
    "    km.fit(X_scaled)\n",
    "    print(f\"k={k} → SSE={km.inertia_:.2f}\")"
   ]
  },
  {
   "cell_type": "code",
   "execution_count": 12,
   "id": "35a57612-6b43-458c-94a0-89008d62ae3e",
   "metadata": {},
   "outputs": [
    {
     "name": "stdout",
     "output_type": "stream",
     "text": [
      "0      2\n",
      "1      2\n",
      "2      2\n",
      "3      2\n",
      "4      2\n",
      "      ..\n",
      "195    3\n",
      "196    3\n",
      "197    3\n",
      "198    3\n",
      "199    3\n",
      "Name: Cluster, Length: 200, dtype: int64\n"
     ]
    }
   ],
   "source": [
    "K = 4\n",
    "kmeans = KMeans(n_clusters=K, n_init=\"auto\", random_state=42)\n",
    "labels = kmeans.fit_predict(X_scaled)\n",
    "\n",
    "df[\"Cluster\"] = labels.astype(int)\n",
    "print(df['Cluster'])"
   ]
  },
  {
   "cell_type": "code",
   "execution_count": 13,
   "id": "c63de06e-e30a-41ee-b05d-a0421227a3a0",
   "metadata": {},
   "outputs": [
    {
     "name": "stdout",
     "output_type": "stream",
     "text": [
      "Silhouette Score : 0.697 (closer to +1 is better)\n",
      "Davies–Bouldin   : 0.446 (lower is better)\n"
     ]
    }
   ],
   "source": [
    "sil = silhouette_score(X_scaled, labels)\n",
    "dbi = davies_bouldin_score(X_scaled, labels)\n",
    "print(f\"Silhouette Score : {sil:.3f} (closer to +1 is better)\")\n",
    "print(f\"Davies–Bouldin   : {dbi:.3f} (lower is better)\")"
   ]
  },
  {
   "cell_type": "code",
   "execution_count": 21,
   "id": "f59e86ae-9656-46b1-9716-67aa7d58351f",
   "metadata": {},
   "outputs": [
    {
     "name": "stdout",
     "output_type": "stream",
     "text": [
      "CLUSTER CENTERS (Original Units)\n",
      "           Age  Income_$  SpendingScore\n",
      "Cluster                                \n",
      "0        33.66     56.32          53.58\n",
      "1        56.58     28.92          19.60\n",
      "2        22.38     24.14          83.10\n",
      "3        37.40     99.16          79.24\n"
     ]
    }
   ],
   "source": [
    "centers_scaled = kmeans.cluster_centers_\n",
    "centers_original = scaler.inverse_transform(centers_scaled)\n",
    "\n",
    "centers_df = pd.DataFrame(centers_original, columns=Features)\n",
    "centers_df.index.name = \"Cluster\"\n",
    "\n",
    "print(\"CLUSTER CENTERS (Original Units)\")\n",
    "print(centers_df.round(2))"
   ]
  },
  {
   "cell_type": "code",
   "execution_count": 20,
   "id": "cab3c484-c054-42cd-a724-1071f4a2056b",
   "metadata": {},
   "outputs": [
    {
     "name": "stdout",
     "output_type": "stream",
     "text": [
      "SANITY CHECK (3 Customers)\n",
      "   Age  Income_$  SpendingScore  Cluster\n",
      "0   28        33             78        2\n",
      "1   21        25             87        2\n",
      "2   23        24             88        2\n"
     ]
    }
   ],
   "source": [
    "#sanity check\n",
    "sample_idx = [0, 1, 2]  # change to any row numbers\n",
    "sanity = df.loc[sample_idx, Features + [\"Cluster\"]]\n",
    "print(\"SANITY CHECK (3 Customers)\")\n",
    "print(sanity)"
   ]
  },
  {
   "cell_type": "code",
   "execution_count": 23,
   "id": "d7fbfb35-89b7-47fb-a1a1-5880e412a32b",
   "metadata": {},
   "outputs": [],
   "source": [
    "OUT_PATH = \"spending_labeled_clusters.csv\"\n",
    "df.to_csv(OUT_PATH, index=False)"
   ]
  },
  {
   "cell_type": "code",
   "execution_count": null,
   "id": "755b8f8e-4b72-4719-8b18-701ac18dc1e2",
   "metadata": {},
   "outputs": [],
   "source": []
  }
 ],
 "metadata": {
  "kernelspec": {
   "display_name": "Python 3 (ipykernel)",
   "language": "python",
   "name": "python3"
  },
  "language_info": {
   "codemirror_mode": {
    "name": "ipython",
    "version": 3
   },
   "file_extension": ".py",
   "mimetype": "text/x-python",
   "name": "python",
   "nbconvert_exporter": "python",
   "pygments_lexer": "ipython3",
   "version": "3.13.5"
  }
 },
 "nbformat": 4,
 "nbformat_minor": 5
}
