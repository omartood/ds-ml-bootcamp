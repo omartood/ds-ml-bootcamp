{
 "cells": [
  {
   "cell_type": "code",
   "execution_count": 1,
   "id": "5fccb078-96dd-4021-aa0e-a063d244bbaa",
   "metadata": {},
   "outputs": [],
   "source": [
    "# Imports and Setup\n",
    "import numpy as np\n",
    "import pandas as pd\n",
    "\n",
    "from sklearn.model_selection import train_test_split\n",
    "from sklearn.feature_extraction.text import TfidfVectorizer\n",
    "\n",
    "from sklearn.linear_model import LogisticRegression\n",
    "from sklearn.ensemble import RandomForestClassifier\n",
    "from sklearn.naive_bayes import MultinomialNB\n",
    "\n",
    "from sklearn.metrics import (\n",
    "    accuracy_score, precision_score, recall_score, f1_score, confusion_matrix\n",
    ")\n",
    "\n",
    "RANDOM_STATE = 42  # For reproducibility"
   ]
  },
  {
   "cell_type": "code",
   "execution_count": 2,
   "id": "51796cab-c707-4a83-a1c6-f2123624492b",
   "metadata": {},
   "outputs": [
    {
     "data": {
      "text/html": [
       "<div>\n",
       "<style scoped>\n",
       "    .dataframe tbody tr th:only-of-type {\n",
       "        vertical-align: middle;\n",
       "    }\n",
       "\n",
       "    .dataframe tbody tr th {\n",
       "        vertical-align: top;\n",
       "    }\n",
       "\n",
       "    .dataframe thead th {\n",
       "        text-align: right;\n",
       "    }\n",
       "</style>\n",
       "<table border=\"1\" class=\"dataframe\">\n",
       "  <thead>\n",
       "    <tr style=\"text-align: right;\">\n",
       "      <th></th>\n",
       "      <th>Category</th>\n",
       "      <th>Message</th>\n",
       "    </tr>\n",
       "  </thead>\n",
       "  <tbody>\n",
       "    <tr>\n",
       "      <th>0</th>\n",
       "      <td>1</td>\n",
       "      <td>Go until jurong point, crazy.. Available only ...</td>\n",
       "    </tr>\n",
       "    <tr>\n",
       "      <th>1</th>\n",
       "      <td>1</td>\n",
       "      <td>Ok lar... Joking wif u oni...</td>\n",
       "    </tr>\n",
       "    <tr>\n",
       "      <th>2</th>\n",
       "      <td>0</td>\n",
       "      <td>Free entry in 2 a wkly comp to win FA Cup fina...</td>\n",
       "    </tr>\n",
       "    <tr>\n",
       "      <th>3</th>\n",
       "      <td>1</td>\n",
       "      <td>U dun say so early hor... U c already then say...</td>\n",
       "    </tr>\n",
       "    <tr>\n",
       "      <th>4</th>\n",
       "      <td>1</td>\n",
       "      <td>Nah I don't think he goes to usf, he lives aro...</td>\n",
       "    </tr>\n",
       "  </tbody>\n",
       "</table>\n",
       "</div>"
      ],
      "text/plain": [
       "  Category                                            Message\n",
       "0        1  Go until jurong point, crazy.. Available only ...\n",
       "1        1                      Ok lar... Joking wif u oni...\n",
       "2        0  Free entry in 2 a wkly comp to win FA Cup fina...\n",
       "3        1  U dun say so early hor... U c already then say...\n",
       "4        1  Nah I don't think he goes to usf, he lives aro..."
      ]
     },
     "execution_count": 2,
     "metadata": {},
     "output_type": "execute_result"
    }
   ],
   "source": [
    "# Load and Clean Dataset\n",
    "# Expected columns: \"Category\" (ham/spam), \"Message\" (text)\n",
    "df = pd.read_csv(\"mail_l7_dataset.csv\")\n",
    "\n",
    "# Basic cleaning: replace NaNs with empty strings.\n",
    "df = df.where(pd.notnull(df), \"\")\n",
    "\n",
    "# Encode labels: spam -> 0, ham -> 1 \n",
    "df.loc[df[\"Category\"].str.lower().str.strip() == \"spam\", \"Category\"] = 0\n",
    "df.loc[df[\"Category\"].str.lower().str.strip() == \"ham\",  \"Category\"] = 1\n",
    "\n",
    "df.head()"
   ]
  },
  {
   "cell_type": "code",
   "execution_count": 3,
   "id": "d93abd93-2197-4173-b648-393c54f38bcf",
   "metadata": {},
   "outputs": [],
   "source": [
    "# Split features (X) and target (y)\n",
    "X = df[\"Message\"].astype(str)\n",
    "y = df[\"Category\"].astype(int)"
   ]
  },
  {
   "cell_type": "code",
   "execution_count": 4,
   "id": "40f0a9d8-af15-4b43-b8f1-b2a455f75352",
   "metadata": {},
   "outputs": [
    {
     "name": "stdout",
     "output_type": "stream",
     "text": [
      "=== SPLIT SIZES ===\n",
      "Train: 4457  | Test: 1115\n"
     ]
    }
   ],
   "source": [
    "# Train/test split \n",
    "X_train, X_test, y_train, y_test = train_test_split(\n",
    "    X, y, test_size=0.2, random_state=RANDOM_STATE\n",
    ")\n",
    "\n",
    "print(\"=== SPLIT SIZES ===\")\n",
    "print(\"Train:\", X_train.shape[0], \" | Test:\", X_test.shape[0])"
   ]
  },
  {
   "cell_type": "code",
   "execution_count": 5,
   "id": "9956be49-8be7-440d-9c36-89c6b323d4f0",
   "metadata": {},
   "outputs": [
    {
     "name": "stdout",
     "output_type": "stream",
     "text": [
      "\n",
      "=== TF-IDF SHAPES ===\n",
      "X_train: (4457, 7440)  | X_test: (1115, 7440)\n"
     ]
    }
   ],
   "source": [
    "\n",
    "tfidf = TfidfVectorizer(min_df=1, stop_words=\"english\", lowercase=True)\n",
    "X_train_features = tfidf.fit_transform(X_train)\n",
    "X_test_features  = tfidf.transform(X_test)\n",
    "\n",
    "print(\"\\n=== TF-IDF SHAPES ===\")\n",
    "print(\"X_train:\", X_train_features.shape, \" | X_test:\", X_test_features.shape)"
   ]
  },
  {
   "cell_type": "code",
   "execution_count": 6,
   "id": "406f673d-e47a-4c6b-95d6-43879b2f79db",
   "metadata": {},
   "outputs": [],
   "source": [
    "# Train Logistic Regression (baseline)\n",
    "lr = LogisticRegression(max_iter=1000, random_state=RANDOM_STATE)\n",
    "lr.fit(X_train_features, y_train)\n",
    "lr_pred = lr.predict(X_test_features)\n"
   ]
  },
  {
   "cell_type": "code",
   "execution_count": 7,
   "id": "328cbd1f-1d83-4635-b06d-6ffe81776841",
   "metadata": {},
   "outputs": [],
   "source": [
    "\n",
    "rf = RandomForestClassifier(n_estimators=200, random_state=RANDOM_STATE)\n",
    "rf.fit(X_train_features, y_train)\n",
    "rf_pred = rf.predict(X_test_features.toarray())\n"
   ]
  },
  {
   "cell_type": "code",
   "execution_count": 8,
   "id": "dbcb3776-e03d-4f46-aa8f-5e36dc3e5f92",
   "metadata": {},
   "outputs": [],
   "source": [
    "\n",
    "nb = MultinomialNB()\n",
    "nb.fit(X_train_features, y_train)\n",
    "nb_pred = nb.predict(X_test_features)"
   ]
  },
  {
   "cell_type": "code",
   "execution_count": 9,
   "id": "3400a1f2-abc5-4f77-9df1-a2eccbd58a73",
   "metadata": {},
   "outputs": [],
   "source": [
    "#  Print main metrics\n",
    "def print_metrics(model_name, y_true, y_pred):\n",
    "    print(f\"\\n{model_name} Performance:\")\n",
    "    print(\"Accuracy :\", accuracy_score(y_true, y_pred))\n",
    "    print(\"Precision:\", precision_score(y_true, y_pred, pos_label=0))\n",
    "    print(\"Recall   :\", recall_score(y_true, y_pred, pos_label=0))\n",
    "    print(\"F1-score :\", f1_score(y_true, y_pred, pos_label=0))\n",
    "\n",
    "#  Print confusion matrix\n",
    "def show_confusion(model_name, y_true, y_pred):\n",
    "    cm = confusion_matrix(y_true, y_pred, labels=[1, 0])\n",
    "    print(f\"\\n{model_name} Confusion Matrix:\")\n",
    "    print(pd.DataFrame(\n",
    "        cm,\n",
    "        index=[\"Actual: Ham (1)\", \"Actual: Spam (0)\"],\n",
    "        columns=[\"Pred: Ham (1)\", \"Pred: Spam (0)\"]\n",
    "    ))"
   ]
  },
  {
   "cell_type": "code",
   "execution_count": 11,
   "id": "0824c904-c988-484f-9b78-c5f3cf358d1c",
   "metadata": {},
   "outputs": [
    {
     "name": "stdout",
     "output_type": "stream",
     "text": [
      "\n",
      "Logistic Regression Performance:\n",
      "Accuracy : 0.967713004484305\n",
      "Precision: 1.0\n",
      "Recall   : 0.7583892617449665\n",
      "F1-score : 0.8625954198473282\n",
      "\n",
      "Logistic Regression Confusion Matrix:\n",
      "                  Pred: Ham (1)  Pred: Spam (0)\n",
      "Actual: Ham (1)             966               0\n",
      "Actual: Spam (0)             36             113\n"
     ]
    }
   ],
   "source": [
    "print_metrics(\"Logistic Regression\", y_test, lr_pred)\n",
    "show_confusion(\"Logistic Regression\", y_test, lr_pred)\n"
   ]
  },
  {
   "cell_type": "code",
   "execution_count": 12,
   "id": "d23e1021-f4f5-4ee7-ae0d-42286a07556e",
   "metadata": {},
   "outputs": [
    {
     "name": "stdout",
     "output_type": "stream",
     "text": [
      "\n",
      "Random Forest Performance:\n",
      "Accuracy : 0.9829596412556054\n",
      "Precision: 1.0\n",
      "Recall   : 0.87248322147651\n",
      "F1-score : 0.931899641577061\n",
      "\n",
      "Random Forest Confusion Matrix:\n",
      "                  Pred: Ham (1)  Pred: Spam (0)\n",
      "Actual: Ham (1)             966               0\n",
      "Actual: Spam (0)             19             130\n"
     ]
    }
   ],
   "source": [
    "print_metrics(\"Random Forest\", y_test, rf_pred)\n",
    "show_confusion(\"Random Forest\", y_test, rf_pred)\n"
   ]
  },
  {
   "cell_type": "code",
   "execution_count": 13,
   "id": "c0fe8462-d58a-477e-8175-92de40208f75",
   "metadata": {},
   "outputs": [
    {
     "name": "stdout",
     "output_type": "stream",
     "text": [
      "\n",
      "Naive Bayes Performance:\n",
      "Accuracy : 0.9766816143497757\n",
      "Precision: 1.0\n",
      "Recall   : 0.825503355704698\n",
      "F1-score : 0.9044117647058824\n",
      "\n",
      "Naive Bayes Confusion Matrix:\n",
      "                  Pred: Ham (1)  Pred: Spam (0)\n",
      "Actual: Ham (1)             966               0\n",
      "Actual: Spam (0)             26             123\n"
     ]
    }
   ],
   "source": [
    "print_metrics(\"Naive Bayes\", y_test, nb_pred)\n",
    "show_confusion(\"Naive Bayes\", y_test, nb_pred)"
   ]
  },
  {
   "cell_type": "code",
   "execution_count": null,
   "id": "ce65fb86-6133-4023-bbc0-5ae987be966a",
   "metadata": {},
   "outputs": [],
   "source": []
  }
 ],
 "metadata": {
  "kernelspec": {
   "display_name": "Python 3 (ipykernel)",
   "language": "python",
   "name": "python3"
  },
  "language_info": {
   "codemirror_mode": {
    "name": "ipython",
    "version": 3
   },
   "file_extension": ".py",
   "mimetype": "text/x-python",
   "name": "python",
   "nbconvert_exporter": "python",
   "pygments_lexer": "ipython3",
   "version": "3.13.5"
  }
 },
 "nbformat": 4,
 "nbformat_minor": 5
}
