{
 "cells": [
  {
   "cell_type": "code",
   "execution_count": 1,
   "id": "c9962547",
   "metadata": {},
   "outputs": [],
   "source": [
    "# 0: Import necessary libraries\n",
    "import pandas as pd\n",
    "import numpy as np\n",
    "from sklearn.model_selection import train_test_split\n",
    "from sklearn.feature_extraction.text import TfidfVectorizer\n",
    "from sklearn.linear_model import LogisticRegression\n",
    "from sklearn.ensemble import RandomForestClassifier\n",
    "from sklearn.naive_bayes import MultinomialNB\n",
    "from sklearn.metrics import accuracy_score, precision_score, recall_score, f1_score, confusion_matrix\n"
   ]
  },
  {
   "cell_type": "code",
   "execution_count": 3,
   "id": "01067ad6",
   "metadata": {},
   "outputs": [
    {
     "data": {
      "text/html": [
       "<div>\n",
       "<style scoped>\n",
       "    .dataframe tbody tr th:only-of-type {\n",
       "        vertical-align: middle;\n",
       "    }\n",
       "\n",
       "    .dataframe tbody tr th {\n",
       "        vertical-align: top;\n",
       "    }\n",
       "\n",
       "    .dataframe thead th {\n",
       "        text-align: right;\n",
       "    }\n",
       "</style>\n",
       "<table border=\"1\" class=\"dataframe\">\n",
       "  <thead>\n",
       "    <tr style=\"text-align: right;\">\n",
       "      <th></th>\n",
       "      <th>Category</th>\n",
       "      <th>Message</th>\n",
       "    </tr>\n",
       "  </thead>\n",
       "  <tbody>\n",
       "    <tr>\n",
       "      <th>0</th>\n",
       "      <td>ham</td>\n",
       "      <td>Go until jurong point, crazy.. Available only ...</td>\n",
       "    </tr>\n",
       "    <tr>\n",
       "      <th>1</th>\n",
       "      <td>ham</td>\n",
       "      <td>Ok lar... Joking wif u oni...</td>\n",
       "    </tr>\n",
       "    <tr>\n",
       "      <th>2</th>\n",
       "      <td>spam</td>\n",
       "      <td>Free entry in 2 a wkly comp to win FA Cup fina...</td>\n",
       "    </tr>\n",
       "    <tr>\n",
       "      <th>3</th>\n",
       "      <td>ham</td>\n",
       "      <td>U dun say so early hor... U c already then say...</td>\n",
       "    </tr>\n",
       "    <tr>\n",
       "      <th>4</th>\n",
       "      <td>ham</td>\n",
       "      <td>Nah I don't think he goes to usf, he lives aro...</td>\n",
       "    </tr>\n",
       "  </tbody>\n",
       "</table>\n",
       "</div>"
      ],
      "text/plain": [
       "  Category                                            Message\n",
       "0      ham  Go until jurong point, crazy.. Available only ...\n",
       "1      ham                      Ok lar... Joking wif u oni...\n",
       "2     spam  Free entry in 2 a wkly comp to win FA Cup fina...\n",
       "3      ham  U dun say so early hor... U c already then say...\n",
       "4      ham  Nah I don't think he goes to usf, he lives aro..."
      ]
     },
     "execution_count": 3,
     "metadata": {},
     "output_type": "execute_result"
    }
   ],
   "source": [
    "# 1: Load dataset\n",
    "df = pd.read_csv('mail_l7_dataset.csv')\n",
    "df.head()"
   ]
  },
  {
   "cell_type": "code",
   "execution_count": 5,
   "id": "a02bf16a",
   "metadata": {},
   "outputs": [],
   "source": [
    "# Encode labels\n",
    "df.loc[df['Category'].str.lower().str.strip() == 'spam', 'Category'] = 0\n",
    "df.loc[df['Category'].str.lower().str.strip() == 'ham', 'Category'] = 1"
   ]
  },
  {
   "cell_type": "code",
   "execution_count": 6,
   "id": "c009cf2b-7716-4538-af1a-b6b9c1b90fae",
   "metadata": {},
   "outputs": [
    {
     "name": "stdout",
     "output_type": "stream",
     "text": [
      "Training samples: 4457 | Testing samples: 1115\n"
     ]
    }
   ],
   "source": [
    "# 3: Split features (X) and target (y)\n",
    "X = df['Message'].astype(str)\n",
    "y = df['Category'].astype(int)\n",
    "\n",
    "# Split into train & test\n",
    "RANDOM_STATE = 42\n",
    "X_train, X_test, y_train, y_test = train_test_split(\n",
    "    X, y, test_size=0.2, random_state=RANDOM_STATE\n",
    ")\n",
    "\n",
    "print(f\"Training samples: {X_train.shape[0]} | Testing samples: {X_test.shape[0]}\")\n"
   ]
  },
  {
   "cell_type": "code",
   "execution_count": 7,
   "id": "2b09c4bf-d153-4882-bc2f-505e4297e042",
   "metadata": {},
   "outputs": [
    {
     "data": {
      "text/plain": [
       "((4457, 7440), (1115, 7440))"
      ]
     },
     "execution_count": 7,
     "metadata": {},
     "output_type": "execute_result"
    }
   ],
   "source": [
    "# 4: Text vectorization using TF-IDF\n",
    "tfidf = TfidfVectorizer(min_df=1, stop_words='english', lowercase=True)\n",
    "X_train_features = tfidf.fit_transform(X_train)\n",
    "X_test_features = tfidf.transform(X_test)\n",
    "\n",
    "X_train_features.shape, X_test_features.shape"
   ]
  },
  {
   "cell_type": "code",
   "execution_count": 8,
   "id": "e4fa900a-83b7-4cfe-8d8a-df8e083fe7bd",
   "metadata": {},
   "outputs": [],
   "source": [
    "# 5: Train Logistic Regression\n",
    "log_reg = LogisticRegression(max_iter=1000, random_state=RANDOM_STATE)\n",
    "log_reg.fit(X_train_features, y_train)\n",
    "log_reg_pred = log_reg.predict(X_test_features)\n"
   ]
  },
  {
   "cell_type": "code",
   "execution_count": 9,
   "id": "41752438-41ae-4ac8-8832-8782d61a5598",
   "metadata": {},
   "outputs": [],
   "source": [
    "# 6: Train Random Forest\n",
    "rf_clf = RandomForestClassifier(n_estimators=100, random_state=RANDOM_STATE)\n",
    "rf_clf.fit(X_train_features, y_train)\n",
    "rf_clf_pred = rf_clf.predict(X_test_features.toarray())\n"
   ]
  },
  {
   "cell_type": "code",
   "execution_count": 10,
   "id": "5d8befe0-d23c-48c7-8f65-d86de1dadee5",
   "metadata": {},
   "outputs": [],
   "source": [
    "# 7: Train Naive Bayes\n",
    "nb_clf = MultinomialNB()\n",
    "nb_clf.fit(X_train_features, y_train)\n",
    "nb_clf_pred = nb_clf.predict(X_test_features)"
   ]
  },
  {
   "cell_type": "code",
   "execution_count": 11,
   "id": "7ed7f71e-e295-4e12-affe-14f1f0ef7c0c",
   "metadata": {},
   "outputs": [],
   "source": [
    "# 8: Helper functions for evaluation\n",
    "def print_metrics(name, y_true, y_pred, pos_label=0):\n",
    "    acc = accuracy_score(y_true, y_pred)\n",
    "    prec = precision_score(y_true, y_pred, pos_label=pos_label)\n",
    "    rec = recall_score(y_true, y_pred, pos_label=pos_label)\n",
    "    f1 = f1_score(y_true, y_pred, pos_label=pos_label)\n",
    "\n",
    "    print(f\"\\n{name} Model Performance:\")\n",
    "    print(f\"Accuracy: {acc:.2f}\")\n",
    "    print(f\"Precision: {prec:.2f} (positive = spam = 0)\")\n",
    "    print(f\"Recall: {rec:.2f} (positive = spam = 0)\")\n",
    "    print(f\"F1 Score: {f1:.2f} (positive = spam = 0)\")\n",
    "\n",
    "\n",
    "def print_confusion_matrix(name, y_true, y_pred):\n",
    "    cm = confusion_matrix(y_true, y_pred, labels=[1, 0])\n",
    "    cm_df = pd.DataFrame(\n",
    "        cm,\n",
    "        index=['Actual Ham (1)', 'Actual Spam (0)'],\n",
    "        columns=['Predicted Ham (1)', 'Predicted Spam (0)']\n",
    "    )\n",
    "    print(f\"\\n{name} Confusion Matrix:\\n{cm_df}\")\n"
   ]
  },
  {
   "cell_type": "code",
   "execution_count": 12,
   "id": "467414d2-b3da-4e95-aaf8-d593f65882b0",
   "metadata": {},
   "outputs": [
    {
     "name": "stdout",
     "output_type": "stream",
     "text": [
      "\n",
      "Logistic Regression Model Performance:\n",
      "Accuracy: 0.97\n",
      "Precision: 1.00 (positive = spam = 0)\n",
      "Recall: 0.76 (positive = spam = 0)\n",
      "F1 Score: 0.86 (positive = spam = 0)\n",
      "\n",
      "Logistic Regression Confusion Matrix:\n",
      "                 Predicted Ham (1)  Predicted Spam (0)\n",
      "Actual Ham (1)                 966                   0\n",
      "Actual Spam (0)                 36                 113\n",
      "\n",
      "Random Forest Model Performance:\n",
      "Accuracy: 0.98\n",
      "Precision: 1.00 (positive = spam = 0)\n",
      "Recall: 0.86 (positive = spam = 0)\n",
      "F1 Score: 0.92 (positive = spam = 0)\n",
      "\n",
      "Random Forest Confusion Matrix:\n",
      "                 Predicted Ham (1)  Predicted Spam (0)\n",
      "Actual Ham (1)                 966                   0\n",
      "Actual Spam (0)                 21                 128\n",
      "\n",
      "Naive Bayes Model Performance:\n",
      "Accuracy: 0.98\n",
      "Precision: 1.00 (positive = spam = 0)\n",
      "Recall: 0.83 (positive = spam = 0)\n",
      "F1 Score: 0.90 (positive = spam = 0)\n",
      "\n",
      "Naive Bayes Confusion Matrix:\n",
      "                 Predicted Ham (1)  Predicted Spam (0)\n",
      "Actual Ham (1)                 966                   0\n",
      "Actual Spam (0)                 26                 123\n"
     ]
    }
   ],
   "source": [
    "# 9: Evaluate all models\n",
    "models = {\n",
    "    \"Logistic Regression\": log_reg_pred,\n",
    "    \"Random Forest\": rf_clf_pred,\n",
    "    \"Naive Bayes\": nb_clf_pred,\n",
    "}\n",
    "\n",
    "for name, pred in models.items():\n",
    "    print_metrics(name, y_test, pred)\n",
    "    print_confusion_matrix(name, y_test, pred)\n"
   ]
  },
  {
   "cell_type": "code",
   "execution_count": 15,
   "id": "41bfd2c6-886f-48aa-967e-c810c99daeba",
   "metadata": {},
   "outputs": [
    {
     "name": "stdout",
     "output_type": "stream",
     "text": [
      "\n",
      "--- Sample Index 1 ---\n",
      "Text Snippet: And also I've sorta blown him off a couple times recently so id rather not text him out of the blue looking for weed\n",
      "Actual Label: Ham (1)\n",
      "Logistic Regression Prediction: Ham (1)\n",
      "Random Forest Prediction: Ham (1)\n",
      "Naive Bayes Prediction: Ham (1)\n",
      "\n",
      "--- Sample Index 5 ---\n",
      "Text Snippet: Sary just need Tim in the bollox &it hurt him a lot so he tol me!\n",
      "Actual Label: Ham (1)\n",
      "Logistic Regression Prediction: Ham (1)\n",
      "Random Forest Prediction: Ham (1)\n",
      "Naive Bayes Prediction: Ham (1)\n",
      "\n",
      "--- Sample Index 14 ---\n",
      "Text Snippet: FREE RINGTONE text FIRST to 87131 for a poly or text GET to 87131 for a true tone! Help? 0845 2814032 16 after 1st free, tones are 3x£150pw to e£nd txt stop\n",
      "Actual Label: Spam (0)\n",
      "Logistic Regression Prediction: Spam (0)\n",
      "Random Forest Prediction: Spam (0)\n",
      "Naive Bayes Prediction: Spam (0)\n"
     ]
    }
   ],
   "source": [
    "# 10: Three sample sanity check\n",
    "sample_indices = [1, 5, 14]  \n",
    "\n",
    "def label2string(res):\n",
    "    return 'Spam (0)' if res == 0 else 'Ham (1)'\n",
    "\n",
    "for idx in sample_indices:\n",
    "    sample_text = X_test.iloc[idx]\n",
    "    true_label = y_test.iloc[idx]\n",
    "\n",
    "    # Make predictions\n",
    "    log_reg_pred = int(log_reg.predict(tfidf.transform([sample_text]))[0])\n",
    "    rf_clf_pred = int(rf_clf.predict(tfidf.transform([sample_text]).toarray())[0])\n",
    "    nb_clf_pred = int(nb_clf.predict(tfidf.transform([sample_text]))[0])\n",
    "\n",
    "    # Print snippet and results\n",
    "    snippet = (sample_text[:160] + '.....') if len(sample_text) > 160 else sample_text\n",
    "    print(f\"\\n--- Sample Index {idx} ---\")\n",
    "    print(f\"Text Snippet: {snippet}\")\n",
    "    print(f\"Actual Label: {label2string(true_label)}\")\n",
    "    print(f\"Logistic Regression Prediction: {label2string(log_reg_pred)}\")\n",
    "    print(f\"Random Forest Prediction: {label2string(rf_clf_pred)}\")\n",
    "    print(f\"Naive Bayes Prediction: {label2string(nb_clf_pred)}\")\n"
   ]
  },
  {
   "cell_type": "code",
   "execution_count": null,
   "id": "d8fdc15e-6711-4017-9c39-91e700a15014",
   "metadata": {},
   "outputs": [],
   "source": []
  }
 ],
 "metadata": {
  "kernelspec": {
   "display_name": "Python [conda env:base] *",
   "language": "python",
   "name": "conda-base-py"
  },
  "language_info": {
   "codemirror_mode": {
    "name": "ipython",
    "version": 3
   },
   "file_extension": ".py",
   "mimetype": "text/x-python",
   "name": "python",
   "nbconvert_exporter": "python",
   "pygments_lexer": "ipython3",
   "version": "3.13.5"
  }
 },
 "nbformat": 4,
 "nbformat_minor": 5
}
