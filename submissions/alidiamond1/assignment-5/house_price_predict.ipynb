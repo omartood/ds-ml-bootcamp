{
 "cells": [
  {
   "cell_type": "code",
   "execution_count": 1,
   "id": "3804dc0c",
   "metadata": {},
   "outputs": [],
   "source": [
    "import pandas as pd\n",
    "import numpy as np\n",
    "from sklearn.model_selection import train_test_split\n",
    "from sklearn.linear_model import LinearRegression\n",
    "from sklearn.ensemble import RandomForestRegressor\n",
    "from sklearn.metrics import mean_absolute_error, mean_squared_error, r2_score"
   ]
  },
  {
   "cell_type": "code",
   "execution_count": 2,
   "id": "1bc14b78",
   "metadata": {},
   "outputs": [
    {
     "name": "stdout",
     "output_type": "stream",
     "text": [
      "Dataset shape: (140, 15)\n",
      "\n",
      "First 5 rows:\n",
      "    Price  Odometer_km     Doors  Accidents      Year  Location_City  \\\n",
      "0  1500.0     0.128390  0.254091   0.316968  1.686714              1   \n",
      "1  4171.0    -0.044709  0.254091  -0.820867 -0.794617              0   \n",
      "2  5331.0    -0.440923  0.254091  -0.820867 -0.518913              0   \n",
      "3  1500.0     0.203135  0.254091   0.316968  1.548862              0   \n",
      "4  1500.0    -0.044709 -0.931668  -0.820867 -1.621727              1   \n",
      "\n",
      "   Location_Rural  Location_Subrb  Price_per_km  Had_Accident  Small_Car  \\\n",
      "0               0               0     -0.233324             1          0   \n",
      "1               1               0     -0.133663             0          0   \n",
      "2               0               1     -0.054008             0          0   \n",
      "3               0               1     -0.234745             1          0   \n",
      "4               0               0     -0.229692             0          1   \n",
      "\n",
      "   Medium_Car  Large_Car  Is_City  LogPrice  \n",
      "0           1          0        1  7.313887  \n",
      "1           1          0        0  8.336151  \n",
      "2           1          0        0  8.581482  \n",
      "3           1          0        0  7.313887  \n",
      "4           0          0        1  7.313887  \n",
      "\n",
      "Column information:\n",
      "<class 'pandas.core.frame.DataFrame'>\n",
      "RangeIndex: 140 entries, 0 to 139\n",
      "Data columns (total 15 columns):\n",
      " #   Column          Non-Null Count  Dtype  \n",
      "---  ------          --------------  -----  \n",
      " 0   Price           140 non-null    float64\n",
      " 1   Odometer_km     140 non-null    float64\n",
      " 2   Doors           140 non-null    float64\n",
      " 3   Accidents       140 non-null    float64\n",
      " 4   Year            140 non-null    float64\n",
      " 5   Location_City   140 non-null    int64  \n",
      " 6   Location_Rural  140 non-null    int64  \n",
      " 7   Location_Subrb  140 non-null    int64  \n",
      " 8   Price_per_km    140 non-null    float64\n",
      " 9   Had_Accident    140 non-null    int64  \n",
      " 10  Small_Car       140 non-null    int64  \n",
      " 11  Medium_Car      140 non-null    int64  \n",
      " 12  Large_Car       140 non-null    int64  \n",
      " 13  Is_City         140 non-null    int64  \n",
      " 14  LogPrice        140 non-null    float64\n",
      "dtypes: float64(7), int64(8)\n",
      "memory usage: 16.5 KB\n",
      "None\n"
     ]
    }
   ],
   "source": [
    "# data load - Using your cleaned car dataset as alternative to house dataset\n",
    "df = pd.read_csv(\"Car_Clean.csv\")\n",
    "print(f\"Dataset shape: {df.shape}\")\n",
    "print(\"\\nFirst 5 rows:\")\n",
    "print(df.head())\n",
    "print(\"\\nColumn information:\")\n",
    "print(df.info())"
   ]
  },
  {
   "cell_type": "code",
   "execution_count": 3,
   "id": "prepare_features",
   "metadata": {},
   "outputs": [
    {
     "name": "stdout",
     "output_type": "stream",
     "text": [
      "Features shape: (140, 13)\n",
      "Target shape: (140,)\n",
      "\n",
      "Features: ['Odometer_km', 'Doors', 'Accidents', 'Year', 'Location_City', 'Location_Rural', 'Location_Subrb', 'Price_per_km', 'Had_Accident', 'Small_Car', 'Medium_Car', 'Large_Car', 'Is_City']\n"
     ]
    }
   ],
   "source": [
    "# Prepare Features & Target\n",
    "# Target (y) = Price\n",
    "# Features (X) = all other columns except Price and LogPrice\n",
    "\n",
    "# Define target variable\n",
    "y = df['Price']\n",
    "\n",
    "# Define features (exclude Price and LogPrice)\n",
    "exclude_columns = ['Price', 'LogPrice']\n",
    "X = df.drop(columns=exclude_columns)\n",
    "\n",
    "print(f\"Features shape: {X.shape}\")\n",
    "print(f\"Target shape: {y.shape}\")\n",
    "print(f\"\\nFeatures: {list(X.columns)}\")"
   ]
  },
  {
   "cell_type": "code",
   "execution_count": 4,
   "id": "train_test_split",
   "metadata": {},
   "outputs": [
    {
     "name": "stdout",
     "output_type": "stream",
     "text": [
      "Training samples: 112\n",
      "Test samples: 28\n",
      "Training split: 80.0%\n",
      "Test split: 20.0%\n"
     ]
    }
   ],
   "source": [
    "# Split Data\n",
    "# Split into 80% training and 20% testing\n",
    "# Use random_state=42 for reproducibility\n",
    "\n",
    "X_train, X_test, y_train, y_test = train_test_split(\n",
    "    X, y, test_size=0.2, random_state=42\n",
    ")\n",
    "\n",
    "print(f\"Training samples: {len(X_train)}\")\n",
    "print(f\"Test samples: {len(X_test)}\")\n",
    "print(f\"Training split: {len(X_train)/(len(X_train)+len(X_test)):.1%}\")\n",
    "print(f\"Test split: {len(X_test)/(len(X_train)+len(X_test)):.1%}\")"
   ]
  },
  {
   "cell_type": "code",
   "execution_count": 5,
   "id": "train_models",
   "metadata": {},
   "outputs": [
    {
     "name": "stdout",
     "output_type": "stream",
     "text": [
      "✅ Models trained successfully!\n",
      "Linear Regression trained on 112 samples\n",
      "Random Forest trained on 112 samples\n"
     ]
    }
   ],
   "source": [
    "# Train Models\n",
    "\n",
    "# Train Linear Regression model\n",
    "lr_model = LinearRegression()\n",
    "lr_model.fit(X_train, y_train)\n",
    "\n",
    "# Train Random Forest Regressor\n",
    "rf_model = RandomForestRegressor(n_estimators=100, random_state=42)\n",
    "rf_model.fit(X_train, y_train)\n",
    "\n",
    "print('✅ Models trained successfully!')\n",
    "print(f\"Linear Regression trained on {len(X_train)} samples\")\n",
    "print(f\"Random Forest trained on {len(X_train)} samples\")"
   ]
  },
  {
   "cell_type": "code",
   "execution_count": 6,
   "id": "helper_function",
   "metadata": {},
   "outputs": [],
   "source": [
    "# Helper function to evaluate model performance\n",
    "def evaluate_model(y_true, y_pred, model_name):\n",
    "    \"\"\"\n",
    "    Calculate and print model performance metrics\n",
    "    \"\"\"\n",
    "    r2 = r2_score(y_true, y_pred)\n",
    "    mae = mean_absolute_error(y_true, y_pred)\n",
    "    mse = mean_squared_error(y_true, y_pred)\n",
    "    rmse = np.sqrt(mse)\n",
    "    \n",
    "    print(f\"{model_name} Performance:\")\n",
    "    print(f\"  R²   : {r2:.3f}\")\n",
    "    print(f\"  MAE  : {mae:,.0f}\")\n",
    "    print(f\"  MSE  : {mse:,.0f}\")\n",
    "    print(f\"  RMSE : {rmse:,.0f}\")\n",
    "    print()\n",
    "    \n",
    "    return {'R2': r2, 'MAE': mae, 'MSE': mse, 'RMSE': rmse}"
   ]
  },
  {
   "cell_type": "code",
   "execution_count": 7,
   "id": "evaluate_performance",
   "metadata": {},
   "outputs": [
    {
     "name": "stdout",
     "output_type": "stream",
     "text": [
      "==================================================\n",
      "MODEL PERFORMANCE COMPARISON\n",
      "==================================================\n",
      "Linear Regression Performance:\n",
      "  R²   : 0.515\n",
      "  MAE  : 1,300\n",
      "  MSE  : 3,226,652\n",
      "  RMSE : 1,796\n",
      "\n",
      "Random Forest Performance:\n",
      "  R²   : 0.814\n",
      "  MAE  : 562\n",
      "  MSE  : 1,241,031\n",
      "  RMSE : 1,114\n",
      "\n",
      "COMPARISON:\n",
      "🏆 Random Forest has better R² (0.814 vs 0.515)\n",
      "🏆 Random Forest has lower MAE (562 vs 1300)\n"
     ]
    }
   ],
   "source": [
    "# Evaluate Performance\n",
    "# Make predictions on test set\n",
    "lr_predictions = lr_model.predict(X_test)\n",
    "rf_predictions = rf_model.predict(X_test)\n",
    "\n",
    "# Print performance metrics for both models\n",
    "print('=' * 50)\n",
    "print('MODEL PERFORMANCE COMPARISON')\n",
    "print('=' * 50)\n",
    "\n",
    "lr_metrics = evaluate_model(y_test, lr_predictions, 'Linear Regression')\n",
    "rf_metrics = evaluate_model(y_test, rf_predictions, 'Random Forest')\n",
    "\n",
    "# Compare models\n",
    "print('COMPARISON:')\n",
    "if rf_metrics['R2'] > lr_metrics['R2']:\n",
    "    print(f\"🏆 Random Forest has better R² ({rf_metrics['R2']:.3f} vs {lr_metrics['R2']:.3f})\")\n",
    "else:\n",
    "    print(f\"🏆 Linear Regression has better R² ({lr_metrics['R2']:.3f} vs {rf_metrics['R2']:.3f})\")\n",
    "\n",
    "if rf_metrics['MAE'] < lr_metrics['MAE']:\n",
    "    print(f\"🏆 Random Forest has lower MAE ({rf_metrics['MAE']:.0f} vs {lr_metrics['MAE']:.0f})\")\n",
    "else:\n",
    "    print(f\"🏆 Linear Regression has lower MAE ({lr_metrics['MAE']:.0f} vs {rf_metrics['MAE']:.0f})\")"
   ]
  },
  {
   "cell_type": "code",
   "execution_count": 8,
   "id": "sanity_check",
   "metadata": {},
   "outputs": [
    {
     "name": "stdout",
     "output_type": "stream",
     "text": [
      "============================================================\n",
      "SINGLE SAMPLE PREDICTION COMPARISON\n",
      "============================================================\n",
      "Sample features:\n",
      "  Odometer_km: -0.898399628492121\n",
      "  Doors: 0.2540913424931785\n",
      "  Accidents: 0.3169684327872081\n",
      "  Year: 0.03249361724608\n",
      "  Location_City: 1.0\n",
      "  Location_Rural: 0.0\n",
      "  Location_Subrb: 0.0\n",
      "  Price_per_km: -0.0813819121467454\n",
      "  Had_Accident: 1.0\n",
      "  Small_Car: 0.0\n",
      "  Medium_Car: 1.0\n",
      "  Large_Car: 0.0\n",
      "  Is_City: 1.0\n",
      "\n",
      "💰 ACTUAL PRICE: $3,622.00\n",
      "🤖 Linear Regression Prediction: $4,422.06\n",
      "🌲 Random Forest Prediction: $4,737.43\n",
      "\n",
      "Prediction Errors:\n",
      "  Linear Regression Error: $800.06\n",
      "  Random Forest Error: $1,115.43\n",
      "\n",
      "🏆 Linear Regression is more accurate for this sample!\n"
     ]
    }
   ],
   "source": [
    "# Single-row Sanity Check\n",
    "# Pick one row from the test set and compare actual price with predictions\n",
    "\n",
    "# Select a random test sample\n",
    "sample_idx = 5  # You can change this index\n",
    "sample_features = X_test.iloc[[sample_idx]]\n",
    "actual_price = y_test.iloc[sample_idx]\n",
    "\n",
    "# Make predictions for this single sample\n",
    "lr_single_pred = lr_model.predict(sample_features)[0]\n",
    "rf_single_pred = rf_model.predict(sample_features)[0]\n",
    "\n",
    "print('=' * 60)\n",
    "print('SINGLE SAMPLE PREDICTION COMPARISON')\n",
    "print('=' * 60)\n",
    "\n",
    "print(f\"Sample features:\")\n",
    "for feature, value in sample_features.iloc[0].items():\n",
    "    print(f\"  {feature}: {value}\")\n",
    "\n",
    "print(f\"\\n💰 ACTUAL PRICE: ${actual_price:,.2f}\")\n",
    "print(f\"🤖 Linear Regression Prediction: ${lr_single_pred:,.2f}\")\n",
    "print(f\"🌲 Random Forest Prediction: ${rf_single_pred:,.2f}\")\n",
    "\n",
    "print(f\"\\nPrediction Errors:\")\n",
    "lr_error = abs(actual_price - lr_single_pred)\n",
    "rf_error = abs(actual_price - rf_single_pred)\n",
    "print(f\"  Linear Regression Error: ${lr_error:,.2f}\")\n",
    "print(f\"  Random Forest Error: ${rf_error:,.2f}\")\n",
    "\n",
    "if rf_error < lr_error:\n",
    "    print(f\"\\n🏆 Random Forest is more accurate for this sample!\")\n",
    "else:\n",
    "    print(f\"\\n🏆 Linear Regression is more accurate for this sample!\")"
   ]
  },
  {
   "cell_type": "code",
   "execution_count": 9,
   "id": "additional_analysis",
   "metadata": {},
   "outputs": [
    {
     "name": "stdout",
     "output_type": "stream",
     "text": [
      "==================================================\n",
      "RANDOM FOREST FEATURE IMPORTANCE\n",
      "==================================================\n",
      "Top 10 Most Important Features:\n",
      " 1. Price_per_km         0.9454\n",
      " 2. Year                 0.0251\n",
      " 3. Odometer_km          0.0166\n",
      " 4. Doors                0.0023\n",
      " 5. Accidents            0.0018\n",
      " 6. Medium_Car           0.0016\n",
      " 7. Location_Rural       0.0016\n",
      " 8. Small_Car            0.0013\n",
      " 9. Location_Subrb       0.0011\n",
      "10. Had_Accident         0.0011\n",
      "\n",
      "Total features used: 13\n"
     ]
    }
   ],
   "source": [
    "# Additional Analysis: Feature Importance (Random Forest)\n",
    "print('=' * 50)\n",
    "print('RANDOM FOREST FEATURE IMPORTANCE')\n",
    "print('=' * 50)\n",
    "\n",
    "# Get feature importance from Random Forest\n",
    "feature_importance = pd.DataFrame({\n",
    "    'feature': X.columns,\n",
    "    'importance': rf_model.feature_importances_\n",
    "}).sort_values('importance', ascending=False)\n",
    "\n",
    "print('Top 10 Most Important Features:')\n",
    "for i, (_, row) in enumerate(feature_importance.head(10).iterrows(), 1):\n",
    "    print(f\"{i:2}. {row['feature']:<20} {row['importance']:.4f}\")\n",
    "\n",
    "print(f\"\\nTotal features used: {len(X.columns)}\")"
   ]
  }
 ],
 "metadata": {
  "kernelspec": {
   "display_name": "base",
   "language": "python",
   "name": "python3"
  },
  "language_info": {
   "codemirror_mode": {
    "name": "ipython",
    "version": 3
   },
   "file_extension": ".py",
   "mimetype": "text/x-python",
   "name": "python",
   "nbconvert_exporter": "python",
   "pygments_lexer": "ipython3",
   "version": "3.12.7"
  }
 },
 "nbformat": 4,
 "nbformat_minor": 5
}
