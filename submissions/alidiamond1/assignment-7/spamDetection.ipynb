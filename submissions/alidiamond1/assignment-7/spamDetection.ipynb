{
 "cells": [
  {
   "cell_type": "markdown",
   "id": "2c2a888e",
   "metadata": {},
   "source": [
    "## 0 Imports dependencies of the liberary"
   ]
  },
  {
   "cell_type": "code",
   "execution_count": 9,
   "id": "cf801317",
   "metadata": {},
   "outputs": [],
   "source": [
    "import numpy as np\n",
    "import pandas as pd\n",
    "\n",
    "from sklearn.model_selection import train_test_split\n",
    "from sklearn.feature_extraction.text import TfidfVectorizer\n",
    "\n",
    "from sklearn.linear_model import LogisticRegression\n",
    "from sklearn.ensemble import RandomForestClassifier\n",
    "\n",
    "from sklearn.metrics import (\n",
    "    accuracy_score, precision_score, recall_score, f1_score, confusion_matrix\n",
    ")\n",
    "\n",
    "from sklearn.naive_bayes import MultinomialNB\n",
    "\n",
    "RANDOM_STATE = 42  # reproducibility"
   ]
  },
  {
   "cell_type": "markdown",
   "id": "57985e96",
   "metadata": {},
   "source": [
    "## 1 Load the dataset"
   ]
  },
  {
   "cell_type": "code",
   "execution_count": null,
   "id": "0c9b5556",
   "metadata": {},
   "outputs": [
    {
     "name": "stdout",
     "output_type": "stream",
     "text": [
      "     Category                                            Message\n",
      "0         ham  Go until jurong point, crazy.. Available only ...\n",
      "1         ham                      Ok lar... Joking wif u oni...\n",
      "2        spam  Free entry in 2 a wkly comp to win FA Cup fina...\n",
      "3         ham  U dun say so early hor... U c already then say...\n",
      "4         ham  Nah I don't think he goes to usf, he lives aro...\n",
      "...       ...                                                ...\n",
      "5567     spam  This is the 2nd time we have tried 2 contact u...\n",
      "5568      ham               Will ü b going to esplanade fr home?\n",
      "5569      ham  Pity, * was in mood for that. So...any other s...\n",
      "5570      ham  The guy did some bitching but I acted like i'd...\n",
      "5571      ham                         Rofl. Its true to its name\n",
      "\n",
      "[5572 rows x 2 columns]\n"
     ]
    }
   ],
   "source": [
    "df = pd.read_csv(\"mail_l7_dataset.csv\")\n",
    "print(df)"
   ]
  },
  {
   "cell_type": "code",
   "execution_count": 5,
   "id": "e8058f81",
   "metadata": {},
   "outputs": [],
   "source": [
    "# Basic cleaning: replace NaNs with empty strings (text models can't handle NaN)\n",
    "df = df.where(pd.notnull(df), \"\")"
   ]
  },
  {
   "cell_type": "code",
   "execution_count": 6,
   "id": "f2e7a2b2",
   "metadata": {},
   "outputs": [
    {
     "name": "stdout",
     "output_type": "stream",
     "text": [
      "  Category                                            Message\n",
      "0        1  Go until jurong point, crazy.. Available only ...\n",
      "1        1                      Ok lar... Joking wif u oni...\n",
      "2        0  Free entry in 2 a wkly comp to win FA Cup fina...\n",
      "3        1  U dun say so early hor... U c already then say...\n",
      "4        1  Nah I don't think he goes to usf, he lives aro...\n"
     ]
    }
   ],
   "source": [
    "# Encode labels: spam -> 0, ham -> 1  (keep your original convention)\n",
    "df.loc[df['Category'].str.lower().str.strip() == 'spam','Category'] = 0\n",
    "df.loc[df['Category'].str.lower().str.strip() == 'ham','Category'] = 1\n",
    "print(df.head())"
   ]
  },
  {
   "cell_type": "markdown",
   "id": "48f5fabd",
   "metadata": {},
   "source": [
    "## 2 Split features (X) and target (y)"
   ]
  },
  {
   "cell_type": "code",
   "execution_count": null,
   "id": "b2580771",
   "metadata": {},
   "outputs": [],
   "source": [
    "X = df[\"Message\"].astype(str)\n",
    "y = df[\"Category\"].astype(int)"
   ]
  },
  {
   "cell_type": "markdown",
   "id": "0b16d7eb",
   "metadata": {},
   "source": [
    "## 3 Train/test split (stratified)"
   ]
  },
  {
   "cell_type": "code",
   "execution_count": null,
   "id": "0d1f0851",
   "metadata": {},
   "outputs": [
    {
     "name": "stdout",
     "output_type": "stream",
     "text": [
      "=== SPLIT SIZES ===\n",
      "Train: 4457  | Test: 1115\n"
     ]
    }
   ],
   "source": [
    "X_train, X_test, y_train, y_test = train_test_split(\n",
    "    X, y, test_size=0.2, random_state=RANDOM_STATE\n",
    ")\n",
    "\n",
    "print(\"=== SPLIT SIZES ===\")\n",
    "print(\"Train:\", X_train.shape[0], \" | Test:\", X_test.shape[0])\n"
   ]
  },
  {
   "cell_type": "markdown",
   "id": "69003d49",
   "metadata": {},
   "source": [
    "## 4 Text → TF-IDF features"
   ]
  },
  {
   "cell_type": "code",
   "execution_count": 11,
   "id": "4616ccdd",
   "metadata": {},
   "outputs": [
    {
     "name": "stdout",
     "output_type": "stream",
     "text": [
      "\n",
      "=== TF-IDF SHAPES ===\n",
      "X_train: (4457, 7440)  | X_test: (1115, 7440)\n"
     ]
    }
   ],
   "source": [
    "# Simple, student-friendly settings\n",
    "tfidf = TfidfVectorizer(min_df=1, stop_words=\"english\", lowercase=True)\n",
    "X_train_features = tfidf.fit_transform(X_train)\n",
    "X_test_features  = tfidf.transform(X_test)\n",
    "\n",
    "print(\"\\n=== TF-IDF SHAPES ===\")\n",
    "print(\"X_train:\", X_train_features.shape, \" | X_test:\", X_test_features.shape)"
   ]
  },
  {
   "cell_type": "markdown",
   "id": "b76c8a1b",
   "metadata": {},
   "source": [
    "## 5 Train Logistic Regression (baseline)"
   ]
  },
  {
   "cell_type": "code",
   "execution_count": 12,
   "id": "ced1b764",
   "metadata": {},
   "outputs": [],
   "source": [
    "lr = LogisticRegression(max_iter=1000, random_state=RANDOM_STATE)\n",
    "lr.fit(X_train_features, y_train)\n",
    "lr_pred = lr.predict(X_test_features)"
   ]
  },
  {
   "cell_type": "markdown",
   "id": "1100188f",
   "metadata": {},
   "source": [
    "## 6 Train Random Forest"
   ]
  },
  {
   "cell_type": "code",
   "execution_count": 13,
   "id": "33fc7d1f",
   "metadata": {},
   "outputs": [],
   "source": [
    "#convert TF-IDF to dense for tree models\n",
    "rf = RandomForestClassifier(n_estimators=200, random_state=RANDOM_STATE)\n",
    "rf.fit(X_train_features, y_train)\n",
    "rf_pred = rf.predict(X_test_features.toarray())"
   ]
  },
  {
   "cell_type": "markdown",
   "id": "e07a8dc4",
   "metadata": {},
   "source": [
    "## 7 Helper functions: metrics + confusion matrix print"
   ]
  },
  {
   "cell_type": "code",
   "execution_count": 14,
   "id": "f3b4e0d2",
   "metadata": {},
   "outputs": [],
   "source": [
    "def print_clf_metrics(name, y_true, y_pred, pos_label=0):\n",
    "    \"\"\"Print Accuracy, Precision, Recall, F1. pos_label=0 means 'spam' is positive.\"\"\"\n",
    "    acc  = accuracy_score(y_true, y_pred)\n",
    "    prec = precision_score(y_true, y_pred, pos_label=pos_label)\n",
    "    rec  = recall_score(y_true, y_pred, pos_label=pos_label)\n",
    "    f1   = f1_score(y_true, y_pred, pos_label=pos_label)\n",
    "    print(f\"\\n{name} Performance:\")\n",
    "    print(f\"  Accuracy : {acc:.3f}\")\n",
    "    print(f\"  Precision: {prec:.3f}  (positive = spam=0)\")\n",
    "    print(f\"  Recall   : {rec:.3f}  (positive = spam=0)\")\n",
    "    print(f\"  F1-Score : {f1:.3f}  (positive = spam=0)\")\n",
    "\n",
    "def print_confmat(name, y_true, y_pred):\n",
    "    \"\"\"\n",
    "    Confusion matrix with readable labels.\n",
    "    Rows = Actual, Cols = Predicted\n",
    "    Order: [Ham(1), Spam(0)] so you can see both classes clearly.\n",
    "    \"\"\"\n",
    "    cm = confusion_matrix(y_true, y_pred, labels=[1, 0])\n",
    "    cm_df = pd.DataFrame(\n",
    "        cm,\n",
    "        index   = [\"Actual: Ham (1)\",  \"Actual: Spam (0)\"],\n",
    "        columns = [\"Pred: Ham (1)\",    \"Pred: Spam (0)\"]\n",
    "    )\n",
    "    print(f\"\\n{name} – Confusion Matrix:\\n{cm_df}\")"
   ]
  },
  {
   "cell_type": "markdown",
   "id": "1a2e118c",
   "metadata": {},
   "source": [
    "## 8 Show results for both models (same print style as L5)"
   ]
  },
  {
   "cell_type": "code",
   "execution_count": 15,
   "id": "74ecfb2a",
   "metadata": {},
   "outputs": [
    {
     "name": "stdout",
     "output_type": "stream",
     "text": [
      "\n",
      "Logistic Regression Performance:\n",
      "  Accuracy : 0.968\n",
      "  Precision: 1.000  (positive = spam=0)\n",
      "  Recall   : 0.758  (positive = spam=0)\n",
      "  F1-Score : 0.863  (positive = spam=0)\n",
      "\n",
      "Logistic Regression – Confusion Matrix:\n",
      "                  Pred: Ham (1)  Pred: Spam (0)\n",
      "Actual: Ham (1)             966               0\n",
      "Actual: Spam (0)             36             113\n",
      "\n",
      "Random Forest Performance:\n",
      "  Accuracy : 0.983\n",
      "  Precision: 1.000  (positive = spam=0)\n",
      "  Recall   : 0.872  (positive = spam=0)\n",
      "  F1-Score : 0.932  (positive = spam=0)\n",
      "\n",
      "Random Forest – Confusion Matrix:\n",
      "                  Pred: Ham (1)  Pred: Spam (0)\n",
      "Actual: Ham (1)             966               0\n",
      "Actual: Spam (0)             19             130\n"
     ]
    }
   ],
   "source": [
    "print_clf_metrics(\"Logistic Regression\", y_test, lr_pred, pos_label=0)\n",
    "print_confmat(\"Logistic Regression\", y_test, lr_pred)\n",
    "\n",
    "print_clf_metrics(\"Random Forest\", y_test, rf_pred, pos_label=0)\n",
    "print_confmat(\"Random Forest\", y_test, rf_pred)"
   ]
  },
  {
   "cell_type": "markdown",
   "id": "816c4141",
   "metadata": {},
   "source": [
    "## 9 Single-message sanity check (like L5 single-row check)"
   ]
  },
  {
   "cell_type": "code",
   "execution_count": 16,
   "id": "e9bbe9dc",
   "metadata": {},
   "outputs": [
    {
     "name": "stdout",
     "output_type": "stream",
     "text": [
      "\n",
      "=== SINGLE MESSAGE CHECK ===\n",
      "Text snippet: Sary just need Tim in the bollox &it hurt him a lot so he tol me!\n",
      "Actual      : Ham (1)\n",
      "LR Pred     : Ham (1)\n",
      "RF Pred     : Ham (1)\n"
     ]
    }
   ],
   "source": [
    "i = 5  # change index to inspect different emails from X_test\n",
    "sample_text = X_test.iloc[i]\n",
    "true_label  = y_test.iloc[i]\n",
    "\n",
    "# Predict with both models\n",
    "lr_pred_one = int(lr.predict(tfidf.transform([sample_text]))[0])\n",
    "rf_pred_one = int(rf.predict(tfidf.transform([sample_text]).toarray())[0])\n",
    "\n",
    "def lab2str(v):  # same readable output style\n",
    "    return \"Spam (0)\" if v == 0 else \"Ham (1)\"\n",
    "\n",
    "print(\"\\n=== SINGLE MESSAGE CHECK ===\")\n",
    "snippet = (sample_text[:160] + \"...\") if len(sample_text) > 160 else sample_text\n",
    "print(\"Text snippet:\", snippet)\n",
    "print(\"Actual      :\", lab2str(true_label))\n",
    "print(\"LR Pred     :\", lab2str(lr_pred_one))\n",
    "print(\"RF Pred     :\", lab2str(rf_pred_one))"
   ]
  }
 ],
 "metadata": {
  "kernelspec": {
   "display_name": "base",
   "language": "python",
   "name": "python3"
  },
  "language_info": {
   "codemirror_mode": {
    "name": "ipython",
    "version": 3
   },
   "file_extension": ".py",
   "mimetype": "text/x-python",
   "name": "python",
   "nbconvert_exporter": "python",
   "pygments_lexer": "ipython3",
   "version": "3.12.7"
  }
 },
 "nbformat": 4,
 "nbformat_minor": 5
}
