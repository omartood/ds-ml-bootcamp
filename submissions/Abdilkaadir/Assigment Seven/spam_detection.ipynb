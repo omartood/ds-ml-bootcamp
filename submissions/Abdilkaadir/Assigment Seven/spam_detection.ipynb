{
 "cells": [
  {
   "cell_type": "code",
   "execution_count": 11,
   "id": "4c32afc0-41cd-41ea-8720-ff8b51a85af5",
   "metadata": {},
   "outputs": [],
   "source": [
    "import pandas as pd\n",
    "import numpy as np\n",
    "from sklearn.model_selection import train_test_split\n",
    "from sklearn.feature_extraction.text import TfidfVectorizer\n",
    "from sklearn.linear_model import LogisticRegression\n",
    "from sklearn.ensemble import RandomForestClassifier\n",
    "from sklearn.naive_bayes import MultinomialNB\n",
    "from sklearn.metrics import(accuracy_score,precision_score,recall_score,f1_score,confusion_matrix)"
   ]
  },
  {
   "cell_type": "code",
   "execution_count": 12,
   "id": "1d1ca427-b821-40a0-94aa-5fe00a9572b0",
   "metadata": {},
   "outputs": [],
   "source": [
    "df=pd.read_csv(\"mail_l7_dataset.csv\")\n"
   ]
  },
  {
   "cell_type": "code",
   "execution_count": 13,
   "id": "805778bb-bb74-4ffb-addd-bad5c751f880",
   "metadata": {},
   "outputs": [],
   "source": [
    "df.loc[df[\"Category\"].str.lower().str.strip()==\"spam\",\"Category\"]=0\n",
    "df.loc[df[\"Category\"].str.lower().str.strip()==\"ham\",\"Category\"]=1"
   ]
  },
  {
   "cell_type": "code",
   "execution_count": 14,
   "id": "ee3a6b39-b92e-403e-819e-481b609088f8",
   "metadata": {},
   "outputs": [],
   "source": [
    "X=df[\"Message\"].astype(str)\n",
    "y=df[\"Category\"].astype(int)"
   ]
  },
  {
   "cell_type": "code",
   "execution_count": 15,
   "id": "f4c901cd-582d-4d7b-89c3-602089225e72",
   "metadata": {},
   "outputs": [
    {
     "name": "stdout",
     "output_type": "stream",
     "text": [
      "  Category                                            Message\n",
      "0        1  Go until jurong point, crazy.. Available only ...\n",
      "1        1                      Ok lar... Joking wif u oni...\n",
      "2        0  Free entry in 2 a wkly comp to win FA Cup fina...\n",
      "3        1  U dun say so early hor... U c already then say...\n",
      "4        1  Nah I don't think he goes to usf, he lives aro...\n"
     ]
    }
   ],
   "source": [
    "print(df.head())"
   ]
  },
  {
   "cell_type": "code",
   "execution_count": 16,
   "id": "86f049e0-e5f4-45a7-8c56-1d3e6fd59496",
   "metadata": {},
   "outputs": [],
   "source": [
    "x_train, x_test, y_train, y_test= train_test_split(\n",
    "    X,y,test_size=0.2, random_state=42\n",
    ")\n"
   ]
  },
  {
   "cell_type": "code",
   "execution_count": 17,
   "id": "579ac530-f50b-4d11-9a54-40f51e988e31",
   "metadata": {},
   "outputs": [],
   "source": [
    "tfidf=TfidfVectorizer(min_df=1,stop_words=\"english\",lowercase=True)\n",
    "x_train_features=tfidf.fit_transform(x_train)\n",
    "x_test_features=tfidf.transform(x_test)"
   ]
  },
  {
   "cell_type": "code",
   "execution_count": 18,
   "id": "5f2aa627-83c0-46ad-a11d-71932164cad9",
   "metadata": {},
   "outputs": [
    {
     "name": "stdout",
     "output_type": "stream",
     "text": [
      "[1 1 1 ... 1 1 1]\n"
     ]
    }
   ],
   "source": [
    "lr=LogisticRegression(max_iter=1000,random_state=42)\n",
    "lr.fit(x_train_features,y_train)\n",
    "lr.predict(x_test_features)\n",
    "lr_predict=lr.predict(x_test_features)\n",
    "print(lr_predict)"
   ]
  },
  {
   "cell_type": "code",
   "execution_count": 19,
   "id": "d41cf5e7-ee50-407f-ba72-bb64a327de48",
   "metadata": {},
   "outputs": [
    {
     "name": "stdout",
     "output_type": "stream",
     "text": [
      "Logistic Regression performance:\n",
      "Accuracy:0.968(Postive=spam=0)\n",
      "Precission:1.000(Postive=spam=0)\n",
      "ReCall:0.758(Postive=spam=0)\n",
      "F1-Score:0.863(Postive=spam=0)\n"
     ]
    }
   ],
   "source": [
    "def print_metrics(name, y_true,y_pred, pos_label=0):\n",
    "    acc=accuracy_score(y_true,y_pred)\n",
    "    prec=precision_score(y_true,y_pred,pos_label=pos_label)\n",
    "    rec=recall_score(y_true,y_pred,pos_label=pos_label)\n",
    "    f1=f1_score(y_true,y_pred,pos_label=pos_label)\n",
    "    print(f\"{name} performance:\")\n",
    "    print(f\"Accuracy:{acc:.3f}(Postive=spam=0)\")\n",
    "    print(f\"Precission:{prec:.3f}(Postive=spam=0)\")\n",
    "    print(f\"ReCall:{rec:.3f}(Postive=spam=0)\")\n",
    "    print(f\"F1-Score:{f1:.3f}(Postive=spam=0)\")\n",
    "print_metrics(\"Logistic Regression\", y_test,lr_predict)"
   ]
  },
  {
   "cell_type": "code",
   "execution_count": 20,
   "id": "e7b4aa3c-3453-4392-aec6-9e84dfa1674d",
   "metadata": {},
   "outputs": [
    {
     "name": "stdout",
     "output_type": "stream",
     "text": [
      "Logistic Regression performance:\n",
      "Accuracy:0.968(Postive=spam=0)\n",
      "Precission:1.000(Postive=spam=0)\n",
      "ReCall:0.758(Postive=spam=0)\n",
      "F1-Score:0.863(Postive=spam=0)\n",
      "LogisticRegression:  Confusion Matrix:\n",
      "                Predicted Hame(1)  pred Spam(0)\n",
      "Actual Ham(1)                 966             0\n",
      "Actual Spam(0)                 36           113\n"
     ]
    }
   ],
   "source": [
    "def print_confmat(name,y_true,y_pred):\n",
    "    cm=confusion_matrix(y_true,y_pred,labels=[1,0])\n",
    "    cm_df=pd.DataFrame(\n",
    "        cm,\n",
    "        index=[\"Actual Ham(1)\",\"Actual Spam(0)\"],\n",
    "        columns=[\"Predicted Hame(1)\",\"pred Spam(0)\"]\n",
    "    )\n",
    "    print(f\"{name} Confusion Matrix:\\n{cm_df}\") \n",
    "print_metrics(\"Logistic Regression\", y_test,lr_predict)\n",
    "print_confmat(\"LogisticRegression: \",y_test,lr_predict)"
   ]
  },
  {
   "cell_type": "code",
   "execution_count": 21,
   "id": "a523f82a-8364-411c-bcbc-992f07283f50",
   "metadata": {},
   "outputs": [],
   "source": [
    "rf=RandomForestClassifier(n_estimators=200,random_state=42)\n",
    "rf.fit(x_train_features,y_train)\n",
    "rf.predict(x_test_features)\n",
    "rf_predict=rf.predict(x_test_features)\n"
   ]
  },
  {
   "cell_type": "code",
   "execution_count": 22,
   "id": "061b5867-6f4d-4b00-810b-fb82815f72d6",
   "metadata": {},
   "outputs": [
    {
     "name": "stdout",
     "output_type": "stream",
     "text": [
      "\n",
      "Random Forest Performance:\n",
      "  Accuracy : 0.983\n",
      "  Precision: 1.000  (positive = spam=0)\n",
      "  Recall   : 0.872  (positive = spam=0)\n",
      "  F1-Score : 0.932  (positive = spam=0)\n"
     ]
    }
   ],
   "source": [
    "def print_clf_metrics(name, y_true, y_pred, pos_label=0):\n",
    "    \"\"\"Print Accuracy, Precision, Recall, F1. pos_label=0 means 'spam' is positive.\"\"\"\n",
    "    acc  = accuracy_score(y_true, y_pred)\n",
    "    prec = precision_score(y_true, y_pred, pos_label=pos_label)\n",
    "    rec  = recall_score(y_true, y_pred, pos_label=pos_label)\n",
    "    f1   = f1_score(y_true, y_pred, pos_label=pos_label)\n",
    "    print(f\"\\n{name} Performance:\")\n",
    "    print(f\"  Accuracy : {acc:.3f}\")\n",
    "    print(f\"  Precision: {prec:.3f}  (positive = spam=0)\")\n",
    "    print(f\"  Recall   : {rec:.3f}  (positive = spam=0)\")\n",
    "    print(f\"  F1-Score : {f1:.3f}  (positive = spam=0)\")\n",
    "print_clf_metrics(\"Random Forest\", y_test, rf_predict, pos_label=0)"
   ]
  },
  {
   "cell_type": "code",
   "execution_count": 23,
   "id": "0736b7ed-4f3f-4d02-9dc3-da78ec2fb54a",
   "metadata": {},
   "outputs": [],
   "source": [
    "def print_confmat(name, y_true, y_pred):\n",
    "    \"\"\"\n",
    "    Confusion matrix with readable labels.\n",
    "    Rows = Actual, Cols = Predicted\n",
    "    Order: [Ham(1), Spam(0)] so you can see both classes clearly.\n",
    "    \"\"\"\n",
    "    cm = confusion_matrix(y_true, y_pred, labels=[1, 0])\n",
    "    cm_df = pd.DataFrame(\n",
    "        cm,\n",
    "        index   = [\"Actual: Ham (1)\",  \"Actual: Spam (0)\"],\n",
    "        columns = [\"Pred: Ham (1)\",    \"Pred: Spam (0)\"]\n",
    "    )\n",
    "    print(f\"\\n{name} – Confusion Matrix:\\n{cm_df}\")"
   ]
  },
  {
   "cell_type": "code",
   "execution_count": 34,
   "id": "5389ba13-babe-433d-a6c1-2685ea631448",
   "metadata": {},
   "outputs": [
    {
     "name": "stdout",
     "output_type": "stream",
     "text": [
      "\n",
      "Random Forest Performance:\n",
      "  Accuracy : 0.983\n",
      "  Precision: 1.000  (positive = spam=0)\n",
      "  Recall   : 0.872  (positive = spam=0)\n",
      "  F1-Score : 0.932  (positive = spam=0)\n",
      "\n",
      "Random Forest – Confusion Matrix:\n",
      "                  Pred: Ham (1)  Pred: Spam (0)\n",
      "Actual: Ham (1)             966               0\n",
      "Actual: Spam (0)             19             130\n"
     ]
    }
   ],
   "source": [
    "print_clf_metrics(\"Random Forest\", y_test, rf_predict, pos_label=0)\n",
    "print_confmat(\"Random Forest\", y_test, rf_predict,)"
   ]
  },
  {
   "cell_type": "code",
   "execution_count": 24,
   "id": "091213e7-8b6c-4c8a-b15a-0b951dcd11ca",
   "metadata": {},
   "outputs": [
    {
     "name": "stdout",
     "output_type": "stream",
     "text": [
      "\n",
      "Naive Bayes: Performance:\n",
      "  Accuracy : 0.977\n",
      "  Precision: 1.000  (positive = spam=0)\n",
      "  Recall   : 0.826  (positive = spam=0)\n",
      "  F1-Score : 0.904  (positive = spam=0)\n",
      "\n",
      "Naive Bayes: – Confusion Matrix:\n",
      "                  Pred: Ham (1)  Pred: Spam (0)\n",
      "Actual: Ham (1)             966               0\n",
      "Actual: Spam (0)             26             123\n"
     ]
    }
   ],
   "source": [
    "#=================================Naive Bayes\n",
    "nb = MultinomialNB()\n",
    "nb.fit(x_train_features, y_train)\n",
    "nb_pred = nb.predict(x_test_features)\n",
    "\n",
    "# Metrics function for Naive Bayes\n",
    "def print_nb_metrics(name, y_true, y_pred, pos_label=0):\n",
    "    acc  = accuracy_score(y_true, y_pred)\n",
    "    prec = precision_score(y_true, y_pred, pos_label=pos_label)\n",
    "    rec  = recall_score(y_true, y_pred, pos_label=pos_label)\n",
    "    f1   = f1_score(y_true, y_pred, pos_label=pos_label)\n",
    "    print(f\"\\n{name} Performance:\")\n",
    "    print(f\"  Accuracy : {acc:.3f}\")\n",
    "    print(f\"  Precision: {prec:.3f}  (positive = spam=0)\")\n",
    "    print(f\"  Recall   : {rec:.3f}  (positive = spam=0)\")\n",
    "    print(f\"  F1-Score : {f1:.3f}  (positive = spam=0)\")\n",
    "\n",
    "# Confusion Matrix function for Naive Bayes\n",
    "def print_nb_confmat(name, y_true, y_pred):\n",
    "    cm = confusion_matrix(y_true, y_pred, labels=[1,0])\n",
    "    cm_df = pd.DataFrame(\n",
    "        cm,\n",
    "        index   = [\"Actual: Ham (1)\", \"Actual: Spam (0)\"],\n",
    "        columns = [\"Pred: Ham (1)\",   \"Pred: Spam (0)\"]\n",
    "    )\n",
    "    print(f\"\\n{name} – Confusion Matrix:\\n{cm_df}\")\n",
    "\n",
    "# Print results\n",
    "print_nb_metrics(\"Naive Bayes:\", y_test, nb_pred)\n",
    "print_nb_confmat(\"Naive Bayes:\", y_test, nb_pred)"
   ]
  },
  {
   "cell_type": "code",
   "execution_count": 34,
   "id": "96b76bb8-2585-404c-890b-cf3913f08a27",
   "metadata": {},
   "outputs": [
    {
     "name": "stdout",
     "output_type": "stream",
     "text": [
      "Sanity Check\n",
      "Sample Text:  FREE RINGTONE text FIRST to 87131 for a poly or text GET to 87131 for a true tone! Help? 0845 2814032 16 after 1st free, tones are 3x£150pw to e£nd txt stop\n",
      "Actual:  spam(0)\n",
      "LR Predict:  spam(0)\n",
      "RF Predict:  spam(0)\n",
      "NB Predict:  spam(0)\n"
     ]
    }
   ],
   "source": [
    "#// Sanity Check One Sample One\n",
    "i=14\n",
    "sample_text=x_test.iloc[i]\n",
    "true_label=y_test.iloc[i]\n",
    "lr_pred_one=int(lr.predict(tfidf.transform([sample_text]))[0])\n",
    "rf_pred_one=int(rf.predict(tfidf.transform([sample_text]))[0])\n",
    "nb_pred_one = int(nb.predict(tfidf.transform([sample_text]))[0])\n",
    "\n",
    "\n",
    "def lab2str(r):\n",
    "    return \"spam(0)\" if r==0 else \"Ham (1)\"\n",
    "print(\"Sanity Check\")\n",
    "print(\"Sample Text: \",sample_text)\n",
    "print(\"Actual: \",lab2str(true_label))\n",
    "print(\"LR Predict: \",lab2str(lr_pred_one))\n",
    "print(\"RF Predict: \",lab2str(rf_pred_one))\n",
    "print(\"NB Predict: \",lab2str(nb_pred_one))"
   ]
  },
  {
   "cell_type": "code",
   "execution_count": 31,
   "id": "1bc7e02e-5343-4faf-9655-8813fbc92d4c",
   "metadata": {},
   "outputs": [
    {
     "name": "stdout",
     "output_type": "stream",
     "text": [
      "Sanity Check\n",
      "Sample Text:  Fighting with the world is easy, u either win or lose bt fightng with some1 who is close to u is dificult if u lose - u lose if u win - u still lose.\n",
      "Actual:  Ham (1)\n",
      "LR Predict:  Ham (1)\n",
      "RF Predict:  Ham (1)\n",
      "NB Predict:  Ham (1)\n"
     ]
    }
   ],
   "source": [
    "#// Sanity Check One Sample Two\n",
    "i=18\n",
    "sample_text=x_test.iloc[i]\n",
    "true_label=y_test.iloc[i]\n",
    "lr_pred_one=int(lr.predict(tfidf.transform([sample_text]))[0])\n",
    "rf_pred_one=int(rf.predict(tfidf.transform([sample_text]))[0])\n",
    "nb_pred_one = int(nb.predict(tfidf.transform([sample_text]))[0])\n",
    "\n",
    "\n",
    "def lab2str(r):\n",
    "    return \"spam(0)\" if r==0 else \"Ham (1)\"\n",
    "print(\"Sanity Check\")\n",
    "print(\"Sample Text: \",sample_text)\n",
    "print(\"Actual: \",lab2str(true_label))\n",
    "print(\"LR Predict: \",lab2str(lr_pred_one))\n",
    "print(\"RF Predict: \",lab2str(rf_pred_one))\n",
    "print(\"NB Predict: \",lab2str(nb_pred_one))"
   ]
  },
  {
   "cell_type": "code",
   "execution_count": 32,
   "id": "aea9d5ba-0297-4a81-b37f-11dbc90ab8be",
   "metadata": {},
   "outputs": [
    {
     "name": "stdout",
     "output_type": "stream",
     "text": [
      "Sanity Check\n",
      "Sample Text:  So there's a ring that comes with the guys costumes. It's there so they can gift their future yowifes. Hint hint\n",
      "Actual:  Ham (1)\n",
      "LR Predict:  Ham (1)\n",
      "RF Predict:  Ham (1)\n",
      "NB Predict:  Ham (1)\n"
     ]
    }
   ],
   "source": [
    "#// Sanity Check One Sample Three\n",
    "i=4\n",
    "sample_text=x_test.iloc[i]\n",
    "true_label=y_test.iloc[i]\n",
    "lr_pred_one=int(lr.predict(tfidf.transform([sample_text]))[0])\n",
    "rf_pred_one=int(rf.predict(tfidf.transform([sample_text]))[0])\n",
    "nb_pred_one = int(nb.predict(tfidf.transform([sample_text]))[0])\n",
    "\n",
    "\n",
    "def lab2str(r):\n",
    "    return \"spam(0)\" if r==0 else \"Ham (1)\"\n",
    "print(\"Sanity Check\")\n",
    "print(\"Sample Text: \",sample_text)\n",
    "print(\"Actual: \",lab2str(true_label))\n",
    "print(\"LR Predict: \",lab2str(lr_pred_one))\n",
    "print(\"RF Predict: \",lab2str(rf_pred_one))\n",
    "print(\"NB Predict: \",lab2str(nb_pred_one))"
   ]
  },
  {
   "cell_type": "code",
   "execution_count": null,
   "id": "00f78dde-bb70-4142-bd0c-3b910bc8d0fb",
   "metadata": {},
   "outputs": [],
   "source": []
  }
 ],
 "metadata": {
  "kernelspec": {
   "display_name": "Python [conda env:base] *",
   "language": "python",
   "name": "conda-base-py"
  },
  "language_info": {
   "codemirror_mode": {
    "name": "ipython",
    "version": 3
   },
   "file_extension": ".py",
   "mimetype": "text/x-python",
   "name": "python",
   "nbconvert_exporter": "python",
   "pygments_lexer": "ipython3",
   "version": "3.13.5"
  }
 },
 "nbformat": 4,
 "nbformat_minor": 5
}
