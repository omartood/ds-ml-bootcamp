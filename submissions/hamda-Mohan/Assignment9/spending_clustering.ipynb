{
 "cells": [
  {
   "cell_type": "code",
   "execution_count": null,
   "id": "7f80ea88-b29e-455d-812c-99ecb296c5eb",
   "metadata": {},
   "outputs": [],
   "source": [
    "import os\n",
    "os.environ[\"OMP_NUM_THREADS\"] = \"1\"  # Fix memory leak warning on Windows with MKL\n",
    "\n",
    "import pandas as pd\n",
    "from sklearn.preprocessing import StandardScaler\n",
    "from sklearn.cluster import KMeans\n",
    "from sklearn.metrics import silhouette_score , davies_bouldin_score\n"
   ]
  },
  {
   "cell_type": "code",
   "execution_count": null,
   "id": "2a5b32a0-4a5a-4919-90a3-f6c6952489f5",
   "metadata": {},
   "outputs": [],
   "source": [
    "# ================================\n",
    "# 1) Load dataset\n",
    "# ================================"
   ]
  },
  {
   "cell_type": "code",
   "execution_count": null,
   "id": "a658a15f-efbf-4763-9992-40afb456c721",
   "metadata": {},
   "outputs": [],
   "source": [
    "df = pd.read_csv(\"spending_l9_dataset.csv\")"
   ]
  },
  {
   "cell_type": "code",
   "execution_count": null,
   "id": "a4b504f0-b1a9-44c5-b6de-72a781199864",
   "metadata": {},
   "outputs": [
    {
     "name": "stdout",
     "output_type": "stream",
     "text": [
      "   CustomerID  Gender  Age  Annual_Income_($)  Spending_Score_(1-100)\n",
      "0           1    Male   19                 15                      39\n",
      "1           2    Male   21                 15                      81\n",
      "2           3  Female   20                 16                       6\n",
      "(200, 5)\n"
     ]
    }
   ],
   "source": [
    "print(df.head(3))\n",
    "print(df.shape)"
   ]
  },
  {
   "cell_type": "code",
   "execution_count": null,
   "id": "53abc24e-c110-4069-91eb-c627b6295b76",
   "metadata": {},
   "outputs": [],
   "source": [
    "# ================================\n",
    "# 2) Select useful features\n",
    "# ================================"
   ]
  },
  {
   "cell_type": "code",
   "execution_count": null,
   "id": "55b9f63b-75f4-4fe9-8c2b-d68545275b00",
   "metadata": {},
   "outputs": [],
   "source": [
    "FEATURES = [\"Annual_Income_($)\", \"Spending_Score_(1-100)\"]"
   ]
  },
  {
   "cell_type": "code",
   "execution_count": null,
   "id": "d81d051a-231d-4077-ba97-d4033813a500",
   "metadata": {},
   "outputs": [],
   "source": [
    "X = df[FEATURES].copy()"
   ]
  },
  {
   "cell_type": "code",
   "execution_count": null,
   "id": "f45c2ca7-2e90-421c-a71e-ce1a4588f4dd",
   "metadata": {},
   "outputs": [],
   "source": [
    "# checking missing values, fill  median\n",
    "for col in FEATURES:\n",
    "    if X[col].isnull().any():\n",
    "       X[col] = X[col].fillna(X[col].median()) "
   ]
  },
  {
   "cell_type": "code",
   "execution_count": null,
   "id": "2fc0cda2-19aa-4f0c-a0c0-05661a866b4c",
   "metadata": {},
   "outputs": [],
   "source": [
    "# ================================\n",
    "# 3) Scale the features\n",
    "# ================================"
   ]
  },
  {
   "cell_type": "code",
   "execution_count": null,
   "id": "50c2501d-3a11-4e8b-abec-2b9edafc3fe0",
   "metadata": {},
   "outputs": [],
   "source": [
    "scaler = StandardScaler()"
   ]
  },
  {
   "cell_type": "code",
   "execution_count": null,
   "id": "f715ecd2-0b25-4247-a5b5-b85fbe10948f",
   "metadata": {},
   "outputs": [],
   "source": [
    "x_scaled = scaler.fit_transform(X)  # Standardization → mean=0, std=1"
   ]
  },
  {
   "cell_type": "code",
   "execution_count": null,
   "id": "2582865d-bcc8-4a53-ac71-21f6adfc3cb0",
   "metadata": {},
   "outputs": [],
   "source": [
    "# ================================\n",
    "# 4) Elbow Method (SSE values)\n",
    "# ================================"
   ]
  },
  {
   "cell_type": "code",
   "execution_count": null,
   "id": "6b8011f4-cb27-4974-bdb4-492ef84992e4",
   "metadata": {},
   "outputs": [
    {
     "name": "stdout",
     "output_type": "stream",
     "text": [
      " k = 1 -> SSE = 400.00\n",
      " k = 2 -> SSE = 273.67\n",
      " k = 3 -> SSE = 157.70\n",
      " k = 4 -> SSE = 109.23\n",
      " k = 5 -> SSE = 65.57\n",
      " k = 6 -> SSE = 60.13\n",
      " k = 7 -> SSE = 49.67\n",
      " k = 8 -> SSE = 37.32\n",
      " k = 9 -> SSE = 32.50\n",
      " k = 10 -> SSE = 30.06\n"
     ]
    }
   ],
   "source": [
    "for k in range(1,11):\n",
    "    km = KMeans(n_clusters=k, random_state=42, n_init=\"auto\")\n",
    "    km.fit(x_scaled)\n",
    "    print(f\" k = {k} -> SSE = {km.inertia_:.2f}\") #Inertia = SSE (sum of squared errors)"
   ]
  },
  {
   "cell_type": "code",
   "execution_count": null,
   "id": "0940bcd8-4a7b-4ee7-96b3-31be3ea73afc",
   "metadata": {},
   "outputs": [],
   "source": [
    "# ================================\n",
    "# 5) Final Model with chosen K\n",
    "# ================================"
   ]
  },
  {
   "cell_type": "code",
   "execution_count": null,
   "id": "32e16d0e-cd1c-4dec-bb49-489e76fca6f0",
   "metadata": {},
   "outputs": [],
   "source": [
    "kmeans =KMeans(n_clusters=5, random_state=42)"
   ]
  },
  {
   "cell_type": "code",
   "execution_count": null,
   "id": "13cf8f2c-b03c-4283-a941-ff88966d435d",
   "metadata": {},
   "outputs": [],
   "source": [
    "labels = kmeans.fit_predict(x_scaled)"
   ]
  },
  {
   "cell_type": "code",
   "execution_count": null,
   "id": "d74da34d-5acf-4fd8-becf-703a446a1a15",
   "metadata": {},
   "outputs": [],
   "source": [
    "# Add cluster labels to DataFrame\n",
    "df[\"Cluster\"] = labels.astype(int)"
   ]
  },
  {
   "cell_type": "code",
   "execution_count": null,
   "id": "25da61f2-a757-49fd-837b-5f2eab793158",
   "metadata": {},
   "outputs": [],
   "source": [
    "# ================================\n",
    "# 6) Evaluate clustering\n",
    "# ================================"
   ]
  },
  {
   "cell_type": "code",
   "execution_count": null,
   "id": "242259a9-5799-4d2f-82f8-8fce6fe5ff7c",
   "metadata": {},
   "outputs": [],
   "source": [
    "sil = silhouette_score(x_scaled,labels) # Higher = better separation\n"
   ]
  },
  {
   "cell_type": "code",
   "execution_count": null,
   "id": "577d277a-05d5-457d-8601-10593bd25615",
   "metadata": {},
   "outputs": [],
   "source": [
    "dbi = davies_bouldin_score(x_scaled,labels)  # Lower = better"
   ]
  },
  {
   "cell_type": "code",
   "execution_count": null,
   "id": "02b1405b-6cf8-403e-af4a-db4a35cdd202",
   "metadata": {},
   "outputs": [
    {
     "name": "stdout",
     "output_type": "stream",
     "text": [
      "silhouette score : 0.555 (closer to +1 is better)\n"
     ]
    }
   ],
   "source": [
    "print(f\"silhouette score : {sil:.3f} (closer to +1 is better)\")"
   ]
  },
  {
   "cell_type": "code",
   "execution_count": null,
   "id": "78d57f61-02e2-40e0-b7e0-3918092116a2",
   "metadata": {},
   "outputs": [
    {
     "name": "stdout",
     "output_type": "stream",
     "text": [
      "davies  score : 0.572 (lower is better)\n"
     ]
    }
   ],
   "source": [
    "print(f\"davies  score : {dbi:.3f} (lower is better)\")"
   ]
  },
  {
   "cell_type": "code",
   "execution_count": null,
   "id": "98ab4ea1-4f69-4ea1-a9f3-33d2c7270040",
   "metadata": {},
   "outputs": [],
   "source": [
    "# ================================\n",
    "# 7) Cluster centers in original units\n",
    "# ================================"
   ]
  },
  {
   "cell_type": "code",
   "execution_count": null,
   "id": "ec6c0c18-64d3-4cb1-bf27-93f6d86776b0",
   "metadata": {},
   "outputs": [],
   "source": [
    "centers_scaled = kmeans.cluster_centers_"
   ]
  },
  {
   "cell_type": "code",
   "execution_count": null,
   "id": "e4a3ad12-fe55-42e1-9187-98b442c49af2",
   "metadata": {},
   "outputs": [],
   "source": [
    "centers_original= scaler.inverse_transform(centers_scaled)"
   ]
  },
  {
   "cell_type": "code",
   "execution_count": null,
   "id": "e581d3fb-7caf-40cd-9223-b492f297136d",
   "metadata": {},
   "outputs": [],
   "source": [
    "centers_df = pd.DataFrame(centers_original,columns=FEATURES)"
   ]
  },
  {
   "cell_type": "code",
   "execution_count": null,
   "id": "12c89e8f-0e3d-4049-9d26-dd4bd5a950f2",
   "metadata": {},
   "outputs": [
    {
     "name": "stdout",
     "output_type": "stream",
     "text": [
      "back to original:     Annual_Income_($)  Spending_Score_(1-100)\n",
      "0              55.30                   49.52\n",
      "1              86.54                   82.13\n",
      "2              25.73                   79.36\n",
      "3              88.20                   17.11\n",
      "4              26.30                   20.91\n"
     ]
    }
   ],
   "source": [
    "print(\"back to original: \", centers_df.round(2))"
   ]
  },
  {
   "cell_type": "code",
   "execution_count": null,
   "id": "426ec373-581c-45a7-88a6-a5bf63126798",
   "metadata": {},
   "outputs": [],
   "source": [
    "# ================================\n",
    "# 8) Sanity check (few rows)\n",
    "# ================================"
   ]
  },
  {
   "cell_type": "code",
   "execution_count": null,
   "id": "5b2d43a1-8968-4bea-a621-6952f017ef51",
   "metadata": {},
   "outputs": [
    {
     "name": "stdout",
     "output_type": "stream",
     "text": [
      "   Annual_Income_($)  Spending_Score_(1-100)  Cluster\n",
      "0                 15                      39        4\n",
      "1                 15                      81        2\n",
      "2                 16                       6        4\n"
     ]
    }
   ],
   "source": [
    "simple_idx = [0,1,2]\n",
    "sanity = df.loc[simple_idx, FEATURES + [\"Cluster\"]]\n",
    "print(sanity)"
   ]
  },
  {
   "cell_type": "code",
   "execution_count": null,
   "id": "0e7581f3-f62e-4ebd-8ce5-f9a0129f8ab0",
   "metadata": {},
   "outputs": [],
   "source": [
    "# ================================\n",
    "# 9) Save labeled dataset\n",
    "# ================================"
   ]
  },
  {
   "cell_type": "code",
   "execution_count": null,
   "id": "78ab94dd-9807-499c-a1fe-c031528d02f6",
   "metadata": {},
   "outputs": [
    {
     "name": "stdout",
     "output_type": "stream",
     "text": [
      "data saved\n"
     ]
    }
   ],
   "source": [
    "out_path = \"spending_labeled_clusters.csv\"\n",
    "df.to_csv(out_path,index=False)\n",
    "print(\"data saved\")"
   ]
  },
  {
   "cell_type": "code",
   "execution_count": null,
   "id": "57a8afc7-ac64-48f1-a781-fa41fda4bdb5",
   "metadata": {},
   "outputs": [],
   "source": []
  }
 ],
 "metadata": {
  "kernelspec": {
   "display_name": "Python 3 (ipykernel)",
   "language": "python",
   "name": "python3"
  },
  "language_info": {
   "codemirror_mode": {
    "name": "ipython",
    "version": 3
   },
   "file_extension": ".py",
   "mimetype": "text/x-python",
   "name": "python",
   "nbconvert_exporter": "python",
   "pygments_lexer": "ipython3",
   "version": "3.12.4"
  }
 },
 "nbformat": 4,
 "nbformat_minor": 5
}
