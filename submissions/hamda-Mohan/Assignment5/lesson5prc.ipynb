{
 "cells": [
  {
   "cell_type": "code",
   "execution_count": 1,
   "id": "67a96e9e-7c22-44a4-997e-070938de07bb",
   "metadata": {},
   "outputs": [],
   "source": [
    "import pandas as pd\n",
    "import numpy as np\n",
    "from sklearn.model_selection import train_test_split\n",
    "from sklearn.linear_model import LinearRegression\n",
    "from sklearn.ensemble import RandomForestRegressor\n",
    "from sklearn.metrics import mean_absolute_error, mean_squared_error, r2_score"
   ]
  },
  {
   "cell_type": "code",
   "execution_count": 2,
   "id": "41417a59-b1ca-42ae-ba02-515f3a5ca3e0",
   "metadata": {},
   "outputs": [],
   "source": [
    "# --------------------------------\n",
    "# Load the cleaned housing dataset\n",
    "# --------------------------------"
   ]
  },
  {
   "cell_type": "code",
   "execution_count": 3,
   "id": "76c25284-bee0-4c3a-aee2-f53ac3f7d5a4",
   "metadata": {},
   "outputs": [],
   "source": [
    "csv_path = 'Housing_Clean.csv'"
   ]
  },
  {
   "cell_type": "code",
   "execution_count": 4,
   "id": "2e68d286-2496-44d1-abc5-cdd1438cdf05",
   "metadata": {},
   "outputs": [],
   "source": [
    "df = pd.read_csv(csv_path)"
   ]
  },
  {
   "cell_type": "code",
   "execution_count": 5,
   "id": "f1c90082-cd25-43d9-86f3-ce3a80a77062",
   "metadata": {},
   "outputs": [],
   "source": [
    "# --------------------------------\n",
    "# Define  features (X) and target (y)\n",
    "# Target = Price, Features = all other columns except Price and LogPrice\n",
    "# --------------------------------"
   ]
  },
  {
   "cell_type": "code",
   "execution_count": 6,
   "id": "537b2f58-efa6-414f-b5ee-291eef13e9f3",
   "metadata": {},
   "outputs": [],
   "source": [
    "x= df.drop(columns=[\"Price\",\"Is City\",\"LogPrice\"])"
   ]
  },
  {
   "cell_type": "code",
   "execution_count": 7,
   "id": "f7aa1253-0f94-4672-af47-7b7d427e46f0",
   "metadata": {},
   "outputs": [],
   "source": [
    "y = df[\"Price\"]"
   ]
  },
  {
   "cell_type": "code",
   "execution_count": 8,
   "id": "509f0768-5f19-492b-a071-ede50ab2cb4d",
   "metadata": {},
   "outputs": [],
   "source": [
    "# --------------------------------\n",
    "# Split data into training and testing sets\n",
    "# 80% training, 20% testing for fair evaluation\n",
    "# random_state ensures reproducibility\n",
    "# --------------------------------"
   ]
  },
  {
   "cell_type": "code",
   "execution_count": 9,
   "id": "2741f305-38db-412f-a6f4-f33d9b044af3",
   "metadata": {},
   "outputs": [],
   "source": [
    "X_train, X_test ,y_train, y_test = train_test_split(x,y,test_size=0.2,random_state=42) "
   ]
  },
  {
   "cell_type": "code",
   "execution_count": 10,
   "id": "4f3f1e85-42b7-4646-97fc-e17dd9811eb9",
   "metadata": {},
   "outputs": [],
   "source": [
    "# --------------------------------\n",
    "# Initialize and train Linear Regression model\n",
    "# Linear Regression is a simple model assuming a linear relationship between features and target\n",
    "# --------------------------------"
   ]
  },
  {
   "cell_type": "code",
   "execution_count": 11,
   "id": "21ee1463-4aa3-4ef9-a093-56423a39af79",
   "metadata": {},
   "outputs": [],
   "source": [
    "lr = LinearRegression()\n",
    "lr.fit(X_train,y_train)\n",
    "lr_pred = lr.predict(X_test) # Predict prices on the test set"
   ]
  },
  {
   "cell_type": "code",
   "execution_count": 12,
   "id": "09969c5f-305e-48a1-8153-920ca10e4ef1",
   "metadata": {},
   "outputs": [],
   "source": [
    "# --------------------------------\n",
    "# Initialize and train Random Forest model\n",
    "# Random Forest is an ensemble method combining multiple decision trees for better accuracy\n",
    "# --------------------------------"
   ]
  },
  {
   "cell_type": "code",
   "execution_count": 13,
   "id": "b63456b6-a2a3-43b0-a9fd-1b2be458c7cb",
   "metadata": {},
   "outputs": [],
   "source": [
    "rf = RandomForestRegressor(n_estimators=100,random_state=42)\n",
    "rf.fit(X_train,y_train)\n",
    "rf_pred = rf.predict(X_test) # Predict prices on the test set"
   ]
  },
  {
   "cell_type": "code",
   "execution_count": 14,
   "id": "191475bc-9459-4c5b-a387-2297239f7371",
   "metadata": {},
   "outputs": [],
   "source": [
    "# --------------------------------\n",
    "# Function to display performance metrics\n",
    "# --------------------------------"
   ]
  },
  {
   "cell_type": "code",
   "execution_count": 15,
   "id": "a2f5a65e-d596-4388-8049-999dd41fe50d",
   "metadata": {},
   "outputs": [],
   "source": [
    "def print_metrics(name, y, y_predict): # Metrics help us compare model performance:\n",
    "    r2 = r2_score(y, y_predict) # R² indicates how well the model explains variance\n",
    "    mae = mean_absolute_error(y, y_predict) # MAE shows average absolute error\n",
    "    mse = mean_squared_error(y, y_predict) # MSE shows squared error penalizing large mistakes\n",
    "    rmse = np.sqrt(mse) # RMSE is the square root of MSE, in same units as target\n",
    "    print(f\"Prediction of {name}\")\n",
    "    print(f\"R2 : {r2:.3f}\")\n",
    "    print(f\"MAE : {mae:,.0f}\")\n",
    "    print(f\"MSE : {mse:,.0f}\")\n",
    "    print(f\"RMSE : {rmse:,.0f}\")\n",
    "    print(\"-\"*40)"
   ]
  },
  {
   "cell_type": "code",
   "execution_count": 16,
   "id": "20acdf1c-f9ff-4274-8e3a-c159c3dcf2ba",
   "metadata": {},
   "outputs": [],
   "source": [
    "# --------------------------------\n",
    "# Evaluate both models using the test set\n",
    "# --------------------------------"
   ]
  },
  {
   "cell_type": "code",
   "execution_count": 17,
   "id": "4f2652b7-c0a3-4d4e-9d4f-995f10f15fa3",
   "metadata": {},
   "outputs": [
    {
     "name": "stdout",
     "output_type": "stream",
     "text": [
      "Prediction of Linear Regression\n",
      "R2 : 0.848\n",
      "MAE : 63,086\n",
      "MSE : 5,718,940,941\n",
      "RMSE : 75,624\n",
      "----------------------------------------\n"
     ]
    }
   ],
   "source": [
    "print_metrics(\"Linear Regression\",y_test, lr_pred)"
   ]
  },
  {
   "cell_type": "code",
   "execution_count": 18,
   "id": "0b65c0b6-344a-48b4-9d0e-cb248e77ce4a",
   "metadata": {},
   "outputs": [
    {
     "name": "stdout",
     "output_type": "stream",
     "text": [
      "Prediction of Random Forest\n",
      "R2 : 0.859\n",
      "MAE : 52,524\n",
      "MSE : 5,283,317,455\n",
      "RMSE : 72,686\n",
      "----------------------------------------\n"
     ]
    }
   ],
   "source": [
    "print_metrics(\"Random Forest\",y_test, rf_pred)"
   ]
  },
  {
   "cell_type": "code",
   "execution_count": 19,
   "id": "d677b377-9fb6-470b-b7a4-4d7f2bd74e4b",
   "metadata": {},
   "outputs": [],
   "source": [
    "# --------------------------------\n",
    "# Check predictions on three individual test samples\n",
    "# This is a sanity check to see how predictions compare to actual prices\n",
    "# --------------------------------"
   ]
  },
  {
   "cell_type": "code",
   "execution_count": 20,
   "id": "eed4f40b-0b40-4c56-ac07-ecaf2604993c",
   "metadata": {},
   "outputs": [
    {
     "name": "stdout",
     "output_type": "stream",
     "text": [
      "Single-row sanity check (Sample 2):\n",
      "  Actual Price: $292,500\n",
      "  LR Prediction: $188,637\n",
      "  RF Prediction: $290,899\n",
      "----------------------------------------\n",
      "Single-row sanity check (Sample 4):\n",
      "  Actual Price: $535,300\n",
      "  LR Prediction: $609,615\n",
      "  RF Prediction: $538,756\n",
      "----------------------------------------\n",
      "Single-row sanity check (Sample 6):\n",
      "  Actual Price: $367,500\n",
      "  LR Prediction: $444,366\n",
      "  RF Prediction: $396,774\n",
      "----------------------------------------\n"
     ]
    }
   ],
   "source": [
    "sample_indices = [2,4, 6]\n",
    "\n",
    "for i in sample_indices:\n",
    "    x_one = X_test.iloc[[i]]  # select single row as DataFrame\n",
    "    y_true = y_test.iloc[i]   # actual price\n",
    "    p_lr = float(lr.predict(x_one)[0])  # Linear Regression prediction\n",
    "    p_rf = float(rf.predict(x_one)[0])  # Random Forest prediction\n",
    "    \n",
    "    print(f\"Single-row sanity check (Sample {i}):\")\n",
    "    print(f\"  Actual Price: ${y_true:,.0f}\")\n",
    "    print(f\"  LR Prediction: ${p_lr:,.0f}\")\n",
    "    print(f\"  RF Prediction: ${p_rf:,.0f}\")\n",
    "    print(\"-\"*40)\n"
   ]
  },
  {
   "cell_type": "code",
   "execution_count": null,
   "id": "f7464297-9bf4-4eea-8e64-287c9a69f68a",
   "metadata": {},
   "outputs": [],
   "source": []
  }
 ],
 "metadata": {
  "kernelspec": {
   "display_name": "Python 3 (ipykernel)",
   "language": "python",
   "name": "python3"
  },
  "language_info": {
   "codemirror_mode": {
    "name": "ipython",
    "version": 3
   },
   "file_extension": ".py",
   "mimetype": "text/x-python",
   "name": "python",
   "nbconvert_exporter": "python",
   "pygments_lexer": "ipython3",
   "version": "3.12.4"
  }
 },
 "nbformat": 4,
 "nbformat_minor": 5
}
