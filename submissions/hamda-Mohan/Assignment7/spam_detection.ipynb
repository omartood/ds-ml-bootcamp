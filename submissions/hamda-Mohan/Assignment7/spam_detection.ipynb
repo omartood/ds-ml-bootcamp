{
 "cells": [
  {
   "cell_type": "code",
   "execution_count": 1,
   "id": "a95bd628-2cc7-4f76-a546-f6cce15721a7",
   "metadata": {},
   "outputs": [],
   "source": [
    "# --------------------------------\n",
    "# 0) Imports\n",
    "# --------------------------------\n",
    "import numpy as np\n",
    "import pandas as pd\n",
    "import random\n",
    "\n",
    "from sklearn.model_selection import train_test_split\n",
    "from sklearn.feature_extraction.text import TfidfVectorizer\n",
    "\n",
    "from sklearn.linear_model import LogisticRegression\n",
    "from sklearn.ensemble import RandomForestClassifier\n",
    "from sklearn.naive_bayes import MultinomialNB\n",
    "from sklearn.metrics import (\n",
    "    accuracy_score, precision_score, recall_score, f1_score, confusion_matrix\n",
    ")"
   ]
  },
  {
   "cell_type": "code",
   "execution_count": 2,
   "id": "132dec3e-4a8b-44ba-bc63-32f1c674a4a3",
   "metadata": {},
   "outputs": [
    {
     "name": "stdout",
     "output_type": "stream",
     "text": [
      "  Category                                            Message\n",
      "0      ham  Go until jurong point, crazy.. Available only ...\n",
      "1      ham                      Ok lar... Joking wif u oni...\n",
      "2     spam  Free entry in 2 a wkly comp to win FA Cup fina...\n",
      "3      ham  U dun say so early hor... U c already then say...\n",
      "4      ham  Nah I don't think he goes to usf, he lives aro...\n"
     ]
    }
   ],
   "source": [
    "# --------------------------------\n",
    "# 1) Load dataset\n",
    "# --------------------------------\n",
    "df = pd.read_csv(\"mail.csv\")\n",
    "print(df.head())"
   ]
  },
  {
   "cell_type": "code",
   "execution_count": 3,
   "id": "c9b28fba-65d6-4556-800c-f906bd2c0e88",
   "metadata": {},
   "outputs": [
    {
     "name": "stdout",
     "output_type": "stream",
     "text": [
      "Category    0\n",
      "Message     0\n",
      "dtype: int64\n",
      "False\n"
     ]
    }
   ],
   "source": [
    "# Check for missing values\n",
    "print(df.isnull().sum())\n",
    "print(df.isnull().values.any())"
   ]
  },
  {
   "cell_type": "code",
   "execution_count": 4,
   "id": "6835a2ee-a7e6-42ee-a5dc-8515711ba74e",
   "metadata": {},
   "outputs": [],
   "source": [
    "# --------------------------------\n",
    "# 2) Preprocess labels\n",
    "# --------------------------------"
   ]
  },
  {
   "cell_type": "code",
   "execution_count": 5,
   "id": "0f3b45a3-a928-4f64-96cb-6a039c01499c",
   "metadata": {},
   "outputs": [],
   "source": [
    "df.loc[df[\"Category\"].str.lower().str.strip() == \"spam\" ,\"Category\"] = 0"
   ]
  },
  {
   "cell_type": "code",
   "execution_count": 6,
   "id": "5617ef37-eee8-487c-a9c3-803dfcd9af5b",
   "metadata": {},
   "outputs": [],
   "source": [
    "df.loc[df[\"Category\"].str.lower().str.strip() == \"ham\" ,\"Category\"] = 1"
   ]
  },
  {
   "cell_type": "code",
   "execution_count": 7,
   "id": "4156e7a7-42ea-41b6-944a-5f6ce4f11f99",
   "metadata": {},
   "outputs": [],
   "source": [
    "x = df[\"Message\"].astype(str)"
   ]
  },
  {
   "cell_type": "code",
   "execution_count": 8,
   "id": "a24e601c-07fd-4fc1-9f02-2eb4682c94c7",
   "metadata": {},
   "outputs": [],
   "source": [
    "y = df[\"Category\"].astype(int)"
   ]
  },
  {
   "cell_type": "code",
   "execution_count": 9,
   "id": "8cad6f01-e984-4934-85a1-1bb999691fc7",
   "metadata": {},
   "outputs": [],
   "source": [
    "# --------------------------------\n",
    "# 3) Split dataset into train/test\n",
    "# --------------------------------\n"
   ]
  },
  {
   "cell_type": "code",
   "execution_count": 10,
   "id": "9f201adf-b6ba-457a-aaa1-42f94d333be8",
   "metadata": {},
   "outputs": [],
   "source": [
    "X_train, X_test, y_train, y_test = train_test_split(\n",
    "    x, y, test_size=0.2, random_state=42\n",
    ")"
   ]
  },
  {
   "cell_type": "code",
   "execution_count": 11,
   "id": "4dff2250-eff2-4670-bb8a-bd27436332ad",
   "metadata": {},
   "outputs": [
    {
     "name": "stdout",
     "output_type": "stream",
     "text": [
      "Train: 4457  |  Test: 1115\n"
     ]
    }
   ],
   "source": [
    "# Shapes train/test\n",
    "print(\"Train:\", X_train.shape[0], \" |  Test:\", X_test.shape[0])"
   ]
  },
  {
   "cell_type": "code",
   "execution_count": 12,
   "id": "898802a9-6699-44fb-8d0f-7c391aa58fe4",
   "metadata": {},
   "outputs": [],
   "source": [
    "# --------------------------------\n",
    "# 4) Feature extraction (TF-IDF)\n",
    "# --------------------------------"
   ]
  },
  {
   "cell_type": "code",
   "execution_count": 13,
   "id": "37f7cb7d-0580-4883-abc5-b30cebb2f267",
   "metadata": {},
   "outputs": [],
   "source": [
    "tfidf = TfidfVectorizer(min_df=1, stop_words=\"english\", lowercase=True)\n",
    "X_train_features = tfidf.fit_transform(X_train)\n",
    "X_test_features  = tfidf.transform(X_test)"
   ]
  },
  {
   "cell_type": "code",
   "execution_count": 14,
   "id": "61266396-3e7f-438e-a229-23baf8cf0032",
   "metadata": {},
   "outputs": [],
   "source": [
    "# --------------------------------\n",
    "# 5) Train models\n",
    "# --------------------------------"
   ]
  },
  {
   "cell_type": "code",
   "execution_count": 15,
   "id": "ee1794ad-c648-41a2-afe9-37d6bf5dbb98",
   "metadata": {},
   "outputs": [],
   "source": [
    "# Logistic Regression\n",
    "lr = LogisticRegression(max_iter=1000, random_state=42 )\n",
    "lr.fit(X_train_features,y_train)\n",
    "lr_predict = lr.predict(X_test_features)"
   ]
  },
  {
   "cell_type": "code",
   "execution_count": 16,
   "id": "c0c8ee6a-2ac5-4562-a4c5-bda6cf3ce7a6",
   "metadata": {},
   "outputs": [],
   "source": [
    "# Random Forest\n",
    "rf = RandomForestClassifier(n_estimators=200,random_state=42)\n",
    "rf.fit(X_train_features,y_train)\n",
    "rf_predict=rf.predict(X_test_features.toarray())"
   ]
  },
  {
   "cell_type": "code",
   "execution_count": 17,
   "id": "1bb6dcd6-894c-47f8-870d-6d63529e33bd",
   "metadata": {},
   "outputs": [],
   "source": [
    "# Naive Bayes\n",
    "nb = MultinomialNB()\n",
    "nb.fit(X_train_features,y_train)\n",
    "nb_predict= nb.predict(X_test_features)"
   ]
  },
  {
   "cell_type": "code",
   "execution_count": 18,
   "id": "d2fa6192-caad-485d-9463-8c5784d61567",
   "metadata": {},
   "outputs": [],
   "source": [
    "# --------------------------------\n",
    "# 6) Define evaluation functions\n",
    "# --------------------------------"
   ]
  },
  {
   "cell_type": "code",
   "execution_count": 19,
   "id": "aa7be9ba-880c-4268-98f8-ecb2cc2df14d",
   "metadata": {},
   "outputs": [],
   "source": [
    "# Function to print performance metrics\n",
    "def print_metrics(name, y_true, y_predicted, pos_label=0):\n",
    "    # Calculate accuracy\n",
    "    ac = accuracy_score(y_true, y_predicted)\n",
    "    # Calculate precision (correct positive predictions)\n",
    "    prec = precision_score(y_true, y_predicted, pos_label=pos_label)\n",
    "    # Calculate recall (coverage of actual positives)\n",
    "    rec = recall_score(y_true, y_predicted, pos_label=pos_label)\n",
    "    # Calculate F1 score (balance of precision & recall)\n",
    "    f1 = f1_score(y_true, y_predicted, pos_label=pos_label)\n",
    "    # Print metrics\n",
    "    print(f\"{name} Perfomance:\")\n",
    "    print(f\"Accuracy: {ac:.3f}\")\n",
    "    print(f\"Precision: {prec:.3f}\")\n",
    "    print(f\"Recall: {rec:.3f}\")\n",
    "    print(f\"F1Score: {f1:.3f}\")"
   ]
  },
  {
   "cell_type": "code",
   "execution_count": 20,
   "id": "f203445a-f36f-472e-b07b-8c1089283a70",
   "metadata": {},
   "outputs": [],
   "source": [
    "# Function to print confusion matrix\n",
    "def print_cm(name, y_true, y_predicted):\n",
    "    # Generate confusion matrix\n",
    "    cm = confusion_matrix(y_true, y_predicted, labels=[1,0])\n",
    "    # Convert to a pandas DataFrame for better readability\n",
    "    cm_df = pd.DataFrame(\n",
    "        cm,\n",
    "        index=[\"Actual Ham(1)\", \"Actual Spam(0)\"],\n",
    "        columns=[\"Pred Ham(1)\", \"Pred Spam(0)\"]\n",
    "    )\n",
    "    # Print confusion matrix\n",
    "    print(f\"{name} - Confusion Matrix:\\n{cm_df}\")"
   ]
  },
  {
   "cell_type": "code",
   "execution_count": 21,
   "id": "6caf4f82-2511-4ac1-b9e0-f642517b801f",
   "metadata": {},
   "outputs": [],
   "source": [
    "# --------------------------------\n",
    "# 7) Evaluate models\n",
    "# --------------------------------"
   ]
  },
  {
   "cell_type": "code",
   "execution_count": 22,
   "id": "7d6ee182-3058-4933-821d-6596ac2a502a",
   "metadata": {},
   "outputs": [
    {
     "name": "stdout",
     "output_type": "stream",
     "text": [
      "Logistic Regresion:  Perfomance:\n",
      "Accuracy: 0.968\n",
      "Precision: 1.000\n",
      "Recall: 0.758\n",
      "F1Score: 0.863\n",
      "Logistic Regresion:  - Confusion Matrix:\n",
      "                Pred Ham(1)  Pred Spam(0)\n",
      "Actual Ham(1)           966             0\n",
      "Actual Spam(0)           36           113\n"
     ]
    }
   ],
   "source": [
    "print_metrics(\"Logistic Regresion: \", y_test, lr_predict)\n",
    "print_cm(\"Logistic Regresion: \", y_test, lr_predict)"
   ]
  },
  {
   "cell_type": "code",
   "execution_count": 23,
   "id": "d9ccc987-f1fb-412b-af71-7a11894c7dee",
   "metadata": {},
   "outputs": [
    {
     "name": "stdout",
     "output_type": "stream",
     "text": [
      "Random Forest:  Perfomance:\n",
      "Accuracy: 0.983\n",
      "Precision: 1.000\n",
      "Recall: 0.872\n",
      "F1Score: 0.932\n",
      "Random Forest:  - Confusion Matrix:\n",
      "                Pred Ham(1)  Pred Spam(0)\n",
      "Actual Ham(1)           966             0\n",
      "Actual Spam(0)           19           130\n"
     ]
    }
   ],
   "source": [
    "print_metrics(\"Random Forest: \", y_test, rf_predict)\n",
    "print_cm(\"Random Forest: \", y_test, rf_predict)"
   ]
  },
  {
   "cell_type": "code",
   "execution_count": 24,
   "id": "92741f87-9677-433c-92be-5d3e8c0f5c60",
   "metadata": {},
   "outputs": [
    {
     "name": "stdout",
     "output_type": "stream",
     "text": [
      "Naive Bayes:  Perfomance:\n",
      "Accuracy: 0.977\n",
      "Precision: 1.000\n",
      "Recall: 0.826\n",
      "F1Score: 0.904\n",
      "Naive Bayes:  - Confusion Matrix:\n",
      "                Pred Ham(1)  Pred Spam(0)\n",
      "Actual Ham(1)           966             0\n",
      "Actual Spam(0)           26           123\n"
     ]
    }
   ],
   "source": [
    "print_metrics(\"Naive Bayes: \", y_test, nb_predict)\n",
    "print_cm(\"Naive Bayes: \", y_test, nb_predict)"
   ]
  },
  {
   "cell_type": "code",
   "execution_count": 25,
   "id": "8512606b-4b02-4159-9eca-93d830d5b9db",
   "metadata": {},
   "outputs": [],
   "source": [
    "# --------------------------------\n",
    "# 8) Sanity check for 3 random samples\n",
    "# --------------------------------"
   ]
  },
  {
   "cell_type": "code",
   "execution_count": 28,
   "id": "1c82525c-9c71-404e-bdd8-8f099ec05fc4",
   "metadata": {},
   "outputs": [
    {
     "name": "stdout",
     "output_type": "stream",
     "text": [
      "Sanity Check for Random  Samples\n",
      "============================================================\n",
      "Sample Index : 986\n",
      "Message      : FREE2DAY sexy St George's Day pic of Jordan!Txt PIC to 89080 dont miss out, then every wk a saucy celeb!4 more pics c PocketBabe.co.uk 0870241182716 £3/wk\n",
      "Actual       : Spam (0)\n",
      "LR Predict   : Ham (1)\n",
      "RF Predict   : Spam (0)\n",
      "NB Predict   : Spam (0)\n",
      "------------------------------------------------------------\n",
      "Sample Index : 14\n",
      "Message      : FREE RINGTONE text FIRST to 87131 for a poly or text GET to 87131 for a true tone! Help? 0845 2814032 16 after 1st free, tones are 3x£150pw to e£nd txt stop\n",
      "Actual       : Spam (0)\n",
      "LR Predict   : Spam (0)\n",
      "RF Predict   : Spam (0)\n",
      "NB Predict   : Spam (0)\n",
      "------------------------------------------------------------\n",
      "Sample Index : 119\n",
      "Message      : Rock yr chik. Get 100's of filthy films &XXX pics on yr phone now. rply FILTH to 69669. Saristar Ltd, E14 9YT 08701752560. 450p per 5 days. Stop2 cancel\n",
      "Actual       : Spam (0)\n",
      "LR Predict   : Ham (1)\n",
      "RF Predict   : Ham (1)\n",
      "NB Predict   : Ham (1)\n",
      "------------------------------------------------------------\n",
      "Sample Index : 815\n",
      "Message      : FREE for 1st week! No1 Nokia tone 4 ur mobile every week just txt NOKIA to 8077 Get txting and tell ur mates. www.getzed.co.uk POBox 36504 W45WQ 16+ norm150p/to...\n",
      "Actual       : Spam (0)\n",
      "LR Predict   : Spam (0)\n",
      "RF Predict   : Spam (0)\n",
      "NB Predict   : Spam (0)\n",
      "------------------------------------------------------------\n",
      "Sample Index : 260\n",
      "Message      : Guess what! Somebody you know secretly fancies you! Wanna find out who it is? Give us a call on 09065394514 From Landline DATEBox1282EssexCM61XN 150p/min 18\n",
      "Actual       : Spam (0)\n",
      "LR Predict   : Spam (0)\n",
      "RF Predict   : Spam (0)\n",
      "NB Predict   : Ham (1)\n",
      "------------------------------------------------------------\n",
      "Sample Index : 326\n",
      "Message      : U 447801259231 have a secret admirer who is looking 2 make contact with U-find out who they R*reveal who thinks UR so special-call on 09058094597\n",
      "Actual       : Spam (0)\n",
      "LR Predict   : Ham (1)\n",
      "RF Predict   : Spam (0)\n",
      "NB Predict   : Spam (0)\n",
      "------------------------------------------------------------\n"
     ]
    }
   ],
   "source": [
    "\n",
    "# Function to map label number -> string\n",
    "def lab2str(r):\n",
    "    return \"Spam (0)\" if r == 0 else \"Ham (1)\"\n",
    "\n",
    "# Pick 3 random indices\n",
    "#sample_indices = random.sample(range(len(X_test)), 3)\n",
    "sample_indices = [986, 14, 119, 815, 260, 326]\n",
    "\n",
    "print(\"Sanity Check for Random  Samples\")\n",
    "print(\"=\"*60)\n",
    "\n",
    "for i in sample_indices:\n",
    "    sample_text = X_test.iloc[i]\n",
    "    true_label = y_test.iloc[i]\n",
    "\n",
    "    # Truncate text if too long\n",
    "    display_text = (sample_text[:160] + \"...\") if len(sample_text) > 160 else sample_text\n",
    "\n",
    "    # Predictions for 3 models\n",
    "    lr_pred = int(lr.predict(tfidf.transform([sample_text]))[0])\n",
    "    rf_pred = int(rf.predict(tfidf.transform([sample_text]))[0])\n",
    "    nb_pred = int(nb.predict(tfidf.transform([sample_text]))[0])\n",
    "\n",
    "    # Print results\n",
    "    print(f\"Sample Index : {i}\")\n",
    "    print(f\"Message      : {display_text}\")\n",
    "    print(f\"Actual       : {lab2str(true_label)}\")\n",
    "    print(f\"LR Predict   : {lab2str(lr_pred)}\")\n",
    "    print(f\"RF Predict   : {lab2str(rf_pred)}\")\n",
    "    print(f\"NB Predict   : {lab2str(nb_pred)}\")\n",
    "    print(\"-\"*60)\n"
   ]
  },
  {
   "cell_type": "code",
   "execution_count": null,
   "id": "84735df6-2d52-42eb-86a9-d6262438e4b5",
   "metadata": {},
   "outputs": [],
   "source": []
  }
 ],
 "metadata": {
  "kernelspec": {
   "display_name": "Python 3 (ipykernel)",
   "language": "python",
   "name": "python3"
  },
  "language_info": {
   "codemirror_mode": {
    "name": "ipython",
    "version": 3
   },
   "file_extension": ".py",
   "mimetype": "text/x-python",
   "name": "python",
   "nbconvert_exporter": "python",
   "pygments_lexer": "ipython3",
   "version": "3.12.4"
  }
 },
 "nbformat": 4,
 "nbformat_minor": 5
}
