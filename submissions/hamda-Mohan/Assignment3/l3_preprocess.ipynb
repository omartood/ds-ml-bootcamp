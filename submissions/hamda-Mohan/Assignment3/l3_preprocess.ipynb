{
 "cells": [
  {
   "cell_type": "code",
   "execution_count": 1,
   "id": "be5b6776-2f4d-4b0c-9ccf-233aa6847bd5",
   "metadata": {},
   "outputs": [],
   "source": [
    "import pandas as pd\n",
    "import numpy as np\n",
    "from sklearn.preprocessing import StandardScaler"
   ]
  },
  {
   "cell_type": "code",
   "execution_count": 2,
   "id": "efc09527-64e9-4546-994c-bc7fdb11eb33",
   "metadata": {},
   "outputs": [],
   "source": [
    "CURRENT_YEAR = 2025"
   ]
  },
  {
   "cell_type": "code",
   "execution_count": 3,
   "id": "f810978a-48ea-4c1a-a73f-f8fc1c880ca6",
   "metadata": {},
   "outputs": [],
   "source": [
    "# ================================\n",
    "# Step 1: Load & Inspect\n",
    "# ================================"
   ]
  },
  {
   "cell_type": "code",
   "execution_count": 4,
   "id": "f51bca9c-d143-4a44-b812-3a0d6c3967aa",
   "metadata": {},
   "outputs": [],
   "source": [
    "CSV_PATH = \"car_l3_dataset.csv\""
   ]
  },
  {
   "cell_type": "code",
   "execution_count": 5,
   "id": "a2c47661-0dfa-4e05-a348-8bfccbde7bcb",
   "metadata": {},
   "outputs": [],
   "source": [
    "df = pd.read_csv(CSV_PATH)"
   ]
  },
  {
   "cell_type": "code",
   "execution_count": 6,
   "id": "75cca17c-b97f-4e43-8ee2-fb92ac29e372",
   "metadata": {},
   "outputs": [
    {
     "name": "stdout",
     "output_type": "stream",
     "text": [
      "=== INITIAL HEAD (10) ===\n",
      "    Price  Odometer_km  Doors  Accidents Location  Year\n",
      "0  $1,500     137830.0    4.0          1     City  1998\n",
      "1  4171.0          NaN    4.0          0    Rural  2016\n",
      "2  $5,331     107302.0    4.0          0   Suburb  2014\n",
      "3  1500.0     141838.0    4.0          1   Suburb  1999\n",
      "4  1500.0          NaN    3.0          0     City  2022\n",
      "5  $1,500     211171.0    4.0          0       ??  2003\n",
      "6  1500.0     222235.0    4.0          2    Rural  2004\n",
      "7  $1,500     105068.0    5.0          1     City  2002\n",
      "8  $2,291      90015.0    4.0          0    Rural  2007\n",
      "9  1500.0     125976.0    2.0          0     City  2002\n"
     ]
    }
   ],
   "source": [
    "print(\"=== INITIAL HEAD (10) ===\")\n",
    "print(df.head(10))"
   ]
  },
  {
   "cell_type": "code",
   "execution_count": 7,
   "id": "3feac841-c989-4f36-a852-4306a6c2cc44",
   "metadata": {},
   "outputs": [
    {
     "name": "stdout",
     "output_type": "stream",
     "text": [
      "=== INITIAL SHAPE ===\n",
      "(145, 6)\n"
     ]
    }
   ],
   "source": [
    "print(\"=== INITIAL SHAPE ===\")\n",
    "print(df.shape)"
   ]
  },
  {
   "cell_type": "code",
   "execution_count": 8,
   "id": "3cce1859-6c64-4278-83cf-0f6d6fe63b7c",
   "metadata": {},
   "outputs": [
    {
     "name": "stdout",
     "output_type": "stream",
     "text": [
      "=== INITIAL INFO ===\n",
      "<class 'pandas.core.frame.DataFrame'>\n",
      "RangeIndex: 145 entries, 0 to 144\n",
      "Data columns (total 6 columns):\n",
      " #   Column       Non-Null Count  Dtype  \n",
      "---  ------       --------------  -----  \n",
      " 0   Price        145 non-null    object \n",
      " 1   Odometer_km  138 non-null    float64\n",
      " 2   Doors        138 non-null    float64\n",
      " 3   Accidents    145 non-null    int64  \n",
      " 4   Location     140 non-null    object \n",
      " 5   Year         145 non-null    int64  \n",
      "dtypes: float64(2), int64(2), object(2)\n",
      "memory usage: 6.9+ KB\n",
      "None\n"
     ]
    }
   ],
   "source": [
    "print(\"=== INITIAL INFO ===\")\n",
    "print(df.info())"
   ]
  },
  {
   "cell_type": "code",
   "execution_count": 9,
   "id": "a902ba4a-419e-42ec-b0c3-7702a65427be",
   "metadata": {},
   "outputs": [
    {
     "name": "stdout",
     "output_type": "stream",
     "text": [
      "=== INITIAL MISSING VALUE ===\n",
      "Price          0\n",
      "Odometer_km    7\n",
      "Doors          7\n",
      "Accidents      0\n",
      "Location       5\n",
      "Year           0\n",
      "dtype: int64\n"
     ]
    }
   ],
   "source": [
    "print(\"=== INITIAL MISSING VALUE ===\")\n",
    "print(df.isnull().sum())"
   ]
  },
  {
   "cell_type": "code",
   "execution_count": 10,
   "id": "5fb30d56-b86d-47f5-b291-e94ee126415a",
   "metadata": {},
   "outputs": [
    {
     "name": "stdout",
     "output_type": "stream",
     "text": [
      "=== INITIAL DESCRIPE ===\n",
      "         Odometer_km       Doors   Accidents         Year\n",
      "count     138.000000  138.000000  145.000000   145.000000\n",
      "mean   134823.615942    3.775362    0.717241  2010.027586\n",
      "std     61312.448209    0.854512    0.879579     7.252341\n",
      "min      5000.000000    2.000000    0.000000  1998.000000\n",
      "25%     97504.000000    3.000000    0.000000  2004.000000\n",
      "50%    128548.000000    4.000000    0.000000  2009.000000\n",
      "75%    170048.500000    4.000000    1.000000  2016.000000\n",
      "max    395000.000000    5.000000    3.000000  2023.000000\n"
     ]
    }
   ],
   "source": [
    "print(\"=== INITIAL DESCRIPE ===\")\n",
    "print(df.describe())"
   ]
  },
  {
   "cell_type": "code",
   "execution_count": 11,
   "id": "a55466d4-41c9-4601-9549-d514c4cbd525",
   "metadata": {},
   "outputs": [
    {
     "name": "stdout",
     "output_type": "stream",
     "text": [
      "=== LOCATION VALUE COUNTS BEFORE FIX ===\n",
      "Location\n",
      "City      59\n",
      "Suburb    45\n",
      "Rural     21\n",
      "Subrb      8\n",
      "??         7\n",
      "NaN        5\n",
      "Name: count, dtype: int64\n"
     ]
    }
   ],
   "source": [
    " print(\"=== LOCATION VALUE COUNTS BEFORE FIX ===\")\n",
    "print(df[\"Location\"].value_counts(dropna=False))"
   ]
  },
  {
   "cell_type": "code",
   "execution_count": 12,
   "id": "a3e198f3-c5a8-4d41-834b-f336dc677116",
   "metadata": {},
   "outputs": [],
   "source": [
    "# ================================\n",
    "# Step 2: Clean Price\n",
    "# ================================"
   ]
  },
  {
   "cell_type": "code",
   "execution_count": 13,
   "id": "625342c6-a2e4-4390-b8be-0d708dfee215",
   "metadata": {},
   "outputs": [],
   "source": [
    "df[\"Price\"] = df[\"Price\"].replace(r\"[\\$,]\", \"\",regex=True).astype(float)"
   ]
  },
  {
   "cell_type": "code",
   "execution_count": 14,
   "id": "70fa2e23-11d9-44ee-8611-dd5de54270bf",
   "metadata": {},
   "outputs": [
    {
     "name": "stdout",
     "output_type": "stream",
     "text": [
      "Price skewness: 7.871113660850301\n"
     ]
    }
   ],
   "source": [
    "print(\"Price skewness:\",df[\"Price\"].skew())"
   ]
  },
  {
   "cell_type": "code",
   "execution_count": 15,
   "id": "9e7d121f-2d89-44b6-92ec-3e0e89db1fc5",
   "metadata": {},
   "outputs": [],
   "source": [
    "# ================================\n",
    "# Step 3: Fix Location Categories\n",
    "# ================================"
   ]
  },
  {
   "cell_type": "code",
   "execution_count": 16,
   "id": "ed925951-f34e-4bfd-8a42-8c1cc14a6f11",
   "metadata": {},
   "outputs": [],
   "source": [
    "df['Location'] = df['Location'].str.strip().str.title()"
   ]
  },
  {
   "cell_type": "code",
   "execution_count": 17,
   "id": "b984d937-2e61-458f-8e3c-7b538f33fb20",
   "metadata": {},
   "outputs": [],
   "source": [
    "df[\"Location\"] = df[\"Location\"].replace({\"Subrb\" : \"Suburb\",\"??\" :pd.NA}) "
   ]
  },
  {
   "cell_type": "code",
   "execution_count": 18,
   "id": "bd171a2b-80bf-4d1b-b1b2-3be529fac79b",
   "metadata": {},
   "outputs": [
    {
     "name": "stdout",
     "output_type": "stream",
     "text": [
      "===  LOCATION  VALUE COUNTS AFTER FIX ===\n",
      "Location\n",
      "City      59\n",
      "Suburb    53\n",
      "Rural     21\n",
      "<NA>       7\n",
      "NaN        5\n",
      "Name: count, dtype: int64\n"
     ]
    }
   ],
   "source": [
    "print(\"===  LOCATION  VALUE COUNTS AFTER FIX ===\")\n",
    "print(df[\"Location\"].value_counts(dropna=False))"
   ]
  },
  {
   "cell_type": "code",
   "execution_count": 19,
   "id": "b817c163-a75d-4065-a145-c878a6aa32e3",
   "metadata": {},
   "outputs": [],
   "source": [
    "# ================================\n",
    "# Step 4: Impute Missing\n",
    "# ================================"
   ]
  },
  {
   "cell_type": "code",
   "execution_count": 20,
   "id": "82d11042-f6d4-4ca4-81b6-17af5e5f05e9",
   "metadata": {},
   "outputs": [],
   "source": [
    "df[\"Location\"] = df[\"Location\"].fillna(df[\"Location\"].mode()[0])"
   ]
  },
  {
   "cell_type": "code",
   "execution_count": 21,
   "id": "01ee0556-607a-4e4a-a822-5ac003343f57",
   "metadata": {},
   "outputs": [],
   "source": [
    "df[\"Doors\"] = df[\"Doors\"].fillna(df[\"Doors\"].mode()[0])"
   ]
  },
  {
   "cell_type": "code",
   "execution_count": 22,
   "id": "5ce5842b-ce01-44f5-aef8-f5cf898c2b2e",
   "metadata": {},
   "outputs": [],
   "source": [
    "df[\"Odometer_km\"] = df[\"Odometer_km\"].fillna(df[\"Odometer_km\"].median())"
   ]
  },
  {
   "cell_type": "code",
   "execution_count": 23,
   "id": "4a769e08-fe67-4397-bebe-e17975158dc0",
   "metadata": {},
   "outputs": [
    {
     "name": "stdout",
     "output_type": "stream",
     "text": [
      "Missing after imputation: Price          0\n",
      "Odometer_km    0\n",
      "Doors          0\n",
      "Accidents      0\n",
      "Location       0\n",
      "Year           0\n",
      "dtype: int64\n"
     ]
    }
   ],
   "source": [
    "print(\"Missing after imputation:\", df.isnull().sum())"
   ]
  },
  {
   "cell_type": "code",
   "execution_count": 24,
   "id": "561ef941-6dd9-44cc-9b21-7cad3f69714b",
   "metadata": {},
   "outputs": [],
   "source": [
    "# ================================\n",
    "# Step 5: Remove Duplicates\n",
    "# ================================"
   ]
  },
  {
   "cell_type": "code",
   "execution_count": 25,
   "id": "bd5c89ee-0886-4837-addc-40094880a77b",
   "metadata": {},
   "outputs": [
    {
     "name": "stdout",
     "output_type": "stream",
     "text": [
      "before removing duplicate :  (145, 6)\n"
     ]
    }
   ],
   "source": [
    "befre = df.shape\n",
    "print(\"before removing duplicate : \",befre)"
   ]
  },
  {
   "cell_type": "code",
   "execution_count": 26,
   "id": "af6324ad-3e55-49ed-9634-20af0a591d88",
   "metadata": {},
   "outputs": [],
   "source": [
    "df = df.drop_duplicates()"
   ]
  },
  {
   "cell_type": "code",
   "execution_count": 27,
   "id": "b2d3114f-2cc4-4065-b60d-1cb7dec1fc3d",
   "metadata": {},
   "outputs": [
    {
     "name": "stdout",
     "output_type": "stream",
     "text": [
      "after removing duplicate :  (140, 6)\n"
     ]
    }
   ],
   "source": [
    "after = df.shape\n",
    "print(\"after removing duplicate : \",after)"
   ]
  },
  {
   "cell_type": "code",
   "execution_count": 28,
   "id": "240fd563-b450-4b98-841f-e1886d0a7e2f",
   "metadata": {},
   "outputs": [],
   "source": [
    "#print(f\"\\nRemoved {befre - after} duplicate rows\")"
   ]
  },
  {
   "cell_type": "code",
   "execution_count": 29,
   "id": "311fcdf4-7ccc-454a-bdc5-147981585a44",
   "metadata": {},
   "outputs": [],
   "source": [
    "# ================================\n",
    "# Step 6: Outlier Capping\n",
    "# ================================"
   ]
  },
  {
   "cell_type": "code",
   "execution_count": 30,
   "id": "1b499450-b8aa-4581-94c8-3b05d0912eb0",
   "metadata": {},
   "outputs": [],
   "source": [
    "def iqr_fun(series, k=1.5):\n",
    "    q1, q3 = series.quantile([0.25, 0.75])\n",
    "    iqr = q3 - q1\n",
    "    lower = q1 - k * iqr\n",
    "    upper = q3 + k * iqr\n",
    "    return lower , upper"
   ]
  },
  {
   "cell_type": "code",
   "execution_count": 31,
   "id": "516d1d86-0f96-4e69-a6bd-744d9673e9c9",
   "metadata": {},
   "outputs": [],
   "source": [
    "low_price, high_price = iqr_fun(df[\"Price\"])"
   ]
  },
  {
   "cell_type": "code",
   "execution_count": 32,
   "id": "0e78a893-2b5c-4e48-9693-179d4e656aac",
   "metadata": {},
   "outputs": [],
   "source": [
    "low_Odometer, high_Odometer = iqr_fun(df[\"Odometer_km\"])"
   ]
  },
  {
   "cell_type": "code",
   "execution_count": 33,
   "id": "9d0c08ae-5316-43f4-a6e5-a04920810314",
   "metadata": {},
   "outputs": [],
   "source": [
    "df[\"Price\"]    = df[\"Price\"].clip(lower=low_price, upper=high_price)"
   ]
  },
  {
   "cell_type": "code",
   "execution_count": 34,
   "id": "c1c2f98a-50d0-4460-895d-7edb344f2349",
   "metadata": {},
   "outputs": [],
   "source": [
    "df[\"Odometer_km\"] = df[\"Odometer_km\"].clip(lower=low_Odometer, upper=high_Odometer )"
   ]
  },
  {
   "cell_type": "code",
   "execution_count": 35,
   "id": "8627b3e4-37f6-47c1-baa6-164657dcb68d",
   "metadata": {},
   "outputs": [
    {
     "name": "stdout",
     "output_type": "stream",
     "text": [
      "price after IQR clipping\n",
      "count     140.000000\n",
      "mean     3175.456250\n",
      "std      2601.848629\n",
      "min      1500.000000\n",
      "25%      1500.000000\n",
      "50%      1500.000000\n",
      "75%      4489.750000\n",
      "max      8974.375000\n",
      "Name: Price, dtype: float64\n"
     ]
    }
   ],
   "source": [
    "print(\"price after IQR clipping\")\n",
    "print(df[\"Price\"].describe())"
   ]
  },
  {
   "cell_type": "code",
   "execution_count": 36,
   "id": "6b4bcee7-db8b-4400-99b4-24be0cd150b7",
   "metadata": {},
   "outputs": [
    {
     "name": "stdout",
     "output_type": "stream",
     "text": [
      "Odometer_km after IQR clipping\n",
      "count       140.000000\n",
      "mean     130945.403571\n",
      "std       53815.006935\n",
      "min        5000.000000\n",
      "25%       97844.000000\n",
      "50%      128548.000000\n",
      "75%      167501.500000\n",
      "max      271987.750000\n",
      "Name: Odometer_km, dtype: float64\n"
     ]
    }
   ],
   "source": [
    "print(\"Odometer_km after IQR clipping\")\n",
    "print(df[\"Odometer_km\"].describe())"
   ]
  },
  {
   "cell_type": "code",
   "execution_count": 37,
   "id": "d5c74044-b575-4cce-8aa0-580db515785b",
   "metadata": {},
   "outputs": [],
   "source": [
    "#import seaborn as sns\n",
    "#import matplotlib.pyplot as plt\n",
    "# waxaad arkeysa in uu jirin outlier oo laga saaray \n",
    "#sns.boxplot(x=df[\"Price\"])\n",
    "#plt.show()\n",
    "\n",
    "#sns.boxplot(x=df[\"Odometer_km\"])\n",
    "#plt.show()\n"
   ]
  },
  {
   "cell_type": "code",
   "execution_count": 38,
   "id": "0d45a6b1-aeb5-4c07-bb4e-297c28009cf7",
   "metadata": {},
   "outputs": [],
   "source": [
    "# ================================\n",
    "# Step 7: One-Hot Encode\n",
    "# ================================"
   ]
  },
  {
   "cell_type": "code",
   "execution_count": 39,
   "id": "8cd76bd9-ec25-45d1-96b2-73177195ec67",
   "metadata": {},
   "outputs": [],
   "source": [
    "df= pd.get_dummies(df, columns=[\"Location\"], drop_first=False)"
   ]
  },
  {
   "cell_type": "code",
   "execution_count": 40,
   "id": "2d2e4e88-a0b6-43e6-b14a-fc2cc11670cc",
   "metadata": {},
   "outputs": [
    {
     "name": "stdout",
     "output_type": "stream",
     "text": [
      "['Location_City', 'Location_Rural', 'Location_Suburb']\n"
     ]
    }
   ],
   "source": [
    "print([c for c in df.columns if c.startswith(\"Location\")])"
   ]
  },
  {
   "cell_type": "code",
   "execution_count": 41,
   "id": "bc7b242a-6a92-462f-8d4e-577c88c9198b",
   "metadata": {},
   "outputs": [],
   "source": [
    "# ================================\n",
    "# Step 8: Feature Engineering\n",
    "# ================================"
   ]
  },
  {
   "cell_type": "code",
   "execution_count": 42,
   "id": "ec4fabee-4ee6-43fa-bd2d-81f02b1d238d",
   "metadata": {},
   "outputs": [],
   "source": [
    "df[\"CarAge\"] = CURRENT_YEAR - df[\"Year\"]"
   ]
  },
  {
   "cell_type": "code",
   "execution_count": 43,
   "id": "18f3e2f3-4949-40b1-a799-7afdca4fae99",
   "metadata": {},
   "outputs": [],
   "source": [
    "df[\"Km_per_year\"] = df[\"Odometer_km\"] / df[\"CarAge\"].replace(0,np.nan)"
   ]
  },
  {
   "cell_type": "code",
   "execution_count": 44,
   "id": "6a2aa412-523d-4abf-9f0e-ec867790306f",
   "metadata": {},
   "outputs": [],
   "source": [
    "df [\"LogPrice\"] = np. log1p(df[\"Price\"])"
   ]
  },
  {
   "cell_type": "code",
   "execution_count": 45,
   "id": "0661398f-81ad-4a55-88af-84287f19d26a",
   "metadata": {},
   "outputs": [],
   "source": [
    "df[\"Is_Urban\"] = (df[\"Location_City\"] + df[\"Location_Suburb\"] > 0).astype(int)"
   ]
  },
  {
   "cell_type": "code",
   "execution_count": 46,
   "id": "98c9aa3e-d520-4015-b414-05a0af9f16d0",
   "metadata": {},
   "outputs": [],
   "source": [
    "df['Accident_flag'] = (df[\"Accidents\"] > 0).astype(int)"
   ]
  },
  {
   "cell_type": "code",
   "execution_count": 47,
   "id": "a5589a60-6286-459d-82ed-ca12ce034a3f",
   "metadata": {},
   "outputs": [
    {
     "name": "stdout",
     "output_type": "stream",
     "text": [
      "    Price  Odometer_km  Doors  Accidents  Year  Location_City  Location_Rural  \\\n",
      "0  1500.0     137830.0    4.0          1  1998           True           False   \n",
      "1  4171.0     128548.0    4.0          0  2016          False            True   \n",
      "2  5331.0     107302.0    4.0          0  2014          False           False   \n",
      "\n",
      "   Location_Suburb  CarAge   Km_per_year  LogPrice  Is_Urban  Accident_flag  \n",
      "0            False      27   5104.814815  7.313887         1              1  \n",
      "1            False       9  14283.111111  8.336151         0              0  \n",
      "2             True      11   9754.727273  8.581482         1              0  \n"
     ]
    }
   ],
   "source": [
    "print(df.head(3))"
   ]
  },
  {
   "cell_type": "code",
   "execution_count": 48,
   "id": "56313a2c-1297-49da-9750-d0a64f14e316",
   "metadata": {},
   "outputs": [],
   "source": [
    "# ================================\n",
    "# Step 9: Feature Scalling\n",
    "# ================================"
   ]
  },
  {
   "cell_type": "code",
   "execution_count": 49,
   "id": "e9c21111-8ca1-46a1-a658-30d0657dd04c",
   "metadata": {},
   "outputs": [],
   "source": [
    "dont_scale = [\"LogPrice\",\"Price\"]"
   ]
  },
  {
   "cell_type": "code",
   "execution_count": 50,
   "id": "9e801d06-acfb-4f4c-850a-cade7a27763b",
   "metadata": {},
   "outputs": [],
   "source": [
    "numeric_col = df.select_dtypes(include=[\"int64\", \"float64\"]).columns.to_list()"
   ]
  },
  {
   "cell_type": "code",
   "execution_count": 51,
   "id": "c370861a-2fdc-4fbc-9a19-b43925cc04af",
   "metadata": {},
   "outputs": [],
   "source": [
    "exclude = [c for c in df.columns if c.startswith(\"Location\")] + [\"Is_Urban\",\"Accident_flag\"]"
   ]
  },
  {
   "cell_type": "code",
   "execution_count": 52,
   "id": "c7651b79-be1b-43a4-a40e-460d1c36a450",
   "metadata": {},
   "outputs": [],
   "source": [
    "num_features_to_scale = [c for c in numeric_col if c not in dont_scale and c not in exclude]"
   ]
  },
  {
   "cell_type": "code",
   "execution_count": 53,
   "id": "99774d8b-40b9-45dd-8a18-9c937ec48e07",
   "metadata": {},
   "outputs": [],
   "source": [
    "scaler = StandardScaler()"
   ]
  },
  {
   "cell_type": "code",
   "execution_count": 54,
   "id": "e74b0938-9260-4343-a8d5-43a6cc39a910",
   "metadata": {},
   "outputs": [],
   "source": [
    "df[num_features_to_scale] = scaler.fit_transform(df[num_features_to_scale])"
   ]
  },
  {
   "cell_type": "code",
   "execution_count": 55,
   "id": "9c09dafd-3f24-4998-883a-3d63f8da0bd9",
   "metadata": {},
   "outputs": [
    {
     "name": "stdout",
     "output_type": "stream",
     "text": [
      "after scalinggg\n",
      "    Price  Odometer_km     Doors  Accidents      Year  Location_City  \\\n",
      "0  1500.0     0.128390  0.254091   0.316968 -1.686714           True   \n",
      "1  4171.0    -0.044709  0.254091  -0.820867  0.794617          False   \n",
      "2  5331.0    -0.440923  0.254091  -0.820867  0.518913          False   \n",
      "\n",
      "   Location_Rural  Location_Suburb    CarAge  Km_per_year  LogPrice  Is_Urban  \\\n",
      "0           False            False  1.686714    -0.553364  7.313887         1   \n",
      "1            True            False -0.794617    -0.003812  8.336151         0   \n",
      "2           False             True -0.518913    -0.274949  8.581482         1   \n",
      "\n",
      "   Accident_flag  \n",
      "0              1  \n",
      "1              0  \n",
      "2              0  \n"
     ]
    }
   ],
   "source": [
    "print(\"after scalinggg\")\n",
    "print(df.head(3))"
   ]
  },
  {
   "cell_type": "code",
   "execution_count": 56,
   "id": "83338631-44e7-4c85-87fc-05882546b109",
   "metadata": {},
   "outputs": [],
   "source": [
    "# ================================\n",
    "# Step 10: Final Checks & Save\n",
    "# ================================"
   ]
  },
  {
   "cell_type": "code",
   "execution_count": 57,
   "id": "62d5abe8-84dc-448f-a55f-2692637be61f",
   "metadata": {},
   "outputs": [
    {
     "name": "stdout",
     "output_type": "stream",
     "text": [
      "\n",
      "=== FINAL HEAD ===\n",
      "    Price  Odometer_km     Doors  Accidents      Year  Location_City  \\\n",
      "0  1500.0     0.128390  0.254091   0.316968 -1.686714           True   \n",
      "1  4171.0    -0.044709  0.254091  -0.820867  0.794617          False   \n",
      "2  5331.0    -0.440923  0.254091  -0.820867  0.518913          False   \n",
      "3  1500.0     0.203135  0.254091   0.316968 -1.548862          False   \n",
      "4  1500.0    -0.044709 -0.931668  -0.820867  1.621727           True   \n",
      "\n",
      "   Location_Rural  Location_Suburb    CarAge  Km_per_year  LogPrice  Is_Urban  \\\n",
      "0           False            False  1.686714    -0.553364  7.313887         1   \n",
      "1            True            False -0.794617    -0.003812  8.336151         0   \n",
      "2           False             True -0.518913    -0.274949  8.581482         1   \n",
      "3           False             True  1.548862    -0.532378  7.313887         1   \n",
      "4           False            False -1.621727     1.706594  7.313887         1   \n",
      "\n",
      "   Accident_flag  \n",
      "0              1  \n",
      "1              0  \n",
      "2              0  \n",
      "3              1  \n",
      "4              0  \n"
     ]
    }
   ],
   "source": [
    "print(\"\\n=== FINAL HEAD ===\")\n",
    "print(df.head())"
   ]
  },
  {
   "cell_type": "code",
   "execution_count": 58,
   "id": "0528b5ca-27aa-4c1e-8bf8-3d5add284f79",
   "metadata": {},
   "outputs": [
    {
     "name": "stdout",
     "output_type": "stream",
     "text": [
      "\n",
      "=== FINAL INFO ===\n",
      "<class 'pandas.core.frame.DataFrame'>\n",
      "Index: 140 entries, 0 to 139\n",
      "Data columns (total 13 columns):\n",
      " #   Column           Non-Null Count  Dtype  \n",
      "---  ------           --------------  -----  \n",
      " 0   Price            140 non-null    float64\n",
      " 1   Odometer_km      140 non-null    float64\n",
      " 2   Doors            140 non-null    float64\n",
      " 3   Accidents        140 non-null    float64\n",
      " 4   Year             140 non-null    float64\n",
      " 5   Location_City    140 non-null    bool   \n",
      " 6   Location_Rural   140 non-null    bool   \n",
      " 7   Location_Suburb  140 non-null    bool   \n",
      " 8   CarAge           140 non-null    float64\n",
      " 9   Km_per_year      140 non-null    float64\n",
      " 10  LogPrice         140 non-null    float64\n",
      " 11  Is_Urban         140 non-null    int32  \n",
      " 12  Accident_flag    140 non-null    int32  \n",
      "dtypes: bool(3), float64(8), int32(2)\n",
      "memory usage: 11.3 KB\n",
      "None\n"
     ]
    }
   ],
   "source": [
    "print(\"\\n=== FINAL INFO ===\")\n",
    "print(df.info())"
   ]
  },
  {
   "cell_type": "code",
   "execution_count": 59,
   "id": "cd4222ce-50d5-4caa-aeb0-0884b2bdf705",
   "metadata": {},
   "outputs": [
    {
     "name": "stdout",
     "output_type": "stream",
     "text": [
      "\n",
      "=== FINAL MISSING VALUES ===\n",
      "Price              0\n",
      "Odometer_km        0\n",
      "Doors              0\n",
      "Accidents          0\n",
      "Year               0\n",
      "Location_City      0\n",
      "Location_Rural     0\n",
      "Location_Suburb    0\n",
      "CarAge             0\n",
      "Km_per_year        0\n",
      "LogPrice           0\n",
      "Is_Urban           0\n",
      "Accident_flag      0\n",
      "dtype: int64\n"
     ]
    }
   ],
   "source": [
    "\n",
    "print(\"\\n=== FINAL MISSING VALUES ===\")\n",
    "print(df.isnull().sum())"
   ]
  },
  {
   "cell_type": "code",
   "execution_count": 60,
   "id": "ab168bc0-5aa2-4ccb-aefd-1f038aa436cc",
   "metadata": {},
   "outputs": [
    {
     "name": "stdout",
     "output_type": "stream",
     "text": [
      "\n",
      "=== FINAL DESCRIBE ===\n",
      "             Price   Odometer_km         Doors     Accidents          Year  \\\n",
      "count   140.000000  1.400000e+02  1.400000e+02  1.400000e+02  1.400000e+02   \n",
      "mean   3175.456250  3.172066e-18  2.077703e-16  6.344132e-18  2.686740e-15   \n",
      "std    2601.848629  1.003591e+00  1.003591e+00  1.003591e+00  1.003591e+00   \n",
      "min    1500.000000 -2.348743e+00 -2.117428e+00 -8.208670e-01 -1.686714e+00   \n",
      "25%    1500.000000 -6.173048e-01 -9.316683e-01 -8.208670e-01 -8.596039e-01   \n",
      "50%    1500.000000 -4.470894e-02  2.540913e-01 -8.208670e-01 -3.249362e-02   \n",
      "75%    4489.750000  6.817310e-01  2.540913e-01  3.169684e-01  8.290796e-01   \n",
      "max    8974.375000  2.630285e+00  1.439851e+00  2.592639e+00  1.759579e+00   \n",
      "\n",
      "             CarAge   Km_per_year    LogPrice    Is_Urban  Accident_flag  \n",
      "count  1.400000e+02  1.400000e+02  140.000000  140.000000     140.000000  \n",
      "mean  -9.516197e-18  2.537653e-17    7.797661    0.850000       0.478571  \n",
      "std    1.003591e+00  1.003591e+00    0.684154    0.358354       0.501334  \n",
      "min   -1.759579e+00 -8.403039e-01    7.313887    0.000000       0.000000  \n",
      "25%   -8.290796e-01 -5.320360e-01    7.313887    1.000000       0.000000  \n",
      "50%    3.249362e-02 -2.993534e-01    7.313887    1.000000       0.000000  \n",
      "75%    8.596039e-01  1.240232e-01    8.409743    1.000000       1.000000  \n",
      "max    1.686714e+00  5.827179e+00    9.102240    1.000000       1.000000  \n"
     ]
    }
   ],
   "source": [
    "\n",
    "print(\"\\n=== FINAL DESCRIBE ===\")\n",
    "print(df.describe())"
   ]
  },
  {
   "cell_type": "code",
   "execution_count": 61,
   "id": "0bcacf5f-f042-40ff-b5bc-b38c4688dd8f",
   "metadata": {},
   "outputs": [
    {
     "name": "stdout",
     "output_type": "stream",
     "text": [
      "\n",
      "=== FINAL SHAPE ===\n",
      "(140, 13)\n"
     ]
    }
   ],
   "source": [
    "print(\"\\n=== FINAL SHAPE ===\")\n",
    "print(df.shape)"
   ]
  },
  {
   "cell_type": "code",
   "execution_count": 62,
   "id": "65e5a82c-4acc-46d1-9fbf-e2bd2b4ac30c",
   "metadata": {},
   "outputs": [
    {
     "name": "stdout",
     "output_type": "stream",
     "text": [
      "\n",
      "=== FINAL CLEANED DATA ===\n"
     ]
    }
   ],
   "source": [
    "print(\"\\n=== FINAL CLEANED DATA ===\")\n",
    "OUT_PATH = \"Car_l3_Clean.csv\"\n",
    "df.to_csv(OUT_PATH, index=False)"
   ]
  }
 ],
 "metadata": {
  "kernelspec": {
   "display_name": "Python 3 (ipykernel)",
   "language": "python",
   "name": "python3"
  },
  "language_info": {
   "codemirror_mode": {
    "name": "ipython",
    "version": 3
   },
   "file_extension": ".py",
   "mimetype": "text/x-python",
   "name": "python",
   "nbconvert_exporter": "python",
   "pygments_lexer": "ipython3",
   "version": "3.12.4"
  }
 },
 "nbformat": 4,
 "nbformat_minor": 5
}
