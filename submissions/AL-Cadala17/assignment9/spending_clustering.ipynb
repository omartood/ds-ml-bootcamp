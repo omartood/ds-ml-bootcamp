{
 "cells": [
  {
   "cell_type": "code",
   "execution_count": 34,
   "id": "85791150",
   "metadata": {},
   "outputs": [],
   "source": [
    "import os\n",
    "os.environ[\"OMP_NUM_THREADS\"] = \"1\"\n",
    "import pandas as pd\n",
    "from sklearn.preprocessing import StandardScaler\n",
    "from sklearn.cluster import KMeans\n",
    "from sklearn.metrics import silhouette_score,davies_bouldin_score"
   ]
  },
  {
   "cell_type": "code",
   "execution_count": 35,
   "id": "e7068f41",
   "metadata": {},
   "outputs": [
    {
     "data": {
      "text/html": [
       "<div>\n",
       "<style scoped>\n",
       "    .dataframe tbody tr th:only-of-type {\n",
       "        vertical-align: middle;\n",
       "    }\n",
       "\n",
       "    .dataframe tbody tr th {\n",
       "        vertical-align: top;\n",
       "    }\n",
       "\n",
       "    .dataframe thead th {\n",
       "        text-align: right;\n",
       "    }\n",
       "</style>\n",
       "<table border=\"1\" class=\"dataframe\">\n",
       "  <thead>\n",
       "    <tr style=\"text-align: right;\">\n",
       "      <th></th>\n",
       "      <th>CustomerID</th>\n",
       "      <th>Age</th>\n",
       "      <th>Income_$</th>\n",
       "      <th>SpendingScore</th>\n",
       "      <th>VisitsPerMonth</th>\n",
       "      <th>OnlinePurchases</th>\n",
       "      <th>Gender</th>\n",
       "      <th>Region</th>\n",
       "    </tr>\n",
       "  </thead>\n",
       "  <tbody>\n",
       "    <tr>\n",
       "      <th>0</th>\n",
       "      <td>1</td>\n",
       "      <td>28</td>\n",
       "      <td>33</td>\n",
       "      <td>78</td>\n",
       "      <td>14</td>\n",
       "      <td>9</td>\n",
       "      <td>Female</td>\n",
       "      <td>East</td>\n",
       "    </tr>\n",
       "    <tr>\n",
       "      <th>1</th>\n",
       "      <td>2</td>\n",
       "      <td>21</td>\n",
       "      <td>25</td>\n",
       "      <td>87</td>\n",
       "      <td>8</td>\n",
       "      <td>23</td>\n",
       "      <td>Male</td>\n",
       "      <td>North</td>\n",
       "    </tr>\n",
       "    <tr>\n",
       "      <th>2</th>\n",
       "      <td>3</td>\n",
       "      <td>23</td>\n",
       "      <td>24</td>\n",
       "      <td>88</td>\n",
       "      <td>13</td>\n",
       "      <td>10</td>\n",
       "      <td>Male</td>\n",
       "      <td>South</td>\n",
       "    </tr>\n",
       "    <tr>\n",
       "      <th>3</th>\n",
       "      <td>4</td>\n",
       "      <td>24</td>\n",
       "      <td>25</td>\n",
       "      <td>73</td>\n",
       "      <td>16</td>\n",
       "      <td>11</td>\n",
       "      <td>Female</td>\n",
       "      <td>West</td>\n",
       "    </tr>\n",
       "    <tr>\n",
       "      <th>4</th>\n",
       "      <td>5</td>\n",
       "      <td>20</td>\n",
       "      <td>23</td>\n",
       "      <td>88</td>\n",
       "      <td>17</td>\n",
       "      <td>16</td>\n",
       "      <td>Male</td>\n",
       "      <td>West</td>\n",
       "    </tr>\n",
       "  </tbody>\n",
       "</table>\n",
       "</div>"
      ],
      "text/plain": [
       "   CustomerID  Age  Income_$  SpendingScore  VisitsPerMonth  OnlinePurchases  \\\n",
       "0           1   28        33             78              14                9   \n",
       "1           2   21        25             87               8               23   \n",
       "2           3   23        24             88              13               10   \n",
       "3           4   24        25             73              16               11   \n",
       "4           5   20        23             88              17               16   \n",
       "\n",
       "   Gender Region  \n",
       "0  Female   East  \n",
       "1    Male  North  \n",
       "2    Male  South  \n",
       "3  Female   West  \n",
       "4    Male   West  "
      ]
     },
     "execution_count": 35,
     "metadata": {},
     "output_type": "execute_result"
    }
   ],
   "source": [
    "# 1. load dataset\n",
    "df = pd.read_csv(\"spending_l9_dataset.csv\")\n",
    "df.head()"
   ]
  },
  {
   "cell_type": "code",
   "execution_count": 126,
   "id": "682d1394",
   "metadata": {},
   "outputs": [
    {
     "name": "stdout",
     "output_type": "stream",
     "text": [
      "--- Before Scaling the Features ---\n"
     ]
    },
    {
     "data": {
      "text/html": [
       "<div>\n",
       "<style scoped>\n",
       "    .dataframe tbody tr th:only-of-type {\n",
       "        vertical-align: middle;\n",
       "    }\n",
       "\n",
       "    .dataframe tbody tr th {\n",
       "        vertical-align: top;\n",
       "    }\n",
       "\n",
       "    .dataframe thead th {\n",
       "        text-align: right;\n",
       "    }\n",
       "</style>\n",
       "<table border=\"1\" class=\"dataframe\">\n",
       "  <thead>\n",
       "    <tr style=\"text-align: right;\">\n",
       "      <th></th>\n",
       "      <th>Income_$</th>\n",
       "      <th>SpendingScore</th>\n",
       "    </tr>\n",
       "  </thead>\n",
       "  <tbody>\n",
       "    <tr>\n",
       "      <th>0</th>\n",
       "      <td>33</td>\n",
       "      <td>78</td>\n",
       "    </tr>\n",
       "    <tr>\n",
       "      <th>1</th>\n",
       "      <td>25</td>\n",
       "      <td>87</td>\n",
       "    </tr>\n",
       "    <tr>\n",
       "      <th>2</th>\n",
       "      <td>24</td>\n",
       "      <td>88</td>\n",
       "    </tr>\n",
       "    <tr>\n",
       "      <th>3</th>\n",
       "      <td>25</td>\n",
       "      <td>73</td>\n",
       "    </tr>\n",
       "    <tr>\n",
       "      <th>4</th>\n",
       "      <td>23</td>\n",
       "      <td>88</td>\n",
       "    </tr>\n",
       "  </tbody>\n",
       "</table>\n",
       "</div>"
      ],
      "text/plain": [
       "   Income_$  SpendingScore\n",
       "0        33             78\n",
       "1        25             87\n",
       "2        24             88\n",
       "3        25             73\n",
       "4        23             88"
      ]
     },
     "execution_count": 126,
     "metadata": {},
     "output_type": "execute_result"
    }
   ],
   "source": [
    "# 2. Select features for clustering\n",
    "FEATURES = [\"Income_$\",\"SpendingScore\"]\n",
    "X = df[FEATURES].copy()\n",
    "\n",
    "# Fill missing numeric values (if any) with median\n",
    "for col in FEATURES:\n",
    "    if X[col].isna().any():\n",
    "        X[col] = X[col].fillna(X[col].median())\n",
    "print(\"--- Before Scaling the Features ---\")\n",
    "X.head()\n"
   ]
  },
  {
   "cell_type": "code",
   "execution_count": 37,
   "id": "5c75a081",
   "metadata": {},
   "outputs": [
    {
     "name": "stdout",
     "output_type": "stream",
     "text": [
      "--- After Scaling the Features ---\n"
     ]
    },
    {
     "data": {
      "text/html": [
       "<div>\n",
       "<style scoped>\n",
       "    .dataframe tbody tr th:only-of-type {\n",
       "        vertical-align: middle;\n",
       "    }\n",
       "\n",
       "    .dataframe tbody tr th {\n",
       "        vertical-align: top;\n",
       "    }\n",
       "\n",
       "    .dataframe thead th {\n",
       "        text-align: right;\n",
       "    }\n",
       "</style>\n",
       "<table border=\"1\" class=\"dataframe\">\n",
       "  <thead>\n",
       "    <tr style=\"text-align: right;\">\n",
       "      <th></th>\n",
       "      <th>Income_$</th>\n",
       "      <th>SpendingScore</th>\n",
       "    </tr>\n",
       "  </thead>\n",
       "  <tbody>\n",
       "    <tr>\n",
       "      <th>0</th>\n",
       "      <td>-0.627830</td>\n",
       "      <td>0.729981</td>\n",
       "    </tr>\n",
       "    <tr>\n",
       "      <th>1</th>\n",
       "      <td>-0.890315</td>\n",
       "      <td>1.073591</td>\n",
       "    </tr>\n",
       "    <tr>\n",
       "      <th>2</th>\n",
       "      <td>-0.923126</td>\n",
       "      <td>1.111770</td>\n",
       "    </tr>\n",
       "    <tr>\n",
       "      <th>3</th>\n",
       "      <td>-0.890315</td>\n",
       "      <td>0.539086</td>\n",
       "    </tr>\n",
       "    <tr>\n",
       "      <th>4</th>\n",
       "      <td>-0.955936</td>\n",
       "      <td>1.111770</td>\n",
       "    </tr>\n",
       "  </tbody>\n",
       "</table>\n",
       "</div>"
      ],
      "text/plain": [
       "   Income_$  SpendingScore\n",
       "0 -0.627830       0.729981\n",
       "1 -0.890315       1.073591\n",
       "2 -0.923126       1.111770\n",
       "3 -0.890315       0.539086\n",
       "4 -0.955936       1.111770"
      ]
     },
     "execution_count": 37,
     "metadata": {},
     "output_type": "execute_result"
    }
   ],
   "source": [
    "# 3. Feature Scaling\n",
    "scaler = StandardScaler()\n",
    "X_scaled = scaler.fit_transform(X)\n",
    "# converting the X[Income_$,SpendingScore] Scaled to a DataFrame\n",
    "X_scaled_df = pd.DataFrame(X_scaled, columns = [\"Income_$\",\"SpendingScore\"])\n",
    "print(\"--- After Scaling the Features ---\")\n",
    "X_scaled_df.head()"
   ]
  },
  {
   "cell_type": "code",
   "execution_count": 38,
   "id": "60988c07",
   "metadata": {},
   "outputs": [
    {
     "name": "stdout",
     "output_type": "stream",
     "text": [
      "--- Sum of (SSE) for each value of k ---\n",
      "k = 1 -> SSE = 400.00\n",
      "k = 2 -> SSE = 199.70\n",
      "k = 3 -> SSE = 79.37\n",
      "k = 4 -> SSE = 21.37\n",
      "k = 5 -> SSE = 19.09\n",
      "k = 6 -> SSE = 15.65\n",
      "k = 7 -> SSE = 14.48\n",
      "k = 8 -> SSE = 13.81\n",
      "k = 9 -> SSE = 12.94\n",
      "k = 10 -> SSE = 11.52\n"
     ]
    }
   ],
   "source": [
    "# 4. Choosing the best K-Means by using (Elbow method)\n",
    "# this function Calculates and prints the Sum of Squared Errors (SSE) for K-Meansclustering on a given dataset for k values from 1 to 10.\n",
    "def get_kmeans_sse(scaled_data):\n",
    " print(\"--- Sum of (SSE) for each value of k ---\")\n",
    " for k in range(1, 11):\n",
    "    km = KMeans(n_clusters=k, random_state=42)\n",
    "    km.fit(scaled_data)\n",
    "    print(f\"k = {k} -> SSE = {km.inertia_:.2f}\")\n",
    "get_kmeans_sse(X_scaled)"
   ]
  },
  {
   "cell_type": "code",
   "execution_count": 50,
   "id": "161a14c6",
   "metadata": {},
   "outputs": [
    {
     "data": {
      "text/html": [
       "<div>\n",
       "<style scoped>\n",
       "    .dataframe tbody tr th:only-of-type {\n",
       "        vertical-align: middle;\n",
       "    }\n",
       "\n",
       "    .dataframe tbody tr th {\n",
       "        vertical-align: top;\n",
       "    }\n",
       "\n",
       "    .dataframe thead th {\n",
       "        text-align: right;\n",
       "    }\n",
       "</style>\n",
       "<table border=\"1\" class=\"dataframe\">\n",
       "  <thead>\n",
       "    <tr style=\"text-align: right;\">\n",
       "      <th></th>\n",
       "      <th>CustomerID</th>\n",
       "      <th>Age</th>\n",
       "      <th>Income_$</th>\n",
       "      <th>SpendingScore</th>\n",
       "      <th>VisitsPerMonth</th>\n",
       "      <th>OnlinePurchases</th>\n",
       "      <th>Gender</th>\n",
       "      <th>Region</th>\n",
       "      <th>Cluster</th>\n",
       "    </tr>\n",
       "  </thead>\n",
       "  <tbody>\n",
       "    <tr>\n",
       "      <th>0</th>\n",
       "      <td>1</td>\n",
       "      <td>28</td>\n",
       "      <td>33</td>\n",
       "      <td>78</td>\n",
       "      <td>14</td>\n",
       "      <td>9</td>\n",
       "      <td>Female</td>\n",
       "      <td>East</td>\n",
       "      <td>2</td>\n",
       "    </tr>\n",
       "    <tr>\n",
       "      <th>1</th>\n",
       "      <td>2</td>\n",
       "      <td>21</td>\n",
       "      <td>25</td>\n",
       "      <td>87</td>\n",
       "      <td>8</td>\n",
       "      <td>23</td>\n",
       "      <td>Male</td>\n",
       "      <td>North</td>\n",
       "      <td>2</td>\n",
       "    </tr>\n",
       "    <tr>\n",
       "      <th>2</th>\n",
       "      <td>3</td>\n",
       "      <td>23</td>\n",
       "      <td>24</td>\n",
       "      <td>88</td>\n",
       "      <td>13</td>\n",
       "      <td>10</td>\n",
       "      <td>Male</td>\n",
       "      <td>South</td>\n",
       "      <td>2</td>\n",
       "    </tr>\n",
       "    <tr>\n",
       "      <th>3</th>\n",
       "      <td>4</td>\n",
       "      <td>24</td>\n",
       "      <td>25</td>\n",
       "      <td>73</td>\n",
       "      <td>16</td>\n",
       "      <td>11</td>\n",
       "      <td>Female</td>\n",
       "      <td>West</td>\n",
       "      <td>2</td>\n",
       "    </tr>\n",
       "    <tr>\n",
       "      <th>4</th>\n",
       "      <td>5</td>\n",
       "      <td>20</td>\n",
       "      <td>23</td>\n",
       "      <td>88</td>\n",
       "      <td>17</td>\n",
       "      <td>16</td>\n",
       "      <td>Male</td>\n",
       "      <td>West</td>\n",
       "      <td>2</td>\n",
       "    </tr>\n",
       "  </tbody>\n",
       "</table>\n",
       "</div>"
      ],
      "text/plain": [
       "   CustomerID  Age  Income_$  SpendingScore  VisitsPerMonth  OnlinePurchases  \\\n",
       "0           1   28        33             78              14                9   \n",
       "1           2   21        25             87               8               23   \n",
       "2           3   23        24             88              13               10   \n",
       "3           4   24        25             73              16               11   \n",
       "4           5   20        23             88              17               16   \n",
       "\n",
       "   Gender Region  Cluster  \n",
       "0  Female   East        2  \n",
       "1    Male  North        2  \n",
       "2    Male  South        2  \n",
       "3  Female   West        2  \n",
       "4    Male   West        2  "
      ]
     },
     "execution_count": 50,
     "metadata": {},
     "output_type": "execute_result"
    }
   ],
   "source": [
    "# 5. training the model\n",
    "kmeans = KMeans(n_clusters=4, random_state=42)\n",
    "# geeting the label\n",
    "labels = kmeans.fit_predict(X_scaled)\n",
    "# adding the label to the dataframe \n",
    "df[\"Cluster\"] = labels.astype(int)\n",
    "df.head()\n",
    "# print(df[\"Cluster\"].value_counts())"
   ]
  },
  {
   "cell_type": "code",
   "execution_count": 52,
   "id": "72b02d8d",
   "metadata": {},
   "outputs": [
    {
     "name": "stdout",
     "output_type": "stream",
     "text": [
      "Silhouette Score: 0.73 (closer to +1 is better)\n",
      "Davies–Bouldin:   0.39 (lower is better)\n"
     ]
    }
   ],
   "source": [
    "# 6. Evaluating the Clustring\n",
    "sil_score = silhouette_score(X_scaled,labels)\n",
    "db_score = davies_bouldin_score(X_scaled,labels)\n",
    "print(f\"Silhouette Score: {sil_score:.2f} (closer to +1 is better)\")\n",
    "print(f\"Davies–Bouldin:   {db_score:.2f} (lower is better)\")"
   ]
  },
  {
   "cell_type": "code",
   "execution_count": null,
   "id": "a4561f06",
   "metadata": {},
   "outputs": [
    {
     "name": "stdout",
     "output_type": "stream",
     "text": [
      "=== CLUSTER CENTERS (Original Units) ===\n"
     ]
    },
    {
     "data": {
      "text/html": [
       "<div>\n",
       "<style scoped>\n",
       "    .dataframe tbody tr th:only-of-type {\n",
       "        vertical-align: middle;\n",
       "    }\n",
       "\n",
       "    .dataframe tbody tr th {\n",
       "        vertical-align: top;\n",
       "    }\n",
       "\n",
       "    .dataframe thead th {\n",
       "        text-align: right;\n",
       "    }\n",
       "</style>\n",
       "<table border=\"1\" class=\"dataframe\">\n",
       "  <thead>\n",
       "    <tr style=\"text-align: right;\">\n",
       "      <th></th>\n",
       "      <th>Income_$</th>\n",
       "      <th>SpendingScore</th>\n",
       "    </tr>\n",
       "    <tr>\n",
       "      <th>Cluster</th>\n",
       "      <th></th>\n",
       "      <th></th>\n",
       "    </tr>\n",
       "  </thead>\n",
       "  <tbody>\n",
       "    <tr>\n",
       "      <th>0</th>\n",
       "      <td>56.32</td>\n",
       "      <td>53.58</td>\n",
       "    </tr>\n",
       "    <tr>\n",
       "      <th>1</th>\n",
       "      <td>28.92</td>\n",
       "      <td>19.60</td>\n",
       "    </tr>\n",
       "    <tr>\n",
       "      <th>2</th>\n",
       "      <td>24.14</td>\n",
       "      <td>83.10</td>\n",
       "    </tr>\n",
       "    <tr>\n",
       "      <th>3</th>\n",
       "      <td>99.16</td>\n",
       "      <td>79.24</td>\n",
       "    </tr>\n",
       "  </tbody>\n",
       "</table>\n",
       "</div>"
      ],
      "text/plain": [
       "         Income_$  SpendingScore\n",
       "Cluster                         \n",
       "0           56.32          53.58\n",
       "1           28.92          19.60\n",
       "2           24.14          83.10\n",
       "3           99.16          79.24"
      ]
     },
     "execution_count": 71,
     "metadata": {},
     "output_type": "execute_result"
    }
   ],
   "source": [
    "# 7.Cluster centers (back to original units)\n",
    "center_scaled = kmeans.cluster_centers_\n",
    "centers_original = scaler.inverse_transform(center_scaled)\n",
    "print(\"=== CLUSTER CENTERS (Original Units) ===\")\n",
    "center_df = pd.DataFrame(centers_original,columns=FEATURES)\n",
    "center_df.index.name = \"Cluster\"\n",
    "center_df.head(10)"
   ]
  },
  {
   "cell_type": "code",
   "execution_count": 120,
   "id": "7b568940",
   "metadata": {},
   "outputs": [
    {
     "name": "stdout",
     "output_type": "stream",
     "text": [
      "--- Sanity Check: 3 Random Customers ---\n",
      "     Income_$  SpendingScore  Cluster\n",
      "124        23             23        1\n",
      "49         21             72        2\n",
      "129        23             28        1\n"
     ]
    }
   ],
   "source": [
    "# Sanity checks (3 customers)\n",
    "sanity_check_sample = df.sample(n=3)[FEATURES + ['Cluster']]\n",
    "\n",
    "print(\"--- Sanity Check: 3 Random Customers ---\")\n",
    "print(sanity_check_sample)"
   ]
  },
  {
   "cell_type": "code",
   "execution_count": 124,
   "id": "a740a018",
   "metadata": {},
   "outputs": [
    {
     "name": "stdout",
     "output_type": "stream",
     "text": [
      "Saved clustered dataset → spending_labeled_clusters.csv\n"
     ]
    }
   ],
   "source": [
    "# 9. Save labeled dataset\n",
    "df.to_csv(\"spending_labeled_clusters.csv\",index=False)\n",
    "print(f\"Saved clustered dataset → spending_labeled_clusters.csv\")"
   ]
  }
 ],
 "metadata": {
  "kernelspec": {
   "display_name": "base",
   "language": "python",
   "name": "python3"
  },
  "language_info": {
   "codemirror_mode": {
    "name": "ipython",
    "version": 3
   },
   "file_extension": ".py",
   "mimetype": "text/x-python",
   "name": "python",
   "nbconvert_exporter": "python",
   "pygments_lexer": "ipython3",
   "version": "3.13.5"
  }
 },
 "nbformat": 4,
 "nbformat_minor": 5
}
