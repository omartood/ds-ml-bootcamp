{
 "cells": [
  {
   "cell_type": "code",
   "execution_count": 28,
   "id": "9024e89d-0d5e-4ca0-a5e9-7b94c840c9d3",
   "metadata": {},
   "outputs": [
    {
     "name": "stdout",
     "output_type": "stream",
     "text": [
      "INITIAL SNAPSHOT \n",
      "   CustomerID  Age  Income_$  SpendingScore  VisitsPerMonth  OnlinePurchases  \\\n",
      "0           1   28        33             78              14                9   \n",
      "1           2   21        25             87               8               23   \n",
      "2           3   23        24             88              13               10   \n",
      "3           4   24        25             73              16               11   \n",
      "4           5   20        23             88              17               16   \n",
      "\n",
      "   Gender Region  \n",
      "0  Female   East  \n",
      "1    Male  North  \n",
      "2    Male  South  \n",
      "3  Female   West  \n",
      "4    Male   West  \n"
     ]
    }
   ],
   "source": [
    "import pandas as pd\n",
    "import os\n",
    "os.environ[\"OMP_NUM_THREADS\"] = \"1\"\n",
    "from sklearn.cluster import KMeans\n",
    "from sklearn.preprocessing import StandardScaler\n",
    "from sklearn.metrics import silhouette_score, davies_bouldin_score\n",
    "\n",
    "\n",
    "CSV_PATH = \"spending_l9_dataset.csv\"\n",
    "df = pd.read_csv(CSV_PATH)\n",
    "print(\"INITIAL SNAPSHOT \")\n",
    "print(df.head())\n"
   ]
  },
  {
   "cell_type": "code",
   "execution_count": 29,
   "id": "fb6f3f48-397f-4494-8f5c-5e7220e2fb42",
   "metadata": {},
   "outputs": [],
   "source": [
    "\n",
    "FEATURES = [\"Income_$\", \"SpendingScore\"]\n",
    "X = df[FEATURES].copy()\n",
    "\n"
   ]
  },
  {
   "cell_type": "code",
   "execution_count": 30,
   "id": "b0df6b88-db95-44e6-a57d-73e037db72a3",
   "metadata": {},
   "outputs": [],
   "source": [
    "for col in FEATURES:\n",
    "    if X[col].isna().any():\n",
    "        X[col] = X[col].fillna(X[col].median())\n"
   ]
  },
  {
   "cell_type": "code",
   "execution_count": 31,
   "id": "cded8f45-4443-4d86-883f-5af8716dbadc",
   "metadata": {},
   "outputs": [
    {
     "name": "stdout",
     "output_type": "stream",
     "text": [
      "   Income_$  SpendingScore\n",
      "0        33             78\n",
      "1        25             87\n",
      "2        24             88\n",
      "3        25             73\n",
      "4        23             88\n"
     ]
    }
   ],
   "source": [
    "print(X.head())"
   ]
  },
  {
   "cell_type": "code",
   "execution_count": 32,
   "id": "1294e7b7-f10f-4df3-9d70-dd9c10cd43fd",
   "metadata": {},
   "outputs": [
    {
     "name": "stdout",
     "output_type": "stream",
     "text": [
      "scaled shape: (200, 2)\n"
     ]
    }
   ],
   "source": [
    "#Scale features\n",
    "\n",
    "scaler=StandardScaler()\n",
    "x_scaled=scaler.fit_transform(X)\n",
    "print(\"scaled shape:\", x_scaled.shape)"
   ]
  },
  {
   "cell_type": "code",
   "execution_count": 33,
   "id": "2a4054c5-b700-4cdd-ab1d-4be2a0e47d1f",
   "metadata": {},
   "outputs": [
    {
     "name": "stdout",
     "output_type": "stream",
     "text": [
      "== Elbow method (SSE per k) ===\n",
      "k=1 → SSE=400.00\n",
      "k=2 → SSE=199.70\n",
      "k=3 → SSE=79.37\n",
      "k=4 → SSE=21.37\n",
      "k=5 → SSE=19.09\n",
      "k=6 → SSE=15.65\n",
      "k=7 → SSE=14.48\n",
      "k=8 → SSE=13.81\n",
      "k=9 → SSE=12.94\n",
      "k=10 → SSE=11.52\n"
     ]
    }
   ],
   "source": [
    "#  Elbow method\n",
    "print(\"== Elbow method (SSE per k) ===\")\n",
    "for k in range(1, 11):\n",
    "    km = KMeans(n_clusters=k, n_init=\"auto\", random_state=42)\n",
    "    km.fit(x_scaled)\n",
    "    print(f\"k={k} → SSE={km.inertia_:.2f}\")\n"
   ]
  },
  {
   "cell_type": "code",
   "execution_count": 35,
   "id": "f21faf5e-2cb5-4fec-b4a5-3a3c866a44b5",
   "metadata": {},
   "outputs": [],
   "source": [
    "# Fit K-Means with chosen \n",
    "K = 4\n",
    "kmeans = KMeans(n_clusters=K, n_init=\"auto\", random_state=42)\n",
    "labels = kmeans.fit_predict(x_scaled)\n"
   ]
  },
  {
   "cell_type": "code",
   "execution_count": 36,
   "id": "5577b84f-e1a2-41bc-8602-d9163f41af0a",
   "metadata": {},
   "outputs": [
    {
     "name": "stdout",
     "output_type": "stream",
     "text": [
      "sample clustering\n",
      "    CustomerID  Age  Income_$  SpendingScore  VisitsPerMonth  OnlinePurchases  \\\n",
      "0            1   28        33             78              14                9   \n",
      "1            2   21        25             87               8               23   \n",
      "2            3   23        24             88              13               10   \n",
      "3            4   24        25             73              16               11   \n",
      "4            5   20        23             88              17               16   \n",
      "..         ...  ...       ...            ...             ...              ...   \n",
      "85          86   33        46             44               7                7   \n",
      "86          87   35        61             54              11                7   \n",
      "87          88   29        46             53              11                9   \n",
      "88          89   28        57             57              10                8   \n",
      "89          90   37        56             54               8               10   \n",
      "\n",
      "    Gender Region  Cluster  \n",
      "0   Female   East        2  \n",
      "1     Male  North        2  \n",
      "2     Male  South        2  \n",
      "3   Female   West        2  \n",
      "4     Male   West        2  \n",
      "..     ...    ...      ...  \n",
      "85    Male   West        0  \n",
      "86  Female  South        0  \n",
      "87    Male   East        0  \n",
      "88  Female  North        0  \n",
      "89    Male   East        0  \n",
      "\n",
      "[90 rows x 9 columns]\n"
     ]
    }
   ],
   "source": [
    "df[\"Cluster\"] = labels.astype(int)\n",
    "print(\"sample clustering\")\n",
    "print(df.head(90))\n"
   ]
  },
  {
   "cell_type": "code",
   "execution_count": 37,
   "id": "11325213-909a-40d1-a545-00b0aa5df459",
   "metadata": {},
   "outputs": [
    {
     "name": "stdout",
     "output_type": "stream",
     "text": [
      "METRICS\n",
      "Silhouette Score : 0.729 (closer to +1 is better)\n",
      "Davies–Bouldin   : 0.387 (lower is better)\n"
     ]
    }
   ],
   "source": [
    "# evaluate cluster\n",
    "\n",
    "sil = silhouette_score(x_scaled, labels)\n",
    "dbi = davies_bouldin_score(x_scaled, labels)\n",
    "print(\"METRICS\")\n",
    "print(f\"Silhouette Score : {sil:.3f} (closer to +1 is better)\")\n",
    "print(f\"Davies–Bouldin   : {dbi:.3f} (lower is better)\")\n"
   ]
  },
  {
   "cell_type": "code",
   "execution_count": null,
   "id": "5593bd89-584f-4196-9d19-96ec414b0e31",
   "metadata": {},
   "outputs": [],
   "source": []
  },
  {
   "cell_type": "code",
   "execution_count": 38,
   "id": "b2993bc3-c517-45fe-bba2-bdd70741789f",
   "metadata": {},
   "outputs": [
    {
     "name": "stdout",
     "output_type": "stream",
     "text": [
      "cluster center (Original Units)\n",
      "         Income_$  SpendingScore\n",
      "Cluster                         \n",
      "0           56.32          53.58\n",
      "1           28.92          19.60\n",
      "2           24.14          83.10\n",
      "3           99.16          79.24\n"
     ]
    }
   ],
   "source": [
    "#  Cluster centers back to original units\n",
    "\n",
    "centers_scaled = kmeans.cluster_centers_\n",
    "centers_original = scaler.inverse_transform(centers_scaled)\n",
    "\n",
    "centers_df = pd.DataFrame(centers_original, columns=FEATURES)\n",
    "centers_df.index.name = \"Cluster\"\n",
    "\n",
    "print(\"cluster center (Original Units)\")\n",
    "print(centers_df.round(2))"
   ]
  },
  {
   "cell_type": "code",
   "execution_count": 47,
   "id": "b75811b3-2c9d-42f0-b733-e724cc443946",
   "metadata": {},
   "outputs": [
    {
     "name": "stdout",
     "output_type": "stream",
     "text": [
      "sanity check 3 sample\n",
      "    Income_$  SpendingScore  cluster\n",
      "9         29             81        2\n",
      "79        56             58        0\n",
      "2         24             88        2\n"
     ]
    }
   ],
   "source": [
    "\n",
    "# sanity check\n",
    "df[\"cluster\"] = labels\n",
    "sample_index=[9,79,2]\n",
    "sanity=df.loc[sample_index,FEATURES +[\"cluster\"]]\n",
    "print(\"sanity check 3 sample\")\n",
    "print(sanity)"
   ]
  },
  {
   "cell_type": "code",
   "execution_count": 39,
   "id": "4212ad66-ea6c-491d-95fb-c647e14790d3",
   "metadata": {},
   "outputs": [
    {
     "name": "stdout",
     "output_type": "stream",
     "text": [
      "spending_l9_dataset.csv → spending_l9_dataset.csv\n"
     ]
    }
   ],
   "source": [
    "#save\n",
    "OUT_PATH = \"spending_l9_dataset.csv\"\n",
    "df.to_csv(OUT_PATH, index=False)\n",
    "print(f\"spending_l9_dataset.csv → {OUT_PATH}\")"
   ]
  },
  {
   "cell_type": "code",
   "execution_count": null,
   "id": "ee8118f3-66e6-438c-b355-17a5153356de",
   "metadata": {},
   "outputs": [],
   "source": []
  }
 ],
 "metadata": {
  "kernelspec": {
   "display_name": "Python 3 (ipykernel)",
   "language": "python",
   "name": "python3"
  },
  "language_info": {
   "codemirror_mode": {
    "name": "ipython",
    "version": 3
   },
   "file_extension": ".py",
   "mimetype": "text/x-python",
   "name": "python",
   "nbconvert_exporter": "python",
   "pygments_lexer": "ipython3",
   "version": "3.13.5"
  }
 },
 "nbformat": 4,
 "nbformat_minor": 5
}
