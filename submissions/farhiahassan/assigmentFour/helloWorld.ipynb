{
 "cells": [
  {
   "cell_type": "markdown",
   "id": "c47f3d5c-5364-47c7-8a45-328b40bc4abc",
   "metadata": {},
   "source": [
    "## welcome to jupeyter notbook"
   ]
  },
  {
   "cell_type": "code",
   "execution_count": 3,
   "id": "a3e2ae75-557c-434a-9b16-ad58eb1ab1fe",
   "metadata": {},
   "outputs": [
    {
     "name": "stdout",
     "output_type": "stream",
     "text": [
      "Requirement already satisfied: numpy in c:\\users\\hp\\anaconda3\\lib\\site-packages (2.1.3)\n"
     ]
    }
   ],
   "source": [
    "!pip install numpy\n"
   ]
  },
  {
   "cell_type": "code",
   "execution_count": 4,
   "id": "f463d59b-c73f-4898-8d48-031b0047cd9d",
   "metadata": {},
   "outputs": [
    {
     "name": "stdout",
     "output_type": "stream",
     "text": [
      "[1 2 3 4 5]\n"
     ]
    }
   ],
   "source": [
    "import numpy as np\n",
    "arr=np.array([1,2,3,4,5])\n",
    "print(arr)"
   ]
  },
  {
   "cell_type": "code",
   "execution_count": null,
   "id": "6ba1565b-94a6-44d4-9904-08cd9dab2ea8",
   "metadata": {},
   "outputs": [
    {
     "name": "stdout",
     "output_type": "stream",
     "text": [
      "Hello farhia\n"
     ]
    }
   ],
   "source": [
    "print(\"Hello farhia\")"
   ]
  },
  {
   "cell_type": "code",
   "execution_count": null,
   "id": "349593cb-a3dc-4b34-b233-bd168402e72c",
   "metadata": {},
   "outputs": [],
   "source": []
  }
 ],
 "metadata": {
  "kernelspec": {
   "display_name": "Python 3 (ipykernel)",
   "language": "python",
   "name": "python3"
  },
  "language_info": {
   "codemirror_mode": {
    "name": "ipython",
    "version": 3
   },
   "file_extension": ".py",
   "mimetype": "text/x-python",
   "name": "python",
   "nbconvert_exporter": "python",
   "pygments_lexer": "ipython3",
   "version": "3.13.5"
  }
 },
 "nbformat": 4,
 "nbformat_minor": 5
}
