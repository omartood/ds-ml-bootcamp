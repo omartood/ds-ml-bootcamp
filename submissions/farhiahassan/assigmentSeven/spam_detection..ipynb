{
 "cells": [
  {
   "cell_type": "code",
   "execution_count": 18,
   "id": "544ca583-7a57-4b79-9ff8-74bcac0416b0",
   "metadata": {},
   "outputs": [
    {
     "data": {
      "text/html": [
       "<div>\n",
       "<style scoped>\n",
       "    .dataframe tbody tr th:only-of-type {\n",
       "        vertical-align: middle;\n",
       "    }\n",
       "\n",
       "    .dataframe tbody tr th {\n",
       "        vertical-align: top;\n",
       "    }\n",
       "\n",
       "    .dataframe thead th {\n",
       "        text-align: right;\n",
       "    }\n",
       "</style>\n",
       "<table border=\"1\" class=\"dataframe\">\n",
       "  <thead>\n",
       "    <tr style=\"text-align: right;\">\n",
       "      <th></th>\n",
       "      <th>Category</th>\n",
       "      <th>Message</th>\n",
       "    </tr>\n",
       "  </thead>\n",
       "  <tbody>\n",
       "    <tr>\n",
       "      <th>0</th>\n",
       "      <td>ham</td>\n",
       "      <td>Go until jurong point, crazy.. Available only ...</td>\n",
       "    </tr>\n",
       "    <tr>\n",
       "      <th>1</th>\n",
       "      <td>ham</td>\n",
       "      <td>Ok lar... Joking wif u oni...</td>\n",
       "    </tr>\n",
       "    <tr>\n",
       "      <th>2</th>\n",
       "      <td>spam</td>\n",
       "      <td>Free entry in 2 a wkly comp to win FA Cup fina...</td>\n",
       "    </tr>\n",
       "    <tr>\n",
       "      <th>3</th>\n",
       "      <td>ham</td>\n",
       "      <td>U dun say so early hor... U c already then say...</td>\n",
       "    </tr>\n",
       "    <tr>\n",
       "      <th>4</th>\n",
       "      <td>ham</td>\n",
       "      <td>Nah I don't think he goes to usf, he lives aro...</td>\n",
       "    </tr>\n",
       "  </tbody>\n",
       "</table>\n",
       "</div>"
      ],
      "text/plain": [
       "  Category                                            Message\n",
       "0      ham  Go until jurong point, crazy.. Available only ...\n",
       "1      ham                      Ok lar... Joking wif u oni...\n",
       "2     spam  Free entry in 2 a wkly comp to win FA Cup fina...\n",
       "3      ham  U dun say so early hor... U c already then say...\n",
       "4      ham  Nah I don't think he goes to usf, he lives aro..."
      ]
     },
     "execution_count": 18,
     "metadata": {},
     "output_type": "execute_result"
    }
   ],
   "source": [
    "import numpy as np\n",
    "import pandas as pd\n",
    "from sklearn.model_selection import train_test_split\n",
    "from sklearn.feature_extraction.text import TfidfVectorizer\n",
    "from sklearn.linear_model import LogisticRegression\n",
    "from sklearn.ensemble import RandomForestClassifier\n",
    "from sklearn.metrics import (accuracy_score, precision_score, recall_score, f1_score, confusion_matrix)\n",
    "from sklearn.naive_bayes import MultinomialNB\n",
    "RANDOM_STATE = 42 \n",
    "\n",
    "\n",
    "#load the dataset\n",
    "df = pd.read_csv(\"mail_l7_dataset.csv\")\n",
    "\n",
    "df.head()"
   ]
  },
  {
   "cell_type": "code",
   "execution_count": 5,
   "id": "a70773a5-e5d4-49ac-b02c-415709dd92f1",
   "metadata": {},
   "outputs": [],
   "source": [
    "df = df.where(pd.notnull(df), \"\")\n"
   ]
  },
  {
   "cell_type": "code",
   "execution_count": 6,
   "id": "1eb6846a-ed80-4dfa-9d00-0bcc60a35420",
   "metadata": {},
   "outputs": [
    {
     "name": "stdout",
     "output_type": "stream",
     "text": [
      "  Category                                            Message\n",
      "0        1  Go until jurong point, crazy.. Available only ...\n",
      "1        1                      Ok lar... Joking wif u oni...\n",
      "2        0  Free entry in 2 a wkly comp to win FA Cup fina...\n",
      "3        1  U dun say so early hor... U c already then say...\n",
      "4        1  Nah I don't think he goes to usf, he lives aro...\n"
     ]
    }
   ],
   "source": [
    "#3encoding ham=1 spam=0;\n",
    "df.loc[df[\"Category\"].str.lower().str.strip() == \"spam\", \"Category\"] = 0\n",
    "df.loc[df[\"Category\"].str.lower().str.strip() == \"ham\",  \"Category\"] = 1\n",
    "\n",
    "print(df.head())"
   ]
  },
  {
   "cell_type": "code",
   "execution_count": 10,
   "id": "3155aa17-5b15-466c-b5f1-8173f7381c53",
   "metadata": {},
   "outputs": [
    {
     "name": "stdout",
     "output_type": "stream",
     "text": [
      " the size \n",
      "Train: 4457  | Test: 1115\n"
     ]
    }
   ],
   "source": [
    " #4 Split features (X) and target (y)\n",
    "X = df[\"Message\"].astype(str)\n",
    "y = df[\"Category\"].astype(int)\n",
    "\n",
    "X_train, X_test, y_train, y_test = train_test_split(\n",
    "    X, y, test_size=0.2, random_state=RANDOM_STATE\n",
    ")\n",
    "\n",
    "print(\" the size \")\n",
    "print(\"Train:\", X_train.shape[0], \" | Test:\", X_test.shape[0])\n"
   ]
  },
  {
   "cell_type": "code",
   "execution_count": 12,
   "id": "21d710b5-9c47-49c2-8319-c9a2366e3359",
   "metadata": {},
   "outputs": [
    {
     "name": "stdout",
     "output_type": "stream",
     "text": [
      "X_train: (4457, 3322)\n",
      "X_test: (1115, 3322)\n"
     ]
    }
   ],
   "source": [
    "\n",
    "tfidf = TfidfVectorizer(min_df=1, stop_words='english', lowercase=True)\n",
    "\n",
    "X_test_features = tfidf.fit_transform(X_test)\n",
    "X_train_features = tfidf.transform(X_train)\n",
    "\n",
    "print(\"X_train:\", X_train_features.shape) \n",
    "print(\"X_test:\", X_test_features.shape)"
   ]
  },
  {
   "cell_type": "code",
   "execution_count": 24,
   "id": "27a13bac-e4a7-4f91-851a-5502edd945bf",
   "metadata": {},
   "outputs": [
    {
     "name": "stdout",
     "output_type": "stream",
     "text": [
      "[1 1 1 ... 1 1 1]\n"
     ]
    }
   ],
   "source": [
    "#Train Logistic Regression,random forest,MultinomialNB\n",
    "\n",
    "lr = LogisticRegression(max_iter=1000, random_state=RANDOM_STATE)\n",
    "lr.fit(X_train_features, y_train)\n",
    "lr_pred = lr.predict(X_test_features)\n",
    "\n",
    "rf = RandomForestClassifier(n_estimators=200, random_state=RANDOM_STATE)\n",
    "rf.fit(X_train_features, y_train)\n",
    "rf_pred = rf.predict(X_test_features.toarray())\n",
    "\n",
    "nb = MultinomialNB()\n",
    "nb.fit(X_train_features, y_train)\n",
    "nb_pred = nb.predict(X_test_features)\n",
    "\n",
    "print(nb_pred)\n"
   ]
  },
  {
   "cell_type": "code",
   "execution_count": 26,
   "id": "a45e5ac0-27e0-49c8-9f67-25ff8057bd56",
   "metadata": {},
   "outputs": [
    {
     "name": "stdout",
     "output_type": "stream",
     "text": [
      "\n",
      "Logistic Regression Performance:\n",
      "  Accuracy : 0.956\n",
      "  Precision: 1.000  (positive = spam=0)\n",
      "  Recall   : 0.671  (positive = spam=0)\n",
      "  F1-Score : 0.803  (positive = spam=0)\n",
      "\n",
      "Random Forest Performance:\n",
      "  Accuracy : 0.984\n",
      "  Precision: 1.000  (positive = spam=0)\n",
      "  Recall   : 0.879  (positive = spam=0)\n",
      "  F1-Score : 0.936  (positive = spam=0)\n",
      "\n",
      "Naive Bayes Performance:\n",
      "  Accuracy : 0.986\n",
      "  Precision: 0.978  (positive = spam=0)\n",
      "  Recall   : 0.913  (positive = spam=0)\n",
      "  F1-Score : 0.944  (positive = spam=0)\n"
     ]
    }
   ],
   "source": [
    "\n",
    "def print_clf_metrics(name, y_true, y_pred, pos_label=0):\n",
    "    acc  = accuracy_score(y_true, y_pred)\n",
    "    prec = precision_score(y_true, y_pred, pos_label=pos_label)\n",
    "    rec  = recall_score(y_true, y_pred, pos_label=pos_label)\n",
    "    f1   = f1_score(y_true, y_pred, pos_label=pos_label)\n",
    "    print(f\"\\n{name} Performance:\")\n",
    "    print(f\"  Accuracy : {acc:.3f}\")\n",
    "    print(f\"  Precision: {prec:.3f}  (positive = spam=0)\")\n",
    "    print(f\"  Recall   : {rec:.3f}  (positive = spam=0)\")\n",
    "    print(f\"  F1-Score : {f1:.3f}  (positive = spam=0)\")\n",
    "\n",
    "print_clf_metrics(\"Logistic Regression\", y_test, lr_pred)\n",
    "print_clf_metrics(\"Random Forest\", y_test, rf_pred)\n",
    "print_clf_metrics(\"Naive Bayes\", y_test, nb_pred)\n"
   ]
  },
  {
   "cell_type": "code",
   "execution_count": null,
   "id": "e9ac04df-0e6d-44fa-8767-6659fa7e5748",
   "metadata": {},
   "outputs": [],
   "source": []
  },
  {
   "cell_type": "code",
   "execution_count": 27,
   "id": "279e50cc-2316-411c-bc33-79bc909a7390",
   "metadata": {},
   "outputs": [
    {
     "name": "stdout",
     "output_type": "stream",
     "text": [
      "\n",
      "Logistic Regression – Confusion Matrix:\n",
      "                  Pred: Ham (1)  Pred: Spam (0)\n",
      "Actual: Ham (1)             100              49\n",
      "Actual: Spam (0)              0             966\n",
      "\n",
      "Random Forest – Confusion Matrix:\n",
      "                  Pred: Ham (1)  Pred: Spam (0)\n",
      "Actual: Ham (1)             131              18\n",
      "Actual: Spam (0)              0             966\n",
      "\n",
      "Naive Bayes – Confusion Matrix:\n",
      "                  Pred: Ham (1)  Pred: Spam (0)\n",
      "Actual: Ham (1)             136              13\n",
      "Actual: Spam (0)              3             963\n"
     ]
    }
   ],
   "source": [
    "def print_confmat (name, y_true, y_pred):\n",
    "    cm = confusion_matrix(y_true, y_pred)\n",
    "    cm_df = pd.DataFrame(cm,\n",
    "        index   = [\"Actual: Ham (1)\",  \"Actual: Spam (0)\"],\n",
    "        columns = [\"Pred: Ham (1)\",    \"Pred: Spam (0)\"]\n",
    "    )\n",
    "    print(f\"\\n{name} – Confusion Matrix:\\n{cm_df}\")\n",
    "\n",
    "print_confmat(\"Logistic Regression\", y_test, lr_pred)\n",
    "print_confmat(\"Random Forest\", y_test, rf_pred)\n",
    "print_confmat(\"Naive Bayes\", y_test, nb_pred)\n",
    "    "
   ]
  },
  {
   "cell_type": "code",
   "execution_count": null,
   "id": "01bcd3df-a526-48ea-9a39-e73336d9ad0b",
   "metadata": {},
   "outputs": [],
   "source": []
  },
  {
   "cell_type": "code",
   "execution_count": 30,
   "id": "4a00a102-1498-4572-bfe4-83dd0a5a2f9a",
   "metadata": {},
   "outputs": [
    {
     "name": "stdout",
     "output_type": "stream",
     "text": [
      "Text snippet: FREE RINGTONE text FIRST to 87131 for a poly or text GET to 87131 for a true tone! Help? 0845 2814032 16 after 1st free, tones are 3x£150pw to e£nd txt stop\n",
      "Actual      : Spam (0)\n",
      "LR Pred     : Spam (0)\n",
      "RF Pred     : Spam (0)\n",
      "NB Pred     : Spam (0)\n"
     ]
    }
   ],
   "source": [
    "\n",
    "sample_index = 14\n",
    "\n",
    "sample_text = X_test.iloc[sample_index]\n",
    "true_label  = y_test.iloc[sample_index]\n",
    "\n",
    "lr_pred_one = int(lr.predict(tfidf.transform([sample_text]))[0])\n",
    "rf_pred_one = int(rf.predict(tfidf.transform([sample_text]).toarray())[0])\n",
    "nb_pred_one = int(nb.predict(tfidf.transform([sample_text]))[0])\n",
    "\n",
    "def lab2str(v):  \n",
    "    return \"Spam (0)\" if v == 0 else \"Ham (1)\"\n",
    "\n",
    "snippet = (sample_text[:160] + \"...\") if len(sample_text) > 160 else sample_text\n",
    "\n",
    "print(\"Text snippet:\", snippet)\n",
    "print(\"Actual      :\", lab2str(true_label))\n",
    "print(\"LR Pred     :\", lab2str(lr_pred_one))\n",
    "print(\"RF Pred     :\", lab2str(rf_pred_one))\n",
    "print(\"NB Pred     :\", lab2str(nb_pred_one))\n"
   ]
  },
  {
   "cell_type": "code",
   "execution_count": null,
   "id": "604a4f05-b043-4a0d-a2e2-3ba0bd18dfa7",
   "metadata": {},
   "outputs": [],
   "source": []
  }
 ],
 "metadata": {
  "kernelspec": {
   "display_name": "Python 3 (ipykernel)",
   "language": "python",
   "name": "python3"
  },
  "language_info": {
   "codemirror_mode": {
    "name": "ipython",
    "version": 3
   },
   "file_extension": ".py",
   "mimetype": "text/x-python",
   "name": "python",
   "nbconvert_exporter": "python",
   "pygments_lexer": "ipython3",
   "version": "3.13.5"
  }
 },
 "nbformat": 4,
 "nbformat_minor": 5
}
