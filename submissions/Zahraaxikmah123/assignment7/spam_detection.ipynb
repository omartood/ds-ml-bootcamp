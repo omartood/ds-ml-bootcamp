{
 "cells": [
  {
   "cell_type": "code",
   "execution_count": 5,
   "id": "648baefe",
   "metadata": {},
   "outputs": [],
   "source": [
    "# Imports and Setup\n",
    "import numpy as np\n",
    "import pandas as pd\n",
    "\n",
    "from sklearn.model_selection import train_test_split\n",
    "from sklearn.feature_extraction.text import TfidfVectorizer\n",
    "\n",
    "from sklearn.linear_model import LogisticRegression\n",
    "from sklearn.ensemble import RandomForestClassifier\n",
    "from sklearn.naive_bayes import MultinomialNB\n",
    "\n",
    "from sklearn.metrics import (\n",
    "    accuracy_score, precision_score, recall_score, f1_score, confusion_matrix\n",
    ")\n",
    "\n",
    "RANDOM_STATE = 42  # For reproducibility"
   ]
  },
  {
   "cell_type": "code",
   "execution_count": null,
   "id": "816aa863",
   "metadata": {},
   "outputs": [],
   "source": [
    "# Load and Clean Dataset\n",
    "# Expected columns: \"Category\" (ham/spam), \"Message\" (text)\n",
    "df = pd.read_csv(\"mail_l7_dataset.csv\")\n",
    "\n",
    "# Basic cleaning: replace NaNs with empty strings.\n",
    "df = df.where(pd.notnull(df), \"\")\n",
    "\n",
    "# Encode labels: spam -> 0, ham -> 1 \n",
    "df.loc[df[\"Category\"].str.lower().str.strip() == \"spam\", \"Category\"] = 0\n",
    "df.loc[df[\"Category\"].str.lower().str.strip() == \"ham\",  \"Category\"] = 1\n",
    "\n",
    "df.head()"
   ]
  },
  {
   "cell_type": "code",
   "execution_count": 8,
   "id": "1984cd1f",
   "metadata": {},
   "outputs": [],
   "source": [
    "# Split features (X) and target (y)\n",
    "X = df[\"Message\"].astype(str)\n",
    "y = df[\"Category\"].astype(int)"
   ]
  },
  {
   "cell_type": "code",
   "execution_count": 9,
   "id": "9dda846c",
   "metadata": {},
   "outputs": [
    {
     "name": "stdout",
     "output_type": "stream",
     "text": [
      "=== SPLIT SIZES ===\n",
      "Train: 4457  | Test: 1115\n"
     ]
    }
   ],
   "source": [
    "# Train/test split (stratified)\n",
    "X_train, X_test, y_train, y_test = train_test_split(\n",
    "    X, y, test_size=0.2, random_state=RANDOM_STATE\n",
    ")\n",
    "\n",
    "print(\"=== SPLIT SIZES ===\")\n",
    "print(\"Train:\", X_train.shape[0], \" | Test:\", X_test.shape[0])"
   ]
  },
  {
   "cell_type": "code",
   "execution_count": 10,
   "id": "ca1c7424",
   "metadata": {},
   "outputs": [
    {
     "name": "stdout",
     "output_type": "stream",
     "text": [
      "\n",
      "=== TF-IDF SHAPES ===\n",
      "X_train: (4457, 7440)  | X_test: (1115, 7440)\n"
     ]
    }
   ],
   "source": [
    "# Text → TF-IDF features\n",
    "tfidf = TfidfVectorizer(min_df=1, stop_words=\"english\", lowercase=True)\n",
    "X_train_features = tfidf.fit_transform(X_train)\n",
    "X_test_features  = tfidf.transform(X_test)\n",
    "\n",
    "print(\"\\n=== TF-IDF SHAPES ===\")\n",
    "print(\"X_train:\", X_train_features.shape, \" | X_test:\", X_test_features.shape)"
   ]
  },
  {
   "cell_type": "code",
   "execution_count": 11,
   "id": "a6fa4810",
   "metadata": {},
   "outputs": [],
   "source": [
    "# Train Logistic Regression (baseline)\n",
    "lr = LogisticRegression(max_iter=1000, random_state=RANDOM_STATE)\n",
    "lr.fit(X_train_features, y_train)\n",
    "lr_pred = lr.predict(X_test_features)"
   ]
  },
  {
   "cell_type": "code",
   "execution_count": 12,
   "id": "df7e801e",
   "metadata": {},
   "outputs": [],
   "source": [
    "# Train Random Forest (advanced)\n",
    "rf = RandomForestClassifier(n_estimators=200, random_state=RANDOM_STATE)\n",
    "rf.fit(X_train_features, y_train)\n",
    "rf_pred = rf.predict(X_test_features.toarray())\n",
    "# Note: convert sparse matrix to dense with .toarray() for RF"
   ]
  },
  {
   "cell_type": "code",
   "execution_count": 27,
   "id": "c5435752",
   "metadata": {},
   "outputs": [],
   "source": [
    "# Train Naive Bayes (alternative)\n",
    "nb = MultinomialNB()\n",
    "nb.fit(X_train_features, y_train)\n",
    "nb_pred = nb.predict(X_test_features)"
   ]
  },
  {
   "cell_type": "code",
   "execution_count": 30,
   "id": "98c947f8",
   "metadata": {},
   "outputs": [],
   "source": [
    "# Helper function: Print main metrics\n",
    "def print_metrics(model_name, y_true, y_pred):\n",
    "    print(f\"\\n{model_name} Performance:\")\n",
    "    print(\"Accuracy :\", accuracy_score(y_true, y_pred))\n",
    "    print(\"Precision:\", precision_score(y_true, y_pred, pos_label=0))\n",
    "    print(\"Recall   :\", recall_score(y_true, y_pred, pos_label=0))\n",
    "    print(\"F1-score :\", f1_score(y_true, y_pred, pos_label=0))\n",
    "\n",
    "# Helper function: Print confusion matrix\n",
    "def show_confusion(model_name, y_true, y_pred):\n",
    "    cm = confusion_matrix(y_true, y_pred, labels=[1, 0])\n",
    "    print(f\"\\n{model_name} Confusion Matrix:\")\n",
    "    print(pd.DataFrame(\n",
    "        cm,\n",
    "        index=[\"Actual: Ham (1)\", \"Actual: Spam (0)\"],\n",
    "        columns=[\"Pred: Ham (1)\", \"Pred: Spam (0)\"]\n",
    "    ))"
   ]
  },
  {
   "cell_type": "code",
   "execution_count": 31,
   "id": "80afae68",
   "metadata": {},
   "outputs": [
    {
     "name": "stdout",
     "output_type": "stream",
     "text": [
      "\n",
      "Logistic Regression Performance:\n",
      "Accuracy : 0.967713004484305\n",
      "Precision: 1.0\n",
      "Recall   : 0.7583892617449665\n",
      "F1-score : 0.8625954198473282\n",
      "\n",
      "Logistic Regression Confusion Matrix:\n",
      "                  Pred: Ham (1)  Pred: Spam (0)\n",
      "Actual: Ham (1)             966               0\n",
      "Actual: Spam (0)             36             113\n",
      "\n",
      "Random Forest Performance:\n",
      "Accuracy : 0.9829596412556054\n",
      "Precision: 1.0\n",
      "Recall   : 0.87248322147651\n",
      "F1-score : 0.931899641577061\n",
      "\n",
      "Random Forest Confusion Matrix:\n",
      "                  Pred: Ham (1)  Pred: Spam (0)\n",
      "Actual: Ham (1)             966               0\n",
      "Actual: Spam (0)             19             130\n",
      "\n",
      "Naive Bayes Performance:\n",
      "Accuracy : 0.9766816143497757\n",
      "Precision: 1.0\n",
      "Recall   : 0.825503355704698\n",
      "F1-score : 0.9044117647058824\n",
      "\n",
      "Naive Bayes Confusion Matrix:\n",
      "                  Pred: Ham (1)  Pred: Spam (0)\n",
      "Actual: Ham (1)             966               0\n",
      "Actual: Spam (0)             26             123\n"
     ]
    }
   ],
   "source": [
    "# Show results for all models\n",
    "print_metrics(\"Logistic Regression\", y_test, lr_pred)\n",
    "show_confusion(\"Logistic Regression\", y_test, lr_pred)\n",
    "\n",
    "print_metrics(\"Random Forest\", y_test, rf_pred)\n",
    "show_confusion(\"Random Forest\", y_test, rf_pred)\n",
    "\n",
    "print_metrics(\"Naive Bayes\", y_test, nb_pred)\n",
    "show_confusion(\"Naive Bayes\", y_test, nb_pred)\n"
   ]
  },
  {
   "cell_type": "code",
   "execution_count": 33,
   "id": "43f2a353",
   "metadata": {},
   "outputs": [
    {
     "name": "stdout",
     "output_type": "stream",
     "text": [
      "\n",
      "=== SAMPLE MESSAGE PREDICTIONS ===\n",
      "Text snippet: Free entry in 2 a weekly competition!\n",
      "LR Pred     : Ham (1)\n",
      "RF Pred     : Ham (1)\n",
      "NB Pred     : Spam (0)\n",
      "---\n",
      "Text snippet: I will meet you at the cafe tomorrow\n",
      "LR Pred     : Ham (1)\n",
      "RF Pred     : Ham (1)\n",
      "NB Pred     : Ham (1)\n",
      "---\n",
      "Text snippet: Congratulations, you won a free ticket\n",
      "LR Pred     : Ham (1)\n",
      "RF Pred     : Ham (1)\n",
      "NB Pred     : Ham (1)\n",
      "---\n",
      "Text snippet: You have been selected for a $1000 gift card. Claim now!\n",
      "LR Pred     : Spam (0)\n",
      "RF Pred     : Spam (0)\n",
      "NB Pred     : Spam (0)\n",
      "---\n"
     ]
    }
   ],
   "source": [
    "# Single-message sanity check (sample predictions)\n",
    "samples = [\n",
    "    \"Free entry in 2 a weekly competition!\",\n",
    "    \"I will meet you at the cafe tomorrow\",\n",
    "    \"Congratulations, you won a free ticket\",\n",
    "    \"You have been selected for a $1000 gift card. Claim now!\"\n",
    "]\n",
    "def lab2str(v):  # readable output\n",
    "    return \"Spam (0)\" if v == 0 else \"Ham (1)\"\n",
    "\n",
    "print(\"\\n=== SAMPLE MESSAGE PREDICTIONS ===\")\n",
    "for text in samples:\n",
    "    print(\"Text snippet:\", text)\n",
    "    print(\"LR Pred     :\", lab2str(int(lr.predict(tfidf.transform([text]))[0])))\n",
    "    print(\"RF Pred     :\", lab2str(int(rf.predict(tfidf.transform([text]).toarray())[0])))\n",
    "    print(\"NB Pred     :\", lab2str(int(nb.predict(tfidf.transform([text]))[0])))\n",
    "    print(\"---\")"
   ]
  }
 ],
 "metadata": {
  "kernelspec": {
   "display_name": ".venv",
   "language": "python",
   "name": "python3"
  },
  "language_info": {
   "codemirror_mode": {
    "name": "ipython",
    "version": 3
   },
   "file_extension": ".py",
   "mimetype": "text/x-python",
   "name": "python",
   "nbconvert_exporter": "python",
   "pygments_lexer": "ipython3",
   "version": "3.12.3"
  }
 },
 "nbformat": 4,
 "nbformat_minor": 5
}
