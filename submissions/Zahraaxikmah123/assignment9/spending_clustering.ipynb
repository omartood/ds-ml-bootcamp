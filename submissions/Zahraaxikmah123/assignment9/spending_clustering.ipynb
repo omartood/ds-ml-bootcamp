{
 "cells": [
  {
   "cell_type": "code",
   "execution_count": 1,
   "id": "c7446e97",
   "metadata": {},
   "outputs": [],
   "source": [
    "# Imports and Setup\n",
    "import pandas as pd\n",
    "from sklearn.cluster import KMeans\n",
    "from sklearn.preprocessing import StandardScaler\n",
    "from sklearn.metrics import silhouette_score, davies_bouldin_score"
   ]
  },
  {
   "cell_type": "code",
   "execution_count": 2,
   "id": "e8935a72",
   "metadata": {},
   "outputs": [
    {
     "name": "stdout",
     "output_type": "stream",
     "text": [
      "Initial snapshot of the dataset:\n",
      "   CustomerID  Age  Income_$  SpendingScore  VisitsPerMonth  OnlinePurchases  \\\n",
      "0           1   28        33             78              14                9   \n",
      "1           2   21        25             87               8               23   \n",
      "2           3   23        24             88              13               10   \n",
      "3           4   24        25             73              16               11   \n",
      "4           5   20        23             88              17               16   \n",
      "\n",
      "   Gender Region  \n",
      "0  Female   East  \n",
      "1    Male  North  \n",
      "2    Male  South  \n",
      "3  Female   West  \n",
      "4    Male   West  \n"
     ]
    }
   ],
   "source": [
    "# Data Loading\n",
    "df = pd.read_csv(\"spending_l9_dataset.csv\")\n",
    "print(\"Initial snapshot of the dataset:\")\n",
    "print(df.head())"
   ]
  },
  {
   "cell_type": "code",
   "execution_count": 3,
   "id": "3a1016e5",
   "metadata": {},
   "outputs": [
    {
     "name": "stdout",
     "output_type": "stream",
     "text": [
      "\n",
      "Feature information for clustering:\n",
      "<class 'pandas.core.frame.DataFrame'>\n",
      "RangeIndex: 200 entries, 0 to 199\n",
      "Data columns (total 2 columns):\n",
      " #   Column         Non-Null Count  Dtype\n",
      "---  ------         --------------  -----\n",
      " 0   Income_$       200 non-null    int64\n",
      " 1   SpendingScore  200 non-null    int64\n",
      "dtypes: int64(2)\n",
      "memory usage: 3.3 KB\n",
      "None\n",
      "\n",
      "First few rows of selected features:\n",
      "   Income_$  SpendingScore\n",
      "0        33             78\n",
      "1        25             87\n",
      "2        24             88\n",
      "3        25             73\n",
      "4        23             88\n"
     ]
    }
   ],
   "source": [
    "# Feature Selection and Missing Value Handling\n",
    "FEATURES = [\"Income_$\", \"SpendingScore\"]\n",
    "X = df[FEATURES].copy()\n",
    "print(\"\\nFeature information for clustering:\")\n",
    "print(X.info())\n",
    "\n",
    "X = X.fillna(X.median(numeric_only=True))\n",
    "print(\"\\nFirst few rows of selected features:\")\n",
    "print(X.head())"
   ]
  },
  {
   "cell_type": "code",
   "execution_count": 4,
   "id": "56fac867",
   "metadata": {},
   "outputs": [
    {
     "name": "stdout",
     "output_type": "stream",
     "text": [
      "\n",
      "Shape of scaled features: (200, 2)\n"
     ]
    }
   ],
   "source": [
    "# Feature Scaling\n",
    "scaler = StandardScaler()\n",
    "X_scaled = scaler.fit_transform(X)\n",
    "print(\"\\nShape of scaled features:\", X_scaled.shape)"
   ]
  },
  {
   "cell_type": "code",
   "execution_count": 5,
   "id": "b86732db",
   "metadata": {},
   "outputs": [
    {
     "name": "stdout",
     "output_type": "stream",
     "text": [
      "\n",
      "SSE values for different k (Elbow Method):\n",
      "k=1 → SSE=400.00\n",
      "k=2 → SSE=199.70\n",
      "k=3 → SSE=79.37\n",
      "k=4 → SSE=21.37\n",
      "k=5 → SSE=19.09\n",
      "k=6 → SSE=15.65\n",
      "k=7 → SSE=14.48\n",
      "k=8 → SSE=13.81\n",
      "k=9 → SSE=12.94\n",
      "k=10 → SSE=11.52\n"
     ]
    }
   ],
   "source": [
    "# Elbow Method (SSE for k=1..10)\n",
    "def print_sse(X_scaled, max_k=10):\n",
    "    print(\"\\nSSE values for different k (Elbow Method):\")\n",
    "    sse = []\n",
    "    for k in range(1, max_k+1):\n",
    "        km = KMeans(n_clusters=k, n_init=\"auto\", random_state=42)\n",
    "        km.fit(X_scaled)\n",
    "        sse.append(km.inertia_)\n",
    "        print(f\"k={k} → SSE={km.inertia_:.2f}\")\n",
    "    return sse\n",
    "\n",
    "sse_list = print_sse(X_scaled)"
   ]
  },
  {
   "cell_type": "code",
   "execution_count": 7,
   "id": "8b75c78b",
   "metadata": {},
   "outputs": [
    {
     "name": "stdout",
     "output_type": "stream",
     "text": [
      "\n",
      "Sample of customers with their assigned clusters:\n",
      "    CustomerID  Age  Income_$  SpendingScore  VisitsPerMonth  OnlinePurchases  \\\n",
      "0            1   28        33             78              14                9   \n",
      "1            2   21        25             87               8               23   \n",
      "2            3   23        24             88              13               10   \n",
      "3            4   24        25             73              16               11   \n",
      "4            5   20        23             88              17               16   \n",
      "5            6   23        22             80              19               21   \n",
      "6            7   22        16             96               9               19   \n",
      "7            8   18        26             86              16               22   \n",
      "8            9   26        23             98              17               15   \n",
      "9           10   24        29             81              16               17   \n",
      "10          11   21        22             82              11               12   \n",
      "11          12   22        14             87              15               16   \n",
      "12          13   24        23             93              19               20   \n",
      "13          14   22        32             89               9               16   \n",
      "14          15   22        22             75              15               20   \n",
      "15          16   18        19             86              17               15   \n",
      "16          17   24        18             85              11               15   \n",
      "17          18   23        18             81              15               18   \n",
      "18          19   23        22             79              10               17   \n",
      "19          20   18        18             98              11               20   \n",
      "20          21   27        31             81              11               18   \n",
      "21          22   23        22             78              14               26   \n",
      "22          23   21        24             90              13               16   \n",
      "23          24   29        31             86              16               16   \n",
      "24          25   22        31             84              11               12   \n",
      "25          26   18        22             91              13               18   \n",
      "26          27   21        25             88              16               21   \n",
      "27          28   18        27             87              15               14   \n",
      "28          29   26        23             92              10               17   \n",
      "29          30   21        15             87              15               21   \n",
      "\n",
      "    Gender Region  Cluster  \n",
      "0   Female   East        2  \n",
      "1     Male  North        2  \n",
      "2     Male  South        2  \n",
      "3   Female   West        2  \n",
      "4     Male   West        2  \n",
      "5   Female   West        2  \n",
      "6   Female   West        2  \n",
      "7   Female   West        2  \n",
      "8     Male  South        2  \n",
      "9     Male   West        2  \n",
      "10  Female  South        2  \n",
      "11    Male   West        2  \n",
      "12  Female  South        2  \n",
      "13    Male   East        2  \n",
      "14  Female  South        2  \n",
      "15    Male   East        2  \n",
      "16    Male  South        2  \n",
      "17  Female  North        2  \n",
      "18    Male   East        2  \n",
      "19    Male   East        2  \n",
      "20  Female  South        2  \n",
      "21  Female  North        2  \n",
      "22  Female   East        2  \n",
      "23    Male   West        2  \n",
      "24  Female  South        2  \n",
      "25  Female  North        2  \n",
      "26  Female  North        2  \n",
      "27  Female  North        2  \n",
      "28    Male  North        2  \n",
      "29    Male  South        2  \n"
     ]
    }
   ],
   "source": [
    "# Fit K-Means with Chosen k and Assign Clusters\n",
    "K = 4\n",
    "kmeans = KMeans(n_clusters=K, n_init=\"auto\", random_state=42)\n",
    "labels = kmeans.fit_predict(X_scaled)\n",
    "df[\"Cluster\"] = labels.astype(int)\n",
    "print(\"\\nSample of customers with their assigned clusters:\")\n",
    "print(df.head(30))"
   ]
  },
  {
   "cell_type": "code",
   "execution_count": 8,
   "id": "744c576c",
   "metadata": {},
   "outputs": [
    {
     "name": "stdout",
     "output_type": "stream",
     "text": [
      "\n",
      "Number of customers in each cluster:\n",
      "Cluster\n",
      "0    50\n",
      "1    50\n",
      "2    50\n",
      "3    50\n",
      "Name: count, dtype: int64\n"
     ]
    }
   ],
   "source": [
    "# Print Cluster Sizes\n",
    "print(\"\\nNumber of customers in each cluster:\")\n",
    "print(df[\"Cluster\"].value_counts().sort_index())"
   ]
  },
  {
   "cell_type": "code",
   "execution_count": 9,
   "id": "42853f18",
   "metadata": {},
   "outputs": [
    {
     "name": "stdout",
     "output_type": "stream",
     "text": [
      "\n",
      "Silhouette Score: 0.7286 (higher is better)\n",
      "Davies-Bouldin Score: 0.3871 (lower is better)\n"
     ]
    }
   ],
   "source": [
    "# Evaluate Clustering\n",
    "sil_score = silhouette_score(X_scaled, labels)\n",
    "db_score  = davies_bouldin_score(X_scaled, labels)\n",
    "print(f\"\\nSilhouette Score: {sil_score:.4f} (higher is better)\")\n",
    "print(f\"Davies-Bouldin Score: {db_score:.4f} (lower is better)\")"
   ]
  },
  {
   "cell_type": "code",
   "execution_count": 10,
   "id": "65c3da4f",
   "metadata": {},
   "outputs": [
    {
     "name": "stdout",
     "output_type": "stream",
     "text": [
      "\n",
      "Cluster centers in original units:\n",
      "         Income_$  SpendingScore\n",
      "Cluster                         \n",
      "0           56.32          53.58\n",
      "1           28.92          19.60\n",
      "2           24.14          83.10\n",
      "3           99.16          79.24\n"
     ]
    }
   ],
   "source": [
    "# Cluster Centers (Original Units)\n",
    "centers_scaled = kmeans.cluster_centers_\n",
    "centers_original = scaler.inverse_transform(centers_scaled)\n",
    "centers_df = pd.DataFrame(centers_original, columns=FEATURES)\n",
    "centers_df.index.name = \"Cluster\"\n",
    "print(\"\\nCluster centers in original units:\")\n",
    "print(centers_df.round(2))"
   ]
  },
  {
   "cell_type": "code",
   "execution_count": 11,
   "id": "7f129321",
   "metadata": {},
   "outputs": [
    {
     "name": "stdout",
     "output_type": "stream",
     "text": [
      "\n",
      "Average feature values per cluster:\n",
      "         Income_$  SpendingScore\n",
      "Cluster                         \n",
      "0           56.32          53.58\n",
      "1           28.92          19.60\n",
      "2           24.14          83.10\n",
      "3           99.16          79.24\n"
     ]
    }
   ],
   "source": [
    "# Average Feature Values per Cluster (Summary)\n",
    "print(\"\\nAverage feature values per cluster:\")\n",
    "print(df.groupby(\"Cluster\")[FEATURES].mean().round(2))"
   ]
  },
  {
   "cell_type": "code",
   "execution_count": 12,
   "id": "af8f464d",
   "metadata": {},
   "outputs": [
    {
     "name": "stdout",
     "output_type": "stream",
     "text": [
      "\n",
      "Randomly selected customers and their clusters:\n",
      "     Income_$  SpendingScore  Cluster\n",
      "198       105             72        3\n",
      "8          23             98        2\n",
      "55         56             55        0\n"
     ]
    }
   ],
   "source": [
    "# Sanity Check (Random 3 Samples)\n",
    "print(\"\\nRandomly selected customers and their clusters:\")\n",
    "print(df.sample(3)[FEATURES + [\"Cluster\"]])"
   ]
  },
  {
   "cell_type": "code",
   "execution_count": 13,
   "id": "ea4dfce8",
   "metadata": {},
   "outputs": [
    {
     "name": "stdout",
     "output_type": "stream",
     "text": [
      "Saved clustered dataset to spending_labeled_clusters.csv\n"
     ]
    }
   ],
   "source": [
    "# Cell 11: Save Labeled Dataset\n",
    "df.to_csv(\"spending_labeled_clusters.csv\", index=False)\n",
    "print(\"Saved clustered dataset to spending_labeled_clusters.csv\")"
   ]
  }
 ],
 "metadata": {
  "kernelspec": {
   "display_name": ".venv",
   "language": "python",
   "name": "python3"
  },
  "language_info": {
   "codemirror_mode": {
    "name": "ipython",
    "version": 3
   },
   "file_extension": ".py",
   "mimetype": "text/x-python",
   "name": "python",
   "nbconvert_exporter": "python",
   "pygments_lexer": "ipython3",
   "version": "3.12.3"
  }
 },
 "nbformat": 4,
 "nbformat_minor": 5
}
