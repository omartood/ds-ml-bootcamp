{
 "cells": [
  {
   "cell_type": "code",
   "execution_count": 33,
   "id": "cb83b613-d725-4695-af80-e52f23c6b830",
   "metadata": {},
   "outputs": [],
   "source": [
    "\n",
    "import pandas as pd\n",
    "import numpy as np\n",
    "\n",
    "from sklearn.model_selection import train_test_split\n",
    "from sklearn.linear_model import LinearRegression\n",
    "from sklearn.ensemble import RandomForestRegressor\n",
    "from sklearn.metrics import mean_absolute_error, mean_squared_error, r2_score\n"
   ]
  },
  {
   "cell_type": "code",
   "execution_count": 34,
   "id": "bc6d7c47-be82-4218-8cdb-6af1116fbec0",
   "metadata": {},
   "outputs": [
    {
     "name": "stdout",
     "output_type": "stream",
     "text": [
      "Dataset shape: (99, 13)\n",
      "Columns: ['Size_sqft', 'Bedrooms', 'Bathrooms', 'YearBuilt', 'Price', 'Location_City', 'Location_Rural', 'Location_Suburb', 'HouseAge', 'Rooms_per_1000sqft', 'Size_per_Bedroom', 'Is_City', 'LogPrice']\n"
     ]
    }
   ],
   "source": [
    "CSV_PATH = \"../datasets/clean_house_l5_dataset.csv\"\n",
    "df = pd.read_csv(CSV_PATH)\n",
    "\n",
    "print(\"Dataset shape:\", df.shape)\n",
    "print(\"Columns:\", df.columns.tolist())"
   ]
  },
  {
   "cell_type": "code",
   "execution_count": 35,
   "id": "b7e02b6f-6081-4a9b-a902-98de4fe0f33b",
   "metadata": {},
   "outputs": [],
   "source": [
    "drop_cols = [\"Price\"]\n",
    "if \"LogPrice\" in df.columns:\n",
    "    drop_cols.append(\"LogPrice\")\n",
    "\n",
    "X = df.drop(columns=drop_cols)\n",
    "y = df[\"Price\"]"
   ]
  },
  {
   "cell_type": "code",
   "execution_count": 36,
   "id": "6fb5010c-89f5-49af-94dc-f22e94caeadd",
   "metadata": {},
   "outputs": [],
   "source": [
    "X_train, X_test, y_train, y_test = train_test_split(\n",
    "    X, y, test_size=0.2, random_state=42\n",
    ")\n"
   ]
  },
  {
   "cell_type": "code",
   "execution_count": 37,
   "id": "c8187bcd-219a-490b-8c93-2286a9b675de",
   "metadata": {},
   "outputs": [],
   "source": [
    "lr = LinearRegression()\n",
    "lr.fit(X_train, y_train)\n",
    "lr_pred = lr.predict(X_test)"
   ]
  },
  {
   "cell_type": "code",
   "execution_count": 38,
   "id": "ed661094-375d-431b-8f1f-4d4eb64a57fe",
   "metadata": {},
   "outputs": [],
   "source": [
    "rf = RandomForestRegressor(n_estimators=100, random_state=42)\n",
    "rf.fit(X_train, y_train)\n",
    "rf_pred = rf.predict(X_test)"
   ]
  },
  {
   "cell_type": "code",
   "execution_count": 39,
   "id": "4eac6296-d223-46dc-87a6-afdf20f22090",
   "metadata": {},
   "outputs": [],
   "source": [
    "def print_metrics(name, y_true, y_pred):\n",
    "    r2  = r2_score(y_true, y_pred)\n",
    "    mae = mean_absolute_error(y_true, y_pred)\n",
    "    mse = mean_squared_error(y_true, y_pred)\n",
    "    rmse = np.sqrt(mse)\n",
    "    print(f\"\\n{name} Performance:\")\n",
    "    print(f\"  R²   : {r2:.2f}\")     \n",
    "    print(f\"  MAE  : {mae:,.0f}\")\n",
    "    # Eng MSE madan soo dawicin Expected Output marka nasinaysay\n",
    "    # print(f\"  MSE  : {mse:,.0f}\")\n",
    "    print(f\"  RMSE : {rmse:,.0f}\")"
   ]
  },
  {
   "cell_type": "code",
   "execution_count": 40,
   "id": "c93fe4e6-29c0-4e04-bad5-54237f844df5",
   "metadata": {},
   "outputs": [
    {
     "name": "stdout",
     "output_type": "stream",
     "text": [
      "\n",
      "Linear Regression Performance:\n",
      "  R²   : 0.85\n",
      "  MAE  : 63,086\n",
      "  RMSE : 75,624\n",
      "\n",
      "Random Forest Performance:\n",
      "  R²   : 0.86\n",
      "  MAE  : 52,524\n",
      "  RMSE : 72,686\n"
     ]
    }
   ],
   "source": [
    "print_metrics(\"Linear Regression\", y_test, lr_pred)\n",
    "print_metrics(\"Random Forest\",   y_test, rf_pred)"
   ]
  },
  {
   "cell_type": "code",
   "execution_count": 41,
   "id": "d069f641-4823-4dfd-a96d-e73498e915e4",
   "metadata": {},
   "outputs": [],
   "source": [
    "i = 3\n",
    "x_one_df = X_test.iloc[[i]]\n",
    "y_true   = y_test.iloc[i]"
   ]
  },
  {
   "cell_type": "code",
   "execution_count": 42,
   "id": "587f788f-74b3-4509-8ba9-fb42d68b138d",
   "metadata": {},
   "outputs": [],
   "source": [
    "p_lr_one = float(lr.predict(x_one_df)[0])\n",
    "p_rf_one = float(rf.predict(x_one_df)[0])"
   ]
  },
  {
   "cell_type": "code",
   "execution_count": 43,
   "id": "6bd44a66-aa5c-400d-bd5c-405aab720824",
   "metadata": {},
   "outputs": [
    {
     "name": "stdout",
     "output_type": "stream",
     "text": [
      "\n",
      "Single-row sanity check:\n",
      "  Actual Price: $554,800\n",
      "  LR Pred     : $594,041\n",
      "  RF Pred     : $557,028\n"
     ]
    }
   ],
   "source": [
    "print(\"\\nSingle-row sanity check:\")\n",
    "print(f\"  Actual Price: ${y_true:,.0f}\")\n",
    "print(f\"  LR Pred     : ${p_lr_one:,.0f}\")\n",
    "print(f\"  RF Pred     : ${p_rf_one:,.0f}\")"
   ]
  },
  {
   "cell_type": "code",
   "execution_count": 44,
   "id": "469681c6-23f9-4490-af41-117cb6a6d102",
   "metadata": {},
   "outputs": [],
   "source": [
    "i = 6\n",
    "x_one_df = X_test.iloc[[i]]\n",
    "y_true   = y_test.iloc[i]\n",
    "\n",
    "p_lr_one = float(lr.predict(x_one_df)[0])\n",
    "p_rf_one = float(rf.predict(x_one_df)[0])"
   ]
  },
  {
   "cell_type": "code",
   "execution_count": 45,
   "id": "a23307cb-16ca-410a-bb12-c7413636477f",
   "metadata": {},
   "outputs": [
    {
     "name": "stdout",
     "output_type": "stream",
     "text": [
      "\n",
      "Single-row sanity check:\n",
      "  Actual Price: $367,500\n",
      "  LR Pred     : $444,366\n",
      "  RF Pred     : $396,774\n"
     ]
    }
   ],
   "source": [
    "print(\"\\nSingle-row sanity check:\")\n",
    "print(f\"  Actual Price: ${y_true:,.0f}\")\n",
    "print(f\"  LR Pred     : ${p_lr_one:,.0f}\")\n",
    "print(f\"  RF Pred     : ${p_rf_one:,.0f}\")"
   ]
  },
  {
   "cell_type": "code",
   "execution_count": 46,
   "id": "9cf55aff-9d90-4d5d-bc58-c8ca7c597bcd",
   "metadata": {},
   "outputs": [],
   "source": [
    "i = 9\n",
    "x_one_df = X_test.iloc[[i]]\n",
    "y_true   = y_test.iloc[i]\n",
    "\n",
    "p_lr_one = float(lr.predict(x_one_df)[0])\n",
    "p_rf_one = float(rf.predict(x_one_df)[0])"
   ]
  },
  {
   "cell_type": "code",
   "execution_count": 47,
   "id": "c12b6921-f61d-4205-9ec9-d3dd8bcf0646",
   "metadata": {},
   "outputs": [
    {
     "name": "stdout",
     "output_type": "stream",
     "text": [
      "\n",
      "Single-row sanity check:\n",
      "  Actual Price: $812,100\n",
      "  LR Pred     : $825,316\n",
      "  RF Pred     : $832,261\n"
     ]
    }
   ],
   "source": [
    "print(\"\\nSingle-row sanity check:\")\n",
    "print(f\"  Actual Price: ${y_true:,.0f}\")\n",
    "print(f\"  LR Pred     : ${p_lr_one:,.0f}\")\n",
    "print(f\"  RF Pred     : ${p_rf_one:,.0f}\")"
   ]
  },
  {
   "cell_type": "code",
   "execution_count": 48,
   "id": "f4728315-ea7b-4418-9b46-9a55cb2e6a5e",
   "metadata": {},
   "outputs": [],
   "source": [
    "i = 12\n",
    "x_one_df = X_test.iloc[[i]]\n",
    "y_true   = y_test.iloc[i]\n",
    "\n",
    "p_lr_one = float(lr.predict(x_one_df)[0])\n",
    "p_rf_one = float(rf.predict(x_one_df)[0])"
   ]
  },
  {
   "cell_type": "code",
   "execution_count": 49,
   "id": "76662780-c1c2-4e61-9a0b-c25d4fcddbc8",
   "metadata": {},
   "outputs": [
    {
     "name": "stdout",
     "output_type": "stream",
     "text": [
      "\n",
      "Single-row sanity check:\n",
      "  Actual Price: $345,900\n",
      "  LR Pred     : $420,031\n",
      "  RF Pred     : $393,837\n"
     ]
    }
   ],
   "source": [
    "print(\"\\nSingle-row sanity check:\")\n",
    "print(f\"  Actual Price: ${y_true:,.0f}\")\n",
    "print(f\"  LR Pred     : ${p_lr_one:,.0f}\")\n",
    "print(f\"  RF Pred     : ${p_rf_one:,.0f}\")"
   ]
  },
  {
   "cell_type": "code",
   "execution_count": null,
   "id": "054b8db0-0acb-4922-8fe6-007b08e814b8",
   "metadata": {},
   "outputs": [],
   "source": []
  }
 ],
 "metadata": {
  "kernelspec": {
   "display_name": "Python 3 (ipykernel)",
   "language": "python",
   "name": "python3"
  },
  "language_info": {
   "codemirror_mode": {
    "name": "ipython",
    "version": 3
   },
   "file_extension": ".py",
   "mimetype": "text/x-python",
   "name": "python",
   "nbconvert_exporter": "python",
   "pygments_lexer": "ipython3",
   "version": "3.13.5"
  }
 },
 "nbformat": 4,
 "nbformat_minor": 5
}
