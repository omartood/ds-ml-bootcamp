{
 "cells": [
  {
   "cell_type": "code",
   "execution_count": 2,
   "id": "dd3ff4e6-f967-4942-a119-1cf08a6c0b98",
   "metadata": {},
   "outputs": [
    {
     "name": "stdout",
     "output_type": "stream",
     "text": [
      "Asc Engrs  Omer Tood Sharfudiin\n"
     ]
    }
   ],
   "source": [
    "Eng1 =  \"Omer Tood\"\n",
    "Eng2 =\"Sharfudiin\"\n",
    "print(\"Asc Engrs \",Eng1, Eng2)"
   ]
  },
  {
   "cell_type": "code",
   "execution_count": null,
   "id": "e7b7f350-f1ac-4bb9-9cf3-35fec99f8de3",
   "metadata": {},
   "outputs": [],
   "source": []
  }
 ],
 "metadata": {
  "kernelspec": {
   "display_name": "Python 3 (ipykernel)",
   "language": "python",
   "name": "python3"
  },
  "language_info": {
   "codemirror_mode": {
    "name": "ipython",
    "version": 3
   },
   "file_extension": ".py",
   "mimetype": "text/x-python",
   "name": "python",
   "nbconvert_exporter": "python",
   "pygments_lexer": "ipython3",
   "version": "3.13.5"
  }
 },
 "nbformat": 4,
 "nbformat_minor": 5
}
