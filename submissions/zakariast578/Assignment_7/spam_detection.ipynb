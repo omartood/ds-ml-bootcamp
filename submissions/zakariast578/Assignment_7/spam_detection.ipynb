{
 "cells": [
  {
   "cell_type": "code",
   "execution_count": 1,
   "id": "be4f8534-7544-4969-9572-905a99f36a3e",
   "metadata": {},
   "outputs": [],
   "source": [
    "import pandas as pd \n",
    "import numpy as np \n",
    "\n",
    "from sklearn.model_selection import train_test_split\n",
    "from sklearn.feature_extraction.text import TfidfVectorizer\n",
    "\n",
    "from sklearn.linear_model import LogisticRegression\n",
    "from sklearn.ensemble import RandomForestClassifier\n",
    "from sklearn.naive_bayes import MultinomialNB\n",
    "\n",
    "from sklearn.metrics import (\n",
    "    accuracy_score, precision_score, recall_score, f1_score, confusion_matrix\n",
    ")\n"
   ]
  },
  {
   "cell_type": "code",
   "execution_count": 2,
   "id": "0456ef35-4fce-487c-b48b-fe133a699f53",
   "metadata": {},
   "outputs": [],
   "source": [
    "df = pd.read_csv(\"mail_l7_dataset.csv\")\n",
    "# print(df.head())\n",
    "# print(df.shape)\n",
    "# print(df.isnull().sum())\n",
    "\n",
    "# Basic cleaning: replace NaNs with empty strings (text models can't handle NaN)\n",
    "df = df.fillna('')\n",
    "# print(df.isnull().sum())\n",
    "\n",
    "# print(df['Category'].value_counts())"
   ]
  },
  {
   "cell_type": "code",
   "execution_count": 3,
   "id": "8cfdf24f-4dd0-4591-8a14-46fa447c3a36",
   "metadata": {},
   "outputs": [],
   "source": [
    "# Encode labels: spam -> 0, ham -> 1  (keep your original convention)\n",
    "df.loc[df[\"Category\"].str.lower().str.strip() == \"spam\", \"Category\"] = 0\n",
    "df.loc[df[\"Category\"].str.lower().str.strip() == \"ham\",  \"Category\"] = 1\n",
    "\n",
    "df['Category'] = df['Category'].astype(int)\n",
    "# print(df['Category'].value_counts())\n",
    "\n",
    "# Split features (X) and target (y)\n",
    "X = df['Message'].astype(str)\n",
    "y = df['Category'].astype(int)\n",
    "# print(X.shape, y.shape)"
   ]
  },
  {
   "cell_type": "code",
   "execution_count": 4,
   "id": "781383bd-5d0d-4c37-891b-922199d516bb",
   "metadata": {},
   "outputs": [],
   "source": [
    "# Train/test split (stratified)\n",
    "x_train, x_test,y_train,y_test = train_test_split(\n",
    "    X, y, test_size=0.2, random_state=42\n",
    ")\n",
    "# print(x_train.shape, x_test.shape, y_train.shape, y_test.shape)"
   ]
  },
  {
   "cell_type": "code",
   "execution_count": 5,
   "id": "c786e28a-0834-4270-825c-b18e7e19b069",
   "metadata": {},
   "outputs": [],
   "source": [
    "# Text → TF-IDF features\n",
    "tfidf = TfidfVectorizer(min_df=1, stop_words='english', lowercase=True)\n",
    "x_train_tfidf = tfidf.fit_transform(x_train)\n",
    "x_test_tfidf = tfidf.transform(x_test)\n",
    "\n",
    "# print(x_train_tfidf.shape, x_test_tfidf.shape)"
   ]
  },
  {
   "cell_type": "code",
   "execution_count": 6,
   "id": "eaaedd24-5e09-4652-b8e5-79857cccff2f",
   "metadata": {},
   "outputs": [],
   "source": [
    "## Train Logistic Regression (baseline)\n",
    "logreg = LogisticRegression(max_iter=1000, random_state=42)\n",
    "logreg.fit(x_train_tfidf, y_train)\n",
    "\n",
    "logreg_y_pred = logreg.predict(x_test_tfidf)\n",
    "\n",
    "# Train Random Forest (advanced)\n",
    "ranfor = RandomForestClassifier(n_estimators=100, random_state=42)\n",
    "ranfor.fit(x_train_tfidf, y_train)\n",
    "\n",
    "ranfor_y_pred = ranfor.predict(x_test_tfidf)\n",
    "\n",
    "#Train Naive Bayes (advanced)\n",
    "naBay = MultinomialNB()\n",
    "naBay.fit(x_train_tfidf, y_train)\n",
    "\n",
    "naBay_y_pred = naBay.predict(x_test_tfidf)"
   ]
  },
  {
   "cell_type": "code",
   "execution_count": 7,
   "id": "7a1027a6-c92b-4a02-bdd4-24e0231a4901",
   "metadata": {},
   "outputs": [
    {
     "name": "stdout",
     "output_type": "stream",
     "text": [
      "Evaluation metrics for Logistic Regression:\n",
      "Accuracy: 0.97\n",
      "Precision: 1.00\n",
      "Recall: 0.76\n",
      "F1 Score: 0.86\n",
      "Confusion Matrix:\n",
      "              Predicted Ham  Predicted Spam\n",
      "Actual Ham             966               0\n",
      "Actual Spam             36             113\n",
      "Evaluation metrics for Random Forest:\n",
      "Accuracy: 0.98\n",
      "Precision: 1.00\n",
      "Recall: 0.86\n",
      "F1 Score: 0.92\n",
      "Confusion Matrix:\n",
      "              Predicted Ham  Predicted Spam\n",
      "Actual Ham             966               0\n",
      "Actual Spam             21             128\n",
      "Evaluation metrics for Naive Bayes:\n",
      "Accuracy: 0.98\n",
      "Precision: 1.00\n",
      "Recall: 0.83\n",
      "F1 Score: 0.90\n",
      "Confusion Matrix:\n",
      "              Predicted Ham  Predicted Spam\n",
      "Actual Ham             966               0\n",
      "Actual Spam             26             123\n"
     ]
    }
   ],
   "source": [
    "# helper function for evaluation metrics\n",
    "def print_evaluation_metrics(name,y_true, y_pred,positive_label = 0):\n",
    "    print(f\"Evaluation metrics for {name}:\")\n",
    "    acc = accuracy_score(y_true, y_pred)\n",
    "    prec = precision_score(y_true, y_pred, pos_label=positive_label)\n",
    "    rec = recall_score(y_true, y_pred, pos_label=positive_label)\n",
    "    f1 = f1_score(y_true, y_pred, pos_label=positive_label)\n",
    "    cd = confusion_matrix(y_true, y_pred, labels=[1, 0])\n",
    "\n",
    "    class Result:\n",
    "        def __init__(self, acc, prec, rec, f1, cd):\n",
    "            self.acc = acc\n",
    "            self.prec = prec\n",
    "            self.rec = rec\n",
    "            self.f1 = f1\n",
    "            self.cd = cd\n",
    "    result = Result(acc, prec, rec, f1, cd)\n",
    "    print(\"Accuracy:\", f\"{result.acc:.2f}\")\n",
    "    print(\"Precision:\", f\"{result.prec:.2f}\")\n",
    "    print(\"Recall:\", f\"{result.rec:.2f}\")\n",
    "    print(\"F1 Score:\", f\"{result.f1:.2f}\")\n",
    "    cd = pd.DataFrame(cd, index=['Actual Ham', 'Actual Spam'], columns=['Predicted Ham', 'Predicted Spam'])\n",
    "\n",
    "    print(\"Confusion Matrix:\\n\", cd)\n",
    "    return result\n",
    "    \n",
    "# print evaluation metrics for Logistic Regression\n",
    "lr = print_evaluation_metrics(\"Logistic Regression\", y_test, logreg_y_pred, positive_label=0)\n",
    "# print evaluation metrics for Random Forest\n",
    "rl = print_evaluation_metrics(\"Random Forest\", y_test, ranfor_y_pred, positive_label=0)\n",
    "# print evaluation metrics for Naive Bayes\n",
    "nb = print_evaluation_metrics(\"Naive Bayes\", y_test, naBay_y_pred, positive_label=0)"
   ]
  },
  {
   "cell_type": "code",
   "execution_count": 8,
   "id": "ac537007-2ba1-442f-b62d-091793b6204d",
   "metadata": {},
   "outputs": [
    {
     "name": "stdout",
     "output_type": "stream",
     "text": [
      "Isbarbar dhig sedexdaModel \n",
      "LR at F1 Score : 0.86 vs RF at F1 Score : 0.92 vs NB at F1 Score : 0.90\n",
      "\n",
      "      LR at Accuracy : 0.97 vs RF at Accuracy : 0.98 vs NB at Accuracy : 0.98\n",
      "\n",
      "      LR at Precision : 1.00 vs RF at Precision : 1.00 vs NB at Precision : 1.00\n",
      "\n",
      "      LR at Recall : 0.76 vs RF at Recall : 0.86 vs NB at Recall : 0.83\n",
      "\n",
      "      LR at Confusion Matrix :\n",
      "[[966   0]\n",
      " [ 36 113]]\n",
      "\n",
      "      RF at Confusion Matrix :\n",
      "[[966   0]\n",
      " [ 21 128]]\n",
      "\n",
      "      NB at Confusion Matrix :\n",
      "[[966   0]\n",
      " [ 26 123]]\n",
      "\n",
      "      \n"
     ]
    }
   ],
   "source": [
    "# deffer Naive Bayes model and random forest model And Logistic Regression for (acc, prec, rec, f1)\n",
    "print(f\"\"\"Isbarbar dhig sedexdaModel \\nLR at F1 Score : {lr.f1:.2f} vs RF at F1 Score : {rl.f1:.2f} vs NB at F1 Score : {nb.f1:.2f}\\n\n",
    "      LR at Accuracy : {lr.acc:.2f} vs RF at Accuracy : {rl.acc:.2f} vs NB at Accuracy : {nb.acc:.2f}\\n\n",
    "      LR at Precision : {lr.prec:.2f} vs RF at Precision : {rl.prec:.2f} vs NB at Precision : {nb.prec:.2f}\\n\n",
    "      LR at Recall : {lr.rec:.2f} vs RF at Recall : {rl.rec:.2f} vs NB at Recall : {nb.rec:.2f}\\n\n",
    "      LR at Confusion Matrix :\\n{lr.cd}\\n\n",
    "      RF at Confusion Matrix :\\n{rl.cd}\\n\n",
    "      NB at Confusion Matrix :\\n{nb.cd}\\n\n",
    "      \"\"\")"
   ]
  },
  {
   "cell_type": "code",
   "execution_count": 9,
   "id": "42dd69c9-ca8e-4af3-9652-47602cf08404",
   "metadata": {},
   "outputs": [
    {
     "name": "stdout",
     "output_type": "stream",
     "text": [
      "\n",
      "Single-message predictions for i = 14 :\n",
      "Spam\n"
     ]
    }
   ],
   "source": [
    "# Single-message sanity check\n",
    "print(\"\\nSingle-message predictions for i = 14 :\")\n",
    "i = 14 # change index to inspect different emails from x_test\n",
    "sample_text = x_test.iloc[i]\n",
    "true_label  = y_test.iloc[i]\n",
    "\n",
    "# Predict with both models\n",
    "lr_pred_one = int(logreg.predict(tfidf.transform([sample_text]))[0])\n",
    "rf_pred_one = int(ranfor.predict(tfidf.transform([sample_text]).toarray())[0])\n",
    "nb_pred_one = int(naBay.predict(tfidf.transform([sample_text]).toarray())[0])\n",
    "\n",
    "def lab2str(v):  # same readable output style\n",
    "    return \"Spam\" if v == 0 else \"Ham\"\n",
    "print(lab2str(true_label))"
   ]
  },
  {
   "cell_type": "code",
   "execution_count": 10,
   "id": "8bc5ba88-d099-4900-a370-305c50f9aefd",
   "metadata": {},
   "outputs": [
    {
     "name": "stdout",
     "output_type": "stream",
     "text": [
      "\n",
      "Single-message predictions for i = 21 :\n",
      "Ham\n",
      "Text: Customer place i will call you\n",
      "True Label: Ham\n",
      "LR Prediction: Ham\n",
      "RF Prediction: Ham\n",
      "NB Prediction: Ham\n"
     ]
    }
   ],
   "source": [
    "print(\"\\nSingle-message predictions for i = 21 :\")\n",
    "i = 21 # change index to inspect different emails from x_test\n",
    "sample_text = x_test.iloc[i]\n",
    "true_label  = y_test.iloc[i]\n",
    "\n",
    "# Predict with both models\n",
    "lr_pred_one = int(logreg.predict(tfidf.transform([sample_text]))[0])\n",
    "rf_pred_one = int(ranfor.predict(tfidf.transform([sample_text]).toarray())[0])\n",
    "nb_pred_one = int(naBay.predict(tfidf.transform([sample_text]).toarray())[0])\n",
    "\n",
    "print(lab2str(true_label))\n",
    "\n",
    "snippet = (sample_text[:80] + \"...\") if len(sample_text) > 80 else sample_text\n",
    "print(f\"Text: {snippet}\")\n",
    "print(f\"True Label: {lab2str(true_label)}\")\n",
    "print(f\"LR Prediction: {lab2str(lr_pred_one)}\")\n",
    "print(f\"RF Prediction: {lab2str(rf_pred_one)}\")\n",
    "print(f\"NB Prediction: {lab2str(nb_pred_one)}\")"
   ]
  },
  {
   "cell_type": "code",
   "execution_count": 15,
   "id": "78c21941-5e26-4e33-a6a6-98be12d06964",
   "metadata": {},
   "outputs": [
    {
     "name": "stdout",
     "output_type": "stream",
     "text": [
      "\n",
      "Own message for prediction: Asc Eng Message-ka wuu fiican yahay, mahadsanid!\n",
      "Logistic Regression Prediction: Ham\n",
      "Random Forest Prediction: Ham\n",
      "Naive Bayes Prediction: Ham\n",
      "\n",
      "Own message for prediction: Congratulations! You've won a free Courses on IA and ML for Omer Tood and Sharfu diin, claim now.\n",
      "Logistic Regression Prediction: Spam\n",
      "Random Forest Prediction: Spam\n",
      "Naive Bayes Prediction: Spam\n",
      "\n",
      "Own message for prediction: Free entry in 2 a weekly competition!\n",
      "Logistic Regression Prediction: Ham\n",
      "Random Forest Prediction: Ham\n",
      "Naive Bayes Prediction: Spam\n",
      "\n",
      "Own message for prediction: I will meet you at the cafe tomorrow\n",
      "Logistic Regression Prediction: Ham\n",
      "Random Forest Prediction: Ham\n",
      "Naive Bayes Prediction: Ham\n",
      "\n",
      "Own message for prediction: Congratulations, you won a free ticket to Bahamas! Click here.\n",
      "Logistic Regression Prediction: Ham\n",
      "Random Forest Prediction: Ham\n",
      "Naive Bayes Prediction: Spam\n"
     ]
    }
   ],
   "source": [
    "# Own message for prediction\n",
    "\n",
    "def Own_message_pred(message):\n",
    "    message_tfidf = tfidf.transform([message])\n",
    "    logreg_pred = logreg.predict(message_tfidf)\n",
    "    ranfor_pred = ranfor.predict(message_tfidf)\n",
    "    naBay_pred = naBay.predict(message_tfidf)\n",
    "    return f\"\"\"\\nOwn message for prediction: {message}\\nLogistic Regression Prediction: {'Spam' if logreg_pred[0] == 0 else 'Ham'}\\nRandom Forest Prediction: {'Spam' if ranfor_pred[0] == 0 else 'Ham'}\\nNaive Bayes Prediction: {'Spam' if naBay_pred[0] == 0 else 'Ham'}\"\"\"\n",
    "# Example usage of Own_message_pred function\n",
    "print(Own_message_pred(\"Asc Eng Message-ka wuu fiican yahay, mahadsanid!\"))\n",
    "print(Own_message_pred(\"Congratulations! You've won a free Courses on IA and ML for Omer Tood and Sharfu diin, claim now.\"))\n",
    "# # Example 3\n",
    "print(Own_message_pred(\"Free entry in 2 a weekly competition!\"))\n",
    "\n",
    "# # Example 4\n",
    "print(Own_message_pred(\"I will meet you at the cafe tomorrow\"))\n",
    "\n",
    "# # Example 5\n",
    "print(Own_message_pred(\"Congratulations, you won a free ticket to Bahamas! Click here.\"))"
   ]
  },
  {
   "cell_type": "code",
   "execution_count": null,
   "id": "1c09cae3-9fd2-42cc-a9ef-04cb27a3cdc2",
   "metadata": {},
   "outputs": [],
   "source": []
  }
 ],
 "metadata": {
  "kernelspec": {
   "display_name": "base",
   "language": "python",
   "name": "python3"
  },
  "language_info": {
   "codemirror_mode": {
    "name": "ipython",
    "version": 3
   },
   "file_extension": ".py",
   "mimetype": "text/x-python",
   "name": "python",
   "nbconvert_exporter": "python",
   "pygments_lexer": "ipython3",
   "version": "3.13.5"
  }
 },
 "nbformat": 4,
 "nbformat_minor": 5
}
