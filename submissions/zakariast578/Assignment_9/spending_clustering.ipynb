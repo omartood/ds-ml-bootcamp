{
 "cells": [
  {
   "cell_type": "code",
   "execution_count": 1,
   "id": "39d08f6e",
   "metadata": {},
   "outputs": [],
   "source": [
    "import pandas as pd\n",
    "from sklearn.cluster import KMeans\n",
    "from sklearn.preprocessing import StandardScaler\n",
    "from sklearn.metrics import silhouette_score, davies_bouldin_score"
   ]
  },
  {
   "cell_type": "code",
   "execution_count": 2,
   "id": "9dcd8104",
   "metadata": {},
   "outputs": [
    {
     "name": "stdout",
     "output_type": "stream",
     "text": [
      "   CustomerID  Age  Income_$  SpendingScore  VisitsPerMonth  OnlinePurchases  \\\n",
      "0           1   28        33             78              14                9   \n",
      "1           2   21        25             87               8               23   \n",
      "2           3   23        24             88              13               10   \n",
      "3           4   24        25             73              16               11   \n",
      "4           5   20        23             88              17               16   \n",
      "\n",
      "   Gender Region  \n",
      "0  Female   East  \n",
      "1    Male  North  \n",
      "2    Male  South  \n",
      "3  Female   West  \n",
      "4    Male   West  \n"
     ]
    }
   ],
   "source": [
    "CSV_PATH = \"dataset/spending_l9_dataset.csv\"\n",
    "df = pd.read_csv(CSV_PATH)\n",
    "print(df.head())"
   ]
  },
  {
   "cell_type": "code",
   "execution_count": 6,
   "id": "97a75681",
   "metadata": {},
   "outputs": [
    {
     "name": "stdout",
     "output_type": "stream",
     "text": [
      "   Income_$  SpendingScore\n",
      "0        33             78\n",
      "1        25             87\n",
      "2        24             88\n",
      "3        25             73\n",
      "4        23             88\n"
     ]
    }
   ],
   "source": [
    "FEATURES = [\"Income_$\", \"SpendingScore\"]\n",
    "print(df[FEATURES].head())"
   ]
  },
  {
   "cell_type": "code",
   "execution_count": 7,
   "id": "71f80b78",
   "metadata": {},
   "outputs": [
    {
     "name": "stdout",
     "output_type": "stream",
     "text": [
      "Income_$         0\n",
      "SpendingScore    0\n",
      "dtype: int64\n"
     ]
    }
   ],
   "source": [
    "print(df[FEATURES].isnull().sum())"
   ]
  },
  {
   "cell_type": "code",
   "execution_count": 8,
   "id": "fabe2d11",
   "metadata": {},
   "outputs": [
    {
     "name": "stdout",
     "output_type": "stream",
     "text": [
      "\n",
      "Scaled shape: (200, 2)\n"
     ]
    }
   ],
   "source": [
    "scaler = StandardScaler()\n",
    "X_scaled = scaler.fit_transform(df[FEATURES])\n",
    "print(\"\\nScaled shape:\", X_scaled.shape)"
   ]
  },
  {
   "cell_type": "code",
   "execution_count": 9,
   "id": "63e2a24a",
   "metadata": {},
   "outputs": [
    {
     "name": "stdout",
     "output_type": "stream",
     "text": [
      "\n",
      "=== ELBOW METHOD (SSE per k) ===\n",
      "k=1, SSE=322990.47\n",
      "k=2, SSE=146350.87\n",
      "k=3, SSE=61634.38\n",
      "k=4, SSE=16807.10\n",
      "k=5, SSE=15218.93\n",
      "k=6, SSE=12628.97\n",
      "k=7, SSE=11712.73\n",
      "k=8, SSE=10494.88\n",
      "k=9, SSE=8947.34\n",
      "k=10, SSE=8180.89\n"
     ]
    }
   ],
   "source": [
    "print(\"\\n=== ELBOW METHOD (SSE per k) ===\")\n",
    "for k in range(1, 11):\n",
    "    kmeans = KMeans(n_clusters=k, random_state=42)\n",
    "    kmeans.fit(df[FEATURES])\n",
    "    sse = kmeans.inertia_\n",
    "    print(f\"k={k}, SSE={sse:.2f}\")"
   ]
  },
  {
   "cell_type": "markdown",
   "id": "0a3983f3",
   "metadata": {},
   "source": []
  },
  {
   "cell_type": "code",
   "execution_count": 10,
   "id": "8adc0caa",
   "metadata": {},
   "outputs": [
    {
     "name": "stdout",
     "output_type": "stream",
     "text": [
      "   Income_$  SpendingScore  VisitsPerMonth  OnlinePurchases Region  Cluster\n",
      "0        33             78              14                9   East        2\n",
      "1        25             87               8               23  North        2\n",
      "2        24             88              13               10  South        2\n",
      "3        25             73              16               11   West        2\n",
      "4        23             88              17               16   West        2\n"
     ]
    }
   ],
   "source": [
    "K = 4\n",
    "kmeans = KMeans(n_clusters=K, n_init=\"auto\", random_state=42)\n",
    "labels = kmeans.fit_predict(X_scaled)\n",
    "\n",
    "df[\"Cluster\"] = labels.astype(int)\n",
    "print(df.head())"
   ]
  },
  {
   "cell_type": "code",
   "execution_count": 11,
   "id": "d3a08573",
   "metadata": {},
   "outputs": [
    {
     "name": "stdout",
     "output_type": "stream",
     "text": [
      "\n",
      "Silhouette Score: 0.7286\n",
      "Davies-Bouldin Index: 0.3871\n"
     ]
    }
   ],
   "source": [
    "sil = silhouette_score(X_scaled, labels)\n",
    "dbi = davies_bouldin_score(X_scaled, labels)\n",
    "print(f\"\\nSilhouette Score: {sil:.4f}\")\n",
    "print(f\"Davies-Bouldin Index: {dbi:.4f}\")"
   ]
  },
  {
   "cell_type": "markdown",
   "id": "d9300c73",
   "metadata": {},
   "source": [
    "**Cluster centers**"
   ]
  },
  {
   "cell_type": "code",
   "execution_count": 12,
   "id": "77b387d0",
   "metadata": {},
   "outputs": [
    {
     "name": "stdout",
     "output_type": "stream",
     "text": [
      "\n",
      "Cluster centers (original scale):\n",
      "         Income_$  SpendingScore\n",
      "Cluster                         \n",
      "0           56.32          53.58\n",
      "1           28.92          19.60\n",
      "2           24.14          83.10\n",
      "3           99.16          79.24\n"
     ]
    }
   ],
   "source": [
    "centers_scaled = kmeans.cluster_centers_\n",
    "centers_original = scaler.inverse_transform(centers_scaled)\n",
    "\n",
    "print(\"\\nCluster centers (original scale):\")\n",
    "centers_df = pd.DataFrame(centers_original, columns=FEATURES)\n",
    "centers_df.index.name = \"Cluster\"\n",
    "\n",
    "print(centers_df.round(2))"
   ]
  },
  {
   "cell_type": "markdown",
   "id": "476ea9f2",
   "metadata": {},
   "source": [
    "**Sanity checks**"
   ]
  },
  {
   "cell_type": "code",
   "execution_count": 13,
   "id": "330f3fc8",
   "metadata": {},
   "outputs": [
    {
     "name": "stdout",
     "output_type": "stream",
     "text": [
      "\n",
      "Sample data points with cluster assignments:\n",
      "     Income_$  SpendingScore  Cluster\n",
      "9          29             81        2\n",
      "30         27             80        2\n",
      "100        32             20        1\n",
      "110        34             21        1\n"
     ]
    }
   ],
   "source": [
    "sample_idx = [9, 30, 100, 110] \n",
    "sanity = df.loc[sample_idx, FEATURES + [\"Cluster\"]]\n",
    "\n",
    "print(\"\\nSample data points with cluster assignments:\")\n",
    "print(sanity)"
   ]
  },
  {
   "cell_type": "code",
   "execution_count": 15,
   "id": "9ec90464",
   "metadata": {},
   "outputs": [],
   "source": [
    "#save to new CSV\n",
    "import os\n",
    "OUTPUT_CSV = \"dataset/with_clusters_spending_l9_dataset.csv\"\n",
    "os.makedirs(os.path.dirname(OUTPUT_CSV), exist_ok=True)\n",
    "df.to_csv(OUTPUT_CSV, index=False)"
   ]
  }
 ],
 "metadata": {
  "kernelspec": {
   "display_name": "base",
   "language": "python",
   "name": "python3"
  },
  "language_info": {
   "codemirror_mode": {
    "name": "ipython",
    "version": 3
   },
   "file_extension": ".py",
   "mimetype": "text/x-python",
   "name": "python",
   "nbconvert_exporter": "python",
   "pygments_lexer": "ipython3",
   "version": "3.13.5"
  }
 },
 "nbformat": 4,
 "nbformat_minor": 5
}
