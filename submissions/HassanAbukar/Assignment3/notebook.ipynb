{
 "cells": [
  {
   "cell_type": "code",
   "execution_count": 35,
   "id": "a3b0357c",
   "metadata": {},
   "outputs": [],
   "source": [
    "import pandas as pd\n",
    "import numpy as np\n",
    "from sklearn.preprocessing import StandardScaler"
   ]
  },
  {
   "cell_type": "code",
   "execution_count": 4,
   "id": "7d63e585",
   "metadata": {},
   "outputs": [],
   "source": [
    "df = pd.read_csv(\"car_l3_dataset.csv\")"
   ]
  },
  {
   "cell_type": "code",
   "execution_count": 5,
   "id": "2c14051a",
   "metadata": {},
   "outputs": [
    {
     "name": "stdout",
     "output_type": "stream",
     "text": [
      "<class 'pandas.core.frame.DataFrame'>\n",
      "RangeIndex: 145 entries, 0 to 144\n",
      "Data columns (total 6 columns):\n",
      " #   Column       Non-Null Count  Dtype  \n",
      "---  ------       --------------  -----  \n",
      " 0   Price        145 non-null    object \n",
      " 1   Odometer_km  138 non-null    float64\n",
      " 2   Doors        138 non-null    float64\n",
      " 3   Accidents    145 non-null    int64  \n",
      " 4   Location     140 non-null    object \n",
      " 5   Year         145 non-null    int64  \n",
      "dtypes: float64(2), int64(2), object(2)\n",
      "memory usage: 6.9+ KB\n"
     ]
    }
   ],
   "source": [
    "#df.head()        # First 5 rows\n",
    "#df.tail()        # Last 5 rows\n",
    "df.info()       # Column types and non-null values\n",
    "#df.describe()    # Summary stats\n",
    "#df.columns       # Column names\n",
    "#df.index         # Row indices\n",
    "#df.shape"
   ]
  },
  {
   "cell_type": "code",
   "execution_count": 6,
   "id": "ab9f142c",
   "metadata": {},
   "outputs": [
    {
     "data": {
      "text/plain": [
       "Price          0\n",
       "Odometer_km    7\n",
       "Doors          7\n",
       "Accidents      0\n",
       "Location       5\n",
       "Year           0\n",
       "dtype: int64"
      ]
     },
     "execution_count": 6,
     "metadata": {},
     "output_type": "execute_result"
    }
   ],
   "source": [
    "# Knowing The Missing values\n",
    "df.isnull().sum()"
   ]
  },
  {
   "cell_type": "code",
   "execution_count": 7,
   "id": "6d6f17da",
   "metadata": {},
   "outputs": [
    {
     "data": {
      "text/plain": [
       "Location\n",
       "City      59\n",
       "Suburb    45\n",
       "Rural     21\n",
       "Subrb      8\n",
       "??         7\n",
       "NaN        5\n",
       "Name: count, dtype: int64"
      ]
     },
     "execution_count": 7,
     "metadata": {},
     "output_type": "execute_result"
    }
   ],
   "source": [
    "#Accessing each column in my data to know the missing values\n",
    "df[\"Location\"].value_counts(dropna=False)  # missing vakues are shown\n",
    "#df[\"Odometer_km\"].value_counts(dropna=False)\n",
    "#df[\"Doors\"].value_counts(dropna=False)\n",
    "#df[\"Accidents\"].value_counts(dropna=False)\n",
    "#df[\"Year\"].value_counts(dropna=False)"
   ]
  },
  {
   "cell_type": "code",
   "execution_count": 8,
   "id": "83d342b3",
   "metadata": {},
   "outputs": [
    {
     "data": {
      "text/plain": [
       "0    1500.0\n",
       "1    4171.0\n",
       "2    5331.0\n",
       "3    1500.0\n",
       "4    1500.0\n",
       "Name: Price, dtype: float64"
      ]
     },
     "execution_count": 8,
     "metadata": {},
     "output_type": "execute_result"
    }
   ],
   "source": [
    "# Cleaning the price column\n",
    "df[\"Price\"] = df[\"Price\"].replace(r\"[\\$,]\", \"\", regex=True).astype(float)\n",
    "df[\"Price\"].head()"
   ]
  },
  {
   "cell_type": "code",
   "execution_count": 9,
   "id": "8e7da420",
   "metadata": {},
   "outputs": [
    {
     "data": {
      "text/html": [
       "<div>\n",
       "<style scoped>\n",
       "    .dataframe tbody tr th:only-of-type {\n",
       "        vertical-align: middle;\n",
       "    }\n",
       "\n",
       "    .dataframe tbody tr th {\n",
       "        vertical-align: top;\n",
       "    }\n",
       "\n",
       "    .dataframe thead th {\n",
       "        text-align: right;\n",
       "    }\n",
       "</style>\n",
       "<table border=\"1\" class=\"dataframe\">\n",
       "  <thead>\n",
       "    <tr style=\"text-align: right;\">\n",
       "      <th></th>\n",
       "      <th>Price</th>\n",
       "      <th>Odometer_km</th>\n",
       "      <th>Doors</th>\n",
       "      <th>Accidents</th>\n",
       "      <th>Location</th>\n",
       "      <th>Year</th>\n",
       "    </tr>\n",
       "  </thead>\n",
       "  <tbody>\n",
       "    <tr>\n",
       "      <th>0</th>\n",
       "      <td>1500.0</td>\n",
       "      <td>137830.0</td>\n",
       "      <td>4.0</td>\n",
       "      <td>1</td>\n",
       "      <td>City</td>\n",
       "      <td>1998</td>\n",
       "    </tr>\n",
       "    <tr>\n",
       "      <th>1</th>\n",
       "      <td>4171.0</td>\n",
       "      <td>NaN</td>\n",
       "      <td>4.0</td>\n",
       "      <td>0</td>\n",
       "      <td>Rural</td>\n",
       "      <td>2016</td>\n",
       "    </tr>\n",
       "    <tr>\n",
       "      <th>2</th>\n",
       "      <td>5331.0</td>\n",
       "      <td>107302.0</td>\n",
       "      <td>4.0</td>\n",
       "      <td>0</td>\n",
       "      <td>Suburb</td>\n",
       "      <td>2014</td>\n",
       "    </tr>\n",
       "    <tr>\n",
       "      <th>3</th>\n",
       "      <td>1500.0</td>\n",
       "      <td>141838.0</td>\n",
       "      <td>4.0</td>\n",
       "      <td>1</td>\n",
       "      <td>Suburb</td>\n",
       "      <td>1999</td>\n",
       "    </tr>\n",
       "    <tr>\n",
       "      <th>4</th>\n",
       "      <td>1500.0</td>\n",
       "      <td>NaN</td>\n",
       "      <td>3.0</td>\n",
       "      <td>0</td>\n",
       "      <td>City</td>\n",
       "      <td>2022</td>\n",
       "    </tr>\n",
       "  </tbody>\n",
       "</table>\n",
       "</div>"
      ],
      "text/plain": [
       "    Price  Odometer_km  Doors  Accidents Location  Year\n",
       "0  1500.0     137830.0    4.0          1     City  1998\n",
       "1  4171.0          NaN    4.0          0    Rural  2016\n",
       "2  5331.0     107302.0    4.0          0   Suburb  2014\n",
       "3  1500.0     141838.0    4.0          1   Suburb  1999\n",
       "4  1500.0          NaN    3.0          0     City  2022"
      ]
     },
     "execution_count": 9,
     "metadata": {},
     "output_type": "execute_result"
    }
   ],
   "source": [
    "df.head()"
   ]
  },
  {
   "cell_type": "code",
   "execution_count": 10,
   "id": "3fc33de6",
   "metadata": {},
   "outputs": [
    {
     "data": {
      "text/plain": [
       "np.float64(7.871113660850301)"
      ]
     },
     "execution_count": 10,
     "metadata": {},
     "output_type": "execute_result"
    }
   ],
   "source": [
    "# Checking the outliers in the price column\n",
    "df[\"Price\"].skew()"
   ]
  },
  {
   "cell_type": "code",
   "execution_count": 11,
   "id": "3d8e36fe",
   "metadata": {},
   "outputs": [
    {
     "data": {
      "text/plain": [
       "Location\n",
       "City      59\n",
       "Suburb    53\n",
       "Rural     21\n",
       "<NA>       7\n",
       "NaN        5\n",
       "Name: count, dtype: int64"
      ]
     },
     "execution_count": 11,
     "metadata": {},
     "output_type": "execute_result"
    }
   ],
   "source": [
    "#Cleaning the location column\n",
    "df[\"Location\"] = df[\"Location\"].replace({\"Subrb\" : \"Suburb\", \"??\" : pd.NA})\n",
    "df[\"Location\"].value_counts(dropna=False)"
   ]
  },
  {
   "cell_type": "code",
   "execution_count": null,
   "id": "63cb59e3",
   "metadata": {},
   "outputs": [
    {
     "data": {
      "text/plain": [
       "np.float64(0.9546906127332146)"
      ]
     },
     "execution_count": 12,
     "metadata": {},
     "output_type": "execute_result"
    }
   ],
   "source": [
    "# i checked the column if it has outlier before use mean value b/c if it has outlier the mean will be effected\n",
    "df[\"Odometer_km\"].skew()"
   ]
  },
  {
   "cell_type": "code",
   "execution_count": 13,
   "id": "eacebb74",
   "metadata": {},
   "outputs": [],
   "source": [
    "# Filling missing values \n",
    "# i fillied (Odometer_km) with mean value b/c it's numerical column \n",
    "# Locattion and Doors with mode b/c they are categorical columns\n",
    "df[\"Odometer_km\"] =df[\"Odometer_km\"].fillna(df[\"Odometer_km\"].mean())\n",
    "df[\"Location\"]  = df[\"Location\"].fillna(df[\"Location\"].mode()[0])\n",
    "df[\"Doors\"] =df[\"Doors\"].fillna(df[\"Doors\"].mode()[0])\n",
    "\n"
   ]
  },
  {
   "cell_type": "code",
   "execution_count": 14,
   "id": "2135d981",
   "metadata": {},
   "outputs": [
    {
     "data": {
      "text/plain": [
       "Price          0\n",
       "Odometer_km    0\n",
       "Doors          0\n",
       "Accidents      0\n",
       "Location       0\n",
       "Year           0\n",
       "dtype: int64"
      ]
     },
     "execution_count": 14,
     "metadata": {},
     "output_type": "execute_result"
    }
   ],
   "source": [
    "df.isnull().sum()"
   ]
  },
  {
   "cell_type": "code",
   "execution_count": 15,
   "id": "2b7fb4a1",
   "metadata": {},
   "outputs": [
    {
     "data": {
      "text/plain": [
       "(145, 6)"
      ]
     },
     "execution_count": 15,
     "metadata": {},
     "output_type": "execute_result"
    }
   ],
   "source": [
    "# Before Removing Duplicates, checking the shape of the dataset \n",
    "df.shape"
   ]
  },
  {
   "cell_type": "code",
   "execution_count": 16,
   "id": "e3823a01",
   "metadata": {},
   "outputs": [
    {
     "data": {
      "text/plain": [
       "(140, 6)"
      ]
     },
     "execution_count": 16,
     "metadata": {},
     "output_type": "execute_result"
    }
   ],
   "source": [
    "df = df.drop_duplicates()\n",
    "\n",
    "# after removing duplicates \n",
    "df.shape"
   ]
  },
  {
   "cell_type": "code",
   "execution_count": 17,
   "id": "62d4d67c",
   "metadata": {},
   "outputs": [],
   "source": [
    "# Dealing with outliers\n",
    "def iqr_fun(series, k=1.5):\n",
    "    q1, q3 = series.quantile([0.25, 0.75])\n",
    "    iqr = q3 - q1\n",
    "    lower = q1 - k * iqr\n",
    "    upper = q3 + k * iqr\n",
    "    return lower, upper\n",
    "\n",
    "lower_price, upper_price = iqr_fun(df[\"Price\"])\n",
    "lower_oddmeter, upper_oddmeter = iqr_fun(df[\"Odometer_km\"])"
   ]
  },
  {
   "cell_type": "code",
   "execution_count": 18,
   "id": "f793627d",
   "metadata": {},
   "outputs": [
    {
     "name": "stdout",
     "output_type": "stream",
     "text": [
      "Lower Price -2984.625 Upper Price 8974.375\n",
      "Lower Oddmeter -6642.25 upper_oddmeter 271987.75\n"
     ]
    }
   ],
   "source": [
    "print(\"Lower Price\", lower_price, \"Upper Price\", upper_price)\n",
    "print(\"Lower Oddmeter\", lower_oddmeter, \"upper_oddmeter\", upper_oddmeter)"
   ]
  },
  {
   "cell_type": "code",
   "execution_count": 19,
   "id": "9c82620b",
   "metadata": {},
   "outputs": [],
   "source": [
    "# clipping the outliers\n",
    "df[\"Price\"] =df[\"Price\"].clip(lower_price, upper_price)\n",
    "df[\"Odometer_km\"] = df[\"Odometer_km\"].clip(lower_oddmeter, upper_oddmeter)"
   ]
  },
  {
   "cell_type": "code",
   "execution_count": 20,
   "id": "a320cd06",
   "metadata": {},
   "outputs": [],
   "source": [
    "# one-hot encoding\n",
    "df = pd.get_dummies(df, columns=[\"Location\"], drop_first=False, dtype=\"int\")\n",
    "#[c for c in df.columns if c.startswith(\"Location\")]"
   ]
  },
  {
   "cell_type": "code",
   "execution_count": 21,
   "id": "c6da2cfa",
   "metadata": {},
   "outputs": [
    {
     "data": {
      "text/html": [
       "<div>\n",
       "<style scoped>\n",
       "    .dataframe tbody tr th:only-of-type {\n",
       "        vertical-align: middle;\n",
       "    }\n",
       "\n",
       "    .dataframe tbody tr th {\n",
       "        vertical-align: top;\n",
       "    }\n",
       "\n",
       "    .dataframe thead th {\n",
       "        text-align: right;\n",
       "    }\n",
       "</style>\n",
       "<table border=\"1\" class=\"dataframe\">\n",
       "  <thead>\n",
       "    <tr style=\"text-align: right;\">\n",
       "      <th></th>\n",
       "      <th>Price</th>\n",
       "      <th>Odometer_km</th>\n",
       "      <th>Doors</th>\n",
       "      <th>Accidents</th>\n",
       "      <th>Year</th>\n",
       "      <th>Location_City</th>\n",
       "      <th>Location_Rural</th>\n",
       "      <th>Location_Suburb</th>\n",
       "    </tr>\n",
       "  </thead>\n",
       "  <tbody>\n",
       "    <tr>\n",
       "      <th>0</th>\n",
       "      <td>1500.0</td>\n",
       "      <td>137830.000000</td>\n",
       "      <td>4.0</td>\n",
       "      <td>1</td>\n",
       "      <td>1998</td>\n",
       "      <td>1</td>\n",
       "      <td>0</td>\n",
       "      <td>0</td>\n",
       "    </tr>\n",
       "    <tr>\n",
       "      <th>1</th>\n",
       "      <td>4171.0</td>\n",
       "      <td>134823.615942</td>\n",
       "      <td>4.0</td>\n",
       "      <td>0</td>\n",
       "      <td>2016</td>\n",
       "      <td>0</td>\n",
       "      <td>1</td>\n",
       "      <td>0</td>\n",
       "    </tr>\n",
       "    <tr>\n",
       "      <th>2</th>\n",
       "      <td>5331.0</td>\n",
       "      <td>107302.000000</td>\n",
       "      <td>4.0</td>\n",
       "      <td>0</td>\n",
       "      <td>2014</td>\n",
       "      <td>0</td>\n",
       "      <td>0</td>\n",
       "      <td>1</td>\n",
       "    </tr>\n",
       "    <tr>\n",
       "      <th>3</th>\n",
       "      <td>1500.0</td>\n",
       "      <td>141838.000000</td>\n",
       "      <td>4.0</td>\n",
       "      <td>1</td>\n",
       "      <td>1999</td>\n",
       "      <td>0</td>\n",
       "      <td>0</td>\n",
       "      <td>1</td>\n",
       "    </tr>\n",
       "    <tr>\n",
       "      <th>4</th>\n",
       "      <td>1500.0</td>\n",
       "      <td>134823.615942</td>\n",
       "      <td>3.0</td>\n",
       "      <td>0</td>\n",
       "      <td>2022</td>\n",
       "      <td>1</td>\n",
       "      <td>0</td>\n",
       "      <td>0</td>\n",
       "    </tr>\n",
       "  </tbody>\n",
       "</table>\n",
       "</div>"
      ],
      "text/plain": [
       "    Price    Odometer_km  Doors  Accidents  Year  Location_City  \\\n",
       "0  1500.0  137830.000000    4.0          1  1998              1   \n",
       "1  4171.0  134823.615942    4.0          0  2016              0   \n",
       "2  5331.0  107302.000000    4.0          0  2014              0   \n",
       "3  1500.0  141838.000000    4.0          1  1999              0   \n",
       "4  1500.0  134823.615942    3.0          0  2022              1   \n",
       "\n",
       "   Location_Rural  Location_Suburb  \n",
       "0               0                0  \n",
       "1               1                0  \n",
       "2               0                1  \n",
       "3               0                1  \n",
       "4               0                0  "
      ]
     },
     "execution_count": 21,
     "metadata": {},
     "output_type": "execute_result"
    }
   ],
   "source": [
    "df.head()"
   ]
  },
  {
   "cell_type": "code",
   "execution_count": 22,
   "id": "d677b85b",
   "metadata": {},
   "outputs": [
    {
     "data": {
      "text/html": [
       "<div>\n",
       "<style scoped>\n",
       "    .dataframe tbody tr th:only-of-type {\n",
       "        vertical-align: middle;\n",
       "    }\n",
       "\n",
       "    .dataframe tbody tr th {\n",
       "        vertical-align: top;\n",
       "    }\n",
       "\n",
       "    .dataframe thead th {\n",
       "        text-align: right;\n",
       "    }\n",
       "</style>\n",
       "<table border=\"1\" class=\"dataframe\">\n",
       "  <thead>\n",
       "    <tr style=\"text-align: right;\">\n",
       "      <th></th>\n",
       "      <th>Price</th>\n",
       "      <th>Odometer_km</th>\n",
       "      <th>Doors</th>\n",
       "      <th>Accidents</th>\n",
       "      <th>Year</th>\n",
       "      <th>Location_City</th>\n",
       "      <th>Location_Rural</th>\n",
       "      <th>Location_Suburb</th>\n",
       "      <th>CarAge</th>\n",
       "    </tr>\n",
       "  </thead>\n",
       "  <tbody>\n",
       "    <tr>\n",
       "      <th>0</th>\n",
       "      <td>1500.0</td>\n",
       "      <td>137830.000000</td>\n",
       "      <td>4.0</td>\n",
       "      <td>1</td>\n",
       "      <td>1998</td>\n",
       "      <td>1</td>\n",
       "      <td>0</td>\n",
       "      <td>0</td>\n",
       "      <td>27</td>\n",
       "    </tr>\n",
       "    <tr>\n",
       "      <th>1</th>\n",
       "      <td>4171.0</td>\n",
       "      <td>134823.615942</td>\n",
       "      <td>4.0</td>\n",
       "      <td>0</td>\n",
       "      <td>2016</td>\n",
       "      <td>0</td>\n",
       "      <td>1</td>\n",
       "      <td>0</td>\n",
       "      <td>9</td>\n",
       "    </tr>\n",
       "    <tr>\n",
       "      <th>2</th>\n",
       "      <td>5331.0</td>\n",
       "      <td>107302.000000</td>\n",
       "      <td>4.0</td>\n",
       "      <td>0</td>\n",
       "      <td>2014</td>\n",
       "      <td>0</td>\n",
       "      <td>0</td>\n",
       "      <td>1</td>\n",
       "      <td>11</td>\n",
       "    </tr>\n",
       "    <tr>\n",
       "      <th>3</th>\n",
       "      <td>1500.0</td>\n",
       "      <td>141838.000000</td>\n",
       "      <td>4.0</td>\n",
       "      <td>1</td>\n",
       "      <td>1999</td>\n",
       "      <td>0</td>\n",
       "      <td>0</td>\n",
       "      <td>1</td>\n",
       "      <td>26</td>\n",
       "    </tr>\n",
       "    <tr>\n",
       "      <th>4</th>\n",
       "      <td>1500.0</td>\n",
       "      <td>134823.615942</td>\n",
       "      <td>3.0</td>\n",
       "      <td>0</td>\n",
       "      <td>2022</td>\n",
       "      <td>1</td>\n",
       "      <td>0</td>\n",
       "      <td>0</td>\n",
       "      <td>3</td>\n",
       "    </tr>\n",
       "  </tbody>\n",
       "</table>\n",
       "</div>"
      ],
      "text/plain": [
       "    Price    Odometer_km  Doors  Accidents  Year  Location_City  \\\n",
       "0  1500.0  137830.000000    4.0          1  1998              1   \n",
       "1  4171.0  134823.615942    4.0          0  2016              0   \n",
       "2  5331.0  107302.000000    4.0          0  2014              0   \n",
       "3  1500.0  141838.000000    4.0          1  1999              0   \n",
       "4  1500.0  134823.615942    3.0          0  2022              1   \n",
       "\n",
       "   Location_Rural  Location_Suburb  CarAge  \n",
       "0               0                0      27  \n",
       "1               1                0       9  \n",
       "2               0                1      11  \n",
       "3               0                1      26  \n",
       "4               0                0       3  "
      ]
     },
     "execution_count": 22,
     "metadata": {},
     "output_type": "execute_result"
    }
   ],
   "source": [
    "#Feature Engineering \n",
    "CURRENT_YEAR =  2025\n",
    "df[\"CarAge\"] = CURRENT_YEAR - df[\"Year\"]\n",
    "df.head()"
   ]
  },
  {
   "cell_type": "code",
   "execution_count": 25,
   "id": "9626fb99",
   "metadata": {},
   "outputs": [],
   "source": [
    "# km_per_year with safe\n",
    "df[\"km_per_year_with_safe\"] = df[\"Odometer_km\"] / df[\"CarAge\"].replace(0, np.nan)"
   ]
  },
  {
   "cell_type": "code",
   "execution_count": 26,
   "id": "7ded9674",
   "metadata": {},
   "outputs": [
    {
     "data": {
      "text/html": [
       "<div>\n",
       "<style scoped>\n",
       "    .dataframe tbody tr th:only-of-type {\n",
       "        vertical-align: middle;\n",
       "    }\n",
       "\n",
       "    .dataframe tbody tr th {\n",
       "        vertical-align: top;\n",
       "    }\n",
       "\n",
       "    .dataframe thead th {\n",
       "        text-align: right;\n",
       "    }\n",
       "</style>\n",
       "<table border=\"1\" class=\"dataframe\">\n",
       "  <thead>\n",
       "    <tr style=\"text-align: right;\">\n",
       "      <th></th>\n",
       "      <th>Price</th>\n",
       "      <th>Odometer_km</th>\n",
       "      <th>Doors</th>\n",
       "      <th>Accidents</th>\n",
       "      <th>Year</th>\n",
       "      <th>Location_City</th>\n",
       "      <th>Location_Rural</th>\n",
       "      <th>Location_Suburb</th>\n",
       "      <th>CarAge</th>\n",
       "      <th>km_per_year_with_safe</th>\n",
       "    </tr>\n",
       "  </thead>\n",
       "  <tbody>\n",
       "    <tr>\n",
       "      <th>0</th>\n",
       "      <td>1500.0</td>\n",
       "      <td>137830.000000</td>\n",
       "      <td>4.0</td>\n",
       "      <td>1</td>\n",
       "      <td>1998</td>\n",
       "      <td>1</td>\n",
       "      <td>0</td>\n",
       "      <td>0</td>\n",
       "      <td>27</td>\n",
       "      <td>5104.814815</td>\n",
       "    </tr>\n",
       "    <tr>\n",
       "      <th>1</th>\n",
       "      <td>4171.0</td>\n",
       "      <td>134823.615942</td>\n",
       "      <td>4.0</td>\n",
       "      <td>0</td>\n",
       "      <td>2016</td>\n",
       "      <td>0</td>\n",
       "      <td>1</td>\n",
       "      <td>0</td>\n",
       "      <td>9</td>\n",
       "      <td>14980.401771</td>\n",
       "    </tr>\n",
       "    <tr>\n",
       "      <th>2</th>\n",
       "      <td>5331.0</td>\n",
       "      <td>107302.000000</td>\n",
       "      <td>4.0</td>\n",
       "      <td>0</td>\n",
       "      <td>2014</td>\n",
       "      <td>0</td>\n",
       "      <td>0</td>\n",
       "      <td>1</td>\n",
       "      <td>11</td>\n",
       "      <td>9754.727273</td>\n",
       "    </tr>\n",
       "    <tr>\n",
       "      <th>3</th>\n",
       "      <td>1500.0</td>\n",
       "      <td>141838.000000</td>\n",
       "      <td>4.0</td>\n",
       "      <td>1</td>\n",
       "      <td>1999</td>\n",
       "      <td>0</td>\n",
       "      <td>0</td>\n",
       "      <td>1</td>\n",
       "      <td>26</td>\n",
       "      <td>5455.307692</td>\n",
       "    </tr>\n",
       "    <tr>\n",
       "      <th>4</th>\n",
       "      <td>1500.0</td>\n",
       "      <td>134823.615942</td>\n",
       "      <td>3.0</td>\n",
       "      <td>0</td>\n",
       "      <td>2022</td>\n",
       "      <td>1</td>\n",
       "      <td>0</td>\n",
       "      <td>0</td>\n",
       "      <td>3</td>\n",
       "      <td>44941.205314</td>\n",
       "    </tr>\n",
       "  </tbody>\n",
       "</table>\n",
       "</div>"
      ],
      "text/plain": [
       "    Price    Odometer_km  Doors  Accidents  Year  Location_City  \\\n",
       "0  1500.0  137830.000000    4.0          1  1998              1   \n",
       "1  4171.0  134823.615942    4.0          0  2016              0   \n",
       "2  5331.0  107302.000000    4.0          0  2014              0   \n",
       "3  1500.0  141838.000000    4.0          1  1999              0   \n",
       "4  1500.0  134823.615942    3.0          0  2022              1   \n",
       "\n",
       "   Location_Rural  Location_Suburb  CarAge  km_per_year_with_safe  \n",
       "0               0                0      27            5104.814815  \n",
       "1               1                0       9           14980.401771  \n",
       "2               0                1      11            9754.727273  \n",
       "3               0                1      26            5455.307692  \n",
       "4               0                0       3           44941.205314  "
      ]
     },
     "execution_count": 26,
     "metadata": {},
     "output_type": "execute_result"
    }
   ],
   "source": [
    "df.head()"
   ]
  },
  {
   "cell_type": "code",
   "execution_count": 29,
   "id": "07339325",
   "metadata": {},
   "outputs": [],
   "source": [
    "# Is_Urban\n",
    "df[\"Is_Urban\"] = df[\"Location_City\"].astype(int)"
   ]
  },
  {
   "cell_type": "code",
   "execution_count": 30,
   "id": "7945260d",
   "metadata": {},
   "outputs": [
    {
     "data": {
      "text/html": [
       "<div>\n",
       "<style scoped>\n",
       "    .dataframe tbody tr th:only-of-type {\n",
       "        vertical-align: middle;\n",
       "    }\n",
       "\n",
       "    .dataframe tbody tr th {\n",
       "        vertical-align: top;\n",
       "    }\n",
       "\n",
       "    .dataframe thead th {\n",
       "        text-align: right;\n",
       "    }\n",
       "</style>\n",
       "<table border=\"1\" class=\"dataframe\">\n",
       "  <thead>\n",
       "    <tr style=\"text-align: right;\">\n",
       "      <th></th>\n",
       "      <th>Price</th>\n",
       "      <th>Odometer_km</th>\n",
       "      <th>Doors</th>\n",
       "      <th>Accidents</th>\n",
       "      <th>Year</th>\n",
       "      <th>Location_City</th>\n",
       "      <th>Location_Rural</th>\n",
       "      <th>Location_Suburb</th>\n",
       "      <th>CarAge</th>\n",
       "      <th>km_per_year_with_safe</th>\n",
       "      <th>Is_Urban</th>\n",
       "    </tr>\n",
       "  </thead>\n",
       "  <tbody>\n",
       "    <tr>\n",
       "      <th>0</th>\n",
       "      <td>1500.0</td>\n",
       "      <td>137830.000000</td>\n",
       "      <td>4.0</td>\n",
       "      <td>1</td>\n",
       "      <td>1998</td>\n",
       "      <td>1</td>\n",
       "      <td>0</td>\n",
       "      <td>0</td>\n",
       "      <td>27</td>\n",
       "      <td>5104.814815</td>\n",
       "      <td>1</td>\n",
       "    </tr>\n",
       "    <tr>\n",
       "      <th>1</th>\n",
       "      <td>4171.0</td>\n",
       "      <td>134823.615942</td>\n",
       "      <td>4.0</td>\n",
       "      <td>0</td>\n",
       "      <td>2016</td>\n",
       "      <td>0</td>\n",
       "      <td>1</td>\n",
       "      <td>0</td>\n",
       "      <td>9</td>\n",
       "      <td>14980.401771</td>\n",
       "      <td>0</td>\n",
       "    </tr>\n",
       "    <tr>\n",
       "      <th>2</th>\n",
       "      <td>5331.0</td>\n",
       "      <td>107302.000000</td>\n",
       "      <td>4.0</td>\n",
       "      <td>0</td>\n",
       "      <td>2014</td>\n",
       "      <td>0</td>\n",
       "      <td>0</td>\n",
       "      <td>1</td>\n",
       "      <td>11</td>\n",
       "      <td>9754.727273</td>\n",
       "      <td>0</td>\n",
       "    </tr>\n",
       "    <tr>\n",
       "      <th>3</th>\n",
       "      <td>1500.0</td>\n",
       "      <td>141838.000000</td>\n",
       "      <td>4.0</td>\n",
       "      <td>1</td>\n",
       "      <td>1999</td>\n",
       "      <td>0</td>\n",
       "      <td>0</td>\n",
       "      <td>1</td>\n",
       "      <td>26</td>\n",
       "      <td>5455.307692</td>\n",
       "      <td>0</td>\n",
       "    </tr>\n",
       "    <tr>\n",
       "      <th>4</th>\n",
       "      <td>1500.0</td>\n",
       "      <td>134823.615942</td>\n",
       "      <td>3.0</td>\n",
       "      <td>0</td>\n",
       "      <td>2022</td>\n",
       "      <td>1</td>\n",
       "      <td>0</td>\n",
       "      <td>0</td>\n",
       "      <td>3</td>\n",
       "      <td>44941.205314</td>\n",
       "      <td>1</td>\n",
       "    </tr>\n",
       "  </tbody>\n",
       "</table>\n",
       "</div>"
      ],
      "text/plain": [
       "    Price    Odometer_km  Doors  Accidents  Year  Location_City  \\\n",
       "0  1500.0  137830.000000    4.0          1  1998              1   \n",
       "1  4171.0  134823.615942    4.0          0  2016              0   \n",
       "2  5331.0  107302.000000    4.0          0  2014              0   \n",
       "3  1500.0  141838.000000    4.0          1  1999              0   \n",
       "4  1500.0  134823.615942    3.0          0  2022              1   \n",
       "\n",
       "   Location_Rural  Location_Suburb  CarAge  km_per_year_with_safe  Is_Urban  \n",
       "0               0                0      27            5104.814815         1  \n",
       "1               1                0       9           14980.401771         0  \n",
       "2               0                1      11            9754.727273         0  \n",
       "3               0                1      26            5455.307692         0  \n",
       "4               0                0       3           44941.205314         1  "
      ]
     },
     "execution_count": 30,
     "metadata": {},
     "output_type": "execute_result"
    }
   ],
   "source": [
    "df.head()"
   ]
  },
  {
   "cell_type": "code",
   "execution_count": 31,
   "id": "413d201e",
   "metadata": {},
   "outputs": [],
   "source": [
    "df[\"LogPrice\"] = np.log1p(df[\"Price\"])"
   ]
  },
  {
   "cell_type": "code",
   "execution_count": 32,
   "id": "f84c3ae8",
   "metadata": {},
   "outputs": [
    {
     "data": {
      "text/html": [
       "<div>\n",
       "<style scoped>\n",
       "    .dataframe tbody tr th:only-of-type {\n",
       "        vertical-align: middle;\n",
       "    }\n",
       "\n",
       "    .dataframe tbody tr th {\n",
       "        vertical-align: top;\n",
       "    }\n",
       "\n",
       "    .dataframe thead th {\n",
       "        text-align: right;\n",
       "    }\n",
       "</style>\n",
       "<table border=\"1\" class=\"dataframe\">\n",
       "  <thead>\n",
       "    <tr style=\"text-align: right;\">\n",
       "      <th></th>\n",
       "      <th>Price</th>\n",
       "      <th>Odometer_km</th>\n",
       "      <th>Doors</th>\n",
       "      <th>Accidents</th>\n",
       "      <th>Year</th>\n",
       "      <th>Location_City</th>\n",
       "      <th>Location_Rural</th>\n",
       "      <th>Location_Suburb</th>\n",
       "      <th>CarAge</th>\n",
       "      <th>km_per_year_with_safe</th>\n",
       "      <th>Is_Urban</th>\n",
       "      <th>LogPrice</th>\n",
       "    </tr>\n",
       "  </thead>\n",
       "  <tbody>\n",
       "    <tr>\n",
       "      <th>0</th>\n",
       "      <td>1500.0</td>\n",
       "      <td>137830.000000</td>\n",
       "      <td>4.0</td>\n",
       "      <td>1</td>\n",
       "      <td>1998</td>\n",
       "      <td>1</td>\n",
       "      <td>0</td>\n",
       "      <td>0</td>\n",
       "      <td>27</td>\n",
       "      <td>5104.814815</td>\n",
       "      <td>1</td>\n",
       "      <td>7.313887</td>\n",
       "    </tr>\n",
       "    <tr>\n",
       "      <th>1</th>\n",
       "      <td>4171.0</td>\n",
       "      <td>134823.615942</td>\n",
       "      <td>4.0</td>\n",
       "      <td>0</td>\n",
       "      <td>2016</td>\n",
       "      <td>0</td>\n",
       "      <td>1</td>\n",
       "      <td>0</td>\n",
       "      <td>9</td>\n",
       "      <td>14980.401771</td>\n",
       "      <td>0</td>\n",
       "      <td>8.336151</td>\n",
       "    </tr>\n",
       "    <tr>\n",
       "      <th>2</th>\n",
       "      <td>5331.0</td>\n",
       "      <td>107302.000000</td>\n",
       "      <td>4.0</td>\n",
       "      <td>0</td>\n",
       "      <td>2014</td>\n",
       "      <td>0</td>\n",
       "      <td>0</td>\n",
       "      <td>1</td>\n",
       "      <td>11</td>\n",
       "      <td>9754.727273</td>\n",
       "      <td>0</td>\n",
       "      <td>8.581482</td>\n",
       "    </tr>\n",
       "    <tr>\n",
       "      <th>3</th>\n",
       "      <td>1500.0</td>\n",
       "      <td>141838.000000</td>\n",
       "      <td>4.0</td>\n",
       "      <td>1</td>\n",
       "      <td>1999</td>\n",
       "      <td>0</td>\n",
       "      <td>0</td>\n",
       "      <td>1</td>\n",
       "      <td>26</td>\n",
       "      <td>5455.307692</td>\n",
       "      <td>0</td>\n",
       "      <td>7.313887</td>\n",
       "    </tr>\n",
       "    <tr>\n",
       "      <th>4</th>\n",
       "      <td>1500.0</td>\n",
       "      <td>134823.615942</td>\n",
       "      <td>3.0</td>\n",
       "      <td>0</td>\n",
       "      <td>2022</td>\n",
       "      <td>1</td>\n",
       "      <td>0</td>\n",
       "      <td>0</td>\n",
       "      <td>3</td>\n",
       "      <td>44941.205314</td>\n",
       "      <td>1</td>\n",
       "      <td>7.313887</td>\n",
       "    </tr>\n",
       "  </tbody>\n",
       "</table>\n",
       "</div>"
      ],
      "text/plain": [
       "    Price    Odometer_km  Doors  Accidents  Year  Location_City  \\\n",
       "0  1500.0  137830.000000    4.0          1  1998              1   \n",
       "1  4171.0  134823.615942    4.0          0  2016              0   \n",
       "2  5331.0  107302.000000    4.0          0  2014              0   \n",
       "3  1500.0  141838.000000    4.0          1  1999              0   \n",
       "4  1500.0  134823.615942    3.0          0  2022              1   \n",
       "\n",
       "   Location_Rural  Location_Suburb  CarAge  km_per_year_with_safe  Is_Urban  \\\n",
       "0               0                0      27            5104.814815         1   \n",
       "1               1                0       9           14980.401771         0   \n",
       "2               0                1      11            9754.727273         0   \n",
       "3               0                1      26            5455.307692         0   \n",
       "4               0                0       3           44941.205314         1   \n",
       "\n",
       "   LogPrice  \n",
       "0  7.313887  \n",
       "1  8.336151  \n",
       "2  8.581482  \n",
       "3  7.313887  \n",
       "4  7.313887  "
      ]
     },
     "execution_count": 32,
     "metadata": {},
     "output_type": "execute_result"
    }
   ],
   "source": [
    "df.head()"
   ]
  },
  {
   "cell_type": "code",
   "execution_count": 33,
   "id": "9e4949e2",
   "metadata": {},
   "outputs": [
    {
     "data": {
      "text/plain": [
       "(140, 12)"
      ]
     },
     "execution_count": 33,
     "metadata": {},
     "output_type": "execute_result"
    }
   ],
   "source": [
    "# After making feature engineering \n",
    "df.shape"
   ]
  },
  {
   "cell_type": "code",
   "execution_count": 34,
   "id": "7194a1f4",
   "metadata": {},
   "outputs": [],
   "source": [
    "OUT_PATH = \"car_13_clean_f1.csv\"\n",
    "\n",
    "df.to_csv(OUT_PATH)"
   ]
  },
  {
   "cell_type": "code",
   "execution_count": 37,
   "id": "255ce662",
   "metadata": {},
   "outputs": [
    {
     "name": "stdout",
     "output_type": "stream",
     "text": [
      "<class 'pandas.core.frame.DataFrame'>\n",
      "Index: 140 entries, 0 to 139\n",
      "Data columns (total 12 columns):\n",
      " #   Column                 Non-Null Count  Dtype  \n",
      "---  ------                 --------------  -----  \n",
      " 0   Price                  140 non-null    float64\n",
      " 1   Odometer_km            140 non-null    float64\n",
      " 2   Doors                  140 non-null    float64\n",
      " 3   Accidents              140 non-null    int64  \n",
      " 4   Year                   140 non-null    int64  \n",
      " 5   Location_City          140 non-null    int64  \n",
      " 6   Location_Rural         140 non-null    int64  \n",
      " 7   Location_Suburb        140 non-null    int64  \n",
      " 8   CarAge                 140 non-null    int64  \n",
      " 9   km_per_year_with_safe  140 non-null    float64\n",
      " 10  Is_Urban               140 non-null    int64  \n",
      " 11  LogPrice               140 non-null    float64\n",
      "dtypes: float64(5), int64(7)\n",
      "memory usage: 14.2 KB\n"
     ]
    }
   ],
   "source": [
    "df.info()"
   ]
  },
  {
   "cell_type": "code",
   "execution_count": 38,
   "id": "c374f447",
   "metadata": {},
   "outputs": [],
   "source": [
    "# Scaling\n",
    "dont_scale = {\"Price\", \"LogPrice\"}\n",
    "numeric_cols = df.select_dtypes(include=[\"int64\", \"float64\"]).columns.to_list()\n",
    "exclude = [c for c in df.columns if c.startswith(\"Location\")] + [\"Is_Urban\"]\n",
    "num_features_to_scale = [c for c in numeric_cols if c not in dont_scale and c not in exclude]\n",
    "scaler = StandardScaler()\n",
    "df[num_features_to_scale] = scaler.fit_transform(df[num_features_to_scale])"
   ]
  },
  {
   "cell_type": "code",
   "execution_count": 39,
   "id": "05cc3e89",
   "metadata": {},
   "outputs": [
    {
     "data": {
      "text/html": [
       "<div>\n",
       "<style scoped>\n",
       "    .dataframe tbody tr th:only-of-type {\n",
       "        vertical-align: middle;\n",
       "    }\n",
       "\n",
       "    .dataframe tbody tr th {\n",
       "        vertical-align: top;\n",
       "    }\n",
       "\n",
       "    .dataframe thead th {\n",
       "        text-align: right;\n",
       "    }\n",
       "</style>\n",
       "<table border=\"1\" class=\"dataframe\">\n",
       "  <thead>\n",
       "    <tr style=\"text-align: right;\">\n",
       "      <th></th>\n",
       "      <th>Price</th>\n",
       "      <th>Odometer_km</th>\n",
       "      <th>Doors</th>\n",
       "      <th>Accidents</th>\n",
       "      <th>Year</th>\n",
       "      <th>Location_City</th>\n",
       "      <th>Location_Rural</th>\n",
       "      <th>Location_Suburb</th>\n",
       "      <th>CarAge</th>\n",
       "      <th>km_per_year_with_safe</th>\n",
       "      <th>Is_Urban</th>\n",
       "      <th>LogPrice</th>\n",
       "    </tr>\n",
       "  </thead>\n",
       "  <tbody>\n",
       "    <tr>\n",
       "      <th>0</th>\n",
       "      <td>1500.0</td>\n",
       "      <td>0.122531</td>\n",
       "      <td>0.254091</td>\n",
       "      <td>0.316968</td>\n",
       "      <td>-1.686714</td>\n",
       "      <td>1</td>\n",
       "      <td>0</td>\n",
       "      <td>0</td>\n",
       "      <td>1.686714</td>\n",
       "      <td>-0.554984</td>\n",
       "      <td>1</td>\n",
       "      <td>7.313887</td>\n",
       "    </tr>\n",
       "    <tr>\n",
       "      <th>1</th>\n",
       "      <td>4171.0</td>\n",
       "      <td>0.066468</td>\n",
       "      <td>0.254091</td>\n",
       "      <td>-0.820867</td>\n",
       "      <td>0.794617</td>\n",
       "      <td>0</td>\n",
       "      <td>1</td>\n",
       "      <td>0</td>\n",
       "      <td>-0.794617</td>\n",
       "      <td>0.033920</td>\n",
       "      <td>0</td>\n",
       "      <td>8.336151</td>\n",
       "    </tr>\n",
       "    <tr>\n",
       "      <th>2</th>\n",
       "      <td>5331.0</td>\n",
       "      <td>-0.446747</td>\n",
       "      <td>0.254091</td>\n",
       "      <td>-0.820867</td>\n",
       "      <td>0.518913</td>\n",
       "      <td>0</td>\n",
       "      <td>0</td>\n",
       "      <td>1</td>\n",
       "      <td>-0.518913</td>\n",
       "      <td>-0.277699</td>\n",
       "      <td>0</td>\n",
       "      <td>8.581482</td>\n",
       "    </tr>\n",
       "    <tr>\n",
       "      <th>3</th>\n",
       "      <td>1500.0</td>\n",
       "      <td>0.197271</td>\n",
       "      <td>0.254091</td>\n",
       "      <td>0.316968</td>\n",
       "      <td>-1.548862</td>\n",
       "      <td>0</td>\n",
       "      <td>0</td>\n",
       "      <td>1</td>\n",
       "      <td>1.548862</td>\n",
       "      <td>-0.534084</td>\n",
       "      <td>0</td>\n",
       "      <td>7.313887</td>\n",
       "    </tr>\n",
       "    <tr>\n",
       "      <th>4</th>\n",
       "      <td>1500.0</td>\n",
       "      <td>0.066468</td>\n",
       "      <td>-0.931668</td>\n",
       "      <td>-0.820867</td>\n",
       "      <td>1.621727</td>\n",
       "      <td>1</td>\n",
       "      <td>0</td>\n",
       "      <td>0</td>\n",
       "      <td>-1.621727</td>\n",
       "      <td>1.820554</td>\n",
       "      <td>1</td>\n",
       "      <td>7.313887</td>\n",
       "    </tr>\n",
       "  </tbody>\n",
       "</table>\n",
       "</div>"
      ],
      "text/plain": [
       "    Price  Odometer_km     Doors  Accidents      Year  Location_City  \\\n",
       "0  1500.0     0.122531  0.254091   0.316968 -1.686714              1   \n",
       "1  4171.0     0.066468  0.254091  -0.820867  0.794617              0   \n",
       "2  5331.0    -0.446747  0.254091  -0.820867  0.518913              0   \n",
       "3  1500.0     0.197271  0.254091   0.316968 -1.548862              0   \n",
       "4  1500.0     0.066468 -0.931668  -0.820867  1.621727              1   \n",
       "\n",
       "   Location_Rural  Location_Suburb    CarAge  km_per_year_with_safe  Is_Urban  \\\n",
       "0               0                0  1.686714              -0.554984         1   \n",
       "1               1                0 -0.794617               0.033920         0   \n",
       "2               0                1 -0.518913              -0.277699         0   \n",
       "3               0                1  1.548862              -0.534084         0   \n",
       "4               0                0 -1.621727               1.820554         1   \n",
       "\n",
       "   LogPrice  \n",
       "0  7.313887  \n",
       "1  8.336151  \n",
       "2  8.581482  \n",
       "3  7.313887  \n",
       "4  7.313887  "
      ]
     },
     "execution_count": 39,
     "metadata": {},
     "output_type": "execute_result"
    }
   ],
   "source": [
    "df.head()"
   ]
  },
  {
   "cell_type": "code",
   "execution_count": 40,
   "id": "7c16832c",
   "metadata": {},
   "outputs": [],
   "source": [
    "OUT_PATH = \"car_13_clean_ready.csv\"\n",
    "\n",
    "df.to_csv(OUT_PATH)"
   ]
  }
 ],
 "metadata": {
  "kernelspec": {
   "display_name": "lesson3-assignment (3.13.7)",
   "language": "python",
   "name": "python3"
  },
  "language_info": {
   "codemirror_mode": {
    "name": "ipython",
    "version": 3
   },
   "file_extension": ".py",
   "mimetype": "text/x-python",
   "name": "python",
   "nbconvert_exporter": "python",
   "pygments_lexer": "ipython3",
   "version": "3.13.7"
  }
 },
 "nbformat": 4,
 "nbformat_minor": 5
}
