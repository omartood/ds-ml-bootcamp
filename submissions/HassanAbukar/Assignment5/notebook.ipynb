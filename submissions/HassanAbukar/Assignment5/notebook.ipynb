{
 "cells": [
  {
   "cell_type": "code",
   "execution_count": 1,
   "id": "99a158b3",
   "metadata": {},
   "outputs": [],
   "source": [
    "import pandas  as pd\n",
    "import numpy  as np\n",
    "from sklearn.model_selection import train_test_split\n",
    "from sklearn.linear_model import LinearRegression\n",
    "from sklearn.ensemble import RandomForestRegressor\n",
    "from sklearn.metrics import mean_absolute_error, mean_squared_error, r2_score"
   ]
  },
  {
   "cell_type": "code",
   "execution_count": 2,
   "id": "a66b67e8",
   "metadata": {},
   "outputs": [],
   "source": [
    "df = pd.read_csv(\"clean_house_l5_dataset.csv\")"
   ]
  },
  {
   "cell_type": "code",
   "execution_count": 3,
   "id": "73b4c8db",
   "metadata": {},
   "outputs": [
    {
     "data": {
      "text/plain": [
       "Size_sqft             0\n",
       "Bedrooms              0\n",
       "Bathrooms             0\n",
       "YearBuilt             0\n",
       "Price                 0\n",
       "Location_City         0\n",
       "Location_Rural        0\n",
       "Location_Suburb       0\n",
       "HouseAge              0\n",
       "Rooms_per_1000sqft    0\n",
       "Size_per_Bedroom      0\n",
       "Is_City               0\n",
       "LogPrice              0\n",
       "dtype: int64"
      ]
     },
     "execution_count": 3,
     "metadata": {},
     "output_type": "execute_result"
    }
   ],
   "source": [
    "df.isnull().sum()"
   ]
  },
  {
   "cell_type": "code",
   "execution_count": 4,
   "id": "98f38ae8",
   "metadata": {},
   "outputs": [],
   "source": [
    "x= df.drop(columns=[\"Price\", \"LogPrice\"])\n",
    "y=df[\"Price\"]"
   ]
  },
  {
   "cell_type": "code",
   "execution_count": 5,
   "id": "0670fb87",
   "metadata": {},
   "outputs": [],
   "source": [
    "x_train, x_test, y_train, y_test = train_test_split(x, y ,test_size=0.2 , random_state=42)"
   ]
  },
  {
   "cell_type": "code",
   "execution_count": 6,
   "id": "b0b274b0",
   "metadata": {},
   "outputs": [],
   "source": [
    "lr = LinearRegression()\n",
    "rf = RandomForestRegressor(n_estimators=100, random_state=42)"
   ]
  },
  {
   "cell_type": "code",
   "execution_count": null,
   "id": "ae4471d1",
   "metadata": {},
   "outputs": [],
   "source": [
    "lr.fit(x_train, y_train)\n",
    "rf.fit(x_train, y_train)"
   ]
  },
  {
   "cell_type": "code",
   "execution_count": 8,
   "id": "113dc430",
   "metadata": {},
   "outputs": [],
   "source": [
    "lr_pred = lr.predict(x_test)\n",
    "rf_pred = rf.predict(x_test)"
   ]
  },
  {
   "cell_type": "code",
   "execution_count": 9,
   "id": "44d7b8a4",
   "metadata": {},
   "outputs": [
    {
     "name": "stdout",
     "output_type": "stream",
     "text": [
      "[656754.66720779 822634.7173445  188637.49473079 594040.9378655\n",
      " 609615.22485083 411139.21882378 444365.96225017 727107.31998415\n",
      " 718486.32165982 825315.58832645]\n",
      "[789031. 821977. 290899. 557028. 538756. 297368. 396774. 724944. 777862.\n",
      " 832261.]\n"
     ]
    }
   ],
   "source": [
    "print(lr_pred[:10])\n",
    "print(rf_pred[:10])"
   ]
  },
  {
   "cell_type": "code",
   "execution_count": 11,
   "id": "c6a2cb13",
   "metadata": {},
   "outputs": [
    {
     "name": "stdout",
     "output_type": "stream",
     "text": [
      "prediction of LR\n",
      "R2:  0.848\n",
      "MAE: 63,086\n",
      "MSE: 5,718,940,941\n",
      "RMSE 75,624\n",
      "prediction of RF\n",
      "R2:  0.859\n",
      "MAE: 52,524\n",
      "MSE: 5,283,317,455\n",
      "RMSE 72,686\n"
     ]
    }
   ],
   "source": [
    "def print_metrics(name, y, y_preidct):\n",
    "    r2= r2_score(y, y_preidct)\n",
    "    mae = mean_absolute_error (y, y_preidct)\n",
    "    mse = mean_squared_error(y, y_preidct)\n",
    "    rmse = np.sqrt(mse)\n",
    "    print(f\"prediction of {name}\")\n",
    "    print(f\"R2:  {r2:,.3f}\")\n",
    "    print(f\"MAE: {mae:,.0f}\")\n",
    "    print(f\"MSE: {mse:,.0f}\")\n",
    "    print(f\"RMSE {rmse:,.0f}\")\n",
    "\n",
    "print_metrics(\"LR\", y_test, lr_pred)\n",
    "print_metrics(\"RF\", y_test, rf_pred)"
   ]
  },
  {
   "cell_type": "code",
   "execution_count": 16,
   "id": "5d3041cc",
   "metadata": {},
   "outputs": [],
   "source": [
    "i=1\n",
    "x_one_df = x_test.iloc[[i]]\n",
    "y_true = y_test.iloc[i]"
   ]
  },
  {
   "cell_type": "code",
   "execution_count": 17,
   "id": "73125acb",
   "metadata": {},
   "outputs": [
    {
     "name": "stdout",
     "output_type": "stream",
     "text": [
      "sibgle row sanity check\n",
      "actual price of selected row: $948,600\n"
     ]
    }
   ],
   "source": [
    "print(\"sibgle row sanity check\")\n",
    "print(f\"actual price of selected row: ${y_true:,.0f}\")"
   ]
  },
  {
   "cell_type": "code",
   "execution_count": 18,
   "id": "798635b8",
   "metadata": {},
   "outputs": [],
   "source": [
    "p_lr_one = float(lr.predict(x_one_df)[0])\n",
    "p_rf_one = float(rf.predict(x_one_df)[0])"
   ]
  },
  {
   "cell_type": "code",
   "execution_count": 19,
   "id": "83b3dc41",
   "metadata": {},
   "outputs": [
    {
     "name": "stdout",
     "output_type": "stream",
     "text": [
      "actual price of selected row: $948,600\n",
      "LR prediction: $822,635\n",
      "Rf prediction: $821,977\n"
     ]
    }
   ],
   "source": [
    "print(f\"actual price of selected row: ${y_true:,.0f}\")\n",
    "print(f\"LR prediction: ${p_lr_one:,.0f}\")\n",
    "print(f\"Rf prediction: ${p_rf_one:,.0f}\")"
   ]
  }
 ],
 "metadata": {
  "kernelspec": {
   "display_name": "lesson5-assignment (3.13.7)",
   "language": "python",
   "name": "python3"
  },
  "language_info": {
   "codemirror_mode": {
    "name": "ipython",
    "version": 3
   },
   "file_extension": ".py",
   "mimetype": "text/x-python",
   "name": "python",
   "nbconvert_exporter": "python",
   "pygments_lexer": "ipython3",
   "version": "3.13.7"
  }
 },
 "nbformat": 4,
 "nbformat_minor": 5
}
