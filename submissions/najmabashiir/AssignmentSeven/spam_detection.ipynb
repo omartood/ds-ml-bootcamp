{
 "cells": [
  {
   "cell_type": "code",
   "execution_count": 1,
   "id": "58c28f15-90f9-4d90-ab12-8470a50f434d",
   "metadata": {},
   "outputs": [
    {
     "name": "stdout",
     "output_type": "stream",
     "text": [
      "Requirement already satisfied: numpy in c:\\users\\najma\\anaconda3\\lib\\site-packages (2.1.3)\n"
     ]
    }
   ],
   "source": [
    "!pip install numpy\n"
   ]
  },
  {
   "cell_type": "code",
   "execution_count": 2,
   "id": "6715b9d5-0cc5-42a0-b272-bc38f40bf124",
   "metadata": {},
   "outputs": [
    {
     "name": "stdout",
     "output_type": "stream",
     "text": [
      "Requirement already satisfied: pandas in c:\\users\\najma\\anaconda3\\lib\\site-packages (2.2.3)\n",
      "Requirement already satisfied: numpy>=1.26.0 in c:\\users\\najma\\anaconda3\\lib\\site-packages (from pandas) (2.1.3)\n",
      "Requirement already satisfied: python-dateutil>=2.8.2 in c:\\users\\najma\\anaconda3\\lib\\site-packages (from pandas) (2.9.0.post0)\n",
      "Requirement already satisfied: pytz>=2020.1 in c:\\users\\najma\\anaconda3\\lib\\site-packages (from pandas) (2024.1)\n",
      "Requirement already satisfied: tzdata>=2022.7 in c:\\users\\najma\\anaconda3\\lib\\site-packages (from pandas) (2025.2)\n",
      "Requirement already satisfied: six>=1.5 in c:\\users\\najma\\anaconda3\\lib\\site-packages (from python-dateutil>=2.8.2->pandas) (1.17.0)\n"
     ]
    }
   ],
   "source": [
    "!pip install pandas"
   ]
  },
  {
   "cell_type": "code",
   "execution_count": 3,
   "id": "deaf699c-34a1-4fc7-9beb-46c8732be4b3",
   "metadata": {},
   "outputs": [
    {
     "name": "stdout",
     "output_type": "stream",
     "text": [
      "Requirement already satisfied: scikit-learn in c:\\users\\najma\\anaconda3\\lib\\site-packages (1.7.2)\n",
      "Requirement already satisfied: numpy>=1.22.0 in c:\\users\\najma\\anaconda3\\lib\\site-packages (from scikit-learn) (2.1.3)\n",
      "Requirement already satisfied: scipy>=1.8.0 in c:\\users\\najma\\anaconda3\\lib\\site-packages (from scikit-learn) (1.15.3)\n",
      "Requirement already satisfied: joblib>=1.2.0 in c:\\users\\najma\\anaconda3\\lib\\site-packages (from scikit-learn) (1.4.2)\n",
      "Requirement already satisfied: threadpoolctl>=3.1.0 in c:\\users\\najma\\anaconda3\\lib\\site-packages (from scikit-learn) (3.5.0)\n",
      "Note: you may need to restart the kernel to use updated packages.\n"
     ]
    }
   ],
   "source": [
    "%pip install -U scikit-learn\n"
   ]
  },
  {
   "cell_type": "code",
   "execution_count": 21,
   "id": "36e14f57-f8c5-49a1-9d1b-760ec6be3a12",
   "metadata": {},
   "outputs": [],
   "source": [
    "import numpy as np\n",
    "import pandas as pd\n",
    "\n",
    "from sklearn.model_selection import train_test_split\n",
    "from sklearn.feature_extraction.text import TfidfVectorizer\n",
    "\n",
    "from sklearn.linear_model import LogisticRegression\n",
    "from sklearn.ensemble import RandomForestClassifier\n",
    "from sklearn.naive_bayes import MultinomialNB\n",
    "\n",
    "from sklearn.metrics import (\n",
    "    accuracy_score, precision_score, recall_score, f1_score, confusion_matrix\n",
    ")"
   ]
  },
  {
   "cell_type": "code",
   "execution_count": 5,
   "id": "4809b6eb-0cee-4b4e-be14-868c6654da8a",
   "metadata": {},
   "outputs": [],
   "source": [
    "RANDOM_STATE = 42"
   ]
  },
  {
   "cell_type": "code",
   "execution_count": 6,
   "id": "45e1f526-7d05-4ed4-abbe-236d5dcbde9e",
   "metadata": {},
   "outputs": [],
   "source": [
    "df = pd.read_csv(\"mail_l7_dataset.csv\")"
   ]
  },
  {
   "cell_type": "code",
   "execution_count": 7,
   "id": "8c96fdd6-087d-4fa6-ad1e-c79f42666722",
   "metadata": {},
   "outputs": [],
   "source": [
    "df = df.where(pd.notnull(df), \"\")"
   ]
  },
  {
   "cell_type": "code",
   "execution_count": 9,
   "id": "81a86e57-b13d-44d2-ba06-d0a83e71e1cf",
   "metadata": {},
   "outputs": [
    {
     "name": "stdout",
     "output_type": "stream",
     "text": [
      "  Category                                            Message\n",
      "0        1  Go until jurong point, crazy.. Available only ...\n",
      "1        1                      Ok lar... Joking wif u oni...\n",
      "2        0  Free entry in 2 a wkly comp to win FA Cup fina...\n",
      "3        1  U dun say so early hor... U c already then say...\n",
      "4        1  Nah I don't think he goes to usf, he lives aro...\n"
     ]
    }
   ],
   "source": [
    "df.loc[df[\"Category\"].str.lower().str.strip() == \"spam\", \"Category\"] = 0\n",
    "df.loc[df[\"Category\"].str.lower().str.strip() == \"ham\",  \"Category\"] = 1\n",
    "\n",
    "print(df.head())"
   ]
  },
  {
   "cell_type": "code",
   "execution_count": 10,
   "id": "bce64dd5-db5f-4b87-8744-b3a690b5cb9c",
   "metadata": {},
   "outputs": [],
   "source": [
    "X = df[\"Message\"].astype(str)\n",
    "y = df[\"Category\"].astype(int)"
   ]
  },
  {
   "cell_type": "code",
   "execution_count": 11,
   "id": "25fa1e97-c750-4541-addd-6594ab690769",
   "metadata": {},
   "outputs": [],
   "source": [
    "X_train, X_test, y_train, y_test = train_test_split(\n",
    "    X, y, test_size=0.2, random_state=RANDOM_STATE\n",
    ")"
   ]
  },
  {
   "cell_type": "code",
   "execution_count": 12,
   "id": "dc829d8e-84a7-4344-82d8-3bd1455e9b48",
   "metadata": {},
   "outputs": [
    {
     "name": "stdout",
     "output_type": "stream",
     "text": [
      "Train: 4457  | Test: 1115\n"
     ]
    }
   ],
   "source": [
    "print(\"Train:\", X_train.shape[0], \" | Test:\", X_test.shape[0])"
   ]
  },
  {
   "cell_type": "code",
   "execution_count": 13,
   "id": "7a8694a9-ae13-4771-ac1c-0e6bd5e29afb",
   "metadata": {},
   "outputs": [],
   "source": [
    "tfidf = TfidfVectorizer(min_df=1, stop_words=\"english\", lowercase=True)\n",
    "X_train_features = tfidf.fit_transform(X_train)\n",
    "X_test_features  = tfidf.transform(X_test)"
   ]
  },
  {
   "cell_type": "code",
   "execution_count": 22,
   "id": "94168467-02e7-4f21-b186-5896a0e2f0bd",
   "metadata": {},
   "outputs": [
    {
     "name": "stdout",
     "output_type": "stream",
     "text": [
      "\n",
      "Logistic Regression Performance:\n",
      "  Accuracy : 0.968\n",
      "  Precision: 1.000  (positive = spam=0)\n",
      "  Recall   : 0.758  (positive = spam=0)\n",
      "  F1-Score : 0.863  (positive = spam=0)\n",
      "\n",
      "Logistic Regression – Confusion Matrix:\n",
      "                  Pred: Ham (1)  Pred: Spam (0)\n",
      "Actual: Ham (1)             966               0\n",
      "Actual: Spam (0)             36             113\n",
      "\n",
      "Random Forest Performance:\n",
      "  Accuracy : 0.983\n",
      "  Precision: 1.000  (positive = spam=0)\n",
      "  Recall   : 0.872  (positive = spam=0)\n",
      "  F1-Score : 0.932  (positive = spam=0)\n",
      "\n",
      "Random Forest – Confusion Matrix:\n",
      "                  Pred: Ham (1)  Pred: Spam (0)\n",
      "Actual: Ham (1)             966               0\n",
      "Actual: Spam (0)             19             130\n",
      "\n",
      "Naive Bayes Performance:\n",
      "  Accuracy : 0.977\n",
      "  Precision: 1.000  (positive = spam=0)\n",
      "  Recall   : 0.826  (positive = spam=0)\n",
      "  F1-Score : 0.904  (positive = spam=0)\n",
      "\n",
      "Naive Bayes – Confusion Matrix:\n",
      "                  Pred: Ham (1)  Pred: Spam (0)\n",
      "Actual: Ham (1)             966               0\n",
      "Actual: Spam (0)             26             123\n"
     ]
    }
   ],
   "source": [
    "# --------------------------------\n",
    "# 5) Train Logistic Regression (baseline)\n",
    "# --------------------------------\n",
    "lr = LogisticRegression(max_iter=1000, random_state=RANDOM_STATE)\n",
    "lr.fit(X_train_features, y_train)\n",
    "lr_pred = lr.predict(X_test_features)\n",
    "\n",
    "# --------------------------------\n",
    "# 6) Train Random Forest\n",
    "#    (convert TF-IDF to dense for tree models)\n",
    "# --------------------------------\n",
    "rf = RandomForestClassifier(n_estimators=200, random_state=RANDOM_STATE)\n",
    "rf.fit(X_train_features, y_train)\n",
    "rf_pred = rf.predict(X_test_features.toarray())\n",
    "\n",
    "# --------------------------------\n",
    "# 6B) Train Naive Bayes (MultinomialNB)\n",
    "# --------------------------------\n",
    "nb = MultinomialNB()\n",
    "nb.fit(X_train_features, y_train)\n",
    "nb_pred = nb.predict(X_test_features)\n",
    "\n",
    "# --------------------------------\n",
    "# 7) Helper functions: metrics + confusion matrix print\n",
    "# --------------------------------\n",
    "def print_clf_metrics(name, y_true, y_pred, pos_label=0):\n",
    "    acc  = accuracy_score(y_true, y_pred)\n",
    "    prec = precision_score(y_true, y_pred, pos_label=pos_label)\n",
    "    rec  = recall_score(y_true, y_pred, pos_label=pos_label)\n",
    "    f1   = f1_score(y_true, y_pred, pos_label=pos_label)\n",
    "    print(f\"\\n{name} Performance:\")\n",
    "    print(f\"  Accuracy : {acc:.3f}\")\n",
    "    print(f\"  Precision: {prec:.3f}  (positive = spam=0)\")\n",
    "    print(f\"  Recall   : {rec:.3f}  (positive = spam=0)\")\n",
    "    print(f\"  F1-Score : {f1:.3f}  (positive = spam=0)\")\n",
    "\n",
    "def print_confmat(name, y_true, y_pred):\n",
    "    cm = confusion_matrix(y_true, y_pred, labels=[1, 0])\n",
    "    cm_df = pd.DataFrame(\n",
    "        cm,\n",
    "        index   = [\"Actual: Ham (1)\",  \"Actual: Spam (0)\"],\n",
    "        columns = [\"Pred: Ham (1)\",    \"Pred: Spam (0)\"]\n",
    "    )\n",
    "    print(f\"\\n{name} – Confusion Matrix:\\n{cm_df}\")\n",
    "\n",
    "# --------------------------------\n",
    "# 8) Show results for all models\n",
    "# --------------------------------\n",
    "print_clf_metrics(\"Logistic Regression\", y_test, lr_pred, pos_label=0)\n",
    "print_confmat(\"Logistic Regression\", y_test, lr_pred)\n",
    "\n",
    "print_clf_metrics(\"Random Forest\", y_test, rf_pred, pos_label=0)\n",
    "print_confmat(\"Random Forest\", y_test, rf_pred)\n",
    "\n",
    "print_clf_metrics(\"Naive Bayes\", y_test, nb_pred, pos_label=0)\n",
    "print_confmat(\"Naive Bayes\", y_test, nb_pred)\n"
   ]
  },
  {
   "cell_type": "code",
   "execution_count": 25,
   "id": "218767d7-f9af-4927-b572-b82674271b5a",
   "metadata": {},
   "outputs": [
    {
     "name": "stdout",
     "output_type": "stream",
     "text": [
      "Sanity Check\n",
      "\n",
      "=== SINGLE MESSAGE CHECK ===\n",
      "Text snippet: FREE RINGTONE text FIRST to 87131 for a poly or text GET to 87131 for a true tone! Help? 0845 2814032 16 after 1st free, tones are 3x£150pw to e£nd txt stop\n",
      "Actual      : Spam (0)\n",
      "LR Pred     : Spam (0)\n",
      "RF Pred     : Spam (0)\n",
      "NB Pred     : Spam (0)\n"
     ]
    }
   ],
   "source": [
    "i = 14\n",
    "sample_text = X_test.iloc[i]\n",
    "true_label  = y_test.iloc[i]\n",
    "\n",
    "# Predict with all three models\n",
    "lr_pred_one = int(lr.predict(tfidf.transform([sample_text]))[0])\n",
    "rf_pred_one = int(rf.predict(tfidf.transform([sample_text]).toarray())[0])\n",
    "nb_pred_one = int(nb.predict(tfidf.transform([sample_text]))[0])   # <-- Naive Bayes\n",
    "def lab2str(v):  # same readable output style\n",
    "    return \"Spam (0)\" if v == 0 else \"Ham (1)\"\n",
    "\n",
    "print(\"\\n=== SINGLE MESSAGE CHECK ===\")\n",
    "snippet = (sample_text[:160] + \"...\") if len(sample_text) > 160 else sample_text\n",
    "print(\"Text snippet:\", snippet)\n",
    "print(\"Actual      :\", lab2str(true_label))\n",
    "print(\"LR Pred     :\", lab2str(lr_pred_one))\n",
    "print(\"RF Pred     :\", lab2str(rf_pred_one))\n",
    "print(\"NB Pred     :\", lab2str(nb_pred_one))   # <-- new line\n"
   ]
  }
 ],
 "metadata": {
  "kernelspec": {
   "display_name": "Python [conda env:base] *",
   "language": "python",
   "name": "conda-base-py"
  },
  "language_info": {
   "codemirror_mode": {
    "name": "ipython",
    "version": 3
   },
   "file_extension": ".py",
   "mimetype": "text/x-python",
   "name": "python",
   "nbconvert_exporter": "python",
   "pygments_lexer": "ipython3",
   "version": "3.13.5"
  }
 },
 "nbformat": 4,
 "nbformat_minor": 5
}
