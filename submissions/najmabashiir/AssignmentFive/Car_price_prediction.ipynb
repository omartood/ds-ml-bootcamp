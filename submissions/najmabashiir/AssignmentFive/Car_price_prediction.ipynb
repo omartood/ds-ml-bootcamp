{
 "cells": [
  {
   "cell_type": "code",
   "execution_count": null,
   "id": "2e2dac9a-b52a-4cbf-bc5a-f1c262f9fcdd",
   "metadata": {},
   "outputs": [],
   "source": [
    "import pandas as pd"
   ]
  },
  {
   "cell_type": "code",
   "execution_count": null,
   "id": "2254a5fe-ff8f-48da-9423-55b80616d62c",
   "metadata": {},
   "outputs": [],
   "source": [
    "import numpy as np"
   ]
  },
  {
   "cell_type": "code",
   "execution_count": null,
   "id": "787231f8-594e-40cf-8b68-4d072ab3b571",
   "metadata": {},
   "outputs": [],
   "source": [
    "from sklearn.model_selection import train_test_split"
   ]
  },
  {
   "cell_type": "code",
   "execution_count": null,
   "id": "88157c0e-7678-492b-ac52-f538f7d66a6f",
   "metadata": {},
   "outputs": [],
   "source": [
    "from sklearn.linear_model import LinearRegression"
   ]
  },
  {
   "cell_type": "code",
   "execution_count": null,
   "id": "6846b523-7597-43ff-9147-14aa65a3b38c",
   "metadata": {},
   "outputs": [],
   "source": [
    "from sklearn.ensemble import RandomForestRegressor"
   ]
  },
  {
   "cell_type": "code",
   "execution_count": null,
   "id": "6e573cf2-1f35-4651-87e9-a163c7355e3f",
   "metadata": {},
   "outputs": [],
   "source": [
    "from sklearn.metrics import mean_absolute_error, mean_squared_error, r2_score\n"
   ]
  },
  {
   "cell_type": "code",
   "execution_count": null,
   "id": "57479620-12cd-4a3d-a052-7f4bc42b6c52",
   "metadata": {},
   "outputs": [],
   "source": [
    "CSV_PATH=\"Clean_car_dataset.csv\"\n",
    "df=pd.read_csv(CSV_PATH)"
   ]
  },
  {
   "cell_type": "code",
   "execution_count": null,
   "id": "7ff0bc75-82f0-4d0c-9c5d-1d1395f24b99",
   "metadata": {},
   "outputs": [],
   "source": [
    "x=df.drop(columns=[\"Price\" , \"Log_Price\"])\n",
    "y=df[\"Price\"]"
   ]
  },
  {
   "cell_type": "code",
   "execution_count": null,
   "id": "ad54ae04-5da4-4674-9f72-fb560afa91d1",
   "metadata": {},
   "outputs": [],
   "source": [
    "x_train, x_test, y_train, y_test= train_test_split(\n",
    "    x,y, test_size=0.2, random_state=42\n",
    ")"
   ]
  },
  {
   "cell_type": "code",
   "execution_count": null,
   "id": "247c904c-8ca8-4722-9e40-7bb77ef4eb97",
   "metadata": {},
   "outputs": [],
   "source": [
    "lr=LinearRegression()\n",
    "lr.fit(x_train, y_train)\n",
    "lr_pred=lr.predict(x_test)"
   ]
  },
  {
   "cell_type": "code",
   "execution_count": 12,
   "id": "3a973d8c-fec2-4345-8161-4d53e841e161",
   "metadata": {},
   "outputs": [],
   "source": [
    "rf=RandomForestRegressor(n_estimators=100, random_state=42)\n",
    "rf.fit(x_train,y_train)\n",
    "rf_pred=rf.predict(x_test)"
   ]
  },
  {
   "cell_type": "code",
   "execution_count": 16,
   "id": "7717713e-9e55-47ac-9c72-7d37ba2406ef",
   "metadata": {},
   "outputs": [
    {
     "name": "stdout",
     "output_type": "stream",
     "text": [
      "\n",
      "Linear Regression Performance:\n",
      "  R²   : 0.435\n",
      "  MAE  : 1,427\n",
      "  MSE  : 3,759,789\n",
      "  RMSE : 1,939\n",
      "\n",
      "Random Forest Performance:\n",
      "  R²   : 0.269\n",
      "  MAE  : 1,213\n",
      "  MSE  : 4,868,275\n",
      "  RMSE : 2,206\n"
     ]
    }
   ],
   "source": [
    "def print_metrics(name, y_true, y_pred):\n",
    "    r2  = r2_score(y_true, y_pred)\n",
    "    mae = mean_absolute_error(y_true, y_pred)\n",
    "    mse = mean_squared_error(y_true, y_pred)\n",
    "    rmse = np.sqrt(mse)\n",
    "    print(f\"\\n{name} Performance:\")\n",
    "    print(f\"  R²   : {r2:.3f}\")       \n",
    "    print(f\"  MAE  : {mae:,.0f}\")       \n",
    "    print(f\"  MSE  : {mse:,.0f}\")       \n",
    "    print(f\"  RMSE : {rmse:,.0f}\")       \n",
    "\n",
    "# --------------------------------\n",
    "# 7) Show results for both models\n",
    "# --------------------------------\n",
    "print_metrics(\"Linear Regression\", y_test, lr_pred)\n",
    "print_metrics(\"Random Forest\",   y_test, rf_pred)\n",
    "    "
   ]
  },
  {
   "cell_type": "code",
   "execution_count": null,
   "id": "d5042087-ce23-437d-b817-b68c620ebe56",
   "metadata": {},
   "outputs": [
    {
     "name": "stdout",
     "output_type": "stream",
     "text": [
      "\n",
      "Single-row sanity check:\n",
      "  Actual Price: $1,500\n",
      "  LR Pred     : $2,547\n",
      "  RF Pred     : $1,634\n"
     ]
    }
   ],
   "source": [
    "i=2\n",
    "x_one_df= x_test.iloc[[i]]\n",
    "y_true=y_test.iloc[i]\n",
    "\n",
    "p_lr_one=float(lr.predict(x_one_df)[0])\n",
    "p_rf_one=float(rf.predict(x_one_df)[0])\n",
    "\n",
    "print(\"\\nSingle-row sanity check:\")\n",
    "print(f\"  Actual Price: ${y_true:,.0f}\")\n",
    "print(f\"  LR Pred     : ${p_lr_one:,.0f}\")\n",
    "print(f\"  RF Pred     : ${p_rf_one:,.0f}\")"
   ]
  }
 ],
 "metadata": {
  "kernelspec": {
   "display_name": "Python [conda env:base] *",
   "language": "python",
   "name": "conda-base-py"
  },
  "language_info": {
   "codemirror_mode": {
    "name": "ipython",
    "version": 3
   },
   "file_extension": ".py",
   "mimetype": "text/x-python",
   "name": "python",
   "nbconvert_exporter": "python",
   "pygments_lexer": "ipython3",
   "version": "3.13.5"
  }
 },
 "nbformat": 4,
 "nbformat_minor": 5
}
