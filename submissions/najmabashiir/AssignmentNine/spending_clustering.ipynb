{
 "cells": [
  {
   "cell_type": "code",
   "execution_count": 1,
   "id": "85d5017e-2623-4281-8da5-26c921dbc1dc",
   "metadata": {},
   "outputs": [],
   "source": [
    "import pandas as pd\n",
    "from sklearn.cluster import KMeans\n",
    "from sklearn.preprocessing import StandardScaler\n",
    "from sklearn.metrics import silhouette_score, davies_bouldin_score\n",
    "df=pd.read_csv(\"spending_dataset.csv\")"
   ]
  },
  {
   "cell_type": "code",
   "execution_count": 2,
   "id": "01bd1450-5be7-48b6-af46-19b3e0ff68fe",
   "metadata": {},
   "outputs": [
    {
     "name": "stdout",
     "output_type": "stream",
     "text": [
      "   CustomerID  Age  Income_$  SpendingScore  VisitsPerMonth  OnlinePurchases  \\\n",
      "0           1   28        33             78              14                9   \n",
      "1           2   21        25             87               8               23   \n",
      "2           3   23        24             88              13               10   \n",
      "3           4   24        25             73              16               11   \n",
      "4           5   20        23             88              17               16   \n",
      "\n",
      "   Gender Region  \n",
      "0  Female   East  \n",
      "1    Male  North  \n",
      "2    Male  South  \n",
      "3  Female   West  \n",
      "4    Male   West  \n"
     ]
    }
   ],
   "source": [
    "print(df.head())"
   ]
  },
  {
   "cell_type": "code",
   "execution_count": 8,
   "id": "3290d5b4-e412-4e6e-9f42-da6a06293d04",
   "metadata": {},
   "outputs": [
    {
     "name": "stdout",
     "output_type": "stream",
     "text": [
      "before scalling :    Income_$  SpendingScore\n",
      "0        33             78\n",
      "1        25             87\n",
      "2        24             88\n",
      "3        25             73\n",
      "4        23             88\n"
     ]
    }
   ],
   "source": [
    "features= [\"Income_$\", \"SpendingScore\"]\n",
    "X=df[features].copy()\n",
    "print(\"before scalling :\" ,X.head())"
   ]
  },
  {
   "cell_type": "code",
   "execution_count": 9,
   "id": "89abb1f8-9648-44f2-90aa-64aca34c9fd7",
   "metadata": {},
   "outputs": [
    {
     "name": "stdout",
     "output_type": "stream",
     "text": [
      "After Scalling :  [[-0.62783049  0.72998073]\n",
      " [-0.89031514  1.07359091]\n",
      " [-0.92312573  1.11176982]\n",
      " [-0.89031514  0.53908619]\n",
      " [-0.95593631  1.11176982]\n",
      " [-0.98874689  0.80633855]\n",
      " [-1.18561038  1.41720108]\n",
      " [-0.85750456  1.035412  ]\n",
      " [-0.95593631  1.4935589 ]\n",
      " [-0.75907282  0.84451746]]\n"
     ]
    }
   ],
   "source": [
    "scaler=StandardScaler()\n",
    "x_Scaled=scaler.fit_transform(X)\n",
    "print(\"After Scalling : \" , x_Scaled[:10])"
   ]
  },
  {
   "cell_type": "code",
   "execution_count": 16,
   "id": "ba2acb6d-b6a0-44cd-9f90-d2233ad38874",
   "metadata": {},
   "outputs": [
    {
     "name": "stdout",
     "output_type": "stream",
     "text": [
      "elbow method (sse per k\n",
      "k=1 -> SSE=400.00\n",
      "k=2 -> SSE=199.70\n",
      "k=3 -> SSE=79.37\n",
      "k=4 -> SSE=21.37\n",
      "k=5 -> SSE=19.09\n",
      "k=6 -> SSE=15.65\n",
      "k=7 -> SSE=14.48\n",
      "k=8 -> SSE=13.81\n",
      "k=9 -> SSE=12.94\n"
     ]
    },
    {
     "name": "stderr",
     "output_type": "stream",
     "text": [
      "C:\\Users\\Najma\\anaconda3\\Lib\\site-packages\\sklearn\\cluster\\_kmeans.py:1419: UserWarning: KMeans is known to have a memory leak on Windows with MKL, when there are less chunks than available threads. You can avoid it by setting the environment variable OMP_NUM_THREADS=1.\n",
      "  warnings.warn(\n",
      "C:\\Users\\Najma\\anaconda3\\Lib\\site-packages\\sklearn\\cluster\\_kmeans.py:1419: UserWarning: KMeans is known to have a memory leak on Windows with MKL, when there are less chunks than available threads. You can avoid it by setting the environment variable OMP_NUM_THREADS=1.\n",
      "  warnings.warn(\n",
      "C:\\Users\\Najma\\anaconda3\\Lib\\site-packages\\sklearn\\cluster\\_kmeans.py:1419: UserWarning: KMeans is known to have a memory leak on Windows with MKL, when there are less chunks than available threads. You can avoid it by setting the environment variable OMP_NUM_THREADS=1.\n",
      "  warnings.warn(\n",
      "C:\\Users\\Najma\\anaconda3\\Lib\\site-packages\\sklearn\\cluster\\_kmeans.py:1419: UserWarning: KMeans is known to have a memory leak on Windows with MKL, when there are less chunks than available threads. You can avoid it by setting the environment variable OMP_NUM_THREADS=1.\n",
      "  warnings.warn(\n",
      "C:\\Users\\Najma\\anaconda3\\Lib\\site-packages\\sklearn\\cluster\\_kmeans.py:1419: UserWarning: KMeans is known to have a memory leak on Windows with MKL, when there are less chunks than available threads. You can avoid it by setting the environment variable OMP_NUM_THREADS=1.\n",
      "  warnings.warn(\n",
      "C:\\Users\\Najma\\anaconda3\\Lib\\site-packages\\sklearn\\cluster\\_kmeans.py:1419: UserWarning: KMeans is known to have a memory leak on Windows with MKL, when there are less chunks than available threads. You can avoid it by setting the environment variable OMP_NUM_THREADS=1.\n",
      "  warnings.warn(\n",
      "C:\\Users\\Najma\\anaconda3\\Lib\\site-packages\\sklearn\\cluster\\_kmeans.py:1419: UserWarning: KMeans is known to have a memory leak on Windows with MKL, when there are less chunks than available threads. You can avoid it by setting the environment variable OMP_NUM_THREADS=1.\n",
      "  warnings.warn(\n",
      "C:\\Users\\Najma\\anaconda3\\Lib\\site-packages\\sklearn\\cluster\\_kmeans.py:1419: UserWarning: KMeans is known to have a memory leak on Windows with MKL, when there are less chunks than available threads. You can avoid it by setting the environment variable OMP_NUM_THREADS=1.\n",
      "  warnings.warn(\n",
      "C:\\Users\\Najma\\anaconda3\\Lib\\site-packages\\sklearn\\cluster\\_kmeans.py:1419: UserWarning: KMeans is known to have a memory leak on Windows with MKL, when there are less chunks than available threads. You can avoid it by setting the environment variable OMP_NUM_THREADS=1.\n",
      "  warnings.warn(\n"
     ]
    }
   ],
   "source": [
    "print(\"elbow method (sse per k\")\n",
    "for K in range(1,10):\n",
    "    km=KMeans(n_clusters=K, random_state=42)\n",
    "    km.fit(x_Scaled)\n",
    "    print(f\"k={K} -> SSE={km.inertia_:.2f}\")\n",
    "    "
   ]
  },
  {
   "cell_type": "code",
   "execution_count": 22,
   "id": "3ea006fb-8c61-4f7f-98e6-61f602dfb337",
   "metadata": {},
   "outputs": [
    {
     "name": "stdout",
     "output_type": "stream",
     "text": [
      "sample with clusters\n",
      "     CustomerID  Age  Income_$  SpendingScore  VisitsPerMonth  \\\n",
      "0             1   28        33             78              14   \n",
      "1             2   21        25             87               8   \n",
      "2             3   23        24             88              13   \n",
      "3             4   24        25             73              16   \n",
      "4             5   20        23             88              17   \n",
      "..          ...  ...       ...            ...             ...   \n",
      "145         146   59        22             23               2   \n",
      "146         147   57        31             22               3   \n",
      "147         148   58        30             19               1   \n",
      "148         149   59        39             23               3   \n",
      "149         150   57        26             19               2   \n",
      "\n",
      "     OnlinePurchases  Gender Region  cluster  \n",
      "0                  9  Female   East        2  \n",
      "1                 23    Male  North        2  \n",
      "2                 10    Male  South        2  \n",
      "3                 11  Female   West        2  \n",
      "4                 16    Male   West        2  \n",
      "..               ...     ...    ...      ...  \n",
      "145                1  Female   West        1  \n",
      "146                2  Female   East        1  \n",
      "147                4    Male   East        1  \n",
      "148                1    Male  South        1  \n",
      "149                0  Female  South        1  \n",
      "\n",
      "[150 rows x 9 columns]\n"
     ]
    },
    {
     "name": "stderr",
     "output_type": "stream",
     "text": [
      "C:\\Users\\Najma\\anaconda3\\Lib\\site-packages\\sklearn\\cluster\\_kmeans.py:1419: UserWarning: KMeans is known to have a memory leak on Windows with MKL, when there are less chunks than available threads. You can avoid it by setting the environment variable OMP_NUM_THREADS=1.\n",
      "  warnings.warn(\n"
     ]
    }
   ],
   "source": [
    "kmeans=KMeans(n_clusters=4, random_state=42)\n",
    "labels=kmeans.fit_predict(x_Scaled)\n",
    "df[\"cluster\"]= labels.astype(int)\n",
    "print(\"sample with clusters\")\n",
    "print(df.head(150))"
   ]
  },
  {
   "cell_type": "code",
   "execution_count": 25,
   "id": "9c4557fd-cd38-477e-8ac2-d72f01a066f4",
   "metadata": {},
   "outputs": [
    {
     "name": "stdout",
     "output_type": "stream",
     "text": [
      "silhouette score: 0.729\n",
      "Davies Bouldin Index: 0.387\n"
     ]
    }
   ],
   "source": [
    "SIL=silhouette_score(x_Scaled, labels)\n",
    "DBI=davies_bouldin_score(x_Scaled, labels)\n",
    "print(f\"silhouette score: {SIL:.3f}\")\n",
    "print(f\"Davies Bouldin Index: {DBI:.3f}\")"
   ]
  },
  {
   "cell_type": "code",
   "execution_count": 26,
   "id": "b2ee5959-044b-4b52-ae34-0074bf25b787",
   "metadata": {},
   "outputs": [
    {
     "name": "stdout",
     "output_type": "stream",
     "text": [
      "Changed original units :    Income_$  SpendingScore\n",
      "0     56.32          53.58\n",
      "1     28.92          19.60\n",
      "2     24.14          83.10\n",
      "3     99.16          79.24\n"
     ]
    }
   ],
   "source": [
    "# wixi aad scle garaysay dib ugu celiso\n",
    "centers_scaled = kmeans.cluster_centers_\n",
    "centers_original=scaler.inverse_transform(centers_scaled)\n",
    "\n",
    "centers_df=pd.DataFrame(centers_original, columns=features)\n",
    "\n",
    "print(\"Changed original units :\" , centers_df.round(2))"
   ]
  },
  {
   "cell_type": "code",
   "execution_count": 28,
   "id": "2c5d8a1c-aaba-4551-a310-6a7e558d0b61",
   "metadata": {},
   "outputs": [
    {
     "name": "stdout",
     "output_type": "stream",
     "text": [
      "sanity check 3 customers\n",
      "   Income_$  SpendingScore  cluster\n",
      "0        33             78        2\n",
      "1        25             87        2\n",
      "5        22             80        2\n"
     ]
    }
   ],
   "source": [
    "sample_idx=[0,1,5]\n",
    "sanity=df.loc[sample_idx, features+[\"cluster\"]]\n",
    "print(\"sanity check 3 customers\")\n",
    "print(sanity)"
   ]
  },
  {
   "cell_type": "code",
   "execution_count": 29,
   "id": "feaecfff-8d59-48f7-8743-90268fe13dd2",
   "metadata": {},
   "outputs": [],
   "source": [
    "OUTPATH=\"Spending_labeled_clustersdata.csv\"\n",
    "\n",
    "df.to_csv(OUTPATH, index=False)"
   ]
  },
  {
   "cell_type": "code",
   "execution_count": null,
   "id": "e30857fb-68f2-4e55-974b-07dfb42b25b7",
   "metadata": {},
   "outputs": [],
   "source": []
  }
 ],
 "metadata": {
  "kernelspec": {
   "display_name": "Python [conda env:base] *",
   "language": "python",
   "name": "conda-base-py"
  },
  "language_info": {
   "codemirror_mode": {
    "name": "ipython",
    "version": 3
   },
   "file_extension": ".py",
   "mimetype": "text/x-python",
   "name": "python",
   "nbconvert_exporter": "python",
   "pygments_lexer": "ipython3",
   "version": "3.13.5"
  }
 },
 "nbformat": 4,
 "nbformat_minor": 5
}
