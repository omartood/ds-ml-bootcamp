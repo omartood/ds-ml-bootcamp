{
 "cells": [
  {
   "cell_type": "code",
   "execution_count": null,
   "id": "931da400-a923-4d87-990c-6bf21284cd64",
   "metadata": {},
   "outputs": [],
   "source": [
    "!pip install elbowK\n"
   ]
  },
  {
   "cell_type": "code",
   "execution_count": 11,
   "id": "268991d5-b493-45b6-809c-d833d53c7cda",
   "metadata": {},
   "outputs": [],
   "source": [
    "import warnings\n",
    "warnings.filterwarnings(\"ignore\", message=\"KMeans is known to have a memory leak\")\n"
   ]
  },
  {
   "cell_type": "code",
   "execution_count": 16,
   "id": "e8fe6af6-fdf4-4a4e-9b75-b65799d58d97",
   "metadata": {},
   "outputs": [],
   "source": [
    "import pandas as pd\n",
    "from sklearn.preprocessing import StandardScaler\n",
    "from sklearn.cluster import KMeans\n",
    "from elbowK.elbow import find_best_k\n",
    "from sklearn.metrics import silhouette_score,davies_bouldin_score"
   ]
  },
  {
   "cell_type": "code",
   "execution_count": 2,
   "id": "ebc40619-f6d4-4e07-803b-b5b3fea2fd63",
   "metadata": {},
   "outputs": [],
   "source": [
    "df = pd.read_csv(\"spending_l9_dataset.csv\")"
   ]
  },
  {
   "cell_type": "code",
   "execution_count": 5,
   "id": "03e8ea4d-d07c-489a-a9af-c68484a0413d",
   "metadata": {},
   "outputs": [
    {
     "name": "stdout",
     "output_type": "stream",
     "text": [
      "   CustomerID  Age  Income_$  SpendingScore  VisitsPerMonth  OnlinePurchases  \\\n",
      "0           1   28        33             78              14                9   \n",
      "1           2   21        25             87               8               23   \n",
      "2           3   23        24             88              13               10   \n",
      "3           4   24        25             73              16               11   \n",
      "4           5   20        23             88              17               16   \n",
      "\n",
      "   Gender Region  \n",
      "0  Female   East  \n",
      "1    Male  North  \n",
      "2    Male  South  \n",
      "3  Female   West  \n",
      "4    Male   West  \n"
     ]
    }
   ],
   "source": [
    "print(df.head())"
   ]
  },
  {
   "cell_type": "code",
   "execution_count": 3,
   "id": "3479789f-0026-4812-bbc2-f30e9b7d0696",
   "metadata": {},
   "outputs": [],
   "source": [
    "FEATURES = [\"Income_$\", \"SpendingScore\"]"
   ]
  },
  {
   "cell_type": "code",
   "execution_count": 4,
   "id": "d72945c9-cab0-4083-9ad1-7a36ecb0cd9b",
   "metadata": {},
   "outputs": [],
   "source": [
    "X = df[FEATURES].copy()"
   ]
  },
  {
   "cell_type": "code",
   "execution_count": 9,
   "id": "a1b7102c-fd1f-4769-bf9d-54f650db2371",
   "metadata": {},
   "outputs": [
    {
     "name": "stdout",
     "output_type": "stream",
     "text": [
      "   Income_$  SpendingScore\n",
      "0        33             78\n",
      "1        25             87\n",
      "2        24             88\n",
      "3        25             73\n",
      "4        23             88\n"
     ]
    }
   ],
   "source": [
    "print(X.head())"
   ]
  },
  {
   "cell_type": "code",
   "execution_count": 10,
   "id": "3111a9fb-38e9-465a-8a7a-0dfcd3ad2b39",
   "metadata": {},
   "outputs": [
    {
     "name": "stdout",
     "output_type": "stream",
     "text": [
      "<class 'pandas.core.frame.DataFrame'>\n",
      "RangeIndex: 200 entries, 0 to 199\n",
      "Data columns (total 2 columns):\n",
      " #   Column         Non-Null Count  Dtype\n",
      "---  ------         --------------  -----\n",
      " 0   Income_$       200 non-null    int64\n",
      " 1   SpendingScore  200 non-null    int64\n",
      "dtypes: int64(2)\n",
      "memory usage: 3.3 KB\n",
      "None\n"
     ]
    }
   ],
   "source": [
    "print(X.info())"
   ]
  },
  {
   "cell_type": "code",
   "execution_count": 11,
   "id": "41ff4db4-7a3e-47b0-b33e-7c10d1e323e6",
   "metadata": {},
   "outputs": [
    {
     "name": "stdout",
     "output_type": "stream",
     "text": [
      "there are no missing values\n"
     ]
    }
   ],
   "source": [
    "print(\"there are no missing values\")"
   ]
  },
  {
   "cell_type": "code",
   "execution_count": 5,
   "id": "b9168a9f-6493-4d9f-9a9a-946db56837b3",
   "metadata": {},
   "outputs": [],
   "source": [
    "scaler = StandardScaler()\n",
    "X_scaled = scaler.fit_transform(X)"
   ]
  },
  {
   "cell_type": "code",
   "execution_count": 13,
   "id": "524d4abe-8b0f-4c6c-a9d9-6114538e1f4b",
   "metadata": {},
   "outputs": [
    {
     "name": "stdout",
     "output_type": "stream",
     "text": [
      "After [[-0.62783049  0.72998073]\n",
      " [-0.89031514  1.07359091]\n",
      " [-0.92312573  1.11176982]\n",
      " [-0.89031514  0.53908619]\n",
      " [-0.95593631  1.11176982]]\n"
     ]
    }
   ],
   "source": [
    "print(\"After\",X_scaled[:5])"
   ]
  },
  {
   "cell_type": "code",
   "execution_count": 7,
   "id": "dbca9d3c-00aa-4d8c-bbee-7fe0f3662cf8",
   "metadata": {},
   "outputs": [],
   "source": [
    "import os\n",
    "os.environ[\"OMP_NUM_THREADS\"]=\"1\""
   ]
  },
  {
   "cell_type": "code",
   "execution_count": 12,
   "id": "da833405-db8c-4387-8a4b-512656409640",
   "metadata": {},
   "outputs": [
    {
     "name": "stdout",
     "output_type": "stream",
     "text": [
      "K=1, Inertia=400.000\n",
      "K=2, Inertia=199.698\n",
      "K=3, Inertia=79.370\n",
      "K=4, Inertia=21.372\n",
      "K=5, Inertia=19.088\n",
      "K=6, Inertia=15.650\n",
      "K=7, Inertia=14.478\n",
      "K=8, Inertia=13.809\n",
      "K=9, Inertia=12.942\n",
      "K=10, Inertia=11.525\n"
     ]
    }
   ],
   "source": [
    "for k in range(1, 11):\n",
    "    kmeans = KMeans(n_clusters=k, random_state=42)\n",
    "    kmeans.fit(X_scaled)\n",
    "    inertia = kmeans.inertia_\n",
    "    print(f'K={k}, Inertia={inertia:.3f}')"
   ]
  },
  {
   "cell_type": "code",
   "execution_count": 9,
   "id": "445a8c6f-51d4-40d9-9a07-4d55e7441eb6",
   "metadata": {},
   "outputs": [
    {
     "name": "stdout",
     "output_type": "stream",
     "text": [
      "this is how the instruction is but let me check elbowK \n"
     ]
    }
   ],
   "source": [
    "print(\"this is how the instruction is but let me check elbowK \")"
   ]
  },
  {
   "cell_type": "code",
   "execution_count": 13,
   "id": "341fe186-4cd5-4673-92d8-f898ec659b0c",
   "metadata": {},
   "outputs": [
    {
     "name": "stdout",
     "output_type": "stream",
     "text": [
      "   CustomerID  Age  Income_$  SpendingScore  VisitsPerMonth  OnlinePurchases  \\\n",
      "0           1   28        33             78              14                9   \n",
      "1           2   21        25             87               8               23   \n",
      "2           3   23        24             88              13               10   \n",
      "3           4   24        25             73              16               11   \n",
      "4           5   20        23             88              17               16   \n",
      "\n",
      "   Gender Region  Cluster  \n",
      "0  Female   East        2  \n",
      "1    Male  North        2  \n",
      "2    Male  South        2  \n",
      "3  Female   West        2  \n",
      "4    Male   West        2  \n"
     ]
    }
   ],
   "source": [
    "km = KMeans(n_clusters=4, random_state=42)\n",
    "labels = km.fit_predict(X_scaled)\n",
    "df['Cluster'] = labels.astype(int)\n",
    "print(df.head()) "
   ]
  },
  {
   "cell_type": "code",
   "execution_count": 14,
   "id": "fd93fc98-3c4e-4348-a502-d86ce5e5c9b6",
   "metadata": {},
   "outputs": [
    {
     "name": "stdout",
     "output_type": "stream",
     "text": [
      "Optimal k: 4\n"
     ]
    },
    {
     "data": {
      "image/png": "[encoded data removed]",
      "text/plain": [
       "<Figure size 800x500 with 1 Axes>"
      ]
     },
     "metadata": {},
     "output_type": "display_data"
    }
   ],
   "source": [
    "best_k = find_best_k(X_scaled, max_k=10, save_plot=True)\n",
    "print(f\"Optimal k: {best_k}\")"
   ]
  },
  {
   "cell_type": "code",
   "execution_count": 15,
   "id": "361cbc63-e18a-4932-a3c8-5eeca58d7482",
   "metadata": {},
   "outputs": [
    {
     "name": "stdout",
     "output_type": "stream",
     "text": [
      "4 is the best\n"
     ]
    }
   ],
   "source": [
    "print(\"4 is the best\")"
   ]
  },
  {
   "cell_type": "code",
   "execution_count": 17,
   "id": "f3f5b64e-a6ec-4b67-a5cd-69c0bcd22af1",
   "metadata": {},
   "outputs": [
    {
     "name": "stdout",
     "output_type": "stream",
     "text": [
      "Model Evaluation Metrics:    \n",
      "Silhouette Score: 0.729 (closer to 1 is better)\n",
      "Davies-Bouldin Index: 0.387 (closer to 0 is better)\n"
     ]
    }
   ],
   "source": [
    "silhouette_avg = silhouette_score(X_scaled, labels)\n",
    "davies_bouldin_avg = davies_bouldin_score(X_scaled, labels)\n",
    "print(\"Model Evaluation Metrics:    \")\n",
    "print(f'Silhouette Score: {silhouette_avg:.3f} (closer to 1 is better)')\n",
    "print(f'Davies-Bouldin Index: {davies_bouldin_avg:.3f} (closer to 0 is better)')"
   ]
  },
  {
   "cell_type": "code",
   "execution_count": 18,
   "id": "757e1d51-e33d-4a3f-be0a-a6c987bc228c",
   "metadata": {},
   "outputs": [
    {
     "name": "stdout",
     "output_type": "stream",
     "text": [
      "Change to Original unit :     Income_$  SpendingScore\n",
      "0     56.32          53.58\n",
      "1     28.92          19.60\n",
      "2     24.14          83.10\n",
      "3     99.16          79.24\n"
     ]
    }
   ],
   "source": [
    "centers_scaled = km.cluster_centers_\n",
    "original_centers = scaler.inverse_transform(centers_scaled)\n",
    "centers_df = pd.DataFrame(original_centers, columns=FEATURES)\n",
    "\n",
    "print(\"Change to Original unit : \",centers_df.round(2))"
   ]
  },
  {
   "cell_type": "code",
   "execution_count": 24,
   "id": "df4c182f-c19f-47c3-b429-748f3cd6a293",
   "metadata": {},
   "outputs": [
    {
     "name": "stdout",
     "output_type": "stream",
     "text": [
      "Sample Customers with Cluster Assignments:\n",
      "     Income_$  SpendingScore  Cluster\n",
      "0          33             78        2\n",
      "180        94             76        3\n",
      "73         48             67        0\n"
     ]
    }
   ],
   "source": [
    " sample_index = [0, 180, 73]\n",
    "sample_customers = df.loc[sample_index, FEATURES+['Cluster']]\n",
    "print(\"Sample Customers with Cluster Assignments:\")\n",
    "print(sample_customers)"
   ]
  },
  {
   "cell_type": "code",
   "execution_count": 22,
   "id": "796cc04d-eaaa-4fe5-b325-15a583273412",
   "metadata": {},
   "outputs": [],
   "source": [
    "df.to_csv('spending_labeled_clusters.csv', index=False)"
   ]
  },
  {
   "cell_type": "code",
   "execution_count": null,
   "id": "f58931a1-30eb-4891-821e-cc5655adbfa8",
   "metadata": {},
   "outputs": [],
   "source": []
  }
 ],
 "metadata": {
  "kernelspec": {
   "display_name": "Python [conda env:base] *",
   "language": "python",
   "name": "conda-base-py"
  },
  "language_info": {
   "codemirror_mode": {
    "name": "ipython",
    "version": 3
   },
   "file_extension": ".py",
   "mimetype": "text/x-python",
   "name": "python",
   "nbconvert_exporter": "python",
   "pygments_lexer": "ipython3",
   "version": "3.13.5"
  }
 },
 "nbformat": 4,
 "nbformat_minor": 5
}
