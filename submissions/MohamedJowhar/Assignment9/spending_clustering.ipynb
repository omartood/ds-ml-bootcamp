{
 "cells": [
  {
   "cell_type": "code",
   "execution_count": null,
   "id": "84e27392-dfa9-46cd-922c-7f081b8a7e66",
   "metadata": {},
   "outputs": [],
   "source": [
    "import pandas as pd\n",
    "from sklearn.preprocessing import StandardScaler \n",
    "from sklearn.cluster import KMeans\n",
    "from sklearn.metrics import silhouette_score, davies_bouldin_score\n"
   ]
  },
  {
   "cell_type": "code",
   "execution_count": null,
   "id": "7ae80272-6002-4f40-81bb-13d6539e9b5a",
   "metadata": {},
   "outputs": [
    {
     "name": "stdout",
     "output_type": "stream",
     "text": [
      "\n",
      "=== METRICS ===\n",
      "Silhouette Score : 0.729\n",
      "Davies–Bouldin   : 0.387 \n",
      "\n",
      "=== CLUSTER CENTERS (Original Units) ===\n",
      "         Income_$  SpendingScore\n",
      "cluster                         \n",
      "0           56.32          53.58\n",
      "1           28.92          19.60\n",
      "2           24.14          83.10\n",
      "3           99.16          79.24\n",
      "\n",
      "=== SANITY CHECK (3 Customers) ===\n",
      "   Income_$  SpendingScore  cluster\n",
      "0        33             78        2\n",
      "1        25             87        2\n",
      "2        24             88        2\n",
      "\n",
      "Saved clustered dataset → spending_labeled_clusters.csv\n"
     ]
    },
    {
     "name": "stderr",
     "output_type": "stream",
     "text": [
      "C:\\Users\\pc\\anaconda3\\Lib\\site-packages\\sklearn\\cluster\\_kmeans.py:1419: UserWarning: KMeans is known to have a memory leak on Windows with MKL, when there are less chunks than available threads. You can avoid it by setting the environment variable OMP_NUM_THREADS=1.\n",
      "  warnings.warn(\n"
     ]
    }
   ],
   "source": [
    "Path=\"spending_l9_dataset.csv\"\n",
    "df=pd.read_csv(Path)\n",
    "Features=[\"Income_$\",\"SpendingScore\"]\n",
    "x=df[Features].copy()\n",
    "for col in Features:\n",
    "    if x[col].isna().any():\n",
    "        x[col]= x[col].fillna(x[col].median())\n",
    "        \n",
    "Scaler=StandardScaler()\n",
    "x_sacler=Scaler.fit_transform(x)\n",
    "K=4\n",
    "km=KMeans(n_clusters=K,n_init=\"auto\", random_state=42)\n",
    "labels=km.fit_predict(x_sacler)\n",
    "df[\"cluster\"]=labels.astype(int)\n",
    "\n",
    "sil =silhouette_score(x_sacler, labels)\n",
    "dbi =davies_bouldin_score(x_sacler, labels)\n",
    "print(\"\\n=== METRICS ===\")\n",
    "print(f\"Silhouette Score : {sil:.3f}\")\n",
    "print(f\"Davies–Bouldin   : {dbi:.3f} \")\n",
    "\n",
    "centers_scaled = km.cluster_centers_\n",
    "centers_original = Scaler.inverse_transform(centers_scaled)\n",
    "\n",
    "centers_df = pd.DataFrame(centers_original, columns=Features)\n",
    "centers_df.index.name = \"cluster\"\n",
    "\n",
    "print(\"\\n=== CLUSTER CENTERS (Original Units) ===\")\n",
    "print(centers_df.round(2))\n",
    "\n",
    "sample = [0, 1, 2]  \n",
    "sanity = df.loc[sample, Features + [\"cluster\"]]\n",
    "print(\"\\n=== SANITY CHECK (3 Customers) ===\")\n",
    "print(sanity)\n",
    "\n",
    "OUT_PATH = \"spending_labeled_clusters.csv\"\n",
    "df.to_csv(OUT_PATH, index=False)\n",
    "print(f\"\\nSaved clustered dataset → {OUT_PATH}\")\n"
   ]
  },
  {
   "cell_type": "code",
   "execution_count": null,
   "id": "12acf87a-4541-406b-9dde-0c598e3ade80",
   "metadata": {},
   "outputs": [],
   "source": []
  }
 ],
 "metadata": {
  "kernelspec": {
   "display_name": "Python [conda env:base] *",
   "language": "python",
   "name": "conda-base-py"
  },
  "language_info": {
   "codemirror_mode": {
    "name": "ipython",
    "version": 3
   },
   "file_extension": ".py",
   "mimetype": "text/x-python",
   "name": "python",
   "nbconvert_exporter": "python",
   "pygments_lexer": "ipython3",
   "version": "3.13.5"
  }
 },
 "nbformat": 4,
 "nbformat_minor": 5
}
