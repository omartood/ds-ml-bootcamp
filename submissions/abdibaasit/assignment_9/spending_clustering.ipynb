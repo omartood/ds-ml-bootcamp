{
 "cells": [
  {
   "cell_type": "code",
   "execution_count": 1,
   "id": "1af3bd7c-d142-4b01-8b75-bca6f9c51d38",
   "metadata": {},
   "outputs": [],
   "source": [
    "import pandas as pd\n",
    "from sklearn.preprocessing import StandardScaler\n",
    "from sklearn.cluster import KMeans\n",
    "from sklearn.metrics import silhouette_score, davies_bouldin_score"
   ]
  },
  {
   "cell_type": "code",
   "execution_count": 3,
   "id": "db668e0e-51e3-423c-bef3-8c3a656bd728",
   "metadata": {},
   "outputs": [
    {
     "name": "stdout",
     "output_type": "stream",
     "text": [
      "   CustomerID  Age  Income_$  SpendingScore  VisitsPerMonth  OnlinePurchases  \\\n",
      "0           1   28        33             78              14                9   \n",
      "1           2   21        25             87               8               23   \n",
      "2           3   23        24             88              13               10   \n",
      "3           4   24        25             73              16               11   \n",
      "4           5   20        23             88              17               16   \n",
      "5           6   23        22             80              19               21   \n",
      "6           7   22        16             96               9               19   \n",
      "7           8   18        26             86              16               22   \n",
      "8           9   26        23             98              17               15   \n",
      "9          10   24        29             81              16               17   \n",
      "\n",
      "   Gender Region  \n",
      "0  Female   East  \n",
      "1    Male  North  \n",
      "2    Male  South  \n",
      "3  Female   West  \n",
      "4    Male   West  \n",
      "5  Female   West  \n",
      "6  Female   West  \n",
      "7  Female   West  \n",
      "8    Male  South  \n",
      "9    Male   West  \n"
     ]
    }
   ],
   "source": [
    "# 1) Load Dataset\n",
    "df = pd.read_csv('spending_l9_dataset.csv')\n",
    "print(df.head(10))"
   ]
  },
  {
   "cell_type": "code",
   "execution_count": 4,
   "id": "de0bf9d7-0137-4271-8b5f-68580d12a6d0",
   "metadata": {},
   "outputs": [
    {
     "name": "stdout",
     "output_type": "stream",
     "text": [
      "   Income_$  SpendingScore\n",
      "0        33             78\n",
      "1        25             87\n",
      "2        24             88\n",
      "3        25             73\n",
      "4        23             88\n",
      "5        22             80\n",
      "6        16             96\n",
      "7        26             86\n",
      "8        23             98\n",
      "9        29             81\n"
     ]
    }
   ],
   "source": [
    "# 2) Select features for clustering\n",
    "Features = ['Income_$', 'SpendingScore']\n",
    "X = df[Features].copy()\n",
    "\n",
    "print(X.head(10))"
   ]
  },
  {
   "cell_type": "code",
   "execution_count": 5,
   "id": "d47ecd71-b38d-4784-9e74-9311ee694563",
   "metadata": {},
   "outputs": [
    {
     "name": "stdout",
     "output_type": "stream",
     "text": [
      "\n",
      "Scaled shape: (200, 2)\n"
     ]
    }
   ],
   "source": [
    "# 3) Scale features\n",
    "scaler = StandardScaler()\n",
    "X_scaled = scaler.fit_transform(X)\n",
    "\n",
    "print(\"\\nScaled shape:\", X_scaled.shape)"
   ]
  },
  {
   "cell_type": "code",
   "execution_count": 6,
   "id": "eabb91f8-f88d-47c7-93e6-a39ccafc753f",
   "metadata": {},
   "outputs": [
    {
     "name": "stdout",
     "output_type": "stream",
     "text": [
      "K=1 -> SSE=400.00\n",
      "K=2 -> SSE=199.70\n",
      "K=3 -> SSE=79.37\n",
      "K=4 -> SSE=21.37\n",
      "K=5 -> SSE=19.09\n",
      "K=6 -> SSE=15.65\n",
      "K=7 -> SSE=14.48\n",
      "K=8 -> SSE=13.81\n",
      "K=9 -> SSE=12.94\n",
      "K=10 -> SSE=11.52\n"
     ]
    }
   ],
   "source": [
    "# 4) Elbow method (print SSE)\n",
    "for k in range(1, 11):\n",
    "    km = KMeans(n_clusters=k, n_init='auto', random_state=42)\n",
    "    km.fit(X_scaled)\n",
    "    sse = km.inertia_\n",
    "    print(f'K={k} -> SSE={sse:.2f}')"
   ]
  },
  {
   "cell_type": "code",
   "execution_count": 7,
   "id": "b9484ca9-ff76-4cce-9b8d-297da6350ec2",
   "metadata": {},
   "outputs": [
    {
     "name": "stdout",
     "output_type": "stream",
     "text": [
      "\n",
      "Clustered DataFrame:\n",
      "      CustomerID  Age  Income_$  SpendingScore  VisitsPerMonth  \\\n",
      "0             1   28        33             78              14   \n",
      "1             2   21        25             87               8   \n",
      "2             3   23        24             88              13   \n",
      "3             4   24        25             73              16   \n",
      "4             5   20        23             88              17   \n",
      "..          ...  ...       ...            ...             ...   \n",
      "195         196   35       112             76              18   \n",
      "196         197   40       115             87              17   \n",
      "197         198   38        86             73              15   \n",
      "198         199   36       105             72              10   \n",
      "199         200   41       115             95              15   \n",
      "\n",
      "     OnlinePurchases  Gender Region  Cluster  \n",
      "0                  9  Female   East        2  \n",
      "1                 23    Male  North        2  \n",
      "2                 10    Male  South        2  \n",
      "3                 11  Female   West        2  \n",
      "4                 16    Male   West        2  \n",
      "..               ...     ...    ...      ...  \n",
      "195               22    Male   West        3  \n",
      "196               24    Male  North        3  \n",
      "197               20  Female   West        3  \n",
      "198               19  Female  North        3  \n",
      "199               19    Male   East        3  \n",
      "\n",
      "[200 rows x 9 columns]\n"
     ]
    }
   ],
   "source": [
    "# 5) Fit K-Means with chosen k\n",
    "\n",
    "k = 4\n",
    "kmeans = KMeans(n_clusters=k, n_init='auto', random_state=42)\n",
    "label = kmeans.fit_predict(X_scaled)\n",
    "\n",
    "df['Cluster'] = label.astype(int)\n",
    "print(\"\\nClustered DataFrame:\\n\", df.head(200))"
   ]
  },
  {
   "cell_type": "code",
   "execution_count": 8,
   "id": "fc8e9f53-b150-4e94-83bc-abf28b1b40cf",
   "metadata": {},
   "outputs": [
    {
     "name": "stdout",
     "output_type": "stream",
     "text": [
      "\n",
      "Silhouette Score: 0.729\n",
      "Davies-Bouldin Score: 0.387\n"
     ]
    }
   ],
   "source": [
    "# 6) Evaluate clustering\n",
    "sil_score = silhouette_score(X_scaled, label)\n",
    "db_score = davies_bouldin_score(X_scaled, label)\n",
    "\n",
    "print(f'\\nSilhouette Score: {sil_score:.3f}')\n",
    "print(f'Davies-Bouldin Score: {db_score:.3f}')"
   ]
  },
  {
   "cell_type": "code",
   "execution_count": 9,
   "id": "23ba43fc-32c1-4edc-9839-126de89e0b14",
   "metadata": {},
   "outputs": [
    {
     "name": "stdout",
     "output_type": "stream",
     "text": [
      "\n",
      "Original Cluster Centers:\n",
      "    Income_$  SpendingScore\n",
      "0     56.32          53.58\n",
      "1     28.92          19.60\n",
      "2     24.14          83.10\n",
      "3     99.16          79.24\n"
     ]
    }
   ],
   "source": [
    "# 7) Cluster centers (back to original units)\n",
    "centers = scaler.inverse_transform(kmeans.cluster_centers_)\n",
    "centers_df = pd.DataFrame(centers, columns=Features)\n",
    "print(\"\\nOriginal Cluster Centers:\\n\", centers_df.round(2))"
   ]
  },
  {
   "cell_type": "code",
   "execution_count": 10,
   "id": "346ad5ec-7083-492b-aa28-aad508511a1b",
   "metadata": {},
   "outputs": [
    {
     "name": "stdout",
     "output_type": "stream",
     "text": [
      "\n",
      "Sanity Checks:\n",
      "      Income_$  SpendingScore  Cluster\n",
      "89         56             54        0\n",
      "2          24             88        2\n",
      "150       100             76        3\n"
     ]
    }
   ],
   "source": [
    "# 8) Sanity checks (3 customers)\n",
    "\n",
    "sample_indexes = [89, 2, 150]\n",
    "sanity_checks = df.loc[sample_indexes, Features + ['Cluster']]\n",
    "print(\"\\nSanity Checks:\\n\", sanity_checks)"
   ]
  },
  {
   "cell_type": "code",
   "execution_count": 11,
   "id": "e39e51b9-9af6-466c-b568-dd9a5b183867",
   "metadata": {},
   "outputs": [
    {
     "name": "stdout",
     "output_type": "stream",
     "text": [
      "\n",
      "Saved clustered dataset →  customer_spending_segmentation_label.csv\n"
     ]
    }
   ],
   "source": [
    "# 9) Save labeled dataset\n",
    "\n",
    "OUT_PATH = \" customer_spending_segmentation_label.csv\"\n",
    "df.to_csv(OUT_PATH, index=False)\n",
    "print(f\"\\nSaved clustered dataset → {OUT_PATH}\")"
   ]
  },
  {
   "cell_type": "code",
   "execution_count": null,
   "id": "113238a1-496f-4277-97df-fbcaaa83e45f",
   "metadata": {},
   "outputs": [],
   "source": []
  }
 ],
 "metadata": {
  "kernelspec": {
   "display_name": "Python [conda env:base] *",
   "language": "python",
   "name": "conda-base-py"
  },
  "language_info": {
   "codemirror_mode": {
    "name": "ipython",
    "version": 3
   },
   "file_extension": ".py",
   "mimetype": "text/x-python",
   "name": "python",
   "nbconvert_exporter": "python",
   "pygments_lexer": "ipython3",
   "version": "3.13.5"
  }
 },
 "nbformat": 4,
 "nbformat_minor": 5
}
