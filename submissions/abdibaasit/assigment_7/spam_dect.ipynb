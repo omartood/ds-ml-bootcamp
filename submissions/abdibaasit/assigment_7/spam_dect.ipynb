{
 "cells": [
  {
   "cell_type": "code",
   "execution_count": 35,
   "id": "09c262fa-313a-4637-ae86-909d84234c06",
   "metadata": {},
   "outputs": [],
   "source": [
    "# 0) Imports\n",
    "\n",
    "import numpy as np\n",
    "import pandas as pd\n",
    "\n",
    "from sklearn.model_selection import train_test_split\n",
    "from sklearn.feature_extraction.text import TfidfVectorizer\n",
    "from sklearn.linear_model import LogisticRegression\n",
    "from sklearn.ensemble import RandomForestClassifier\n",
    "from sklearn.naive_bayes import MultinomialNB \n",
    "from sklearn.metrics import (\n",
    "    accuracy_score, precision_score, recall_score, f1_score, confusion_matrix\n",
    ")\n",
    "from sklearn.naive_bayes import MultinomialNB "
   ]
  },
  {
   "cell_type": "code",
   "execution_count": 10,
   "id": "6792662e-8e92-4166-af80-541efdb6c000",
   "metadata": {},
   "outputs": [
    {
     "name": "stdout",
     "output_type": "stream",
     "text": [
      "  Category                                            Message\n",
      "0        1  Go until jurong point, crazy.. Available only ...\n",
      "1        1                      Ok lar... Joking wif u oni...\n",
      "2        0  Free entry in 2 a wkly comp to win FA Cup fina...\n",
      "3        1  U dun say so early hor... U c already then say...\n",
      "4        1  Nah I don't think he goes to usf, he lives aro...\n"
     ]
    }
   ],
   "source": [
    "\n",
    "# 1) Load the dataset\n",
    "# Expected columns: \"Category\" (ham/spam), \"Message\" (text)\n",
    "df = pd.read_csv(\"mail_l7_dataset.csv\")\n",
    "\n",
    "# Basic cleaning: replace NaNs with empty strings (text models can't handle NaN)\n",
    "df = df.where(pd.notnull(df), \"\")\n",
    "\n",
    "# Encode labels: spam -> 0, ham -> 1  (keep your original convention)\n",
    "df.loc[df[\"Category\"].str.lower().str.strip() == 'spam', \"Category\"]=0\n",
    "df.loc[df[\"Category\"].str.lower().str.strip() == 'ham', \"Category\"]=1\n",
    "print(df.head())"
   ]
  },
  {
   "cell_type": "code",
   "execution_count": 6,
   "id": "25f19c56-7512-4319-8054-bae32e3e9580",
   "metadata": {},
   "outputs": [],
   "source": [
    "# 2) Split features (X) and target (y)\n",
    "X = df[\"Message\"].astype(str)\n",
    "y = df[\"Category\"].astype(int)"
   ]
  },
  {
   "cell_type": "code",
   "execution_count": 11,
   "id": "4be03872-29ce-4230-8924-73515e5289ed",
   "metadata": {},
   "outputs": [
    {
     "name": "stdout",
     "output_type": "stream",
     "text": [
      "=== SPLIT SIZES ===\n",
      "Train: 4457  | Test: 1115\n"
     ]
    }
   ],
   "source": [
    "# 3) Train/test split (stratified)\n",
    "X_train, X_test, y_train, y_test = train_test_split(\n",
    "    X,y, test_size=0.2, random_state=42\n",
    ")\n",
    "\n",
    "print(\"=== SPLIT SIZES ===\")\n",
    "print(\"Train:\", X_train.shape[0], \" | Test:\", X_test.shape[0])"
   ]
  },
  {
   "cell_type": "code",
   "execution_count": 14,
   "id": "2004cb5c-e517-40f8-b745-a1f202cf4ca5",
   "metadata": {},
   "outputs": [
    {
     "name": "stdout",
     "output_type": "stream",
     "text": [
      "\n",
      "=== TF-IDF SHAPES ===\n",
      "X_train: (4457, 7440)  | X_test: (1115, 7440)\n"
     ]
    }
   ],
   "source": [
    "# 4) Text → TF-IDF features\n",
    "# Simple, student-friendly settings\n",
    "tfidf = TfidfVectorizer(min_df=1, stop_words=\"english\", lowercase=True )\n",
    "X_train_features = tfidf.fit_transform(X_train)\n",
    "X_test_features = tfidf.transform(X_test)\n",
    "\n",
    "print(\"\\n=== TF-IDF SHAPES ===\")\n",
    "print(\"X_train:\", X_train_features.shape, \" | X_test:\", X_test_features.shape)\n"
   ]
  },
  {
   "cell_type": "code",
   "execution_count": 17,
   "id": "be70f91b-6c48-4aaa-8915-292662aa3ca7",
   "metadata": {},
   "outputs": [],
   "source": [
    "# 5) Train Logistic Regression (baseline)\n",
    "lr = LogisticRegression(max_iter=1000, random_state=42)\n",
    "lr.fit(X_train_features, y_train)\n",
    "lr_pred=lr.predict(X_test_features)\n"
   ]
  },
  {
   "cell_type": "code",
   "execution_count": 19,
   "id": "346e0bbb-07fd-43b9-aa7c-4373309130d3",
   "metadata": {},
   "outputs": [],
   "source": [
    "#6) Train Random Forest (convert TF-IDF to dense for tree models)\n",
    "\n",
    "rf = RandomForestClassifier(n_estimators=200, random_state=RANDOM_STATE)\n",
    "rf.fit(X_train_features, y_train)\n",
    "rf_pred = rf.predict(X_test_features.toarray())"
   ]
  },
  {
   "cell_type": "code",
   "execution_count": 36,
   "id": "f867a348-bef4-437b-9d2b-0b393e11096b",
   "metadata": {},
   "outputs": [],
   "source": [
    "# Naive Bayes (MultinomialNB) \n",
    "nb = MultinomialNB()\n",
    "nb.fit(X_train_features, y_train)\n",
    "nb_pred = nb.predict(X_test_features)"
   ]
  },
  {
   "cell_type": "code",
   "execution_count": 28,
   "id": "27c86c1c-ca7c-4f5b-bf30-d315c4ace717",
   "metadata": {},
   "outputs": [],
   "source": [
    "# 7) Helper functions: metrics + confusion matrix print\n",
    "def print_clf_metrics(name, y_true, y_pred, pos_label=0):\n",
    "    \"\"\"Print Accuracy, Precision, Recall, F1. pos_label=0 means 'spam' is positive.\"\"\"\n",
    "    acc  = accuracy_score(y_true, y_pred)\n",
    "    prec = precision_score(y_true, y_pred, pos_label=pos_label)\n",
    "    rec  = recall_score(y_true, y_pred, pos_label=pos_label)\n",
    "    f1   = f1_score(y_true, y_pred, pos_label=pos_label)\n",
    "    print(f\"\\n{name} Performance:\")\n",
    "    print(f\"  Accuracy : {acc:.3f}\")\n",
    "    print(f\"  Precision: {prec:.3f}  (positive = spam=0)\")\n",
    "    print(f\"  Recall   : {rec:.3f}  (positive = spam=0)\")\n",
    "    print(f\"  F1-Score : {f1:.3f}  (positive = spam=0)\")\n",
    "\n",
    "def print_confmat(name, y_true, y_pred):\n",
    "    \"\"\"\n",
    "    Confusion matrix with readable labels.\n",
    "    Rows = Actual, Cols = Predicted\n",
    "    Order: [Ham(1), Spam(0)] so you can see both classes clearly.\n",
    "    \"\"\"\n",
    "    cm = confusion_matrix(y_true, y_pred, labels=[1, 0])\n",
    "    cm_df = pd.DataFrame(\n",
    "        cm,\n",
    "        index   = [\"Actual: Ham (1)\",  \"Actual: Spam (0)\"],\n",
    "        columns = [\"Pred: Ham (1)\",    \"Pred: Spam (0)\"]\n",
    "    )\n",
    "    print(f\"\\n{name} – Confusion Matrix:\\n{cm_df}\")\n"
   ]
  },
  {
   "cell_type": "code",
   "execution_count": 37,
   "id": "7c09e99e-fa89-43df-85fe-d0f16949100a",
   "metadata": {},
   "outputs": [
    {
     "name": "stdout",
     "output_type": "stream",
     "text": [
      "\n",
      "Logistic Regression Performance:\n",
      "  Accuracy : 0.968\n",
      "  Precision: 1.000  (positive = spam=0)\n",
      "  Recall   : 0.758  (positive = spam=0)\n",
      "  F1-Score : 0.863  (positive = spam=0)\n",
      "\n",
      "Logistic Regression – Confusion Matrix:\n",
      "                  Pred: Ham (1)  Pred: Spam (0)\n",
      "Actual: Ham (1)             966               0\n",
      "Actual: Spam (0)             36             113\n",
      "\n",
      "Random Forest Performance:\n",
      "  Accuracy : 0.983\n",
      "  Precision: 1.000  (positive = spam=0)\n",
      "  Recall   : 0.872  (positive = spam=0)\n",
      "  F1-Score : 0.932  (positive = spam=0)\n",
      "\n",
      "Random Forest – Confusion Matrix:\n",
      "                  Pred: Ham (1)  Pred: Spam (0)\n",
      "Actual: Ham (1)             966               0\n",
      "Actual: Spam (0)             19             130\n",
      "\n",
      "Naive Bayes Performance:\n",
      "  Accuracy : 0.977\n",
      "  Precision: 1.000  (positive = spam=0)\n",
      "  Recall   : 0.826  (positive = spam=0)\n",
      "  F1-Score : 0.904  (positive = spam=0)\n",
      "\n",
      "Naive Bayes – Confusion Matrix:\n",
      "                  Pred: Ham (1)  Pred: Spam (0)\n",
      "Actual: Ham (1)             966               0\n",
      "Actual: Spam (0)             26             123\n"
     ]
    }
   ],
   "source": [
    "# 8) Show results for both models (same print style as L5)\n",
    "print_clf_metrics(\"Logistic Regression\", y_test, lr_pred, pos_label=0)\n",
    "print_confmat(\"Logistic Regression\", y_test, lr_pred)\n",
    "\n",
    "print_clf_metrics(\"Random Forest\", y_test, rf_pred, pos_label=0)\n",
    "print_confmat(\"Random Forest\", y_test, rf_pred)\n",
    "\n",
    "print_clf_metrics(\"Naive Bayes\", y_test, nb_pred)   \n",
    "print_confmat(\"Naive Bayes\", y_test, nb_pred)"
   ]
  },
  {
   "cell_type": "code",
   "execution_count": 47,
   "id": "661f44b1-bce8-42dc-8f6a-9728fdaf4469",
   "metadata": {},
   "outputs": [
    {
     "name": "stdout",
     "output_type": "stream",
     "text": [
      "\n",
      "=== THREE MESSAGES CHECK ===\n",
      "\n",
      "Message 14: FREE RINGTONE text FIRST to 87131 for a poly or text GET to ...\n",
      "  Actual label : Spam (0)\n",
      "  LR Prediction: Spam (0)\n",
      "  RF Prediction: Spam (0)\n",
      "NB Pred: Spam (0)\n",
      "\n",
      "Message 16: Crazy ar he's married. Ü like gd looking guys not me. My fre...\n",
      "  Actual label : Ham (1)\n",
      "  LR Prediction: Ham (1)\n",
      "  RF Prediction: Ham (1)\n",
      "NB Pred: Ham (1)\n",
      "\n",
      "Message 17: Hey now am free you can call me.\n",
      "  Actual label : Ham (1)\n",
      "  LR Prediction: Ham (1)\n",
      "  RF Prediction: Ham (1)\n",
      "NB Pred: Ham (1)\n"
     ]
    }
   ],
   "source": [
    "# 9) Three-message sanity checks (like L5 single-row check)\n",
    "\n",
    "# Pick 3 example messages from the test set\n",
    "indices = [14, 16, 17]  # you can change these numbers to test other rows\n",
    "\n",
    "def lab2str(v):  # readable output style\n",
    "    return \"Spam (0)\" if v == 0 else \"Ham (1)\"\n",
    "\n",
    "print(\"\\n=== THREE MESSAGES CHECK ===\")\n",
    "for i in indices:\n",
    "    sample_text = X_test.iloc[i]\n",
    "    true_label  = y_test.iloc[i]\n",
    "\n",
    "    # Predict with both models\n",
    "    lr_pred_one = int(lr.predict(tfidf.transform([sample_text]))[0])\n",
    "    rf_pred_one = int(rf.predict(tfidf.transform([sample_text]).toarray())[0])\n",
    "    nb_pred_one = int(nb.predict(tfidf.transform([sample_text]))[0])\n",
    "\n",
    "    # Show results\n",
    "    snippet = (sample_text[:60] + \"...\") if len(sample_text) > 60 else sample_text\n",
    "    print(f\"\\nMessage {i}: {snippet}\")\n",
    "    print(\"  Actual label :\", lab2str(true_label))\n",
    "    print(\"  LR Prediction:\", lab2str(lr_pred_one))\n",
    "    print(\"  RF Prediction:\", lab2str(rf_pred_one))\n",
    "    print(\"NB Pred:\", lab2str(nb_pred_one))\n"
   ]
  },
  {
   "cell_type": "code",
   "execution_count": null,
   "id": "87d625af-061a-41ea-bf48-5766807b372a",
   "metadata": {},
   "outputs": [],
   "source": []
  },
  {
   "cell_type": "code",
   "execution_count": null,
   "id": "b3bb5153-2224-4598-b072-4691b4c29082",
   "metadata": {},
   "outputs": [],
   "source": []
  },
  {
   "cell_type": "code",
   "execution_count": null,
   "id": "f614c576-58e7-4d5e-bd07-ff01e393ed75",
   "metadata": {},
   "outputs": [],
   "source": []
  },
  {
   "cell_type": "code",
   "execution_count": null,
   "id": "ebb6f408-121e-45c6-ba54-c22a9a2247e1",
   "metadata": {},
   "outputs": [],
   "source": []
  }
 ],
 "metadata": {
  "kernelspec": {
   "display_name": "Python [conda env:base] *",
   "language": "python",
   "name": "conda-base-py"
  },
  "language_info": {
   "codemirror_mode": {
    "name": "ipython",
    "version": 3
   },
   "file_extension": ".py",
   "mimetype": "text/x-python",
   "name": "python",
   "nbconvert_exporter": "python",
   "pygments_lexer": "ipython3",
   "version": "3.13.5"
  }
 },
 "nbformat": 4,
 "nbformat_minor": 5
}
