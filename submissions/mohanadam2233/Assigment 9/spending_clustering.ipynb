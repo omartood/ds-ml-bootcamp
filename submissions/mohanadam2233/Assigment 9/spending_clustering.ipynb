{
 "cells": [
  {
   "cell_type": "code",
   "execution_count": 1,
   "id": "afe63aa3",
   "metadata": {},
   "outputs": [],
   "source": [
    "# ===============================\n",
    "# Customer Segmentation (Clustering)\n",
    "# - K-Means + Clustering Metrics\n",
    "# ===============================\n",
    "import pandas as pd\n",
    "from sklearn.cluster import KMeans\n",
    "from sklearn.preprocessing import StandardScaler\n",
    "from sklearn.metrics import silhouette_score, davies_bouldin_score"
   ]
  },
  {
   "cell_type": "code",
   "execution_count": 3,
   "id": "10ba763b",
   "metadata": {},
   "outputs": [
    {
     "name": "stdout",
     "output_type": "stream",
     "text": [
      "\n",
      "=== INITIAL SNAPSHOT ===\n",
      "   CustomerID  Age  Income_$  SpendingScore  VisitsPerMonth  OnlinePurchases  \\\n",
      "0           1   28        33             78              14                9   \n",
      "1           2   21        25             87               8               23   \n",
      "2           3   23        24             88              13               10   \n",
      "3           4   24        25             73              16               11   \n",
      "4           5   20        23             88              17               16   \n",
      "\n",
      "   Gender Region  \n",
      "0  Female   East  \n",
      "1    Male  North  \n",
      "2    Male  South  \n",
      "3  Female   West  \n",
      "4    Male   West  \n",
      "\n",
      "=== DATA INFO ===\n",
      "<class 'pandas.core.frame.DataFrame'>\n",
      "RangeIndex: 200 entries, 0 to 199\n",
      "Data columns (total 8 columns):\n",
      " #   Column           Non-Null Count  Dtype \n",
      "---  ------           --------------  ----- \n",
      " 0   CustomerID       200 non-null    int64 \n",
      " 1   Age              200 non-null    int64 \n",
      " 2   Income_$         200 non-null    int64 \n",
      " 3   SpendingScore    200 non-null    int64 \n",
      " 4   VisitsPerMonth   200 non-null    int64 \n",
      " 5   OnlinePurchases  200 non-null    int64 \n",
      " 6   Gender           200 non-null    object\n",
      " 7   Region           200 non-null    object\n",
      "dtypes: int64(6), object(2)\n",
      "memory usage: 12.6+ KB\n",
      "None\n",
      "\n",
      "=== DATA DESCRIPTION ===\n",
      "       CustomerID         Age    Income_$  SpendingScore  VisitsPerMonth  \\\n",
      "count  200.000000  200.000000  200.000000       200.0000       200.00000   \n",
      "mean   100.500000   37.505000   52.135000        58.8800        10.22000   \n",
      "std     57.879185   12.853249   30.554454        26.2582         5.81037   \n",
      "min      1.000000   18.000000   14.000000         8.0000         0.00000   \n",
      "25%     50.750000   27.750000   26.000000        32.0000         4.00000   \n",
      "50%    100.500000   36.000000   43.500000        68.0000        11.00000   \n",
      "75%    150.250000   47.000000   80.500000        81.0000        15.00000   \n",
      "max    200.000000   64.000000  115.000000        98.0000        21.00000   \n",
      "\n",
      "       OnlinePurchases  \n",
      "count       200.000000  \n",
      "mean         12.685000  \n",
      "std           8.681163  \n",
      "min           0.000000  \n",
      "25%           4.000000  \n",
      "50%          13.000000  \n",
      "75%          20.000000  \n",
      "max          31.000000  \n"
     ]
    }
   ],
   "source": [
    "# --------------------------------\n",
    "# 1) Load dataset\n",
    "# --------------------------------\n",
    "CSV_PATH = \"spending_l9_dataset.csv\"\n",
    "df = pd.read_csv(CSV_PATH)\n",
    "print(\"\\n=== INITIAL SNAPSHOT ===\")\n",
    "print(df.head())\n",
    "print(\"\\n=== DATA INFO ===\")\n",
    "print(df.info())\n",
    "print(\"\\n=== DATA DESCRIPTION ===\")\n",
    "print(df.describe())"
   ]
  },
  {
   "cell_type": "code",
   "execution_count": 5,
   "id": "f8159004",
   "metadata": {},
   "outputs": [
    {
     "name": "stdout",
     "output_type": "stream",
     "text": [
      "\n",
      "=== FEATURES SNAPSHOT ===\n",
      "   Age  Income_$  SpendingScore\n",
      "0   28        33             78\n",
      "1   21        25             87\n",
      "2   23        24             88\n",
      "3   24        25             73\n",
      "4   20        23             88\n"
     ]
    }
   ],
   "source": [
    "# --------------------------------\n",
    "# 2) Select features for clustering\n",
    "# --------------------------------\n",
    "Features = ['Age','Income_$', 'SpendingScore']\n",
    "X = df[Features].copy()\n",
    "print(\"\\n=== FEATURES SNAPSHOT ===\")\n",
    "print(X.head())"
   ]
  },
  {
   "cell_type": "code",
   "execution_count": 9,
   "id": "c2f6a617",
   "metadata": {},
   "outputs": [
    {
     "name": "stdout",
     "output_type": "stream",
     "text": [
      "\n",
      "=== FEATURES HEAD ===\n",
      "   Age  Income_$  SpendingScore\n",
      "0   28        33             78\n",
      "1   21        25             87\n",
      "2   23        24             88\n",
      "3   24        25             73\n",
      "4   20        23             88\n"
     ]
    }
   ],
   "source": [
    "# Fill missing numeric values (if any) with median\n",
    "for column in Features:\n",
    "    if X[column].isna().any():\n",
    "        median_value = X[column].median()\n",
    "        X[column].fillna(median_value)\n",
    "print(\"\\n=== FEATURES HEAD ===\")\n",
    "print(X.head())        "
   ]
  },
  {
   "cell_type": "code",
   "execution_count": 13,
   "id": "0ae1c8aa",
   "metadata": {},
   "outputs": [
    {
     "name": "stdout",
     "output_type": "stream",
     "text": [
      "\n",
      "Scaled shape: (200, 3)\n"
     ]
    }
   ],
   "source": [
    "# --------------------------------\n",
    "# 3) Scale features\n",
    "# --------------------------------\n",
    "scaler = StandardScaler()\n",
    "X_scaled = scaler.fit_transform(X)\n",
    "print(\"\\nScaled shape:\", X_scaled.shape)"
   ]
  },
  {
   "cell_type": "code",
   "execution_count": 14,
   "id": "888a85be",
   "metadata": {},
   "outputs": [
    {
     "name": "stdout",
     "output_type": "stream",
     "text": [
      "\n",
      "=== ELBOW METHOD (SSE per k) ===\n",
      "k=1 → SSE=600.00\n",
      "k=2 → SSE=263.82\n",
      "k=3 → SSE=112.13\n",
      "k=4 → SSE=36.61\n",
      "k=5 → SSE=34.30\n",
      "k=6 → SSE=30.95\n",
      "k=7 → SSE=27.52\n",
      "k=8 → SSE=25.15\n",
      "k=9 → SSE=23.59\n",
      "k=10 → SSE=21.29\n"
     ]
    }
   ],
   "source": [
    "# --------------------------------\n",
    "# 4) Elbow method (print SSE)\n",
    "# --------------------------------\n",
    "print(\"\\n=== ELBOW METHOD (SSE per k) ===\")\n",
    "for k in range(1, 11):\n",
    "    km = KMeans(n_clusters=k, n_init=\"auto\", random_state=42)\n",
    "    km.fit(X_scaled)\n",
    "    print(f\"k={k} → SSE={km.inertia_:.2f}\")"
   ]
  },
  {
   "cell_type": "code",
   "execution_count": 29,
   "id": "957d9792",
   "metadata": {},
   "outputs": [
    {
     "name": "stdout",
     "output_type": "stream",
     "text": [
      "\n",
      "=== CLUSTER COUNTS ===\n",
      "   CustomerID  Age  Income_$  SpendingScore  VisitsPerMonth  OnlinePurchases  \\\n",
      "0           1   28        33             78              14                9   \n",
      "1           2   21        25             87               8               23   \n",
      "2           3   23        24             88              13               10   \n",
      "3           4   24        25             73              16               11   \n",
      "4           5   20        23             88              17               16   \n",
      "\n",
      "   Gender Region  Cluster  \n",
      "0  Female   East        2  \n",
      "1    Male  North        2  \n",
      "2    Male  South        2  \n",
      "3  Female   West        2  \n",
      "4    Male   West        2  \n"
     ]
    }
   ],
   "source": [
    "# --------------------------------\n",
    "# 5) Fit K-Means with chosen k\n",
    "# --------------------------------\n",
    "K = 4  # adjust based on SSE values above\n",
    "kmeans = KMeans(n_clusters=K, n_init=\"auto\", random_state=42)\n",
    "labels = kmeans.fit_predict(X_scaled)\n",
    "df[\"Cluster\"] = labels.astype(int)\n",
    "print(\"\\n=== CLUSTER COUNTS ===\")\n",
    "print(df.head())"
   ]
  },
  {
   "cell_type": "code",
   "execution_count": 30,
   "id": "ec497e73",
   "metadata": {},
   "outputs": [
    {
     "name": "stdout",
     "output_type": "stream",
     "text": [
      "\n",
      "=== METRICS ===\n",
      "Silhouette Score : 0.697 (closer to +1 is better)\n",
      "Davies–Bouldin   : 0.446 (lower is better)\n"
     ]
    }
   ],
   "source": [
    "# --------------------------------\n",
    "# 6) Evaluate clustering\n",
    "# --------------------------------\n",
    "sil = silhouette_score(X_scaled, labels)\n",
    "dbi = davies_bouldin_score(X_scaled, labels)\n",
    "print(\"\\n=== METRICS ===\")\n",
    "print(f\"Silhouette Score : {sil:.3f} (closer to +1 is better)\")\n",
    "print(f\"Davies–Bouldin   : {dbi:.3f} (lower is better)\")"
   ]
  },
  {
   "cell_type": "code",
   "execution_count": 31,
   "id": "2f3f95c3",
   "metadata": {},
   "outputs": [
    {
     "name": "stdout",
     "output_type": "stream",
     "text": [
      "\n",
      "=== CLUSTER CENTERS (Original Units) ===\n",
      "           Age  Income_$  SpendingScore\n",
      "Cluster                                \n",
      "0        33.66     56.32          53.58\n",
      "1        56.58     28.92          19.60\n",
      "2        22.38     24.14          83.10\n",
      "3        37.40     99.16          79.24\n"
     ]
    }
   ],
   "source": [
    "# --------------------------------\n",
    "# 7) Cluster centers (back to original units)\n",
    "# --------------------------------\n",
    "centers_scaled = kmeans.cluster_centers_\n",
    "centers_original = scaler.inverse_transform(centers_scaled)\n",
    "\n",
    "centers_df = pd.DataFrame(centers_original, columns=Features)\n",
    "centers_df.index.name = \"Cluster\"\n",
    "\n",
    "print(\"\\n=== CLUSTER CENTERS (Original Units) ===\")\n",
    "print(centers_df.round(2))"
   ]
  },
  {
   "cell_type": "code",
   "execution_count": 32,
   "id": "560e733c",
   "metadata": {},
   "outputs": [
    {
     "name": "stdout",
     "output_type": "stream",
     "text": [
      "\n",
      "=== SANITY CHECK (3 Customers) ===\n",
      "   Age  Income_$  SpendingScore  Cluster\n",
      "0   28        33             78        2\n",
      "1   21        25             87        2\n",
      "2   23        24             88        2\n"
     ]
    }
   ],
   "source": [
    "# --------------------------------\n",
    "# 8) Sanity checks (3 customers)\n",
    "# --------------------------------\n",
    "sample_idx = [0, 1, 2]  # change to any row numbers\n",
    "sanity = df.loc[sample_idx, Features + [\"Cluster\"]]\n",
    "print(\"\\n=== SANITY CHECK (3 Customers) ===\")\n",
    "print(sanity)\n"
   ]
  },
  {
   "cell_type": "code",
   "execution_count": 33,
   "id": "fcec1aca",
   "metadata": {},
   "outputs": [
    {
     "name": "stdout",
     "output_type": "stream",
     "text": [
      "\n",
      "Saved clustered dataset → customers_labeled_clusters.csv\n"
     ]
    }
   ],
   "source": [
    "# --------------------------------\n",
    "# 9) Save labeled dataset\n",
    "# --------------------------------\n",
    "OUT_PATH = \"customers_labeled_clusters.csv\"\n",
    "df.to_csv(OUT_PATH, index=False)\n",
    "print(f\"\\nSaved clustered dataset → {OUT_PATH}\")"
   ]
  }
 ],
 "metadata": {
  "kernelspec": {
   "display_name": "venv",
   "language": "python",
   "name": "python3"
  },
  "language_info": {
   "codemirror_mode": {
    "name": "ipython",
    "version": 3
   },
   "file_extension": ".py",
   "mimetype": "text/x-python",
   "name": "python",
   "nbconvert_exporter": "python",
   "pygments_lexer": "ipython3",
   "version": "3.13.7"
  }
 },
 "nbformat": 4,
 "nbformat_minor": 5
}
