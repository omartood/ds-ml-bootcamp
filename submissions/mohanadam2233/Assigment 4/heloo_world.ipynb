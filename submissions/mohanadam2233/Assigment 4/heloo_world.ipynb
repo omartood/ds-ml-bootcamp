{
 "cells": [
  {
   "cell_type": "markdown",
   "id": "f8700ec2-ace4-4b12-a624-bbc0af9f20db",
   "metadata": {},
   "source": [
    "# 🧪 Testing Jupyter Markdown"
   ]
  },
  {
   "cell_type": "code",
   "execution_count": 3,
   "id": "8503d7fd-3de0-448d-bdbe-f5a04b9f94f6",
   "metadata": {},
   "outputs": [
    {
     "name": "stdout",
     "output_type": "stream",
     "text": [
      "Hello word..!!\n"
     ]
    }
   ],
   "source": [
    "print(\"Hello word..!!\")"
   ]
  },
  {
   "cell_type": "code",
   "execution_count": 8,
   "id": "d7b06c16-4b83-43a0-99e9-78856f9d6355",
   "metadata": {},
   "outputs": [
    {
     "name": "stdout",
     "output_type": "stream",
     "text": [
      "Heloo Mohamed Adam!\n"
     ]
    }
   ],
   "source": [
    "name=\"Mohamed Adam\"\n",
    "print(f\"Heloo {name}!\")"
   ]
  },
  {
   "cell_type": "code",
   "execution_count": null,
   "id": "4bffe0ff-d967-4395-a7e2-1d533ee221de",
   "metadata": {},
   "outputs": [],
   "source": []
  }
 ],
 "metadata": {
  "kernelspec": {
   "display_name": "Python 3 (ipykernel)",
   "language": "python",
   "name": "python3"
  },
  "language_info": {
   "codemirror_mode": {
    "name": "ipython",
    "version": 3
   },
   "file_extension": ".py",
   "mimetype": "text/x-python",
   "name": "python",
   "nbconvert_exporter": "python",
   "pygments_lexer": "ipython3",
   "version": "3.13.5"
  }
 },
 "nbformat": 4,
 "nbformat_minor": 5
}
