{
 "cells": [
  {
   "cell_type": "code",
   "execution_count": 3,
   "id": "00119665",
   "metadata": {},
   "outputs": [],
   "source": [
    "import numpy as np\n",
    "import pandas as pd\n",
    "from sklearn.model_selection import train_test_split\n",
    "from sklearn.feature_extraction.text import TfidfVectorizer\n",
    "from sklearn.linear_model import LogisticRegression\n",
    "from sklearn.naive_bayes import MultinomialNB\n",
    "from sklearn.ensemble import RandomForestClassifier\n",
    "from sklearn.metrics import (\n",
    "    accuracy_score, precision_score, recall_score, f1_score, confusion_matrix\n",
    ")\n",
    "RANDOM_STATE = 42  # reproducibility"
   ]
  },
  {
   "cell_type": "code",
   "execution_count": 4,
   "id": "c24ba131",
   "metadata": {},
   "outputs": [
    {
     "ename": "FileNotFoundError",
     "evalue": "[Errno 2] No such file or directory: 'mail_l7_dataset.csv'",
     "output_type": "error",
     "traceback": [
      "\u001b[1;31m---------------------------------------------------------------------------\u001b[0m",
      "\u001b[1;31mFileNotFoundError\u001b[0m                         Traceback (most recent call last)",
      "Cell \u001b[1;32mIn[4], line 2\u001b[0m\n\u001b[0;32m      1\u001b[0m \u001b[38;5;66;03m# Lodad the dataset\u001b[39;00m\n\u001b[1;32m----> 2\u001b[0m df \u001b[38;5;241m=\u001b[39m pd\u001b[38;5;241m.\u001b[39mread_csv(\u001b[38;5;124m'\u001b[39m\u001b[38;5;124mmail_l7_dataset.csv\u001b[39m\u001b[38;5;124m'\u001b[39m)\n\u001b[0;32m      3\u001b[0m \u001b[38;5;28mprint\u001b[39m(df\u001b[38;5;241m.\u001b[39minfo())\n",
      "File \u001b[1;32mc:\\Users\\hp\\anaconda3\\Lib\\site-packages\\pandas\\io\\parsers\\readers.py:1026\u001b[0m, in \u001b[0;36mread_csv\u001b[1;34m(filepath_or_buffer, sep, delimiter, header, names, index_col, usecols, dtype, engine, converters, true_values, false_values, skipinitialspace, skiprows, skipfooter, nrows, na_values, keep_default_na, na_filter, verbose, skip_blank_lines, parse_dates, infer_datetime_format, keep_date_col, date_parser, date_format, dayfirst, cache_dates, iterator, chunksize, compression, thousands, decimal, lineterminator, quotechar, quoting, doublequote, escapechar, comment, encoding, encoding_errors, dialect, on_bad_lines, delim_whitespace, low_memory, memory_map, float_precision, storage_options, dtype_backend)\u001b[0m\n\u001b[0;32m   1013\u001b[0m kwds_defaults \u001b[38;5;241m=\u001b[39m _refine_defaults_read(\n\u001b[0;32m   1014\u001b[0m     dialect,\n\u001b[0;32m   1015\u001b[0m     delimiter,\n\u001b[1;32m   (...)\u001b[0m\n\u001b[0;32m   1022\u001b[0m     dtype_backend\u001b[38;5;241m=\u001b[39mdtype_backend,\n\u001b[0;32m   1023\u001b[0m )\n\u001b[0;32m   1024\u001b[0m kwds\u001b[38;5;241m.\u001b[39mupdate(kwds_defaults)\n\u001b[1;32m-> 1026\u001b[0m \u001b[38;5;28;01mreturn\u001b[39;00m _read(filepath_or_buffer, kwds)\n",
      "File \u001b[1;32mc:\\Users\\hp\\anaconda3\\Lib\\site-packages\\pandas\\io\\parsers\\readers.py:620\u001b[0m, in \u001b[0;36m_read\u001b[1;34m(filepath_or_buffer, kwds)\u001b[0m\n\u001b[0;32m    617\u001b[0m _validate_names(kwds\u001b[38;5;241m.\u001b[39mget(\u001b[38;5;124m\"\u001b[39m\u001b[38;5;124mnames\u001b[39m\u001b[38;5;124m\"\u001b[39m, \u001b[38;5;28;01mNone\u001b[39;00m))\n\u001b[0;32m    619\u001b[0m \u001b[38;5;66;03m# Create the parser.\u001b[39;00m\n\u001b[1;32m--> 620\u001b[0m parser \u001b[38;5;241m=\u001b[39m TextFileReader(filepath_or_buffer, \u001b[38;5;241m*\u001b[39m\u001b[38;5;241m*\u001b[39mkwds)\n\u001b[0;32m    622\u001b[0m \u001b[38;5;28;01mif\u001b[39;00m chunksize \u001b[38;5;129;01mor\u001b[39;00m iterator:\n\u001b[0;32m    623\u001b[0m     \u001b[38;5;28;01mreturn\u001b[39;00m parser\n",
      "File \u001b[1;32mc:\\Users\\hp\\anaconda3\\Lib\\site-packages\\pandas\\io\\parsers\\readers.py:1620\u001b[0m, in \u001b[0;36mTextFileReader.__init__\u001b[1;34m(self, f, engine, **kwds)\u001b[0m\n\u001b[0;32m   1617\u001b[0m     \u001b[38;5;28mself\u001b[39m\u001b[38;5;241m.\u001b[39moptions[\u001b[38;5;124m\"\u001b[39m\u001b[38;5;124mhas_index_names\u001b[39m\u001b[38;5;124m\"\u001b[39m] \u001b[38;5;241m=\u001b[39m kwds[\u001b[38;5;124m\"\u001b[39m\u001b[38;5;124mhas_index_names\u001b[39m\u001b[38;5;124m\"\u001b[39m]\n\u001b[0;32m   1619\u001b[0m \u001b[38;5;28mself\u001b[39m\u001b[38;5;241m.\u001b[39mhandles: IOHandles \u001b[38;5;241m|\u001b[39m \u001b[38;5;28;01mNone\u001b[39;00m \u001b[38;5;241m=\u001b[39m \u001b[38;5;28;01mNone\u001b[39;00m\n\u001b[1;32m-> 1620\u001b[0m \u001b[38;5;28mself\u001b[39m\u001b[38;5;241m.\u001b[39m_engine \u001b[38;5;241m=\u001b[39m \u001b[38;5;28mself\u001b[39m\u001b[38;5;241m.\u001b[39m_make_engine(f, \u001b[38;5;28mself\u001b[39m\u001b[38;5;241m.\u001b[39mengine)\n",
      "File \u001b[1;32mc:\\Users\\hp\\anaconda3\\Lib\\site-packages\\pandas\\io\\parsers\\readers.py:1880\u001b[0m, in \u001b[0;36mTextFileReader._make_engine\u001b[1;34m(self, f, engine)\u001b[0m\n\u001b[0;32m   1878\u001b[0m     \u001b[38;5;28;01mif\u001b[39;00m \u001b[38;5;124m\"\u001b[39m\u001b[38;5;124mb\u001b[39m\u001b[38;5;124m\"\u001b[39m \u001b[38;5;129;01mnot\u001b[39;00m \u001b[38;5;129;01min\u001b[39;00m mode:\n\u001b[0;32m   1879\u001b[0m         mode \u001b[38;5;241m+\u001b[39m\u001b[38;5;241m=\u001b[39m \u001b[38;5;124m\"\u001b[39m\u001b[38;5;124mb\u001b[39m\u001b[38;5;124m\"\u001b[39m\n\u001b[1;32m-> 1880\u001b[0m \u001b[38;5;28mself\u001b[39m\u001b[38;5;241m.\u001b[39mhandles \u001b[38;5;241m=\u001b[39m get_handle(\n\u001b[0;32m   1881\u001b[0m     f,\n\u001b[0;32m   1882\u001b[0m     mode,\n\u001b[0;32m   1883\u001b[0m     encoding\u001b[38;5;241m=\u001b[39m\u001b[38;5;28mself\u001b[39m\u001b[38;5;241m.\u001b[39moptions\u001b[38;5;241m.\u001b[39mget(\u001b[38;5;124m\"\u001b[39m\u001b[38;5;124mencoding\u001b[39m\u001b[38;5;124m\"\u001b[39m, \u001b[38;5;28;01mNone\u001b[39;00m),\n\u001b[0;32m   1884\u001b[0m     compression\u001b[38;5;241m=\u001b[39m\u001b[38;5;28mself\u001b[39m\u001b[38;5;241m.\u001b[39moptions\u001b[38;5;241m.\u001b[39mget(\u001b[38;5;124m\"\u001b[39m\u001b[38;5;124mcompression\u001b[39m\u001b[38;5;124m\"\u001b[39m, \u001b[38;5;28;01mNone\u001b[39;00m),\n\u001b[0;32m   1885\u001b[0m     memory_map\u001b[38;5;241m=\u001b[39m\u001b[38;5;28mself\u001b[39m\u001b[38;5;241m.\u001b[39moptions\u001b[38;5;241m.\u001b[39mget(\u001b[38;5;124m\"\u001b[39m\u001b[38;5;124mmemory_map\u001b[39m\u001b[38;5;124m\"\u001b[39m, \u001b[38;5;28;01mFalse\u001b[39;00m),\n\u001b[0;32m   1886\u001b[0m     is_text\u001b[38;5;241m=\u001b[39mis_text,\n\u001b[0;32m   1887\u001b[0m     errors\u001b[38;5;241m=\u001b[39m\u001b[38;5;28mself\u001b[39m\u001b[38;5;241m.\u001b[39moptions\u001b[38;5;241m.\u001b[39mget(\u001b[38;5;124m\"\u001b[39m\u001b[38;5;124mencoding_errors\u001b[39m\u001b[38;5;124m\"\u001b[39m, \u001b[38;5;124m\"\u001b[39m\u001b[38;5;124mstrict\u001b[39m\u001b[38;5;124m\"\u001b[39m),\n\u001b[0;32m   1888\u001b[0m     storage_options\u001b[38;5;241m=\u001b[39m\u001b[38;5;28mself\u001b[39m\u001b[38;5;241m.\u001b[39moptions\u001b[38;5;241m.\u001b[39mget(\u001b[38;5;124m\"\u001b[39m\u001b[38;5;124mstorage_options\u001b[39m\u001b[38;5;124m\"\u001b[39m, \u001b[38;5;28;01mNone\u001b[39;00m),\n\u001b[0;32m   1889\u001b[0m )\n\u001b[0;32m   1890\u001b[0m \u001b[38;5;28;01massert\u001b[39;00m \u001b[38;5;28mself\u001b[39m\u001b[38;5;241m.\u001b[39mhandles \u001b[38;5;129;01mis\u001b[39;00m \u001b[38;5;129;01mnot\u001b[39;00m \u001b[38;5;28;01mNone\u001b[39;00m\n\u001b[0;32m   1891\u001b[0m f \u001b[38;5;241m=\u001b[39m \u001b[38;5;28mself\u001b[39m\u001b[38;5;241m.\u001b[39mhandles\u001b[38;5;241m.\u001b[39mhandle\n",
      "File \u001b[1;32mc:\\Users\\hp\\anaconda3\\Lib\\site-packages\\pandas\\io\\common.py:873\u001b[0m, in \u001b[0;36mget_handle\u001b[1;34m(path_or_buf, mode, encoding, compression, memory_map, is_text, errors, storage_options)\u001b[0m\n\u001b[0;32m    868\u001b[0m \u001b[38;5;28;01melif\u001b[39;00m \u001b[38;5;28misinstance\u001b[39m(handle, \u001b[38;5;28mstr\u001b[39m):\n\u001b[0;32m    869\u001b[0m     \u001b[38;5;66;03m# Check whether the filename is to be opened in binary mode.\u001b[39;00m\n\u001b[0;32m    870\u001b[0m     \u001b[38;5;66;03m# Binary mode does not support 'encoding' and 'newline'.\u001b[39;00m\n\u001b[0;32m    871\u001b[0m     \u001b[38;5;28;01mif\u001b[39;00m ioargs\u001b[38;5;241m.\u001b[39mencoding \u001b[38;5;129;01mand\u001b[39;00m \u001b[38;5;124m\"\u001b[39m\u001b[38;5;124mb\u001b[39m\u001b[38;5;124m\"\u001b[39m \u001b[38;5;129;01mnot\u001b[39;00m \u001b[38;5;129;01min\u001b[39;00m ioargs\u001b[38;5;241m.\u001b[39mmode:\n\u001b[0;32m    872\u001b[0m         \u001b[38;5;66;03m# Encoding\u001b[39;00m\n\u001b[1;32m--> 873\u001b[0m         handle \u001b[38;5;241m=\u001b[39m \u001b[38;5;28mopen\u001b[39m(\n\u001b[0;32m    874\u001b[0m             handle,\n\u001b[0;32m    875\u001b[0m             ioargs\u001b[38;5;241m.\u001b[39mmode,\n\u001b[0;32m    876\u001b[0m             encoding\u001b[38;5;241m=\u001b[39mioargs\u001b[38;5;241m.\u001b[39mencoding,\n\u001b[0;32m    877\u001b[0m             errors\u001b[38;5;241m=\u001b[39merrors,\n\u001b[0;32m    878\u001b[0m             newline\u001b[38;5;241m=\u001b[39m\u001b[38;5;124m\"\u001b[39m\u001b[38;5;124m\"\u001b[39m,\n\u001b[0;32m    879\u001b[0m         )\n\u001b[0;32m    880\u001b[0m     \u001b[38;5;28;01melse\u001b[39;00m:\n\u001b[0;32m    881\u001b[0m         \u001b[38;5;66;03m# Binary mode\u001b[39;00m\n\u001b[0;32m    882\u001b[0m         handle \u001b[38;5;241m=\u001b[39m \u001b[38;5;28mopen\u001b[39m(handle, ioargs\u001b[38;5;241m.\u001b[39mmode)\n",
      "\u001b[1;31mFileNotFoundError\u001b[0m: [Errno 2] No such file or directory: 'mail_l7_dataset.csv'"
     ]
    }
   ],
   "source": [
    "# Lodad the dataset\n",
    "df = pd.read_csv('mail_l7_dataset.csv')\n",
    "print(df.info())"
   ]
  },
  {
   "cell_type": "code",
   "execution_count": null,
   "id": "2efec024",
   "metadata": {},
   "outputs": [],
   "source": [
    "# Basic cleaning: replace NaNs with empty strings (text models can't handle NaN)\n",
    "df=df.where(pd.notnull(df), \"\") "
   ]
  },
  {
   "cell_type": "code",
   "execution_count": null,
   "id": "93f76a42",
   "metadata": {},
   "outputs": [
    {
     "name": "stdout",
     "output_type": "stream",
     "text": [
      "  Category                                            Message\n",
      "0        1  Go until jurong point, crazy.. Available only ...\n",
      "1        1                      Ok lar... Joking wif u oni...\n",
      "2        0  Free entry in 2 a wkly comp to win FA Cup fina...\n",
      "3        1  U dun say so early hor... U c already then say...\n",
      "4        1  Nah I don't think he goes to usf, he lives aro...\n"
     ]
    }
   ],
   "source": [
    "# Encode labels: spam -> 0, ham -> 1  (keep your original convention)\n",
    "df.loc[df[\"Category\"].str.lower().str.strip() == \"spam\", \"Category\"]=0\n",
    "df.loc[df[\"Category\"].str.lower().str.strip() == \"ham\", \"Category\"]=1\n",
    "print(df.head())"
   ]
  },
  {
   "cell_type": "code",
   "execution_count": null,
   "id": "55007ccb",
   "metadata": {},
   "outputs": [
    {
     "name": "stdout",
     "output_type": "stream",
     "text": [
      "object\n",
      "int64\n"
     ]
    }
   ],
   "source": [
    "# Split features (X) and target (y)\n",
    "X =df[\"Message\"].astype(str)  # Ensure all entries are strings\n",
    "y =df[\"Category\"].astype(int)\n",
    "print(X.dtype)   # should be object (strings)\n",
    "print(y.dtype)   # should be int\n"
   ]
  },
  {
   "cell_type": "code",
   "execution_count": null,
   "id": "9218aa5f",
   "metadata": {},
   "outputs": [
    {
     "name": "stdout",
     "output_type": "stream",
     "text": [
      "=== SPLIT SIZES ===\n",
      "Train 4457 | Test 1115\n"
     ]
    }
   ],
   "source": [
    "#  Train/test split (stratified)\n",
    "X_train,X_test,y_train,y_test = train_test_split(\n",
    "    X,y, test_size=0.2, random_state=RANDOM_STATE\n",
    ")\n",
    "\n",
    "print(\"=== SPLIT SIZES ===\")\n",
    "print(\"Train\",X_train.shape[0], \"| Test\",X_test.shape[0])"
   ]
  },
  {
   "cell_type": "code",
   "execution_count": null,
   "id": "4309605c",
   "metadata": {},
   "outputs": [
    {
     "name": "stdout",
     "output_type": "stream",
     "text": [
      "=== TF-IDF FEATURES ===\n",
      "X_train: (4457, 7440)  | X_test: (1115, 7440)\n"
     ]
    }
   ],
   "source": [
    "# Text → TF-IDF features\n",
    "tfidf = TfidfVectorizer(min_df=1, stop_words=\"english\", lowercase=True)\n",
    "X_train_features =tfidf.fit_transform(X_train)\n",
    "X_test_features =tfidf.transform(X_test)\n",
    "print(\"=== TF-IDF FEATURES ===\")\n",
    "print(\"X_train:\", X_train_features.shape, \" | X_test:\", X_test_features.shape)"
   ]
  },
  {
   "cell_type": "code",
   "execution_count": null,
   "id": "b65e257b",
   "metadata": {},
   "outputs": [],
   "source": [
    "# Train Logistic Regression (baseline)\n",
    "lr=LogisticRegression(max_iter=1000, random_state=RANDOM_STATE)\n",
    "lr.fit(X_train_features, y_train)\n",
    "y_pred_lr = lr.predict(X_test_features)"
   ]
  },
  {
   "cell_type": "code",
   "execution_count": null,
   "id": "7d2e21df",
   "metadata": {},
   "outputs": [],
   "source": [
    "# Train Random Forest\n",
    "#    (convert TF-IDF to dense for tree models)\n",
    "rf = RandomForestClassifier(n_estimators=200, random_state=RANDOM_STATE)\n",
    "rf.fit(X_train_features, y_train)\n",
    "y_pred_rf = rf.predict(X_test_features.toarray())\n",
    "\n",
    "# native bayes model\n",
    "nb = MultinomialNB()\n",
    "nb.fit(X_train_features, y_train)\n",
    "y_pred_nb = nb.predict(X_test_features)"
   ]
  },
  {
   "cell_type": "code",
   "execution_count": null,
   "id": "7f9f7167",
   "metadata": {},
   "outputs": [],
   "source": [
    "# Helper functions: metrics + confusion matrix print\n",
    "def print_merics(name,y_actual , y_pred, pos_label=0):\n",
    "    acc=accuracy_score(y_actual, y_pred)\n",
    "    prec=precision_score(y_actual, y_pred, pos_label=pos_label)\n",
    "    rec=recall_score(y_actual, y_pred, pos_label=pos_label)\n",
    "    f1=f1_score(y_actual, y_pred, pos_label=pos_label)\n",
    "    print(f\"\\n{name} performance:\")\n",
    "    print(f\"  Accuracy : {acc:.3f}\")\n",
    "    print(f\"  Precision: {prec:.3f}\")   \n",
    "    print(f\"  Recall   : {rec:.3f}\")\n",
    "    print(f\"  F1-score : {f1:.3f}\")\n",
    "\n",
    "def print_confusion_matrix(name,y_actual, y_pred, labels=[0,1]):\n",
    "    cm=confusion_matrix(y_actual, y_pred, labels=labels)\n",
    "    cm_df=pd.DataFrame(\n",
    "        cm,                   \n",
    "        index=[\"Actual: Ham(1)\", \"Actual: Spam(0)\"],\n",
    "        columns=[\"Predicted: Ham(1)\", \"Predicted: Spam(0)\"])\n",
    "    print(\"\\nConfusion Matrix:\")\n",
    "    print(f'\\n{name} confusion matrix:\\n', cm_df)"
   ]
  },
  {
   "cell_type": "code",
   "execution_count": null,
   "id": "2a91db78",
   "metadata": {},
   "outputs": [
    {
     "name": "stdout",
     "output_type": "stream",
     "text": [
      "\n",
      "Logistic Regression performance:\n",
      "  Accuracy : 0.968\n",
      "  Precision: 1.000\n",
      "  Recall   : 0.758\n",
      "  F1-score : 0.863\n",
      "\n",
      "Confusion Matrix:\n",
      "\n",
      "Logistic Regression confusion matrix:\n",
      "                  Predicted: Ham(1)  Predicted: Spam(0)\n",
      "Actual: Ham(1)                 113                  36\n",
      "Actual: Spam(0)                  0                 966\n",
      "\n",
      "Random Forest performance:\n",
      "  Accuracy : 0.983\n",
      "  Precision: 1.000\n",
      "  Recall   : 0.872\n",
      "  F1-score : 0.932\n",
      "\n",
      "Confusion Matrix:\n",
      "\n",
      "Random Forest confusion matrix:\n",
      "                  Predicted: Ham(1)  Predicted: Spam(0)\n",
      "Actual: Ham(1)                 130                  19\n",
      "Actual: Spam(0)                  0                 966\n"
     ]
    }
   ],
   "source": [
    "# Show results for both models (same print style as L5)\n",
    "# logistic regression results\n",
    "print_merics(\"Logistic Regression\", y_test, y_pred_lr, pos_label=0)\n",
    "print_confusion_matrix(\"Logistic Regression\", y_test, y_pred_lr)\n",
    "# random forest results\n",
    "print_merics(\"Random Forest\", y_test, y_pred_rf, pos_label=0)\n",
    "print_confusion_matrix(\"Random Forest\", y_test, y_pred_rf)\n",
    "\n",
    "\n"
   ]
  },
  {
   "cell_type": "code",
   "execution_count": null,
   "id": "3879046b",
   "metadata": {},
   "outputs": [
    {
     "name": "stdout",
     "output_type": "stream",
     "text": [
      "\n",
      "Naive Bayes performance:\n",
      "  Accuracy : 0.977\n",
      "  Precision: 1.000\n",
      "  Recall   : 0.826\n",
      "  F1-score : 0.904\n",
      "\n",
      "Confusion Matrix:\n",
      "\n",
      "Naive Bayes confusion matrix:\n",
      "                  Predicted: Ham(1)  Predicted: Spam(0)\n",
      "Actual: Ham(1)                 123                  26\n",
      "Actual: Spam(0)                  0                 966\n"
     ]
    }
   ],
   "source": [
    "# native bayes results\n",
    "print_merics(\"Naive Bayes\", y_test, y_pred_nb, pos_label=0)\n",
    "print_confusion_matrix(\"Naive Bayes\", y_test, y_pred_nb)\n"
   ]
  },
  {
   "cell_type": "code",
   "execution_count": null,
   "id": "52178df7",
   "metadata": {},
   "outputs": [
    {
     "name": "stdout",
     "output_type": "stream",
     "text": [
      "\n",
      "=== SINGLE MESSAGE SANITY CHECK ===\n",
      "Message snippet: 'Sary just need Tim in the bollox &it hurt him a lot so he tol me!'\n",
      "Actual    : Ham(1)\n",
      "LR Pred   : Ham(1)\n",
      "RF Pred   : Ham(1)\n",
      "NB Pred   : Ham(1)\n"
     ]
    }
   ],
   "source": [
    "# ) Single-message sanity check (like L5 single-row check)\n",
    "i = 5# change index to inspect different emails from X_test\n",
    "sample_text = X_test.iloc[i]\n",
    "true_label  = y_test.iloc[i]\n",
    "\n",
    "#  Predict with three models models\n",
    "lr_pred_one=int(lr.predict(tfidf.transform([sample_text]))[0])\n",
    "rf_pred_one=int(rf.predict(tfidf.transform([sample_text]).toarray())[0])\n",
    "nb_pred_one=int(nb.predict(tfidf.transform([sample_text]))[0])\n",
    "\n",
    "#  Predict with both models\n",
    "def label_to_str(label):\n",
    "    return \"Ham(1)\" if label==1 else \"Spam(0)\"\n",
    "\n",
    "\n",
    "print(\"\\n=== SINGLE MESSAGE SANITY CHECK ===\")\n",
    "\n",
    "snippet = (sample_text[:90] + '...') if len(sample_text) > 90 else sample_text\n",
    "print(f\"Message snippet: '{snippet}'\")\n",
    "print(f\"Actual    : {label_to_str(true_label)}\")\n",
    "print(f\"LR Pred   : {label_to_str(lr_pred_one)}\")\n",
    "print(f\"RF Pred   : {label_to_str(rf_pred_one)}\")\n",
    "print(f\"NB Pred   : {label_to_str(nb_pred_one)}\")\n"
   ]
  },
  {
   "cell_type": "code",
   "execution_count": null,
   "id": "0129dda5",
   "metadata": {},
   "outputs": [
    {
     "name": "stdout",
     "output_type": "stream",
     "text": [
      "Message snippet: 'So there's a ring that comes with the guys costumes. It's there so they can gift their fut...'\n",
      "Actual    : Ham(1)\n",
      "LR Pred   : Ham(1)\n",
      "RF Pred   : Ham(1)\n",
      "NB Pred   : Ham(1)\n"
     ]
    }
   ],
   "source": [
    "print(f\"Message snippet: '{snippet}'\")\n",
    "print(f\"Actual    : {label_to_str(true_label)}\")\n",
    "print(f\"LR Pred   : {label_to_str(lr_pred_one)}\")\n",
    "print(f\"RF Pred   : {label_to_str(rf_pred_one)}\")\n",
    "print(f\"NB Pred   : {label_to_str(nb_pred_one)}\")"
   ]
  },
  {
   "cell_type": "code",
   "execution_count": null,
   "id": "ce726ccd",
   "metadata": {},
   "outputs": [
    {
     "name": "stdout",
     "output_type": "stream",
     "text": [
      "Message snippet: 'So there's a ring that comes with the guys costumes. It's there so they can gift their fut...'\n",
      "Actual    : Ham(1)\n",
      "LR Pred   : Ham(1)\n",
      "RF Pred   : Ham(1)\n",
      "NB Pred   : Ham(1)\n"
     ]
    }
   ],
   "source": [
    "print(f\"Message snippet: '{snippet}'\")\n",
    "print(f\"Actual    : {label_to_str(true_label)}\")\n",
    "print(f\"LR Pred   : {label_to_str(lr_pred_one)}\")\n",
    "print(f\"RF Pred   : {label_to_str(rf_pred_one)}\")\n",
    "print(f\"NB Pred   : {label_to_str(nb_pred_one)}\")"
   ]
  },
  {
   "cell_type": "code",
   "execution_count": null,
   "id": "227a3560",
   "metadata": {},
   "outputs": [],
   "source": [
    "# 1) Load the dataset\n",
    "# 3)Train/test split (stratified)\n",
    "# 2)Split features (X) and target (y)\n",
    "# 4) Text → TF-IDF features\n",
    "# 5)Train Logistic Regression (baseline)\n",
    "# 6) Train Random Forest\n",
    "# 7) Train naive_bayes\n",
    "# 8) Helper functions: metrics + confusion matrix print\n",
    "# 9) Show results for both models (same print style as L5)\n",
    "# 10) Single-message sanity check (like L5 single-row check)"
   ]
  }
 ],
 "metadata": {
  "kernelspec": {
   "display_name": "base",
   "language": "python",
   "name": "python3"
  },
  "language_info": {
   "codemirror_mode": {
    "name": "ipython",
    "version": 3
   },
   "file_extension": ".py",
   "mimetype": "text/x-python",
   "name": "python",
   "nbconvert_exporter": "python",
   "pygments_lexer": "ipython3",
   "version": "3.13.5"
  }
 },
 "nbformat": 4,
 "nbformat_minor": 5
}
