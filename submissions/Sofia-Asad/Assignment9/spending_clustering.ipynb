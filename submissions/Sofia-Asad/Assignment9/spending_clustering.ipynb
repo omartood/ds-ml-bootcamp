{
 "cells": [
  {
   "cell_type": "code",
   "execution_count": null,
   "id": "cba9c5de-9e8d-4554-b6aa-101039c74b84",
   "metadata": {},
   "outputs": [],
   "source": [
    "import pandas as pd"
   ]
  },
  {
   "cell_type": "code",
   "execution_count": 125,
   "id": "8eac81eb-cdfd-464b-b03e-a4d0d4e6c42c",
   "metadata": {},
   "outputs": [],
   "source": [
    "from sklearn.cluster import KMeans"
   ]
  },
  {
   "cell_type": "code",
   "execution_count": 6,
   "id": "11ced3f0-cdab-44ee-b268-9c8f5cc0382d",
   "metadata": {},
   "outputs": [],
   "source": [
    "from sklearn.preprocessing import StandardScaler"
   ]
  },
  {
   "cell_type": "code",
   "execution_count": 129,
   "id": "0850d6d6-84ce-40cd-a5ed-dca94b3502fa",
   "metadata": {},
   "outputs": [],
   "source": [
    "from sklearn.metrics import silhouette_score, davies_bouldin_score"
   ]
  },
  {
   "cell_type": "code",
   "execution_count": 32,
   "id": "7c8c608d-c26e-4d7f-91b5-c7545a3a9419",
   "metadata": {},
   "outputs": [],
   "source": [
    "CSV_Path= \"spending_l9_dataset.csv\""
   ]
  },
  {
   "cell_type": "code",
   "execution_count": 36,
   "id": "2ccbb324-06d4-4a23-b719-fb36b8f771fb",
   "metadata": {},
   "outputs": [],
   "source": [
    "df = pd.read_csv(CSV_Path)"
   ]
  },
  {
   "cell_type": "code",
   "execution_count": 40,
   "id": "f3af938c-f1e2-45fb-80b9-603fa30e15ab",
   "metadata": {},
   "outputs": [
    {
     "data": {
      "text/html": [
       "<div>\n",
       "<style scoped>\n",
       "    .dataframe tbody tr th:only-of-type {\n",
       "        vertical-align: middle;\n",
       "    }\n",
       "\n",
       "    .dataframe tbody tr th {\n",
       "        vertical-align: top;\n",
       "    }\n",
       "\n",
       "    .dataframe thead th {\n",
       "        text-align: right;\n",
       "    }\n",
       "</style>\n",
       "<table border=\"1\" class=\"dataframe\">\n",
       "  <thead>\n",
       "    <tr style=\"text-align: right;\">\n",
       "      <th></th>\n",
       "      <th>CustomerID</th>\n",
       "      <th>Age</th>\n",
       "      <th>Income_$</th>\n",
       "      <th>SpendingScore</th>\n",
       "      <th>VisitsPerMonth</th>\n",
       "      <th>OnlinePurchases</th>\n",
       "      <th>Gender</th>\n",
       "      <th>Region</th>\n",
       "    </tr>\n",
       "  </thead>\n",
       "  <tbody>\n",
       "    <tr>\n",
       "      <th>0</th>\n",
       "      <td>1</td>\n",
       "      <td>28</td>\n",
       "      <td>33</td>\n",
       "      <td>78</td>\n",
       "      <td>14</td>\n",
       "      <td>9</td>\n",
       "      <td>Female</td>\n",
       "      <td>East</td>\n",
       "    </tr>\n",
       "    <tr>\n",
       "      <th>1</th>\n",
       "      <td>2</td>\n",
       "      <td>21</td>\n",
       "      <td>25</td>\n",
       "      <td>87</td>\n",
       "      <td>8</td>\n",
       "      <td>23</td>\n",
       "      <td>Male</td>\n",
       "      <td>North</td>\n",
       "    </tr>\n",
       "    <tr>\n",
       "      <th>2</th>\n",
       "      <td>3</td>\n",
       "      <td>23</td>\n",
       "      <td>24</td>\n",
       "      <td>88</td>\n",
       "      <td>13</td>\n",
       "      <td>10</td>\n",
       "      <td>Male</td>\n",
       "      <td>South</td>\n",
       "    </tr>\n",
       "    <tr>\n",
       "      <th>3</th>\n",
       "      <td>4</td>\n",
       "      <td>24</td>\n",
       "      <td>25</td>\n",
       "      <td>73</td>\n",
       "      <td>16</td>\n",
       "      <td>11</td>\n",
       "      <td>Female</td>\n",
       "      <td>West</td>\n",
       "    </tr>\n",
       "    <tr>\n",
       "      <th>4</th>\n",
       "      <td>5</td>\n",
       "      <td>20</td>\n",
       "      <td>23</td>\n",
       "      <td>88</td>\n",
       "      <td>17</td>\n",
       "      <td>16</td>\n",
       "      <td>Male</td>\n",
       "      <td>West</td>\n",
       "    </tr>\n",
       "  </tbody>\n",
       "</table>\n",
       "</div>"
      ],
      "text/plain": [
       "   CustomerID  Age  Income_$  SpendingScore  VisitsPerMonth  OnlinePurchases  \\\n",
       "0           1   28        33             78              14                9   \n",
       "1           2   21        25             87               8               23   \n",
       "2           3   23        24             88              13               10   \n",
       "3           4   24        25             73              16               11   \n",
       "4           5   20        23             88              17               16   \n",
       "\n",
       "   Gender Region  \n",
       "0  Female   East  \n",
       "1    Male  North  \n",
       "2    Male  South  \n",
       "3  Female   West  \n",
       "4    Male   West  "
      ]
     },
     "execution_count": 40,
     "metadata": {},
     "output_type": "execute_result"
    }
   ],
   "source": [
    "df.head()"
   ]
  },
  {
   "cell_type": "code",
   "execution_count": 42,
   "id": "809b937d-2c0a-4d8f-9f11-c609200f2af0",
   "metadata": {},
   "outputs": [],
   "source": [
    "Feature = [\"Income_$\", \"SpendingScore\"]"
   ]
  },
  {
   "cell_type": "code",
   "execution_count": 44,
   "id": "492ff730-7f45-411c-91d2-874d5550f4c4",
   "metadata": {},
   "outputs": [],
   "source": [
    "X = df[Feature].copy()"
   ]
  },
  {
   "cell_type": "code",
   "execution_count": 46,
   "id": "69bd8780-bfc9-4c19-98a8-450b9e7a2b96",
   "metadata": {},
   "outputs": [],
   "source": [
    "for col in Feature:\n",
    "    if X[col].isna().any():\n",
    "        X[col] = X[col].fillna(X[col].median())"
   ]
  },
  {
   "cell_type": "code",
   "execution_count": 50,
   "id": "2ef71850-ac62-432c-9bd6-40c4fcd79786",
   "metadata": {},
   "outputs": [
    {
     "data": {
      "text/html": [
       "<div>\n",
       "<style scoped>\n",
       "    .dataframe tbody tr th:only-of-type {\n",
       "        vertical-align: middle;\n",
       "    }\n",
       "\n",
       "    .dataframe tbody tr th {\n",
       "        vertical-align: top;\n",
       "    }\n",
       "\n",
       "    .dataframe thead th {\n",
       "        text-align: right;\n",
       "    }\n",
       "</style>\n",
       "<table border=\"1\" class=\"dataframe\">\n",
       "  <thead>\n",
       "    <tr style=\"text-align: right;\">\n",
       "      <th></th>\n",
       "      <th>Income_$</th>\n",
       "      <th>SpendingScore</th>\n",
       "    </tr>\n",
       "  </thead>\n",
       "  <tbody>\n",
       "    <tr>\n",
       "      <th>0</th>\n",
       "      <td>33</td>\n",
       "      <td>78</td>\n",
       "    </tr>\n",
       "    <tr>\n",
       "      <th>1</th>\n",
       "      <td>25</td>\n",
       "      <td>87</td>\n",
       "    </tr>\n",
       "    <tr>\n",
       "      <th>2</th>\n",
       "      <td>24</td>\n",
       "      <td>88</td>\n",
       "    </tr>\n",
       "    <tr>\n",
       "      <th>3</th>\n",
       "      <td>25</td>\n",
       "      <td>73</td>\n",
       "    </tr>\n",
       "    <tr>\n",
       "      <th>4</th>\n",
       "      <td>23</td>\n",
       "      <td>88</td>\n",
       "    </tr>\n",
       "  </tbody>\n",
       "</table>\n",
       "</div>"
      ],
      "text/plain": [
       "   Income_$  SpendingScore\n",
       "0        33             78\n",
       "1        25             87\n",
       "2        24             88\n",
       "3        25             73\n",
       "4        23             88"
      ]
     },
     "execution_count": 50,
     "metadata": {},
     "output_type": "execute_result"
    }
   ],
   "source": [
    "X.head()"
   ]
  },
  {
   "cell_type": "code",
   "execution_count": 52,
   "id": "86e0d55e-542f-48a5-b303-b01d162207bd",
   "metadata": {},
   "outputs": [],
   "source": [
    "scaler = StandardScaler()"
   ]
  },
  {
   "cell_type": "code",
   "execution_count": 54,
   "id": "894b3b77-be1c-4a78-a85f-c65c77948ec1",
   "metadata": {},
   "outputs": [],
   "source": [
    "X_scaled = scaler.fit_transform(X)"
   ]
  },
  {
   "cell_type": "code",
   "execution_count": 66,
   "id": "6f9ea37a-1991-48a2-a2ea-f563e3d17c11",
   "metadata": {},
   "outputs": [
    {
     "data": {
      "text/plain": [
       "(200, 2)"
      ]
     },
     "execution_count": 66,
     "metadata": {},
     "output_type": "execute_result"
    }
   ],
   "source": [
    "X_scaled.shape"
   ]
  },
  {
   "cell_type": "code",
   "execution_count": 68,
   "id": "1429f6e2-6111-4518-b3db-f86f81e79f3b",
   "metadata": {},
   "outputs": [],
   "source": [
    "del print"
   ]
  },
  {
   "cell_type": "code",
   "execution_count": 70,
   "id": "96c4638f-e3e8-4512-a54c-320eea10c476",
   "metadata": {},
   "outputs": [
    {
     "name": "stdout",
     "output_type": "stream",
     "text": [
      "k=1 → SSE=400.00\n",
      "k=2 → SSE=199.70\n",
      "k=3 → SSE=79.37\n",
      "k=4 → SSE=21.37\n",
      "k=5 → SSE=19.09\n",
      "k=6 → SSE=15.65\n",
      "k=7 → SSE=14.48\n",
      "k=8 → SSE=13.81\n",
      "k=9 → SSE=12.94\n"
     ]
    },
    {
     "name": "stderr",
     "output_type": "stream",
     "text": [
      "C:\\Users\\MyLearning\\anaconda3\\Lib\\site-packages\\sklearn\\cluster\\_kmeans.py:1429: UserWarning: KMeans is known to have a memory leak on Windows with MKL, when there are less chunks than available threads. You can avoid it by setting the environment variable OMP_NUM_THREADS=1.\n",
      "  warnings.warn(\n",
      "C:\\Users\\MyLearning\\anaconda3\\Lib\\site-packages\\sklearn\\cluster\\_kmeans.py:1429: UserWarning: KMeans is known to have a memory leak on Windows with MKL, when there are less chunks than available threads. You can avoid it by setting the environment variable OMP_NUM_THREADS=1.\n",
      "  warnings.warn(\n",
      "C:\\Users\\MyLearning\\anaconda3\\Lib\\site-packages\\sklearn\\cluster\\_kmeans.py:1429: UserWarning: KMeans is known to have a memory leak on Windows with MKL, when there are less chunks than available threads. You can avoid it by setting the environment variable OMP_NUM_THREADS=1.\n",
      "  warnings.warn(\n",
      "C:\\Users\\MyLearning\\anaconda3\\Lib\\site-packages\\sklearn\\cluster\\_kmeans.py:1429: UserWarning: KMeans is known to have a memory leak on Windows with MKL, when there are less chunks than available threads. You can avoid it by setting the environment variable OMP_NUM_THREADS=1.\n",
      "  warnings.warn(\n",
      "C:\\Users\\MyLearning\\anaconda3\\Lib\\site-packages\\sklearn\\cluster\\_kmeans.py:1429: UserWarning: KMeans is known to have a memory leak on Windows with MKL, when there are less chunks than available threads. You can avoid it by setting the environment variable OMP_NUM_THREADS=1.\n",
      "  warnings.warn(\n",
      "C:\\Users\\MyLearning\\anaconda3\\Lib\\site-packages\\sklearn\\cluster\\_kmeans.py:1429: UserWarning: KMeans is known to have a memory leak on Windows with MKL, when there are less chunks than available threads. You can avoid it by setting the environment variable OMP_NUM_THREADS=1.\n",
      "  warnings.warn(\n",
      "C:\\Users\\MyLearning\\anaconda3\\Lib\\site-packages\\sklearn\\cluster\\_kmeans.py:1429: UserWarning: KMeans is known to have a memory leak on Windows with MKL, when there are less chunks than available threads. You can avoid it by setting the environment variable OMP_NUM_THREADS=1.\n",
      "  warnings.warn(\n",
      "C:\\Users\\MyLearning\\anaconda3\\Lib\\site-packages\\sklearn\\cluster\\_kmeans.py:1429: UserWarning: KMeans is known to have a memory leak on Windows with MKL, when there are less chunks than available threads. You can avoid it by setting the environment variable OMP_NUM_THREADS=1.\n",
      "  warnings.warn(\n",
      "C:\\Users\\MyLearning\\anaconda3\\Lib\\site-packages\\sklearn\\cluster\\_kmeans.py:1429: UserWarning: KMeans is known to have a memory leak on Windows with MKL, when there are less chunks than available threads. You can avoid it by setting the environment variable OMP_NUM_THREADS=1.\n",
      "  warnings.warn(\n"
     ]
    }
   ],
   "source": [
    "for k in range(1, 10):\n",
    "    km = KMeans(n_clusters=k, n_init=\"auto\", random_state=42)\n",
    "    km.fit(X_scaled)\n",
    "    print(f\"k={k} → SSE={km.inertia_:.2f}\")\n"
   ]
  },
  {
   "cell_type": "code",
   "execution_count": 127,
   "id": "1e17d9ef-2c30-4e01-9c06-92fcd42268da",
   "metadata": {},
   "outputs": [],
   "source": [
    "K = 4"
   ]
  },
  {
   "cell_type": "code",
   "execution_count": 82,
   "id": "66d6451e-ba2a-4995-afbf-ec822744562a",
   "metadata": {},
   "outputs": [],
   "source": [
    "kmeans = KMeans(n_clusters=K, n_init=\"auto\", random_state=42)"
   ]
  },
  {
   "cell_type": "code",
   "execution_count": 84,
   "id": "717de503-7a98-42d5-b4c4-59fbfba46e68",
   "metadata": {},
   "outputs": [
    {
     "name": "stderr",
     "output_type": "stream",
     "text": [
      "C:\\Users\\MyLearning\\anaconda3\\Lib\\site-packages\\sklearn\\cluster\\_kmeans.py:1429: UserWarning: KMeans is known to have a memory leak on Windows with MKL, when there are less chunks than available threads. You can avoid it by setting the environment variable OMP_NUM_THREADS=1.\n",
      "  warnings.warn(\n"
     ]
    }
   ],
   "source": [
    "labels = kmeans.fit_predict(X_scaled)"
   ]
  },
  {
   "cell_type": "code",
   "execution_count": 86,
   "id": "5a080a93-bb13-4f56-b3f4-2fa765150c3e",
   "metadata": {},
   "outputs": [],
   "source": [
    "df[\"Cluster\"] = labels.astype(int)"
   ]
  },
  {
   "cell_type": "code",
   "execution_count": 101,
   "id": "c20972db-16b3-49af-a9f0-dcb4d744e8dc",
   "metadata": {},
   "outputs": [],
   "source": [
    "# print(df.head(60))"
   ]
  },
  {
   "cell_type": "code",
   "execution_count": 103,
   "id": "7fd0f978-41bb-4b25-b240-c26c628ffb15",
   "metadata": {},
   "outputs": [],
   "source": [
    "silh = silhouette_score(X_scaled, labels)"
   ]
  },
  {
   "cell_type": "code",
   "execution_count": 105,
   "id": "579d09fc-def9-43b6-94c9-1f2fe78f51b6",
   "metadata": {},
   "outputs": [],
   "source": [
    "dbi = davies_bouldin_score(X_scaled, labels)"
   ]
  },
  {
   "cell_type": "code",
   "execution_count": 111,
   "id": "28fb49b3-6b8a-49c9-abe1-9c0864f733a6",
   "metadata": {},
   "outputs": [
    {
     "name": "stdout",
     "output_type": "stream",
     "text": [
      "Silhouette Score : 0.729 (higher is better sep)\n",
      "Davies–Bouldin   : 0.387 (lower is better sep)\n"
     ]
    }
   ],
   "source": [
    "print(f\"Silhouette Score : {silh:.3f} (higher is better sep)\")\n",
    "print(f\"Davies–Bouldin   : {dbi:.3f} (lower is better sep)\")"
   ]
  },
  {
   "cell_type": "code",
   "execution_count": 113,
   "id": "99322aa6-4dfd-461f-bdf7-dc33e7ec49b6",
   "metadata": {},
   "outputs": [],
   "source": [
    "cent_scaled = kmeans.cluster_centers_"
   ]
  },
  {
   "cell_type": "code",
   "execution_count": 115,
   "id": "11e964b4-8c5b-47b2-a552-8f1e0f6f3117",
   "metadata": {},
   "outputs": [],
   "source": [
    "cent_original = scaler.inverse_transform(cent_scaled)"
   ]
  },
  {
   "cell_type": "code",
   "execution_count": 119,
   "id": "67bea152-1cf8-463c-8138-a3f6b6e5168d",
   "metadata": {},
   "outputs": [],
   "source": [
    "centers_df = pd.DataFrame(cent_original, columns=Feature)"
   ]
  },
  {
   "cell_type": "code",
   "execution_count": 121,
   "id": "811e3042-1822-481f-9ede-2c1ce5a7e311",
   "metadata": {},
   "outputs": [],
   "source": [
    "centers_df.index.name = \"Cluster\""
   ]
  },
  {
   "cell_type": "code",
   "execution_count": 123,
   "id": "ca52e854-5f2f-4613-ab5b-4fa668805d4c",
   "metadata": {},
   "outputs": [
    {
     "name": "stdout",
     "output_type": "stream",
     "text": [
      "         Income_$  SpendingScore\n",
      "Cluster                         \n",
      "0           56.32          53.58\n",
      "1           28.92          19.60\n",
      "2           24.14          83.10\n",
      "3           99.16          79.24\n"
     ]
    }
   ],
   "source": [
    "print(centers_df.round(2))"
   ]
  },
  {
   "cell_type": "code",
   "execution_count": null,
   "id": "6ae3eb4a-4e3c-48d2-baa9-a5e7e18c3ba8",
   "metadata": {},
   "outputs": [],
   "source": [
    "sample= [2, 3, 4]"
   ]
  },
  {
   "cell_type": "code",
   "execution_count": 133,
   "id": "5a190e63-6cad-4adf-9bf9-342723c49360",
   "metadata": {},
   "outputs": [],
   "source": [
    "sanity = df.loc[sample, Feature + [\"Cluster\"]]"
   ]
  },
  {
   "cell_type": "code",
   "execution_count": 135,
   "id": "965e3e2c-cd0c-41ae-85b6-41c17d3e0e12",
   "metadata": {},
   "outputs": [
    {
     "name": "stdout",
     "output_type": "stream",
     "text": [
      "   Income_$  SpendingScore  Cluster\n",
      "2        24             88        2\n",
      "3        25             73        2\n",
      "4        23             88        2\n"
     ]
    }
   ],
   "source": [
    "print(sanity)"
   ]
  },
  {
   "cell_type": "code",
   "execution_count": 143,
   "id": "d190a283-eb2d-4c20-88f0-c5d35a498b9d",
   "metadata": {},
   "outputs": [],
   "source": [
    "OUT_PATH = \"spending_labeled_clusters.csv\""
   ]
  },
  {
   "cell_type": "code",
   "execution_count": 145,
   "id": "94a168a7-08da-4524-b4d4-a98d0e8f1d0c",
   "metadata": {},
   "outputs": [],
   "source": [
    "df.to_csv(OUT_PATH, index=False)"
   ]
  },
  {
   "cell_type": "code",
   "execution_count": 147,
   "id": "8cd2c509-7747-4fb0-aa90-94c757a45bbb",
   "metadata": {},
   "outputs": [
    {
     "name": "stdout",
     "output_type": "stream",
     "text": [
      "spending_labeled_clusters.csv\n"
     ]
    }
   ],
   "source": [
    "print(OUT_PATH)"
   ]
  },
  {
   "cell_type": "code",
   "execution_count": null,
   "id": "d5627b21-dfc0-4dfa-a2c6-497b59508304",
   "metadata": {},
   "outputs": [],
   "source": []
  }
 ],
 "metadata": {
  "kernelspec": {
   "display_name": "Python [conda env:base] *",
   "language": "python",
   "name": "conda-base-py"
  },
  "language_info": {
   "codemirror_mode": {
    "name": "ipython",
    "version": 3
   },
   "file_extension": ".py",
   "mimetype": "text/x-python",
   "name": "python",
   "nbconvert_exporter": "python",
   "pygments_lexer": "ipython3",
   "version": "3.12.7"
  }
 },
 "nbformat": 4,
 "nbformat_minor": 5
}
