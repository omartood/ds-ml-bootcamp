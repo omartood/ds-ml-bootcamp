{
 "cells": [
  {
   "cell_type": "code",
   "execution_count": 1,
   "id": "0b93f7a9-cce3-4d52-b916-9baf1d303663",
   "metadata": {},
   "outputs": [],
   "source": [
    "# waxaan soo import gareeyey dhamaan intan\n",
    "import pandas as pd\n",
    "import numpy as np\n",
    "from sklearn.model_selection import train_test_split\n",
    "from sklearn.linear_model import LinearRegression\n",
    "from sklearn.metrics import mean_absolute_error, mean_squared_error, r2_score\n",
    "from sklearn.ensemble import RandomForestRegressor"
   ]
  },
  {
   "cell_type": "code",
   "execution_count": 2,
   "id": "fe6e137a-46a1-4c6a-affa-d7b1c76e3292",
   "metadata": {},
   "outputs": [],
   "source": [
    "# data proccesing\n",
    "# waxaan marka 2aad sameeyey data load\n",
    "df = pd.read_csv(\"Housing.csv\")\n",
    "# df.isna().sum()\n",
    "# df.head(10)"
   ]
  },
  {
   "cell_type": "code",
   "execution_count": 3,
   "id": "ed48d5bb-003b-4ec3-baf5-6b7795366084",
   "metadata": {},
   "outputs": [],
   "source": [
    "# separate data (x) and (y) waxaan kalasaaray data x , y\n",
    "\n",
    "X = df.drop(columns=[\"Price\", \"LogPrice\"])  # features\n",
    "y = df[\"Price\"] "
   ]
  },
  {
   "cell_type": "code",
   "execution_count": 4,
   "id": "4519a785-90ec-4259-9b12-6c05ea48f154",
   "metadata": {},
   "outputs": [],
   "source": [
    "# waxaan ukala qaybiyey data train ah 80% iyo data test 20%\n",
    "X_train, X_test, y_train, y_test = train_test_split(\n",
    "    X, y, test_size=0.2, random_state=42\n",
    ") "
   ]
  },
  {
   "cell_type": "code",
   "execution_count": 59,
   "id": "f4079d72-20e7-4fff-9dc5-8626255fac4e",
   "metadata": {},
   "outputs": [],
   "source": [
    "# waxaan ku  train gareeyey linear and random anoo isbarbardhig ku samaynaya\n",
    "# linear\n",
    "lr = LinearRegression()\n",
    "lr.fit(X_train, y_train)\n",
    "lr_pred = lr.predict(X_test)\n",
    "# random forest\n",
    "rf = RandomForestRegressor(n_estimators=100, random_state=42)\n",
    "rf.fit(X_train, y_train)\n",
    "rf_pred = rf.predict(X_test)\n",
    "# print(lr_pred[:10])"
   ]
  },
  {
   "cell_type": "code",
   "execution_count": 51,
   "id": "666bd1c1-0607-4458-955d-e66ca28f2344",
   "metadata": {},
   "outputs": [
    {
     "name": "stdout",
     "output_type": "stream",
     "text": [
      "random prediction: LR\n",
      "r2: 0.848\n",
      "mae: 63,086\n",
      "mse: 5,718,940,941\n",
      "rmse: 75,624\n",
      "random prediction: RF\n",
      "r2: 0.859\n",
      "mae: 52,524\n",
      "mse: 5,283,317,455\n",
      "rmse: 72,686\n"
     ]
    }
   ],
   "source": [
    "# waxaan sameeyey function iga caawinaya metrics ka \n",
    "\n",
    "def print_metrics(name, y, y_predict):\n",
    "    r2 = r2_score(y, y_predict)\n",
    "    mae = mean_absolute_error(y, y_predict)\n",
    "    mse = mean_squared_error(y, y_predict)\n",
    "    rmse = np.sqrt(mse)\n",
    "    print(f\"random prediction: {name}\")\n",
    "    print(f\"r2: {r2:.3f}\") \n",
    "    print(f\"mae: {mae:,.0f}\") \n",
    "    print(f\"mse: {mse:,.0f}\") \n",
    "    print(f\"rmse: {rmse:,.0f}\") \n",
    "\n",
    "# isticmaalka\n",
    "print_metrics(\"LR\", y_test, lr_pred)\n",
    "print_metrics(\"RF\", y_test, rf_pred)"
   ]
  },
  {
   "cell_type": "code",
   "execution_count": null,
   "id": "2a426caf-c086-4e8f-af98-55b767e40b51",
   "metadata": {},
   "outputs": [
    {
     "name": "stdout",
     "output_type": "stream",
     "text": [
      "\n",
      "Single-row sanity check:\n",
      "  Actual Price: $292,500\n",
      "  LR Predict  : $188,637\n",
      "  RF Predict  : $290,899\n"
     ]
    }
   ],
   "source": [
    "n = 2\n",
    "x_one_df = X_test.iloc[[n]]   # 1-row DataFrame (keeps feature names)\n",
    "y_true   = y_test.iloc[n]   \n",
    "\n",
    "          \n",
    "p_lr_one = float(lr.predict(x_one_df)[0])\n",
    "p_rf_one = float(rf.predict(x_one_df)[0])\n",
    "\n",
    "print(\"\\nSingle-row sanity check:\")\n",
    "print(f\"  Actual Price: ${y_true:,.0f}\")\n",
    "print(f\"  LR Predict  : ${p_lr_one:,.0f}\")\n",
    "print(f\"  RF Predict  : ${p_rf_one:,.0f}\")                "
   ]
  },
  {
   "cell_type": "code",
   "execution_count": null,
   "id": "ec64197b-7285-479f-870f-25fe61a94445",
   "metadata": {},
   "outputs": [],
   "source": []
  }
 ],
 "metadata": {
  "kernelspec": {
   "display_name": "Python [conda env:base] *",
   "language": "python",
   "name": "conda-base-py"
  },
  "language_info": {
   "codemirror_mode": {
    "name": "ipython",
    "version": 3
   },
   "file_extension": ".py",
   "mimetype": "text/x-python",
   "name": "python",
   "nbconvert_exporter": "python",
   "pygments_lexer": "ipython3",
   "version": "3.13.5"
  }
 },
 "nbformat": 4,
 "nbformat_minor": 5
}
