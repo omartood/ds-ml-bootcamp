{
 "cells": [
  {
   "cell_type": "code",
   "execution_count": 2,
   "id": "e3e65874-e204-4780-bfc5-e53e39df7d48",
   "metadata": {},
   "outputs": [],
   "source": [
    "import pandas as pd\n",
    "import numpy as np\n",
    "from sklearn.model_selection import train_test_split\n",
    "from sklearn.feature_extraction.text import TfidfVectorizer\n",
    "from sklearn.linear_model import LogisticRegression \n",
    "from sklearn.ensemble import RandomForestClassifier\n",
    "from sklearn.naive_bayes import MultinomialNB\n",
    "from sklearn.metrics import confusion_matrix\n",
    "from sklearn.metrics import accuracy_score, precision_score,recall_score,f1_score\n"
   ]
  },
  {
   "cell_type": "code",
   "execution_count": 43,
   "id": "057f7cf0-9cfb-48c5-804b-300362c620df",
   "metadata": {},
   "outputs": [],
   "source": [
    "# data load\n",
    "df = pd.read_csv(\"spam_pred_dataset.csv\")\n",
    "# print(df.head(10))\n"
   ]
  },
  {
   "cell_type": "code",
   "execution_count": 44,
   "id": "4f58e2ff-a05f-4e91-b70e-42e895b761ae",
   "metadata": {},
   "outputs": [
    {
     "name": "stdout",
     "output_type": "stream",
     "text": [
      "  Category                                            Message\n",
      "0        1  Go until jurong point, crazy.. Available only ...\n",
      "1        1                      Ok lar... Joking wif u oni...\n",
      "2        0  Free entry in 2 a wkly comp to win FA Cup fina...\n",
      "3        1  U dun say so early hor... U c already then say...\n",
      "4        1  Nah I don't think he goes to usf, he lives aro...\n"
     ]
    }
   ],
   "source": [
    "# category ayaan hagaa jinaynaa markan\n",
    "df.loc[df[\"Category\"].str.lower().str.strip() == \"spam\", \"Category\"] = 0\n",
    "df.loc[df[\"Category\"].str.lower().str.strip() == \"ham\",  \"Category\"] = 1\n",
    "\n",
    "print(df.head(5))"
   ]
  },
  {
   "cell_type": "code",
   "execution_count": 45,
   "id": "4e706554-0d37-4a86-acc0-a0fadf74fc07",
   "metadata": {},
   "outputs": [],
   "source": [
    "# x , y u kala qaybinayna\n",
    "X = df[\"Message\"].astype(str)\n",
    "y = df[\"Category\"].astype(int)\n",
    "\n",
    "# train test kusamaynayna 80% train 20% test\n",
    "X_train, X_test, y_train, y_test = train_test_split(X, y, test_size = 0.2, random_state = 42)"
   ]
  },
  {
   "cell_type": "code",
   "execution_count": 52,
   "id": "548af45d-3ae8-483a-9325-d83aa5df21f3",
   "metadata": {},
   "outputs": [
    {
     "name": "stdout",
     "output_type": "stream",
     "text": [
      "X_train rows: 4457 X_test rows: 1115\n"
     ]
    }
   ],
   "source": [
    "tfidf = TfidfVectorizer()\n",
    "\n",
    "tfidf = TfidfVectorizer(min_df=1, stop_words=\"english\", lowercase=True)\n",
    "X_train_features = tfidf.fit_transform(X_train)\n",
    "X_test_features  = tfidf.transform(X_test)\n",
    "\n",
    "print(\"X_train rows:\", X_train_features.shape[0], \"X_test rows:\", X_test_features.shape[0])\n"
   ]
  },
  {
   "cell_type": "code",
   "execution_count": 53,
   "id": "c3d312f2-8302-46fc-938d-fb1e3bd84b61",
   "metadata": {},
   "outputs": [],
   "source": [
    "# print(df.head(10))"
   ]
  },
  {
   "cell_type": "code",
   "execution_count": 54,
   "id": "bf3d0b89-53fe-4294-94ba-1714c004f781",
   "metadata": {},
   "outputs": [
    {
     "name": "stdout",
     "output_type": "stream",
     "text": [
      "Predictions: [1 1 1 1 1]\n"
     ]
    }
   ],
   "source": [
    "# logistic regression \n",
    "\n",
    "lr = LogisticRegression(max_iter=1000, random_state=42)\n",
    "lr.fit(X_train_features, y_train)\n",
    "lr_pred = lr.predict(X_test_features)\n",
    "# Predictions\n",
    "\n",
    "print(\"Predictions:\", lr_pred[:5])"
   ]
  },
  {
   "cell_type": "code",
   "execution_count": 55,
   "id": "6c964978-bc9a-4793-b5b7-e32885b34df2",
   "metadata": {},
   "outputs": [],
   "source": [
    "# Random forest \n",
    "\n",
    "rf = RandomForestClassifier(n_estimators=200, random_state=42)\n",
    "rf.fit(X_train_features, y_train)\n",
    "rf_pred = rf.predict(X_test_features.toarray())"
   ]
  },
  {
   "cell_type": "code",
   "execution_count": 56,
   "id": "8e44bc37-7602-41bc-8d02-d177c3927324",
   "metadata": {},
   "outputs": [],
   "source": [
    "# naive bayes\n",
    "\n",
    "nb = MultinomialNB()\n",
    "nb.fit(X_train_features, y_train)\n",
    "nb_pred = nb.predict(X_test_features)"
   ]
  },
  {
   "cell_type": "code",
   "execution_count": 59,
   "id": "c9b79031-5634-4ff1-9029-1b1fe0b4e3ba",
   "metadata": {},
   "outputs": [
    {
     "name": "stdout",
     "output_type": "stream",
     "text": [
      "\n",
      "Logistic Regression Performance:\n",
      "  Accuracy : 0.968\n",
      "  Precision: 1.000  (positive = spam=0)\n",
      "  Recall   : 0.758  (positive = spam=0)\n",
      "  F1-Score : 0.863  (positive = spam=0)\n",
      "\n",
      "Logistic Regression – Confusion Matrix:\n",
      "                 Pred Ham  Pred Spam\n",
      "Actual Ham (1)        966          0\n",
      "Actual Spam (0)        36        113\n",
      "\n",
      "Random Forest Performance:\n",
      "  Accuracy : 0.983\n",
      "  Precision: 1.000  (positive = spam=0)\n",
      "  Recall   : 0.872  (positive = spam=0)\n",
      "  F1-Score : 0.932  (positive = spam=0)\n",
      "\n",
      "Random Forest – Confusion Matrix:\n",
      "                 Pred Ham  Pred Spam\n",
      "Actual Ham (1)        966          0\n",
      "Actual Spam (0)        19        130\n",
      "\n",
      "Naive Bayes Performance:\n",
      "  Accuracy : 0.977\n",
      "  Precision: 1.000  (positive = spam=0)\n",
      "  Recall   : 0.826  (positive = spam=0)\n",
      "  F1-Score : 0.904  (positive = spam=0)\n",
      "\n",
      "Naive Bayes – Confusion Matrix:\n",
      "                 Pred Ham  Pred Spam\n",
      "Actual Ham (1)        966          0\n",
      "Actual Spam (0)        26        123\n"
     ]
    }
   ],
   "source": [
    "def print_metrics(name, y_true, y_pred, pos_label=0):\n",
    "    acc = accuracy_score(y_true, y_pred,)\n",
    "    prec = precision_score(y_true, y_pred, pos_label=pos_label)\n",
    "    rec = recall_score(y_true, y_pred, pos_label=pos_label)\n",
    "    f1 =f1_score(y_true, y_pred, pos_label=pos_label)\n",
    "\n",
    "    print(f\"\\n{name} Performance:\")\n",
    "    print(f\"  Accuracy : {acc:.3f}\")\n",
    "    print(f\"  Precision: {prec:.3f}  (positive = spam=0)\")\n",
    "    print(f\"  Recall   : {rec:.3f}  (positive = spam=0)\")\n",
    "    print(f\"  F1-Score : {f1:.3f}  (positive = spam=0)\")\n",
    "def conf_mat(name, y_true, y_pred):\n",
    "    cfm = confusion_matrix(y_true, y_pred, labels=[1,0])\n",
    "    cfm_df = pd.DataFrame(\n",
    "        cfm,\n",
    "        index=[\"Actual Ham (1)\", \"Actual Spam (0)\"],\n",
    "        columns=[\"Pred Ham\", \"Pred Spam\"]\n",
    "    )\n",
    "    print(f\"\\n{name} – Confusion Matrix:\\n{cfm_df}\")\n",
    "\n",
    "\n",
    "\n",
    "\n",
    "print_metrics(\"Logistic Regression\", y_test, lr_pred, pos_label=0)\n",
    "conf_mat(\"Logistic Regression\", y_test, lr_pred)\n",
    "\n",
    "print_metrics(\"Random Forest\", y_test, rf_pred, pos_label=0)\n",
    "conf_mat(\"Random Forest\", y_test, rf_pred)\n",
    "\n",
    "print_metrics(\"Naive Bayes\", y_test, nb_pred, pos_label=0)\n",
    "conf_mat(\"Naive Bayes\", y_test, nb_pred)"
   ]
  },
  {
   "cell_type": "code",
   "execution_count": 61,
   "id": "b74dc2eb-19b9-4fc3-a251-053751532230",
   "metadata": {},
   "outputs": [
    {
     "name": "stdout",
     "output_type": "stream",
     "text": [
      "\n",
      "SINGLE MESSAGE CHECK :\n",
      "actual : spam (0)\n",
      "LR : ham (1)\n",
      "RF : spam (0)\n",
      "NB : spam (0)\n"
     ]
    }
   ],
   "source": [
    "# sanity check \n",
    "m = 40\n",
    "\n",
    "simple_text = X_test.iloc[m]  \n",
    "label_true = y_test.iloc[m]\n",
    "\n",
    "\n",
    "\n",
    "\n",
    "# Samee prediction\n",
    "lr_pred_one = int(lr.predict(tfidf.transform([simple_text]))[0])\n",
    "rf_pred_one = int(rf.predict(tfidf.transform([simple_text]).toarray())[0])\n",
    "nb_pred_one = int(nb.predict(tfidf.transform([simple_text]))[0])\n",
    "\n",
    "# Function-ka lab2str\n",
    "def lab2str(r):\n",
    "    return \"spam (0)\" if r == 0 else \"ham (1)\"\n",
    "\n",
    "# Print results\n",
    "print(\"\\nSINGLE MESSAGE CHECK :\")    \n",
    "print(\"actual :\", lab2str(label_true))\n",
    "print(\"LR :\", lab2str(lr_pred_one))\n",
    "print(\"RF :\", lab2str(rf_pred_one))\n",
    "print(\"NB :\", lab2str(nb_pred_one))\n"
   ]
  },
  {
   "cell_type": "code",
   "execution_count": null,
   "id": "c37409f7-5241-4431-9ae7-8fd338607695",
   "metadata": {},
   "outputs": [],
   "source": []
  }
 ],
 "metadata": {
  "kernelspec": {
   "display_name": "Python [conda env:base] *",
   "language": "python",
   "name": "conda-base-py"
  },
  "language_info": {
   "codemirror_mode": {
    "name": "ipython",
    "version": 3
   },
   "file_extension": ".py",
   "mimetype": "text/x-python",
   "name": "python",
   "nbconvert_exporter": "python",
   "pygments_lexer": "ipython3",
   "version": "3.13.5"
  }
 },
 "nbformat": 4,
 "nbformat_minor": 5
}
