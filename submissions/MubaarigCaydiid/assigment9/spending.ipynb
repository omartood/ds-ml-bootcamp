{
 "cells": [
  {
   "cell_type": "code",
   "execution_count": 1,
   "id": "6c2ecbde-ff38-4b46-9bbe-65340f592112",
   "metadata": {},
   "outputs": [],
   "source": [
    "import pandas as pd\n",
    "import numpy as np\n",
    "from sklearn.cluster import KMeans\n",
    "from sklearn.preprocessing import StandardScaler\n",
    "from sklearn.metrics import silhouette_score, davies_bouldin_score"
   ]
  },
  {
   "cell_type": "code",
   "execution_count": 2,
   "id": "7ff745a3-9bd9-4e58-a834-2367ada9a604",
   "metadata": {},
   "outputs": [],
   "source": [
    "# load data\n",
    "df = pd.read_csv(\"spending_l9_dataset.csv\")\n",
    "# print(df.head(5))"
   ]
  },
  {
   "cell_type": "code",
   "execution_count": 3,
   "id": "813f176c-ef95-4cb5-bbe7-11d6a64a3524",
   "metadata": {
    "scrolled": true
   },
   "outputs": [],
   "source": [
    "FEATURES = [\"Age\", \"Income_$\", \"SpendingScore\"]\n",
    "X = df[FEATURES].copy()\n",
    "# print(df.columns)\n"
   ]
  },
  {
   "cell_type": "code",
   "execution_count": 4,
   "id": "a00fc0cf-1885-418d-be52-117347ddf6c1",
   "metadata": {},
   "outputs": [],
   "source": [
    "# print(\"before: \", X_scaled)\n",
    "# missing values\n",
    "for col in  FEATURES:\n",
    "    if X[col].isna().any():\n",
    "        X[col] = X[col].fillna(X[col].median())\n",
    "    # print(X.head(10))    "
   ]
  },
  {
   "cell_type": "code",
   "execution_count": 5,
   "id": "e1ac807e-643f-49ed-b3bc-fdbc15352151",
   "metadata": {},
   "outputs": [],
   "source": [
    "# scalling\n",
    "scaler = StandardScaler()\n",
    "X_scaled = scaler.fit_transform(X)\n",
    "# print(\"after: \", X_scaled)"
   ]
  },
  {
   "cell_type": "code",
   "execution_count": null,
   "id": "656e7916-4774-414c-9a36-968a331e0e25",
   "metadata": {},
   "outputs": [
    {
     "name": "stderr",
     "output_type": "stream",
     "text": [
      "C:\\Users\\mubaarik\\anaconda3\\Lib\\site-packages\\sklearn\\cluster\\_kmeans.py:1419: UserWarning: KMeans is known to have a memory leak on Windows with MKL, when there are less chunks than available threads. You can avoid it by setting the environment variable OMP_NUM_THREADS=1.\n",
      "  warnings.warn(\n",
      "C:\\Users\\mubaarik\\anaconda3\\Lib\\site-packages\\sklearn\\cluster\\_kmeans.py:1419: UserWarning: KMeans is known to have a memory leak on Windows with MKL, when there are less chunks than available threads. You can avoid it by setting the environment variable OMP_NUM_THREADS=1.\n",
      "  warnings.warn(\n",
      "C:\\Users\\mubaarik\\anaconda3\\Lib\\site-packages\\sklearn\\cluster\\_kmeans.py:1419: UserWarning: KMeans is known to have a memory leak on Windows with MKL, when there are less chunks than available threads. You can avoid it by setting the environment variable OMP_NUM_THREADS=1.\n",
      "  warnings.warn(\n",
      "C:\\Users\\mubaarik\\anaconda3\\Lib\\site-packages\\sklearn\\cluster\\_kmeans.py:1419: UserWarning: KMeans is known to have a memory leak on Windows with MKL, when there are less chunks than available threads. You can avoid it by setting the environment variable OMP_NUM_THREADS=1.\n",
      "  warnings.warn(\n",
      "C:\\Users\\mubaarik\\anaconda3\\Lib\\site-packages\\sklearn\\cluster\\_kmeans.py:1419: UserWarning: KMeans is known to have a memory leak on Windows with MKL, when there are less chunks than available threads. You can avoid it by setting the environment variable OMP_NUM_THREADS=1.\n",
      "  warnings.warn(\n",
      "C:\\Users\\mubaarik\\anaconda3\\Lib\\site-packages\\sklearn\\cluster\\_kmeans.py:1419: UserWarning: KMeans is known to have a memory leak on Windows with MKL, when there are less chunks than available threads. You can avoid it by setting the environment variable OMP_NUM_THREADS=1.\n",
      "  warnings.warn(\n",
      "C:\\Users\\mubaarik\\anaconda3\\Lib\\site-packages\\sklearn\\cluster\\_kmeans.py:1419: UserWarning: KMeans is known to have a memory leak on Windows with MKL, when there are less chunks than available threads. You can avoid it by setting the environment variable OMP_NUM_THREADS=1.\n",
      "  warnings.warn(\n",
      "C:\\Users\\mubaarik\\anaconda3\\Lib\\site-packages\\sklearn\\cluster\\_kmeans.py:1419: UserWarning: KMeans is known to have a memory leak on Windows with MKL, when there are less chunks than available threads. You can avoid it by setting the environment variable OMP_NUM_THREADS=1.\n",
      "  warnings.warn(\n",
      "C:\\Users\\mubaarik\\anaconda3\\Lib\\site-packages\\sklearn\\cluster\\_kmeans.py:1419: UserWarning: KMeans is known to have a memory leak on Windows with MKL, when there are less chunks than available threads. You can avoid it by setting the environment variable OMP_NUM_THREADS=1.\n",
      "  warnings.warn(\n",
      "C:\\Users\\mubaarik\\anaconda3\\Lib\\site-packages\\sklearn\\cluster\\_kmeans.py:1419: UserWarning: KMeans is known to have a memory leak on Windows with MKL, when there are less chunks than available threads. You can avoid it by setting the environment variable OMP_NUM_THREADS=1.\n",
      "  warnings.warn(\n",
      "C:\\Users\\mubaarik\\anaconda3\\Lib\\site-packages\\sklearn\\cluster\\_kmeans.py:1419: UserWarning: KMeans is known to have a memory leak on Windows with MKL, when there are less chunks than available threads. You can avoid it by setting the environment variable OMP_NUM_THREADS=1.\n",
      "  warnings.warn(\n",
      "C:\\Users\\mubaarik\\anaconda3\\Lib\\site-packages\\sklearn\\cluster\\_kmeans.py:1419: UserWarning: KMeans is known to have a memory leak on Windows with MKL, when there are less chunks than available threads. You can avoid it by setting the environment variable OMP_NUM_THREADS=1.\n",
      "  warnings.warn(\n",
      "C:\\Users\\mubaarik\\anaconda3\\Lib\\site-packages\\sklearn\\cluster\\_kmeans.py:1419: UserWarning: KMeans is known to have a memory leak on Windows with MKL, when there are less chunks than available threads. You can avoid it by setting the environment variable OMP_NUM_THREADS=1.\n",
      "  warnings.warn(\n"
     ]
    }
   ],
   "source": [
    "# Elbow Method\n",
    "for k in range(1,14):\n",
    "    km = KMeans(n_clusters=k, n_init=\"auto\", random_state=42)\n",
    "    km.fit(X_scaled)\n",
    "    # print(f\"K = {k}  -> SSE={km.inertia_:.3f}\")\n"
   ]
  },
  {
   "cell_type": "code",
   "execution_count": 7,
   "id": "c1c23097-9ada-41da-ace3-7266478f204e",
   "metadata": {},
   "outputs": [
    {
     "name": "stdout",
     "output_type": "stream",
     "text": [
      "Type cluster\n"
     ]
    },
    {
     "name": "stderr",
     "output_type": "stream",
     "text": [
      "C:\\Users\\mubaarik\\anaconda3\\Lib\\site-packages\\sklearn\\cluster\\_kmeans.py:1419: UserWarning: KMeans is known to have a memory leak on Windows with MKL, when there are less chunks than available threads. You can avoid it by setting the environment variable OMP_NUM_THREADS=1.\n",
      "  warnings.warn(\n"
     ]
    }
   ],
   "source": [
    "\n",
    "k = 4\n",
    "kmeans = KMeans(n_clusters=4, random_state=42)\n",
    "labels = kmeans.fit_predict(X_scaled)\n",
    "\n",
    "df[\"Cluster\"] = labels.astype(int)\n",
    "print(\"Type cluster\")\n",
    "# print(df.head(10))\n"
   ]
  },
  {
   "cell_type": "code",
   "execution_count": 8,
   "id": "b0ac9acb-cd0e-40ae-9112-79d86bb972cf",
   "metadata": {
    "panel-layout": {
     "height": 0,
     "visible": true,
     "width": 100
    }
   },
   "outputs": [
    {
     "name": "stdout",
     "output_type": "stream",
     "text": [
      "\n",
      "== silhouette_score: 0.697 closer better +1\n",
      "\n",
      "== silhouette_score: 0.446 lower better -1 \n"
     ]
    }
   ],
   "source": [
    "\n",
    "sil = silhouette_score(X_scaled, labels)\n",
    "db = davies_bouldin_score(X_scaled, labels)\n",
    "\n",
    "print(f\"\\n== silhouette_score: {sil:.3f} closer better +1\")\n",
    "print(f\"\\n== silhouette_score: {db:.3f} lower better -1 \")"
   ]
  },
  {
   "cell_type": "code",
   "execution_count": 9,
   "id": "a9712f30-73bc-4507-9a13-9bc2640f95ed",
   "metadata": {},
   "outputs": [
    {
     "name": "stdout",
     "output_type": "stream",
     "text": [
      "\n",
      "=== CLUSTER CENTERS (Original Units) ===\n",
      "     Age  Income_$  SpendingScore\n",
      "0  33.66     56.32          53.58\n",
      "1  56.58     28.92          19.60\n",
      "2  22.38     24.14          83.10\n",
      "3  37.40     99.16          79.24\n"
     ]
    }
   ],
   "source": [
    "# cluster centers \n",
    "centers_scaled = kmeans.cluster_centers_\n",
    "centers_origin = scaler.inverse_transform(centers_scaled)\n",
    "\n",
    "centers_df = pd.DataFrame(centers_origin, columns=FEATURES)\n",
    "\n",
    "print(\"\\n=== CLUSTER CENTERS (Original Units) ===\")\n",
    "print(centers_df.round(2))\n",
    "\n"
   ]
  },
  {
   "cell_type": "code",
   "execution_count": 10,
   "id": "30e633f1-0fc0-4778-9e68-659e1c6c2e86",
   "metadata": {},
   "outputs": [
    {
     "name": "stdout",
     "output_type": "stream",
     "text": [
      "\n",
      "== sanity check 3 index\n",
      "   Age  Income_$  SpendingScore  Cluster\n",
      "0   28        33             78        2\n",
      "1   21        25             87        2\n",
      "2   23        24             88        2\n"
     ]
    }
   ],
   "source": [
    "# Sanity check\n",
    "\n",
    "smple_index = [0,1,2]\n",
    "sanity = df.loc[smple_index, FEATURES + [\"Cluster\"]]\n",
    "\n",
    "print(\"\\n== sanity check 3 index\")\n",
    "print(sanity)"
   ]
  },
  {
   "cell_type": "code",
   "execution_count": 11,
   "id": "a3381e5d-bb08-4eae-91b0-219b5bf6522c",
   "metadata": {},
   "outputs": [
    {
     "name": "stdout",
     "output_type": "stream",
     "text": [
      "saving data\n"
     ]
    }
   ],
   "source": [
    "df.to_csv(\"spending_labeled_dataset.csv\")\n",
    "\n",
    "print(\"saving data\")"
   ]
  },
  {
   "cell_type": "code",
   "execution_count": null,
   "id": "e81f7504-5611-4daf-89a5-1f3a813164c1",
   "metadata": {},
   "outputs": [],
   "source": []
  }
 ],
 "metadata": {
  "kernelspec": {
   "display_name": "Python [conda env:base] *",
   "language": "python",
   "name": "conda-base-py"
  },
  "language_info": {
   "codemirror_mode": {
    "name": "ipython",
    "version": 3
   },
   "file_extension": ".py",
   "mimetype": "text/x-python",
   "name": "python",
   "nbconvert_exporter": "python",
   "pygments_lexer": "ipython3",
   "version": "3.13.5"
  },
  "panel-cell-order": [
   "b0ac9acb-cd0e-40ae-9112-79d86bb972cf"
  ]
 },
 "nbformat": 4,
 "nbformat_minor": 5
}
