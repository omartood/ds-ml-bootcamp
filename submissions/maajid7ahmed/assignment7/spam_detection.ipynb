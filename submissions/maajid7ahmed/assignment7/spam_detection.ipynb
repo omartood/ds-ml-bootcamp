{
 "cells": [
  {
   "cell_type": "code",
   "execution_count": 8,
   "id": "30b1da22-7c13-4603-a3ab-88b6ec97a66e",
   "metadata": {},
   "outputs": [],
   "source": [
    "# --------------------------------\n",
    "# 0) Imports\n",
    "# --------------------------------\n",
    "import numpy as np\n",
    "import pandas as pd\n",
    "\n",
    "from sklearn.model_selection import train_test_split\n",
    "from sklearn.feature_extraction.text import TfidfVectorizer\n",
    "\n",
    "from sklearn.linear_model import LogisticRegression\n",
    "from sklearn.ensemble import RandomForestClassifier\n",
    "from sklearn.naive_bayes import MultinomialNB\n",
    "\n",
    "from sklearn.metrics import (\n",
    "    accuracy_score, precision_score, recall_score, f1_score, confusion_matrix\n",
    ")\n",
    "\n",
    "\n",
    "RANDOM_STATE = 42  # reproducibility"
   ]
  },
  {
   "cell_type": "code",
   "execution_count": 3,
   "id": "4e9fc806-9c39-4399-a337-3c4787abaf45",
   "metadata": {},
   "outputs": [
    {
     "name": "stdout",
     "output_type": "stream",
     "text": [
      "  Category                                            Message\n",
      "0        1  Go until jurong point, crazy.. Available only ...\n",
      "1        1                      Ok lar... Joking wif u oni...\n",
      "2        0  Free entry in 2 a wkly comp to win FA Cup fina...\n",
      "3        1  U dun say so early hor... U c already then say...\n",
      "4        1  Nah I don't think he goes to usf, he lives aro...\n"
     ]
    }
   ],
   "source": [
    "# --------------------------------\n",
    "# 1) Load the dataset\n",
    "# --------------------------------\n",
    "# Expected columns: \"Category\" (ham/spam), \"Message\" (text)\n",
    "df = pd.read_csv(\"mail_l7_dataset.csv\")\n",
    "\n",
    "#preprocessing data\n",
    "\n",
    "# Basic cleaning: replace NaNs with empty strings (text models can't handle NaN)\n",
    "df = df.where(pd.notnull(df), \"\")\n",
    "\n",
    "# Encode labels: spam -> 0, ham -> 1  (keep your original convention)\n",
    "df.loc[df[\"Category\"].str.lower().str.strip() == \"spam\", \"Category\"] = 0\n",
    "df.loc[df[\"Category\"].str.lower().str.strip() == \"ham\",  \"Category\"] = 1\n",
    "\n",
    "print(df.head())"
   ]
  },
  {
   "cell_type": "code",
   "execution_count": 5,
   "id": "32fef196-5f02-4265-bb6d-ea3334fd3e54",
   "metadata": {},
   "outputs": [
    {
     "name": "stdout",
     "output_type": "stream",
     "text": [
      "=== SPLIT SIZES ===\n",
      "Train: 4457  | Test: 1115\n"
     ]
    }
   ],
   "source": [
    "# --------------------------------\n",
    "# 2) Split features (X) and target (y)\n",
    "# --------------------------------\n",
    "X = df[\"Message\"].astype(str)\n",
    "y = df[\"Category\"].astype(int)\n",
    "\n",
    "# --------------------------------\n",
    "# 3) Train/test split (stratified)\n",
    "# --------------------------------\n",
    "X_train, X_test, y_train, y_test = train_test_split(\n",
    "    X, y, test_size=0.2, random_state=RANDOM_STATE\n",
    ")\n",
    "\n",
    "print(\"=== SPLIT SIZES ===\")\n",
    "print(\"Train:\", X_train.shape[0], \" | Test:\", X_test.shape[0])"
   ]
  },
  {
   "cell_type": "code",
   "execution_count": 6,
   "id": "bbae0765-7fa1-4bcd-a0a6-a4f23d1c65b3",
   "metadata": {},
   "outputs": [
    {
     "name": "stdout",
     "output_type": "stream",
     "text": [
      "\n",
      "=== TF-IDF SHAPES ===\n",
      "X_train: (4457, 7440)  | X_test: (1115, 7440)\n"
     ]
    }
   ],
   "source": [
    "# --------------------------------\n",
    "# 4) Text → TF-IDF features\n",
    "# --------------------------------\n",
    "# Simple, student-friendly settings\n",
    "tfidf = TfidfVectorizer(min_df=1, stop_words=\"english\", lowercase=True)\n",
    "X_train_features = tfidf.fit_transform(X_train)\n",
    "X_test_features  = tfidf.transform(X_test)\n",
    "\n",
    "print(\"\\n=== TF-IDF SHAPES ===\")\n",
    "print(\"X_train:\", X_train_features.shape, \" | X_test:\", X_test_features.shape)"
   ]
  },
  {
   "cell_type": "code",
   "execution_count": 10,
   "id": "85b27a5c-521e-45d7-99aa-4c748c75cbb5",
   "metadata": {},
   "outputs": [],
   "source": [
    "# --------------------------------\n",
    "# 5) Train Logistic Regression (baseline)\n",
    "# --------------------------------\n",
    "lr = LogisticRegression(max_iter=1000, random_state=RANDOM_STATE)\n",
    "lr.fit(X_train_features, y_train)\n",
    "lr_pred = lr.predict(X_test_features)\n",
    "\n",
    "# --------------------------------\n",
    "# 6) Train Random Forest\n",
    "#    (convert TF-IDF to dense for tree models)\n",
    "# --------------------------------\n",
    "rf = RandomForestClassifier(n_estimators=200, random_state=RANDOM_STATE)\n",
    "rf.fit(X_train_features, y_train)\n",
    "rf_pred = rf.predict(X_test_features.toarray())\n",
    "\n",
    "# --------------------------------\n",
    "# 7) Train Naive Bayes (Multinomial)\n",
    "# --------------------------------\n",
    "nb = MultinomialNB()\n",
    "nb.fit(X_train_features, y_train)\n",
    "nb_pred = nb.predict(X_test_features)"
   ]
  },
  {
   "cell_type": "code",
   "execution_count": 11,
   "id": "c72018bb-8382-4caf-b11e-506fb8d6fd6a",
   "metadata": {},
   "outputs": [
    {
     "name": "stdout",
     "output_type": "stream",
     "text": [
      "\n",
      "Logistic Regression Performance:\n",
      "  Accuracy : 0.968\n",
      "  Precision: 1.000  (positive = spam=0)\n",
      "  Recall   : 0.758  (positive = spam=0)\n",
      "  F1-Score : 0.863  (positive = spam=0)\n",
      "\n",
      "Logistic Regression – Confusion Matrix:\n",
      "                  Pred: Ham (1)  Pred: Spam (0)\n",
      "Actual: Ham (1)             966               0\n",
      "Actual: Spam (0)             36             113\n",
      "\n",
      "Random Forest Performance:\n",
      "  Accuracy : 0.983\n",
      "  Precision: 1.000  (positive = spam=0)\n",
      "  Recall   : 0.872  (positive = spam=0)\n",
      "  F1-Score : 0.932  (positive = spam=0)\n",
      "\n",
      "Random Forest – Confusion Matrix:\n",
      "                  Pred: Ham (1)  Pred: Spam (0)\n",
      "Actual: Ham (1)             966               0\n",
      "Actual: Spam (0)             19             130\n",
      "\n",
      "Naive Bayes Performance:\n",
      "  Accuracy : 0.977\n",
      "  Precision: 1.000  (positive = spam=0)\n",
      "  Recall   : 0.826  (positive = spam=0)\n",
      "  F1-Score : 0.904  (positive = spam=0)\n",
      "\n",
      "Naive Bayes – Confusion Matrix:\n",
      "                  Pred: Ham (1)  Pred: Spam (0)\n",
      "Actual: Ham (1)             966               0\n",
      "Actual: Spam (0)             26             123\n"
     ]
    }
   ],
   "source": [
    "# --------------------------------\n",
    "# 8) Helper functions: metrics + confusion matrix print\n",
    "# --------------------------------\n",
    "def print_clf_metrics(name, y_true, y_pred, pos_label=0):\n",
    "    \"\"\"Print Accuracy, Precision, Recall, F1. pos_label=0 means 'spam' is positive.\"\"\"\n",
    "    acc  = accuracy_score(y_true, y_pred)\n",
    "    prec = precision_score(y_true, y_pred, pos_label=pos_label)\n",
    "    rec  = recall_score(y_true, y_pred, pos_label=pos_label)\n",
    "    f1   = f1_score(y_true, y_pred, pos_label=pos_label)\n",
    "    print(f\"\\n{name} Performance:\")\n",
    "    print(f\"  Accuracy : {acc:.3f}\")\n",
    "    print(f\"  Precision: {prec:.3f}  (positive = spam=0)\")\n",
    "    print(f\"  Recall   : {rec:.3f}  (positive = spam=0)\")\n",
    "    print(f\"  F1-Score : {f1:.3f}  (positive = spam=0)\")\n",
    "\n",
    "def print_confmat(name, y_true, y_pred):\n",
    "    \"\"\"\n",
    "    Confusion matrix with readable labels.\n",
    "    Rows = Actual, Cols = Predicted\n",
    "    Order: [Ham(1), Spam(0)] so you can see both classes clearly.\n",
    "    \"\"\"\n",
    "    cm = confusion_matrix(y_true, y_pred, labels=[1, 0])\n",
    "    cm_df = pd.DataFrame(\n",
    "        cm,\n",
    "        index   = [\"Actual: Ham (1)\",  \"Actual: Spam (0)\"],\n",
    "        columns = [\"Pred: Ham (1)\",    \"Pred: Spam (0)\"]\n",
    "    )\n",
    "    print(f\"\\n{name} – Confusion Matrix:\\n{cm_df}\")\n",
    "\n",
    "# --------------------------------\n",
    "# 9) Show results for both models (same print style as L5)\n",
    "# --------------------------------\n",
    "print_clf_metrics(\"Logistic Regression\", y_test, lr_pred, pos_label=0)\n",
    "print_confmat(\"Logistic Regression\", y_test, lr_pred)\n",
    "\n",
    "print_clf_metrics(\"Random Forest\", y_test, rf_pred, pos_label=0)\n",
    "print_confmat(\"Random Forest\", y_test, rf_pred)\n",
    "\n",
    "print_clf_metrics(\"Naive Bayes\", y_test, nb_pred, pos_label=0)\n",
    "print_confmat(\"Naive Bayes\", y_test, nb_pred)"
   ]
  },
  {
   "cell_type": "code",
   "execution_count": 13,
   "id": "bf813a29-b47f-4613-94ea-9176e2f87606",
   "metadata": {},
   "outputs": [
    {
     "name": "stdout",
     "output_type": "stream",
     "text": [
      "\n",
      "=== SANITY CHECKS ON CUSTOM MESSAGES ===\n",
      "\n",
      "Message: Free entry in 2 a weekly competition!\n",
      "  Logistic Regression: Ham (1)\n",
      "  Random Forest      : Ham (1)\n",
      "  Naive Bayes        : Spam (0)\n",
      "\n",
      "Message: I will meet you at the cafe tomorrow\n",
      "  Logistic Regression: Ham (1)\n",
      "  Random Forest      : Ham (1)\n",
      "  Naive Bayes        : Ham (1)\n",
      "\n",
      "Message: Congratulations, you won a free ticket\n",
      "  Logistic Regression: Ham (1)\n",
      "  Random Forest      : Ham (1)\n",
      "  Naive Bayes        : Ham (1)\n"
     ]
    }
   ],
   "source": [
    "# --------------------------------\n",
    "# 10) Sanity Checks – 3 custom messages\n",
    "# --------------------------------\n",
    "samples = [\n",
    "    \"Free entry in 2 a weekly competition!\",\n",
    "    \"I will meet you at the cafe tomorrow\",\n",
    "    \"Congratulations, you won a free ticket\"\n",
    "]\n",
    "\n",
    "print(\"\\n=== SANITY CHECKS ON CUSTOM MESSAGES ===\")\n",
    "for msg in samples:\n",
    "    msg_tfidf = tfidf.transform([msg])\n",
    "    lr_pred = int(lr.predict(msg_tfidf)[0])\n",
    "    rf_pred = int(rf.predict(msg_tfidf.toarray())[0])\n",
    "    nb_pred = int(nb.predict(msg_tfidf)[0])\n",
    "\n",
    "    def lab2str(v):\n",
    "        return \"Spam (0)\" if v == 0 else \"Ham (1)\"\n",
    "\n",
    "    print(f\"\\nMessage: {msg}\")\n",
    "    print(f\"  Logistic Regression: {lab2str(lr_pred)}\")\n",
    "    print(f\"  Random Forest      : {lab2str(rf_pred)}\")\n",
    "    print(f\"  Naive Bayes        : {lab2str(nb_pred)}\")\n"
   ]
  },
  {
   "cell_type": "code",
   "execution_count": null,
   "id": "709717be-1eda-4277-bcea-089c9edcc7e4",
   "metadata": {},
   "outputs": [],
   "source": []
  }
 ],
 "metadata": {
  "kernelspec": {
   "display_name": "Python [conda env:base] *",
   "language": "python",
   "name": "conda-base-py"
  },
  "language_info": {
   "codemirror_mode": {
    "name": "ipython",
    "version": 3
   },
   "file_extension": ".py",
   "mimetype": "text/x-python",
   "name": "python",
   "nbconvert_exporter": "python",
   "pygments_lexer": "ipython3",
   "version": "3.13.5"
  }
 },
 "nbformat": 4,
 "nbformat_minor": 5
}
