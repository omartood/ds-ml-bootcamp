{
 "cells": [
  {
   "cell_type": "code",
   "execution_count": 13,
   "id": "b242cc5b-4f22-452f-a1fd-6b5721e2962d",
   "metadata": {},
   "outputs": [
    {
     "name": "stdout",
     "output_type": "stream",
     "text": [
      "=== INITIAL SNAPSHOT ===\n",
      "   CustomerID  Age  Income_$  SpendingScore  VisitsPerMonth  OnlinePurchases  \\\n",
      "0           1   28        33             78              14                9   \n",
      "1           2   21        25             87               8               23   \n",
      "2           3   23        24             88              13               10   \n",
      "3           4   24        25             73              16               11   \n",
      "4           5   20        23             88              17               16   \n",
      "\n",
      "   Gender Region  \n",
      "0  Female   East  \n",
      "1    Male  North  \n",
      "2    Male  South  \n",
      "3  Female   West  \n",
      "4    Male   West  \n",
      "<class 'pandas.core.frame.DataFrame'>\n",
      "RangeIndex: 200 entries, 0 to 199\n",
      "Data columns (total 8 columns):\n",
      " #   Column           Non-Null Count  Dtype \n",
      "---  ------           --------------  ----- \n",
      " 0   CustomerID       200 non-null    int64 \n",
      " 1   Age              200 non-null    int64 \n",
      " 2   Income_$         200 non-null    int64 \n",
      " 3   SpendingScore    200 non-null    int64 \n",
      " 4   VisitsPerMonth   200 non-null    int64 \n",
      " 5   OnlinePurchases  200 non-null    int64 \n",
      " 6   Gender           200 non-null    object\n",
      " 7   Region           200 non-null    object\n",
      "dtypes: int64(6), object(2)\n",
      "memory usage: 12.6+ KB\n",
      "None\n",
      "CustomerID         0\n",
      "Age                0\n",
      "Income_$           0\n",
      "SpendingScore      0\n",
      "VisitsPerMonth     0\n",
      "OnlinePurchases    0\n",
      "Gender             0\n",
      "Region             0\n",
      "dtype: int64\n"
     ]
    }
   ],
   "source": [
    "import pandas as pd\n",
    "import numpy as np\n",
    "import os\n",
    "os.environ[\"OMP_NUM_THREADS\"] = \"1\"  # Limit to 1 thread\n",
    "\n",
    "\n",
    "from sklearn.cluster import KMeans\n",
    "from sklearn.preprocessing import StandardScaler\n",
    "from sklearn.metrics import silhouette_score, davies_bouldin_score\n",
    "\n",
    "# --------------------------------\n",
    "# 1) Load dataset\n",
    "# --------------------------------\n",
    "\n",
    "CSV_PATH = \"spending_l9_dataset.csv\"\n",
    "df = pd.read_csv(CSV_PATH)\n",
    "\n",
    "print(\"=== INITIAL SNAPSHOT ===\")\n",
    "print(df.head())\n",
    "print(df.info())\n",
    "print(df.isnull().sum())"
   ]
  },
  {
   "cell_type": "code",
   "execution_count": 3,
   "id": "1ed903b8-88f7-4954-b73b-e2ed1f00c4d8",
   "metadata": {},
   "outputs": [
    {
     "name": "stdout",
     "output_type": "stream",
     "text": [
      "no null values\n",
      "\n",
      " === FEATURES HEAD === \n",
      "   SpendingScore  Income_$\n",
      "0             78        33\n",
      "1             87        25\n",
      "2             88        24\n",
      "3             73        25\n",
      "4             88        23\n"
     ]
    }
   ],
   "source": [
    "# --------------------------------\n",
    "# 2) Select features for clustering\n",
    "# --------------------------------\n",
    "FEATURES = [\"SpendingScore\", \"Income_$\"]\n",
    "X = df[FEATURES].copy()\n",
    "\n",
    "# Fill missing numeric values (if any) with median\n",
    "for col in FEATURES:\n",
    "    if X[col].isna().any():\n",
    "        X[col] = X[col].fillna(X[col].median())\n",
    "    else:\n",
    "        print(\"no null values\")\n",
    "        break\n",
    "print(\"\\n === FEATURES HEAD === \")\n",
    "print(X.head())\n",
    "    "
   ]
  },
  {
   "cell_type": "code",
   "execution_count": 4,
   "id": "f3058bc5-a244-4d67-8c16-7cbdc3373f87",
   "metadata": {},
   "outputs": [
    {
     "name": "stdout",
     "output_type": "stream",
     "text": [
      "\n",
      " Scalled shape: (200, 2)\n",
      "[[ 0.72998073 -0.62783049]\n",
      " [ 1.07359091 -0.89031514]\n",
      " [ 1.11176982 -0.92312573]\n",
      " [ 0.53908619 -0.89031514]\n",
      " [ 1.11176982 -0.95593631]]\n"
     ]
    }
   ],
   "source": [
    "# --------------------------------\n",
    "# 3) Scale features\n",
    "# --------------------------------\n",
    "scaller = StandardScaler()\n",
    "X_scalled = scaller.fit_transform(X)\n",
    "print(\"\\n Scalled shape:\", X_scalled.shape)\n",
    "print(X_scalled[: 5])"
   ]
  },
  {
   "cell_type": "code",
   "execution_count": 14,
   "id": "f4beea91-376d-43b3-86c3-3c9d07915c62",
   "metadata": {},
   "outputs": [
    {
     "name": "stdout",
     "output_type": "stream",
     "text": [
      "\n",
      "=== ELBOW METHOD (SSE per k) ===\n",
      "k = 1 SSE = 400.00\n",
      "k = 2 SSE = 199.70\n",
      "k = 3 SSE = 79.37\n",
      "k = 4 SSE = 21.37\n",
      "k = 5 SSE = 19.09\n",
      "k = 6 SSE = 15.65\n",
      "k = 7 SSE = 14.48\n",
      "k = 8 SSE = 13.81\n",
      "k = 9 SSE = 12.94\n",
      "k = 10 SSE = 11.52\n"
     ]
    },
    {
     "name": "stderr",
     "output_type": "stream",
     "text": [
      "C:\\Users\\hp\\anaconda3\\Lib\\site-packages\\sklearn\\cluster\\_kmeans.py:1419: UserWarning: KMeans is known to have a memory leak on Windows with MKL, when there are less chunks than available threads. You can avoid it by setting the environment variable OMP_NUM_THREADS=1.\n",
      "  warnings.warn(\n",
      "C:\\Users\\hp\\anaconda3\\Lib\\site-packages\\sklearn\\cluster\\_kmeans.py:1419: UserWarning: KMeans is known to have a memory leak on Windows with MKL, when there are less chunks than available threads. You can avoid it by setting the environment variable OMP_NUM_THREADS=1.\n",
      "  warnings.warn(\n",
      "C:\\Users\\hp\\anaconda3\\Lib\\site-packages\\sklearn\\cluster\\_kmeans.py:1419: UserWarning: KMeans is known to have a memory leak on Windows with MKL, when there are less chunks than available threads. You can avoid it by setting the environment variable OMP_NUM_THREADS=1.\n",
      "  warnings.warn(\n",
      "C:\\Users\\hp\\anaconda3\\Lib\\site-packages\\sklearn\\cluster\\_kmeans.py:1419: UserWarning: KMeans is known to have a memory leak on Windows with MKL, when there are less chunks than available threads. You can avoid it by setting the environment variable OMP_NUM_THREADS=1.\n",
      "  warnings.warn(\n",
      "C:\\Users\\hp\\anaconda3\\Lib\\site-packages\\sklearn\\cluster\\_kmeans.py:1419: UserWarning: KMeans is known to have a memory leak on Windows with MKL, when there are less chunks than available threads. You can avoid it by setting the environment variable OMP_NUM_THREADS=1.\n",
      "  warnings.warn(\n",
      "C:\\Users\\hp\\anaconda3\\Lib\\site-packages\\sklearn\\cluster\\_kmeans.py:1419: UserWarning: KMeans is known to have a memory leak on Windows with MKL, when there are less chunks than available threads. You can avoid it by setting the environment variable OMP_NUM_THREADS=1.\n",
      "  warnings.warn(\n",
      "C:\\Users\\hp\\anaconda3\\Lib\\site-packages\\sklearn\\cluster\\_kmeans.py:1419: UserWarning: KMeans is known to have a memory leak on Windows with MKL, when there are less chunks than available threads. You can avoid it by setting the environment variable OMP_NUM_THREADS=1.\n",
      "  warnings.warn(\n",
      "C:\\Users\\hp\\anaconda3\\Lib\\site-packages\\sklearn\\cluster\\_kmeans.py:1419: UserWarning: KMeans is known to have a memory leak on Windows with MKL, when there are less chunks than available threads. You can avoid it by setting the environment variable OMP_NUM_THREADS=1.\n",
      "  warnings.warn(\n",
      "C:\\Users\\hp\\anaconda3\\Lib\\site-packages\\sklearn\\cluster\\_kmeans.py:1419: UserWarning: KMeans is known to have a memory leak on Windows with MKL, when there are less chunks than available threads. You can avoid it by setting the environment variable OMP_NUM_THREADS=1.\n",
      "  warnings.warn(\n",
      "C:\\Users\\hp\\anaconda3\\Lib\\site-packages\\sklearn\\cluster\\_kmeans.py:1419: UserWarning: KMeans is known to have a memory leak on Windows with MKL, when there are less chunks than available threads. You can avoid it by setting the environment variable OMP_NUM_THREADS=1.\n",
      "  warnings.warn(\n"
     ]
    }
   ],
   "source": [
    "# --------------------------------\n",
    "# 4) Elbow method (print SSE)\n",
    "# --------------------------------\n",
    "\n",
    "print(\"\\n=== ELBOW METHOD (SSE per k) ===\")\n",
    "for k in range(1,11):\n",
    "    km = KMeans(n_clusters = k, n_init = \"auto\", random_state = 42)\n",
    "    km.fit(X_scalled)\n",
    "    print(f\"k = {k} SSE = {km.inertia_:.2f}\")\n"
   ]
  },
  {
   "cell_type": "code",
   "execution_count": 15,
   "id": "e813f713-36cb-4a89-a45c-fd1237dbe02c",
   "metadata": {},
   "outputs": [
    {
     "name": "stdout",
     "output_type": "stream",
     "text": [
      "\n",
      "=== SAMPLE WITH CLUSTERS ===\n",
      "   CustomerID  Age  Income_$  SpendingScore  VisitsPerMonth  OnlinePurchases  \\\n",
      "0           1   28        33             78              14                9   \n",
      "1           2   21        25             87               8               23   \n",
      "2           3   23        24             88              13               10   \n",
      "3           4   24        25             73              16               11   \n",
      "4           5   20        23             88              17               16   \n",
      "\n",
      "   Gender Region  Cluster  \n",
      "0  Female   East        2  \n",
      "1    Male  North        2  \n",
      "2    Male  South        2  \n",
      "3  Female   West        2  \n",
      "4    Male   West        2  \n"
     ]
    },
    {
     "name": "stderr",
     "output_type": "stream",
     "text": [
      "C:\\Users\\hp\\anaconda3\\Lib\\site-packages\\sklearn\\cluster\\_kmeans.py:1419: UserWarning: KMeans is known to have a memory leak on Windows with MKL, when there are less chunks than available threads. You can avoid it by setting the environment variable OMP_NUM_THREADS=1.\n",
      "  warnings.warn(\n"
     ]
    }
   ],
   "source": [
    "# --------------------------------\n",
    "# 5) Fit K-Means with chosen k\n",
    "# --------------------------------\n",
    "K = 3  # adjust based on SSE values above\n",
    "kmeans = KMeans(n_clusters=K, n_init=\"auto\", random_state=42)\n",
    "labels = kmeans.fit_predict(X_scalled)\n",
    "\n",
    "df[\"Cluster\"] = labels.astype(int)\n",
    "print(\"\\n=== SAMPLE WITH CLUSTERS ===\")\n",
    "print(df.head())\n"
   ]
  },
  {
   "cell_type": "code",
   "execution_count": 8,
   "id": "df801d8d-22f9-41f8-b65d-7671f1ff4cf6",
   "metadata": {},
   "outputs": [
    {
     "name": "stdout",
     "output_type": "stream",
     "text": [
      "\n",
      "=== METRICS ===\n",
      "Silhouette Score : 0.607 (closer to +1 is better)\n",
      "Davies–Bouldin   : 0.554 (lower is better)\n"
     ]
    }
   ],
   "source": [
    "# --------------------------------\n",
    "# 6) Evaluate clustering\n",
    "# --------------------------------\n",
    "sil = silhouette_score(X_scalled, labels)\n",
    "dbi = davies_bouldin_score(X_scalled, labels)\n",
    "print(\"\\n=== METRICS ===\")\n",
    "print(f\"Silhouette Score : {sil:.3f} (closer to +1 is better)\")\n",
    "print(f\"Davies–Bouldin   : {dbi:.3f} (lower is better)\")"
   ]
  },
  {
   "cell_type": "code",
   "execution_count": 9,
   "id": "d0d25c9e-6501-4ffc-8a94-96c9ef18e7f2",
   "metadata": {},
   "outputs": [
    {
     "name": "stdout",
     "output_type": "stream",
     "text": [
      "\n",
      "=== CLUSTER CENTERS (Original Units) ===\n",
      "         SpendingScore  Income_$\n",
      "Cluster                         \n",
      "0                76.72     95.51\n",
      "1                31.85     39.32\n",
      "2                80.14     28.47\n"
     ]
    }
   ],
   "source": [
    "# --------------------------------\n",
    "# 7) Cluster centers (back to original units)\n",
    "# --------------------------------\n",
    "centers_scaled = kmeans.cluster_centers_\n",
    "centers_original = scaller.inverse_transform(centers_scaled)\n",
    "\n",
    "centers_df = pd.DataFrame(centers_original, columns=FEATURES)\n",
    "centers_df.index.name = \"Cluster\"\n",
    "\n",
    "print(\"\\n=== CLUSTER CENTERS (Original Units) ===\")\n",
    "print(centers_df.round(2))"
   ]
  },
  {
   "cell_type": "code",
   "execution_count": 11,
   "id": "6d5a37cb-5e06-4574-a0a0-98355fb3e8c2",
   "metadata": {},
   "outputs": [
    {
     "name": "stdout",
     "output_type": "stream",
     "text": [
      "\n",
      "=== SANITY CHECK (3 Customers) ===\n",
      "   SpendingScore  Income_$  Cluster\n",
      "0             78        33        2\n",
      "1             87        25        2\n",
      "2             88        24        2\n"
     ]
    }
   ],
   "source": [
    "# --------------------------------\n",
    "# 8) Sanity checks (3 customers)\n",
    "# --------------------------------\n",
    "sample_idx = [0, 1, 2]  # change to any row numbers\n",
    "sanity = df.loc[sample_idx, FEATURES + [\"Cluster\"]]\n",
    "print(\"\\n=== SANITY CHECK (3 Customers) ===\")\n",
    "print(sanity)"
   ]
  },
  {
   "cell_type": "code",
   "execution_count": 12,
   "id": "7b7e82a8-bd34-430e-837a-be405b5c9db9",
   "metadata": {},
   "outputs": [
    {
     "name": "stdout",
     "output_type": "stream",
     "text": [
      "\n",
      "Saved clustered dataset → spending_labeled_clusters.csv\n"
     ]
    }
   ],
   "source": [
    "# --------------------------------\n",
    "# 9) Save labeled dataset\n",
    "# --------------------------------\n",
    "OUT_PATH = \"spending_labeled_clusters.csv\"\n",
    "df.to_csv(OUT_PATH, index=False)\n",
    "print(f\"\\nSaved clustered dataset → {OUT_PATH}\")"
   ]
  },
  {
   "cell_type": "code",
   "execution_count": null,
   "id": "8c2cac3c-5f7a-4dd3-8c66-c5dafcca714a",
   "metadata": {},
   "outputs": [],
   "source": []
  }
 ],
 "metadata": {
  "kernelspec": {
   "display_name": "Python [conda env:base] *",
   "language": "python",
   "name": "conda-base-py"
  },
  "language_info": {
   "codemirror_mode": {
    "name": "ipython",
    "version": 3
   },
   "file_extension": ".py",
   "mimetype": "text/x-python",
   "name": "python",
   "nbconvert_exporter": "python",
   "pygments_lexer": "ipython3",
   "version": "3.13.5"
  }
 },
 "nbformat": 4,
 "nbformat_minor": 5
}
