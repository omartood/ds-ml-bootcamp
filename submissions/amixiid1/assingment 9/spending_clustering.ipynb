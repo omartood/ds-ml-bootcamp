{
 "cells": [
  {
   "cell_type": "code",
   "execution_count": 1,
   "id": "412b08b8-9bc8-4e37-ae01-de513a0667aa",
   "metadata": {},
   "outputs": [],
   "source": [
    "# Imports\n",
    "import pandas as pd\n",
    "import numpy as np\n",
    "from sklearn.cluster import KMeans\n",
    "from sklearn.preprocessing import StandardScaler\n",
    "from sklearn.metrics import silhouette_score, davies_bouldin_score\n",
    "import warnings\n",
    "warnings.filterwarnings('ignore')"
   ]
  },
  {
   "cell_type": "code",
   "execution_count": 3,
   "id": "cdc034e8-3f7f-4ab6-aade-bbc0ed6dda92",
   "metadata": {},
   "outputs": [
    {
     "name": "stdout",
     "output_type": "stream",
     "text": [
      "=== DATA SHAPE === (200, 8)\n",
      "   CustomerID  Age  Income_$  SpendingScore  VisitsPerMonth  OnlinePurchases  \\\n",
      "0           1   28        33             78              14                9   \n",
      "1           2   21        25             87               8               23   \n",
      "2           3   23        24             88              13               10   \n",
      "3           4   24        25             73              16               11   \n",
      "4           5   20        23             88              17               16   \n",
      "\n",
      "   Gender Region  \n",
      "0  Female   East  \n",
      "1    Male  North  \n",
      "2    Male  South  \n",
      "3  Female   West  \n",
      "4    Male   West  \n"
     ]
    }
   ],
   "source": [
    "CSV_PATH = \"spending_l9_dataset.csv\" # update if needed\n",
    "df = pd.read_csv(CSV_PATH)\n",
    "print(\"=== DATA SHAPE ===\", df.shape)\n",
    "print(df.head())"
   ]
  },
  {
   "cell_type": "code",
   "execution_count": 7,
   "id": "73d72817-944c-462c-994b-6ac34cab06ce",
   "metadata": {},
   "outputs": [],
   "source": [
    "FEATURES = [\"Income_$\", \"SpendingScore\"]\n",
    "# Defensive check: ensure the columns exist\n",
    "missing_cols = [c for c in FEATURES if c not in df.columns]\n",
    "if missing_cols:\n",
    "    raise ValueError(f\"Missing expected feature columns in CSV: {missing_cols}\")"
   ]
  },
  {
   "cell_type": "code",
   "execution_count": 15,
   "id": "7e291abc-6dc6-432e-b59f-f3bacf4403d4",
   "metadata": {},
   "outputs": [
    {
     "name": "stdout",
     "output_type": "stream",
     "text": [
      "\n",
      "=== FEATURES HEAD ===\n",
      "   Income_$  SpendingScore\n",
      "0        33             78\n",
      "1        25             87\n",
      "2        24             88\n",
      "3        25             73\n",
      "4        23             88\n",
      "\n",
      "Scaled features shape: (200, 2)\n"
     ]
    }
   ],
   "source": [
    "# Fill numeric missing values with median\n",
    "X = df[FEATURES].copy()\n",
    "for col in FEATURES:\n",
    "    if X[col].isna().any():\n",
    "        X[col] = X[col].fillna(X[col].median())\n",
    "\n",
    "print(\"\\n=== FEATURES HEAD ===\")\n",
    "print(X.head())\n",
    "scaler = StandardScaler()\n",
    "X_scaled = scaler.fit_transform(X)\n",
    "print(\"\\nScaled features shape:\", X_scaled.shape)"
   ]
  },
  {
   "cell_type": "code",
   "execution_count": 16,
   "id": "7d28887b-5106-4d09-a425-7a422bb2a033",
   "metadata": {},
   "outputs": [
    {
     "name": "stdout",
     "output_type": "stream",
     "text": [
      "Using K = 3 for final clustering\n",
      "\n",
      "Cluster counts:\n",
      " Cluster\n",
      "0    89\n",
      "1    58\n",
      "2    53\n",
      "Name: count, dtype: int64\n"
     ]
    }
   ],
   "source": [
    "K = 3 # adjust this number based on the elbow SSE values\n",
    "print(f\"Using K = {K} for final clustering\\n\")\n",
    "\n",
    "\n",
    "kmeans = KMeans(n_clusters=K, n_init=10, random_state=42)\n",
    "labels = kmeans.fit_predict(X_scaled)\n",
    "\n",
    "\n",
    "df = df.copy()\n",
    "df['Cluster'] = labels.astype(int)\n",
    "\n",
    "\n",
    "print(\"Cluster counts:\\n\", df['Cluster'].value_counts().sort_index())"
   ]
  },
  {
   "cell_type": "code",
   "execution_count": 17,
   "id": "0cfeacf8-5080-485c-8321-a2028bc171ee",
   "metadata": {},
   "outputs": [
    {
     "name": "stdout",
     "output_type": "stream",
     "text": [
      "\n",
      "=== METRICS ===\n",
      "Silhouette Score : 0.611 (closer to +1 is better)\n",
      "Davies–Bouldin : 0.584 (lower is better)\n"
     ]
    }
   ],
   "source": [
    "sil = silhouette_score(X_scaled, labels) if K > 1 else np.nan\n",
    "dbi = davies_bouldin_score(X_scaled, labels) if K > 1 else np.nan\n",
    "print(\"\\n=== METRICS ===\")\n",
    "print(f\"Silhouette Score : {sil:.3f} (closer to +1 is better)\")\n",
    "print(f\"Davies–Bouldin : {dbi:.3f} (lower is better)\")"
   ]
  },
  {
   "cell_type": "code",
   "execution_count": 18,
   "id": "0b6db25e-6925-4597-86d5-c12987b3cefa",
   "metadata": {},
   "outputs": [
    {
     "name": "stdout",
     "output_type": "stream",
     "text": [
      "\n",
      "=== CLUSTER CENTERS (Original Units) ===\n",
      "         Income_$  SpendingScore\n",
      "Cluster                         \n",
      "0           37.81          71.19\n",
      "1           32.43          22.45\n",
      "2           97.75          78.08\n"
     ]
    }
   ],
   "source": [
    "centers_scaled = kmeans.cluster_centers_\n",
    "centers_original = scaler.inverse_transform(centers_scaled)\n",
    "centers_df = pd.DataFrame(centers_original, columns=FEATURES)\n",
    "centers_df.index.name = 'Cluster'\n",
    "print(\"\\n=== CLUSTER CENTERS (Original Units) ===\")\n",
    "print(centers_df.round(2))"
   ]
  },
  {
   "cell_type": "code",
   "execution_count": 19,
   "id": "0ba2632b-2279-4970-96f6-6b6aa075fe06",
   "metadata": {},
   "outputs": [
    {
     "name": "stdout",
     "output_type": "stream",
     "text": [
      "\n",
      "=== SANITY CHECK (3 Customers) ===\n",
      "   Income_$  SpendingScore  Cluster\n",
      "0        33             78        0\n",
      "1        25             87        0\n",
      "2        24             88        0\n"
     ]
    }
   ],
   "source": [
    "sample_idx = [0, 1, 2] # you can change to any row numbers\n",
    "sanity = df.loc[sample_idx, FEATURES + ['Cluster']]\n",
    "print(\"\\n=== SANITY CHECK (3 Customers) ===\")\n",
    "print(sanity)"
   ]
  },
  {
   "cell_type": "code",
   "execution_count": 22,
   "id": "606476cf-85e9-4a78-a0c6-31f2d58cd8ce",
   "metadata": {},
   "outputs": [
    {
     "name": "stdout",
     "output_type": "stream",
     "text": [
      "\n",
      "Saved clustered dataset → spending_labeled_clusters.csv\n"
     ]
    }
   ],
   "source": [
    "OUT_PATH = \"spending_labeled_clusters.csv\"\n",
    "df.to_csv(OUT_PATH, index=False)\n",
    "print(f\"\\nSaved clustered dataset → {OUT_PATH}\")"
   ]
  },
  {
   "cell_type": "code",
   "execution_count": null,
   "id": "d75f8480-b83c-43c6-aec5-b77468de00c1",
   "metadata": {},
   "outputs": [],
   "source": []
  }
 ],
 "metadata": {
  "kernelspec": {
   "display_name": "Python [conda env:base] *",
   "language": "python",
   "name": "conda-base-py"
  },
  "language_info": {
   "codemirror_mode": {
    "name": "ipython",
    "version": 3
   },
   "file_extension": ".py",
   "mimetype": "text/x-python",
   "name": "python",
   "nbconvert_exporter": "python",
   "pygments_lexer": "ipython3",
   "version": "3.13.5"
  }
 },
 "nbformat": 4,
 "nbformat_minor": 5
}
