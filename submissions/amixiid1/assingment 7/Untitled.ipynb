{
 "cells": [
  {
   "cell_type": "code",
   "execution_count": 2,
   "id": "53e85fe0-45a0-433e-89f1-f4efa8052edb",
   "metadata": {},
   "outputs": [],
   "source": [
    "import numpy as np\n",
    "import pandas as pd\n",
    "\n",
    "from sklearn.model_selection import train_test_split\n",
    "from sklearn.feature_extraction.text import TfidfVectorizer\n",
    "\n",
    "from sklearn.linear_model import LogisticRegression\n",
    "from sklearn.ensemble import RandomForestClassifier\n",
    "from sklearn.naive_bayes import MultinomialNB\n",
    "\n",
    "from sklearn.metrics import (\n",
    "    accuracy_score, precision_score, recall_score, f1_score, confusion_matrix)"
   ]
  },
  {
   "cell_type": "code",
   "execution_count": 4,
   "id": "9a6eed9c-7440-4aba-a0d1-7b6bd88dc69d",
   "metadata": {},
   "outputs": [],
   "source": [
    "# 1) Load the dataset\n",
    "# --------------------------------\n",
    "df = pd.read_csv(\"mail_l7_dataset.csv\")"
   ]
  },
  {
   "cell_type": "code",
   "execution_count": 5,
   "id": "0826f3a4-062e-486b-afaf-fe747687a92f",
   "metadata": {},
   "outputs": [],
   "source": [
    "# Handle missing values\n",
    "df = df.where(pd.notnull(df), \"\")"
   ]
  },
  {
   "cell_type": "code",
   "execution_count": 6,
   "id": "98f404ee-1f4c-4199-ae2d-abc5e58127d4",
   "metadata": {},
   "outputs": [
    {
     "name": "stdout",
     "output_type": "stream",
     "text": [
      "=== SAMPLE DATA ===\n",
      "   Category                                            Message\n",
      "0         1  Go until jurong point, crazy.. Available only ...\n",
      "1         1                      Ok lar... Joking wif u oni...\n",
      "2         0  Free entry in 2 a wkly comp to win FA Cup fina...\n",
      "3         1  U dun say so early hor... U c already then say...\n",
      "4         1  Nah I don't think he goes to usf, he lives aro...\n"
     ]
    }
   ],
   "source": [
    "# Encode labels: spam=0, ham=1\n",
    "df.loc[df[\"Category\"].str.lower().str.strip() == \"spam\", \"Category\"] = 0\n",
    "df.loc[df[\"Category\"].str.lower().str.strip() == \"ham\",  \"Category\"] = 1\n",
    "df[\"Category\"] = df[\"Category\"].astype(int)\n",
    "\n",
    "print(\"=== SAMPLE DATA ===\")\n",
    "print(df.head())\n"
   ]
  },
  {
   "cell_type": "code",
   "execution_count": 13,
   "id": "8e4b0f52-0a53-490a-8d9c-ad85383a6b9e",
   "metadata": {},
   "outputs": [
    {
     "name": "stdout",
     "output_type": "stream",
     "text": [
      "\n",
      "=== SPLIT SIZES ===\n",
      "Train: 4457  | Test: 1115\n"
     ]
    }
   ],
   "source": [
    "# 2) Split features (X) and target (y)\n",
    "# --------------------------------\n",
    "X = df[\"Message\"].astype(str)\n",
    "y = df[\"Category\"].astype(int)\n",
    "\n",
    "RANDOM_STATE = 42\n",
    "# Train/test split (80/20, stratified)\n",
    "X_train, X_test, y_train, y_test = train_test_split(\n",
    "    X, y, test_size=0.2, random_state=RANDOM_STATE, stratify=y\n",
    ")\n",
    "\n",
    "print(\"\\n=== SPLIT SIZES ===\")\n",
    "print(\"Train:\", X_train.shape[0], \" | Test:\", X_test.shape[0])\n"
   ]
  },
  {
   "cell_type": "code",
   "execution_count": 12,
   "id": "6807eed5-381e-4d1c-9f5e-3e355498e9ba",
   "metadata": {},
   "outputs": [
    {
     "name": "stdout",
     "output_type": "stream",
     "text": [
      "\n",
      "=== TF-IDF SHAPES ===\n",
      "X_train: (4457, 7473)  | X_test: (1115, 7473)\n"
     ]
    }
   ],
   "source": [
    "# 3) TF-IDF Features\n",
    "# --------------------------------\n",
    "tfidf = TfidfVectorizer(min_df=1, stop_words=\"english\", lowercase=True)\n",
    "X_train_features = tfidf.fit_transform(X_train)\n",
    "X_test_features  = tfidf.transform(X_test)\n",
    "\n",
    "print(\"\\n=== TF-IDF SHAPES ===\")\n",
    "print(\"X_train:\", X_train_features.shape, \" | X_test:\", X_test_features.shape)"
   ]
  },
  {
   "cell_type": "code",
   "execution_count": 14,
   "id": "a4aa3eed-616f-4a0b-b545-d69b3be5ad2f",
   "metadata": {},
   "outputs": [],
   "source": [
    "# 4) Train Models\n",
    "# --------------------------------\n",
    "# Logistic Regression\n",
    "lr = LogisticRegression(max_iter=1000, random_state=RANDOM_STATE)\n",
    "lr.fit(X_train_features, y_train)\n",
    "lr_pred = lr.predict(X_test_features)"
   ]
  },
  {
   "cell_type": "code",
   "execution_count": 15,
   "id": "9a788966-1f53-45e3-b0af-2d7f00eb1681",
   "metadata": {},
   "outputs": [],
   "source": [
    "# Random Forest\n",
    "rf = RandomForestClassifier(n_estimators=200, random_state=RANDOM_STATE)\n",
    "rf.fit(X_train_features, y_train)\n",
    "rf_pred = rf.predict(X_test_features.toarray())"
   ]
  },
  {
   "cell_type": "code",
   "execution_count": 16,
   "id": "b2e01a6c-2bac-42af-8c4c-cf679fb5c8e8",
   "metadata": {},
   "outputs": [],
   "source": [
    "\n",
    "# Naive Bayes\n",
    "nb = MultinomialNB()\n",
    "nb.fit(X_train_features, y_train)\n",
    "nb_pred = nb.predict(X_test_features)\n"
   ]
  },
  {
   "cell_type": "code",
   "execution_count": 17,
   "id": "8a8ba323-5bc0-4bd3-9208-38c3b8ad18d5",
   "metadata": {},
   "outputs": [],
   "source": [
    "# 5) Helper Functions\n",
    "# --------------------------------\n",
    "def print_clf_metrics(name, y_true, y_pred, pos_label=0):\n",
    "    \"\"\"Print Accuracy, Precision, Recall, F1. pos_label=0 means spam is positive.\"\"\"\n",
    "    acc  = accuracy_score(y_true, y_pred)\n",
    "    prec = precision_score(y_true, y_pred, pos_label=pos_label)\n",
    "    rec  = recall_score(y_true, y_pred, pos_label=pos_label)\n",
    "    f1   = f1_score(y_true, y_pred, pos_label=pos_label)\n",
    "    print(f\"\\n{name} Performance:\")\n",
    "    print(f\"  Accuracy : {acc:.3f}\")\n",
    "    print(f\"  Precision: {prec:.3f}  (positive = spam=0)\")\n",
    "    print(f\"  Recall   : {rec:.3f}  (positive = spam=0)\")\n",
    "    print(f\"  F1-Score : {f1:.3f}  (positive = spam=0)\")\n",
    "\n",
    "def print_confmat(name, y_true, y_pred):\n",
    "    cm = confusion_matrix(y_true, y_pred, labels=[1, 0])\n",
    "    cm_df = pd.DataFrame(\n",
    "        cm,\n",
    "        index   = [\"Actual: Ham (1)\",  \"Actual: Spam (0)\"],\n",
    "        columns = [\"Pred: Ham (1)\",    \"Pred: Spam (0)\"]\n",
    "    )\n",
    "    print(f\"\\n{name} – Confusion Matrix:\\n{cm_df}\")"
   ]
  },
  {
   "cell_type": "code",
   "execution_count": 18,
   "id": "8e549186-38cc-43e4-9578-a67d10f96889",
   "metadata": {},
   "outputs": [
    {
     "name": "stdout",
     "output_type": "stream",
     "text": [
      "\n",
      "Logistic Regression Performance:\n",
      "  Accuracy : 0.960\n",
      "  Precision: 0.991  (positive = spam=0)\n",
      "  Recall   : 0.705  (positive = spam=0)\n",
      "  F1-Score : 0.824  (positive = spam=0)\n",
      "\n",
      "Logistic Regression – Confusion Matrix:\n",
      "                  Pred: Ham (1)  Pred: Spam (0)\n",
      "Actual: Ham (1)             965               1\n",
      "Actual: Spam (0)             44             105\n",
      "\n",
      "Random Forest Performance:\n",
      "  Accuracy : 0.975\n",
      "  Precision: 0.992  (positive = spam=0)\n",
      "  Recall   : 0.819  (positive = spam=0)\n",
      "  F1-Score : 0.897  (positive = spam=0)\n",
      "\n",
      "Random Forest – Confusion Matrix:\n",
      "                  Pred: Ham (1)  Pred: Spam (0)\n",
      "Actual: Ham (1)             965               1\n",
      "Actual: Spam (0)             27             122\n",
      "\n",
      "Naive Bayes Performance:\n",
      "  Accuracy : 0.965\n",
      "  Precision: 1.000  (positive = spam=0)\n",
      "  Recall   : 0.738  (positive = spam=0)\n",
      "  F1-Score : 0.849  (positive = spam=0)\n",
      "\n",
      "Naive Bayes – Confusion Matrix:\n",
      "                  Pred: Ham (1)  Pred: Spam (0)\n",
      "Actual: Ham (1)             966               0\n",
      "Actual: Spam (0)             39             110\n"
     ]
    }
   ],
   "source": [
    "# 6) Results for all models\n",
    "# --------------------------------\n",
    "print_clf_metrics(\"Logistic Regression\", y_test, lr_pred, pos_label=0)\n",
    "print_confmat(\"Logistic Regression\", y_test, lr_pred)\n",
    "\n",
    "print_clf_metrics(\"Random Forest\", y_test, rf_pred, pos_label=0)\n",
    "print_confmat(\"Random Forest\", y_test, rf_pred)\n",
    "\n",
    "print_clf_metrics(\"Naive Bayes\", y_test, nb_pred, pos_label=0)\n",
    "print_confmat(\"Naive Bayes\", y_test, nb_pred)\n"
   ]
  },
  {
   "cell_type": "code",
   "execution_count": 20,
   "id": "e639bc92-9dce-420c-8cd8-d726ace9c74a",
   "metadata": {},
   "outputs": [
    {
     "name": "stdout",
     "output_type": "stream",
     "text": [
      "\n",
      "=== SINGLE MESSAGE CHECK ===\n",
      "Text snippet: U have a secret admirer who is looking 2 make contact with U-find out who they R*reveal who thinks UR so special-call on 09058094565\n",
      "Actual      : Spam (0)\n",
      "LR Pred     : Spam (0)\n",
      "RF Pred     : Spam (0)\n",
      "NB Pred     : Spam (0)\n"
     ]
    }
   ],
   "source": [
    "# --------------------------------\n",
    "# 9) Single-message sanity check (extended for 3 models)\n",
    "# --------------------------------\n",
    "i = 5  # change index to inspect different emails from X_test\n",
    "sample_text = X_test.iloc[i]\n",
    "true_label  = y_test.iloc[i]\n",
    "\n",
    "# Predictions\n",
    "lr_pred_one = int(lr.predict(tfidf.transform([sample_text]))[0])\n",
    "rf_pred_one = int(rf.predict(tfidf.transform([sample_text]).toarray())[0])\n",
    "nb_pred_one = int(nb.predict(tfidf.transform([sample_text]))[0])\n",
    "\n",
    "def lab2str(v):\n",
    "    return \"Spam (0)\" if v == 0 else \"Ham (1)\"\n",
    "\n",
    "print(\"\\n=== SINGLE MESSAGE CHECK ===\")\n",
    "snippet = (sample_text[:160] + \"...\") if len(sample_text) > 160 else sample_text\n",
    "print(\"Text snippet:\", snippet)\n",
    "print(\"Actual      :\", lab2str(true_label))\n",
    "print(\"LR Pred     :\", lab2str(lr_pred_one))\n",
    "print(\"RF Pred     :\", lab2str(rf_pred_one))\n",
    "print(\"NB Pred     :\", lab2str(nb_pred_one))\n"
   ]
  },
  {
   "cell_type": "code",
   "execution_count": null,
   "id": "ed102538-0db6-48ba-9243-1805e1b0183b",
   "metadata": {},
   "outputs": [],
   "source": []
  }
 ],
 "metadata": {
  "kernelspec": {
   "display_name": "Python [conda env:base] *",
   "language": "python",
   "name": "conda-base-py"
  },
  "language_info": {
   "codemirror_mode": {
    "name": "ipython",
    "version": 3
   },
   "file_extension": ".py",
   "mimetype": "text/x-python",
   "name": "python",
   "nbconvert_exporter": "python",
   "pygments_lexer": "ipython3",
   "version": "3.13.5"
  }
 },
 "nbformat": 4,
 "nbformat_minor": 5
}
