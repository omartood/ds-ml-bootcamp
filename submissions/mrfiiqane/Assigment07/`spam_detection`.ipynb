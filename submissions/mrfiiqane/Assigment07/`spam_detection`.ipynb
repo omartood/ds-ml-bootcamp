{
 "cells": [
  {
   "cell_type": "code",
   "execution_count": 82,
   "id": "083765e7-8b63-4ae7-9b87-35d215c2a268",
   "metadata": {},
   "outputs": [],
   "source": [
    "#soo jiido Libarary\n",
    "import numpy as np\n",
    "import pandas as pd \n",
    "\n",
    "from sklearn.model_selection import train_test_split\n",
    "from sklearn.feature_extraction.text import TfidfVectorizer\n",
    "\n",
    "from sklearn.linear_model import LogisticRegression\n",
    "from sklearn.ensemble import RandomForestClassifier\n",
    "from sklearn.naive_bayes import MultinomialNB\n",
    "\n",
    "from sklearn.metrics import (accuracy_score, precision_score, recall_score, f1_score, confusion_matrix)"
   ]
  },
  {
   "cell_type": "code",
   "execution_count": 83,
   "id": "bc66474e-494b-46ea-9ba4-b6a941f84098",
   "metadata": {},
   "outputs": [
    {
     "name": "stdout",
     "output_type": "stream",
     "text": [
      "  Category                                            Message\n",
      "0      ham  Go until jurong point, crazy.. Available only ...\n",
      "1      ham                      Ok lar... Joking wif u oni...\n",
      "2     spam  Free entry in 2 a wkly comp to win FA Cup fina...\n",
      "3      ham  U dun say so early hor... U c already then say...\n",
      "4      ham  Nah I don't think he goes to usf, he lives aro...\n",
      "(5572, 2)\n",
      "<bound method DataFrame.info of      Category                                            Message\n",
      "0         ham  Go until jurong point, crazy.. Available only ...\n",
      "1         ham                      Ok lar... Joking wif u oni...\n",
      "2        spam  Free entry in 2 a wkly comp to win FA Cup fina...\n",
      "3         ham  U dun say so early hor... U c already then say...\n",
      "4         ham  Nah I don't think he goes to usf, he lives aro...\n",
      "...       ...                                                ...\n",
      "5567     spam  This is the 2nd time we have tried 2 contact u...\n",
      "5568      ham               Will ü b going to esplanade fr home?\n",
      "5569      ham  Pity, * was in mood for that. So...any other s...\n",
      "5570      ham  The guy did some bitching but I acted like i'd...\n",
      "5571      ham                         Rofl. Its true to its name\n",
      "\n",
      "[5572 rows x 2 columns]>\n",
      "       Category                 Message\n",
      "count      5572                    5572\n",
      "unique        2                    5157\n",
      "top         ham  Sorry, I'll call later\n",
      "freq       4825                      30\n",
      "Category    0\n",
      "Message     0\n",
      "dtype: int64\n"
     ]
    }
   ],
   "source": [
    "# soo jiido fileka kadibna check garee\n",
    "df= pd.read_csv(\"mail_l7_dataset.csv\")\n",
    "print(df.head())\n",
    "print(df.shape)\n",
    "print(df.info)\n",
    "print(df.describe())\n",
    "print(df.isnull().sum())"
   ]
  },
  {
   "cell_type": "code",
   "execution_count": 84,
   "id": "aca18397-afa5-40a0-9951-6c8b03205c08",
   "metadata": {},
   "outputs": [
    {
     "name": "stdout",
     "output_type": "stream",
     "text": [
      "  Category                                            Message\n",
      "0        1  Go until jurong point, crazy.. Available only ...\n",
      "1        1                      Ok lar... Joking wif u oni...\n",
      "2        0  Free entry in 2 a wkly comp to win FA Cup fina...\n",
      "3        1  U dun say so early hor... U c already then say...\n",
      "4        1  Nah I don't think he goes to usf, he lives aro...\n"
     ]
    }
   ],
   "source": [
    "# Data cleaning NaN ka saar\n",
    "df = df.where(pd.notnull(df), \"\")\n",
    "RANDOM_STATE = 42 \n",
    "#isticmal lebelEncoding\n",
    "df.loc[df[\"Category\"].str.lower().str.strip() == \"spam\", \"Category\"] = 0\n",
    "df.loc[df[\"Category\"].str.lower().str.strip() == \"ham\", \"Category\"] = 1\n",
    "print(df.head())"
   ]
  },
  {
   "cell_type": "code",
   "execution_count": 85,
   "id": "df544b3e-1fa0-4a33-9be0-bc50a0d2dcb1",
   "metadata": {},
   "outputs": [],
   "source": [
    "#input x, y waa lebel\n",
    "x = df[\"Message\"].astype(str)\n",
    "y = df[\"Category\"].astype(int)\n"
   ]
  },
  {
   "cell_type": "code",
   "execution_count": 86,
   "id": "6da7bbf5-5bfc-42e7-9ec9-7bc3682be681",
   "metadata": {},
   "outputs": [
    {
     "name": "stdout",
     "output_type": "stream",
     "text": [
      "Train 4457 Test 1115\n"
     ]
    }
   ],
   "source": [
    "# u kala qaad training 80% iyo test 20%\n",
    "x_train, x_test, y_train, y_test = train_test_split (x, y, test_size=0.2, random_state=RANDOM_STATE)\n",
    "#eeg train iyo test\n",
    "print(\"Train\", x_train.shape[0],\"Test\", x_test.shape[0])"
   ]
  },
  {
   "cell_type": "code",
   "execution_count": 87,
   "id": "fce6abd3-fbc4-4091-adc5-2c76708dfbbf",
   "metadata": {},
   "outputs": [],
   "source": [
    "# u badal text to numbers  tf.idf hight frequence sii ku wa soo laablabta sida win,free,click\n",
    "tfidf = TfidfVectorizer(min_df=1, stop_words=\"english\", lowercase=True) "
   ]
  },
  {
   "cell_type": "code",
   "execution_count": 88,
   "id": "c4f923ad-ba89-4bc2-926c-e48c85e33c4e",
   "metadata": {},
   "outputs": [
    {
     "name": "stdout",
     "output_type": "stream",
     "text": [
      "x_train: <Compressed Sparse Row sparse matrix of dtype 'float64'\n",
      "\twith 14 stored elements and shape (1, 7440)>\n",
      "  Coords\tValues\n",
      "  (0, 5512)\t0.1898892037332199\n",
      "  (0, 7222)\t0.2173884735352799\n",
      "  (0, 258)\t0.2379428657041507\n",
      "  (0, 7162)\t0.2550284465664535\n",
      "  (0, 354)\t0.3544175987866074\n",
      "  (0, 2724)\t0.3544175987866074\n",
      "  (0, 7300)\t0.24288153842988894\n",
      "  (0, 2049)\t0.3034375179183143\n",
      "  (0, 3262)\t0.33791755486732394\n",
      "  (0, 5800)\t0.17558937755823417\n",
      "  (0, 6264)\t0.1898892037332199\n",
      "  (0, 694)\t0.3171299579602537\n",
      "  (0, 2497)\t0.2442158912653505\n",
      "  (0, 5818)\t0.22682143517864364 x_test: <Compressed Sparse Row sparse matrix of dtype 'float64'\n",
      "\twith 8 stored elements and shape (1, 7440)>\n",
      "  Coords\tValues\n",
      "  (0, 1751)\t0.2863401438180078\n",
      "  (0, 2065)\t0.296327528007439\n",
      "  (0, 2173)\t0.2473614085298311\n",
      "  (0, 3225)\t0.3299996466854455\n",
      "  (0, 3395)\t0.659999293370891\n",
      "  (0, 3955)\t0.3096991339243786\n",
      "  (0, 4100)\t0.27836537155821267\n",
      "  (0, 4942)\t0.22607959672331038\n"
     ]
    }
   ],
   "source": [
    "# qoraalka numbers ku bedel \n",
    "x_train_features = tfidf.fit_transform(x_train)\n",
    "x_test_features = tfidf.transform(x_test)\n",
    "print(\"x_train:\", x_train_features[0], \"x_test:\", x_test_features[0])"
   ]
  },
  {
   "cell_type": "code",
   "execution_count": 89,
   "id": "957756a0-3cb5-4857-8a9e-2d6155e8891b",
   "metadata": {},
   "outputs": [],
   "source": [
    "# training samee logistic regressin\n",
    "lr = LogisticRegression(max_iter=1000, random_state=RANDOM_STATE) \n",
    "lr.fit(x_train_features, y_train )\n",
    "lr_predict = lr.predict(x_test_features)"
   ]
  },
  {
   "cell_type": "code",
   "execution_count": 90,
   "id": "162eda4e-1f1f-47ad-9182-069701bdbfa0",
   "metadata": {},
   "outputs": [],
   "source": [
    "#training random forest samee\n",
    "rf = RandomForestClassifier(n_estimators=200, random_state=RANDOM_STATE)\n",
    "rf.fit(x_train_features, y_train)\n",
    "rf_predict = rf.predict(x_test_features.toarray())"
   ]
  },
  {
   "cell_type": "code",
   "execution_count": 91,
   "id": "822e72ac-f124-4b39-9853-ce88f65c0834",
   "metadata": {},
   "outputs": [],
   "source": [
    "# tarining samee Naive Bayes\n",
    "NB = MultinomialNB()\n",
    "NB.fit(x_train_features, y_train)\n",
    "NB_predict = NB.predict(x_test_features)"
   ]
  },
  {
   "cell_type": "code",
   "execution_count": 92,
   "id": "fb58242d-85ea-4b51-80e7-5cb4fd2aed3a",
   "metadata": {},
   "outputs": [],
   "source": [
    "# function ku so saaraya metrics \n",
    "def metrics (name, y_true, y_pred, pos_label=0):   #0 spam \n",
    "  Acc = accuracy_score(y_true, y_pred)                            \n",
    "  Prec = precision_score(y_true, y_pred, pos_label=pos_label)\n",
    "  Rec = recall_score(y_true, y_pred, pos_label=pos_label)\n",
    "  F1 = f1_score(y_true, y_pred, pos_label=pos_label)\n",
    "  print(f\"{name} Performance\")\n",
    "  print(f\"Accurancy: {Acc:.3f}\")                           #overall negative,positive\n",
    "  print(f\"Precision: {Prec:.3f}(positive = spam = 0)\")    #meequ si sax ah ugu tilmaamay spam\n",
    "  print(f\"Recall: {Rec:.3f}(positive = spam = 0)\")        #overall spam intu ku tilmaamay\n",
    "  print(f\"F1-score: {F1:.3f}(positive = spam = 0)\")    "
   ]
  },
  {
   "cell_type": "code",
   "execution_count": 93,
   "id": "aeca4c0c-7502-4546-92c4-271fa1c6c5bf",
   "metadata": {},
   "outputs": [],
   "source": [
    "# function ku so saaraya confusion_matrix\n",
    "def conf_matrix(name, y_true, y_pred):\n",
    "  cm = confusion_matrix(y_true, y_pred, labels=[1,0])\n",
    "  cm_df = pd.DataFrame(\n",
    "    cm,\n",
    "    index= [\"Actual Ham (1)\", \"Actual spam (0)\"],\n",
    "    columns=[\"Pred Ham (1)\", \"Pred spam (0)\"]\n",
    "  )\n",
    "  print(f\"{name} confution_matrix:\\n{cm_df}\")"
   ]
  },
  {
   "cell_type": "code",
   "execution_count": 94,
   "id": "9df48f05-0bd5-4927-a766-fb9d02dfad28",
   "metadata": {},
   "outputs": [
    {
     "name": "stdout",
     "output_type": "stream",
     "text": [
      "LogisticRegression Performance\n",
      "Accurancy: 0.968\n",
      "Precision: 1.000(positive = spam = 0)\n",
      "Recall: 0.758(positive = spam = 0)\n",
      "F1-score: 0.863(positive = spam = 0)\n",
      "LogisticRegression confution_matrix:\n",
      "                 Pred Ham (1)  Pred spam (0)\n",
      "Actual Ham (1)            966              0\n",
      "Actual spam (0)            36            113\n",
      "RandomForest Performance\n",
      "Accurancy: 0.983\n",
      "Precision: 1.000(positive = spam = 0)\n",
      "Recall: 0.872(positive = spam = 0)\n",
      "F1-score: 0.932(positive = spam = 0)\n",
      "RandomForest confution_matrix:\n",
      "                 Pred Ham (1)  Pred spam (0)\n",
      "Actual Ham (1)            966              0\n",
      "Actual spam (0)            19            130\n",
      "Naive Bayes Performance\n",
      "Accurancy: 0.977\n",
      "Precision: 1.000(positive = spam = 0)\n",
      "Recall: 0.826(positive = spam = 0)\n",
      "F1-score: 0.904(positive = spam = 0)\n",
      "Naive Bayes confution_matrix:\n",
      "                 Pred Ham (1)  Pred spam (0)\n",
      "Actual Ham (1)            966              0\n",
      "Actual spam (0)            26            123\n"
     ]
    }
   ],
   "source": [
    "# function ka soo eeg natiijada 3 Model logistic, forest, Navy Bais\n",
    "metrics(\"LogisticRegression\", y_test, lr_predict)\n",
    "conf_matrix(\"LogisticRegression\", y_test, lr_predict)\n",
    "\n",
    "metrics(\"RandomForest\", y_test, rf_predict)\n",
    "conf_matrix(\"RandomForest\", y_test, rf_predict)\n",
    "\n",
    "metrics(\"Naive Bayes\", y_test, NB_predict)\n",
    "conf_matrix(\"Naive Bayes\", y_test, NB_predict)"
   ]
  },
  {
   "cell_type": "code",
   "execution_count": 95,
   "id": "fa864903-ecac-45cd-bfe5-0d2948f70cd3",
   "metadata": {},
   "outputs": [
    {
     "name": "stdout",
     "output_type": "stream",
     "text": [
      "sanity Check single message\n",
      "text snippet FREE RINGTONE text FIRST to 87131 for a poly or text GET to 87131 for a true tone! Help? 0845 2814032 16 after 1st free, tones are 3x£150pw to e£nd txt stop\n",
      "actual: spam(0)\n",
      "LR predict: spam(0)\n",
      "Rf predict: spam(0)\n"
     ]
    }
   ],
   "source": [
    "#sanit check  single message  \n",
    "i = 14     #sample row ga 14 aad weye\n",
    "sample_text = x_test.iloc[i]    #xtest waa qoralkaas x feauture inputka\n",
    "true_label = y_test.iloc[i]    #ham truelabel u baasaa\n",
    "\n",
    "lr_pred_one = int(lr.predict(tfidf.transform([sample_text]))[0])\n",
    "rf_pred_one = int(rf.predict(tfidf.transform([sample_text]).toarray())[0])\n",
    "\n",
    "def lab2str(mohamed):\n",
    "  return \"spam(0)\" if mohamed == 0  else \"Ham (1)\"\n",
    "\n",
    "print(\"sanity Check single message\")\n",
    "snippet = (sample_text[:160] + \"...\") if len(sample_text) > 160 else sample_text\n",
    "print(\"text snippet\", snippet)\n",
    "print(\"actual:\", lab2str(true_label))\n",
    "print(\"LR predict:\", lab2str(lr_pred_one))\n",
    "print(\"Rf predict:\", lab2str(rf_pred_one))"
   ]
  },
  {
   "cell_type": "code",
   "execution_count": 96,
   "id": "22c08fb7-1588-4669-a859-17993b55f4c7",
   "metadata": {},
   "outputs": [
    {
     "name": "stdout",
     "output_type": "stream",
     "text": [
      "sanity Check single message\n",
      "text snippet Dear got train and seat mine lower seat\n",
      "actual: Ham (1)\n",
      "LR predict: Ham (1)\n",
      "Rf predict: Ham (1)\n"
     ]
    }
   ],
   "source": [
    "#sanit check  single message  \n",
    "i = 102     \n",
    "sample_text = x_test.iloc[i]    \n",
    "true_label = y_test.iloc[i]   \n",
    "\n",
    "lr_pred_one = int(lr.predict(tfidf.transform([sample_text]))[0])\n",
    "rf_pred_one = int(rf.predict(tfidf.transform([sample_text]).toarray())[0])\n",
    "\n",
    "def lab2str(mohamed):\n",
    "  return \"spam(0)\" if mohamed == 0  else \"Ham (1)\"\n",
    "\n",
    "print(\"sanity Check single message\")\n",
    "snippet = (sample_text[:160] + \"...\") if len(sample_text) > 160 else sample_text\n",
    "print(\"text snippet\", snippet)\n",
    "print(\"actual:\", lab2str(true_label))\n",
    "print(\"LR predict:\", lab2str(lr_pred_one))\n",
    "print(\"Rf predict:\", lab2str(rf_pred_one))"
   ]
  },
  {
   "cell_type": "code",
   "execution_count": 97,
   "id": "402cc43a-4231-486a-92bf-7e63190b02fa",
   "metadata": {},
   "outputs": [
    {
     "name": "stdout",
     "output_type": "stream",
     "text": [
      "sanity Check single message\n",
      "text snippet PRIVATE! Your 2003 Account Statement for shows 800 un-redeemed S.I.M. points. Call 08718738001 Identifier Code: 49557 Expires 26/11/04\n",
      "actual: spam(0)\n",
      "LR predict: spam(0)\n",
      "Rf predict: spam(0)\n"
     ]
    }
   ],
   "source": [
    "#sanit check  single message  \n",
    "i = 539\n",
    "sample_text = x_test.iloc[i]    \n",
    "true_label = y_test.iloc[i]   \n",
    "\n",
    "lr_pred_one = int(lr.predict(tfidf.transform([sample_text]))[0])\n",
    "rf_pred_one = int(rf.predict(tfidf.transform([sample_text]).toarray())[0])\n",
    "\n",
    "def lab2str(mohamed):\n",
    "  return \"spam(0)\" if mohamed == 0  else \"Ham (1)\"\n",
    "\n",
    "print(\"sanity Check single message\")\n",
    "snippet = (sample_text[:160] + \"...\") if len(sample_text) > 160 else sample_text\n",
    "print(\"text snippet\", snippet)\n",
    "print(\"actual:\", lab2str(true_label))\n",
    "print(\"LR predict:\", lab2str(lr_pred_one))\n",
    "print(\"Rf predict:\", lab2str(rf_pred_one))"
   ]
  },
  {
   "cell_type": "code",
   "execution_count": 99,
   "id": "59e13508-9a89-42bf-80f5-d0e259b97ab0",
   "metadata": {},
   "outputs": [
    {
     "name": "stdout",
     "output_type": "stream",
     "text": [
      "\n",
      " simple massege sample prediction\n",
      "text snippet Ku guuleyso $10000 credit card. Claim now! guryo free ah hel gaari free ah \n",
      "Lr Predict:  Ham (1)\n",
      "Rf Predict:  Ham (1)\n",
      "NB Predict:  Ham (1)\n",
      "text snippet Congratulations ku shubo 100 dollarclick dheh oo hel bishan 200 dollar free ah Claim now!\n",
      "Lr Predict:  Spam (0)\n",
      "Rf Predict:  Spam (0)\n",
      "NB Predict:  spam(0)\n",
      "text snippet Congratulations, you won a free ticket\n",
      "Lr Predict:  Ham (1)\n",
      "Rf Predict:  Ham (1)\n",
      "NB Predict:  Ham (1)\n",
      "text snippet You have been selected for a $1000 gift card. Claim now!\n",
      "Lr Predict:  Spam (0)\n",
      "Rf Predict:  Spam (0)\n",
      "NB Predict:  spam(0)\n",
      "text snippet FIRST to 87131 for a poly or text GET to 87131 for a true tone! Help? 0845 2814032 16 after 1st free, tones are 3x£150pw to e£nd txt stop\n",
      "Lr Predict:  Spam (0)\n",
      "Rf Predict:  Spam (0)\n",
      "NB Predict:  spam(0)\n",
      "text snippet Dear got train and seat mine lower seat\n",
      "Lr Predict:  Ham (1)\n",
      "Rf Predict:  Ham (1)\n",
      "NB Predict:  Ham (1)\n",
      "text snippet Free entry in 2 a weekly competition!\n",
      "Lr Predict:  Ham (1)\n",
      "Rf Predict:  Ham (1)\n",
      "NB Predict:  spam(0)\n",
      "text snippet I will meet you at the cafe tomorrow\n",
      "Lr Predict:  Ham (1)\n",
      "Rf Predict:  Ham (1)\n",
      "NB Predict:  Ham (1)\n",
      "text snippet Your 2003 Account Statement for shows 800 un-redeemed S.I.M. points. Call 08718738001 Identifier Code: 49557 Expires 26/11/04\n",
      "Lr Predict:  Spam (0)\n",
      "Rf Predict:  Spam (0)\n",
      "NB Predict:  spam(0)\n",
      "text snippet click badan samee si aan winner 1 u noqoto adna u hesho free credit card $10000 doller kadibna claim now.\n",
      "Lr Predict:  Ham (1)\n",
      "Rf Predict:  Spam (0)\n",
      "NB Predict:  spam(0)\n"
     ]
    }
   ],
   "source": [
    "# Single-message sanity check sample prediction\n",
    "samples = [\n",
    "    \"Ku guuleyso $10000 credit card. Claim now! guryo free ah hel gaari free ah \",\n",
    "    \"Congratulations ku shubo 100 dollarclick dheh oo hel bishan 200 dollar free ah Claim now!\",\n",
    "    \"Congratulations, you won a free ticket\",\n",
    "    \"You have been selected for a $1000 gift card. Claim now!\",\n",
    "    \"FIRST to 87131 for a poly or text GET to 87131 for a true tone! Help? 0845 2814032 16 after 1st free, tones are 3x£150pw to e£nd txt stop\",\n",
    "    \"Dear got train and seat mine lower seat\",\n",
    "    \"Free entry in 2 a weekly competition!\",\n",
    "    \"I will meet you at the cafe tomorrow\",\n",
    "    \"Your 2003 Account Statement for shows 800 un-redeemed S.I.M. points. Call 08718738001 Identifier Code: 49557 Expires 26/11/04\",\n",
    "    \"click badan samee si aan winner 1 u noqoto adna u hesho free credit card $10000 doller kadibna claim now.\"\n",
    "]\n",
    "def labstr(mphamed):  # readable output\n",
    "    return \"Spam (0)\" if mphamed == 0 else \"Ham (1)\"\n",
    "\n",
    "print(\"\\n simple massege sample prediction\")\n",
    "for text in samples:\n",
    "    print(\"text snippet\", text)\n",
    "    print(\"Lr Predict: \", labstr(int(lr.predict(tfidf.transform([text]))[0])))\n",
    "    print(\"Rf Predict: \", labstr(int(rf.predict(tfidf.transform([text]).toarray())[0])))\n",
    "    print(\"NB Predict: \", lab2str(int(NB.predict(tfidf.transform([text]))[0])))\n",
    "\n",
    "    \n",
    "    "
   ]
  },
  {
   "cell_type": "code",
   "execution_count": null,
   "id": "148891dc-7812-4165-af6a-2aa0538305d7",
   "metadata": {},
   "outputs": [],
   "source": []
  }
 ],
 "metadata": {
  "kernelspec": {
   "display_name": "Python 3 (ipykernel)",
   "language": "python",
   "name": "python3"
  },
  "language_info": {
   "codemirror_mode": {
    "name": "ipython",
    "version": 3
   },
   "file_extension": ".py",
   "mimetype": "text/x-python",
   "name": "python",
   "nbconvert_exporter": "python",
   "pygments_lexer": "ipython3",
   "version": "3.13.5"
  }
 },
 "nbformat": 4,
 "nbformat_minor": 5
}
