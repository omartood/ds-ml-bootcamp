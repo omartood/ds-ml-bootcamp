{
 "cells": [
  {
   "cell_type": "code",
   "execution_count": 118,
   "id": "b6076936-f7c9-42d0-93f4-61c6b8f1030b",
   "metadata": {},
   "outputs": [],
   "source": [
    "# soo jiido import liabrarys\n",
    "import pandas as pd\n",
    "from sklearn.cluster import KMeans\n",
    "from sklearn.preprocessing import StandardScaler\n",
    "from sklearn.metrics import silhouette_score, davies_bouldin_score"
   ]
  },
  {
   "cell_type": "code",
   "execution_count": 119,
   "id": "81190e3f-45d8-4396-b18e-8531f92c0eb0",
   "metadata": {},
   "outputs": [
    {
     "name": "stdout",
     "output_type": "stream",
     "text": [
      "   CustomerID  Gender  Age  Annual Income ($)  Spending Score (1-100)\n",
      "0           1    Male   19                 15                      39\n",
      "1           2    Male   21                 15                      81\n",
      "2           3  Female   20                 16                       6\n",
      "3           4  Female   23                 16                      77\n",
      "4           5  Female   31                 17                      40\n",
      "<class 'pandas.core.frame.DataFrame'>\n",
      "RangeIndex: 200 entries, 0 to 199\n",
      "Data columns (total 5 columns):\n",
      " #   Column                  Non-Null Count  Dtype \n",
      "---  ------                  --------------  ----- \n",
      " 0   CustomerID              200 non-null    int64 \n",
      " 1   Gender                  200 non-null    object\n",
      " 2   Age                     200 non-null    int64 \n",
      " 3   Annual Income ($)       200 non-null    int64 \n",
      " 4   Spending Score (1-100)  200 non-null    int64 \n",
      "dtypes: int64(4), object(1)\n",
      "memory usage: 7.9+ KB\n",
      "None\n",
      "       CustomerID         Age  Annual Income ($)  Spending Score (1-100)\n",
      "count  200.000000  200.000000         200.000000              200.000000\n",
      "mean   100.500000   38.850000          60.560000               50.200000\n",
      "std     57.879185   13.969007          26.264721               25.823522\n",
      "min      1.000000   18.000000          15.000000                1.000000\n",
      "25%     50.750000   28.750000          41.500000               34.750000\n",
      "50%    100.500000   36.000000          61.500000               50.000000\n",
      "75%    150.250000   49.000000          78.000000               73.000000\n",
      "max    200.000000   70.000000         137.000000               99.000000\n",
      "CustomerID                0\n",
      "Gender                    0\n",
      "Age                       0\n",
      "Annual Income ($)         0\n",
      "Spending Score (1-100)    0\n",
      "dtype: int64\n"
     ]
    }
   ],
   "source": [
    "# load dataset, check HEAD,INFO,describe,MISSING VALUES\n",
    "df = pd.read_csv(\"customers_l9_dataset.csv\")\n",
    "print(df.head())\n",
    "print(df.info())\n",
    "print(df.describe())\n",
    "print(df.isnull().sum())"
   ]
  },
  {
   "cell_type": "code",
   "execution_count": 120,
   "id": "2a30b9e8-b13b-495b-9656-49462c36224c",
   "metadata": {},
   "outputs": [],
   "source": [
    "#Prepare Features \n",
    "#get feutures\n",
    "FEATURES = [\"Annual Income ($)\", \"Spending Score (1-100)\"]\n",
    "x = df[FEATURES].copy()"
   ]
  },
  {
   "cell_type": "code",
   "execution_count": 121,
   "id": "776c340b-984c-4193-8cba-31ffaff6a2ee",
   "metadata": {},
   "outputs": [],
   "source": [
    "for col in FEATURES:\n",
    "  if x[col].isna().any():\n",
    "    x[col] = x[col].fillna(x[col].median())"
   ]
  },
  {
   "cell_type": "code",
   "execution_count": 122,
   "id": "48aed45b-2b8c-4eac-8bc8-733ef77763bc",
   "metadata": {},
   "outputs": [
    {
     "name": "stdout",
     "output_type": "stream",
     "text": [
      "after scaled [[-1.73899919 -0.43480148]\n",
      " [-1.73899919  1.19570407]\n",
      " [-1.70082976 -1.71591298]\n",
      " [-1.70082976  1.04041783]\n",
      " [-1.66266033 -0.39597992]\n",
      " [-1.66266033  1.00159627]\n",
      " [-1.62449091 -1.71591298]\n",
      " [-1.62449091  1.70038436]\n",
      " [-1.58632148 -1.83237767]\n",
      " [-1.58632148  0.84631002]\n",
      " [-1.58632148 -1.4053405 ]\n",
      " [-1.58632148  1.89449216]\n",
      " [-1.54815205 -1.36651894]\n",
      " [-1.54815205  1.04041783]\n",
      " [-1.54815205 -1.44416206]\n",
      " [-1.54815205  1.11806095]\n",
      " [-1.50998262 -0.59008772]\n",
      " [-1.50998262  0.61338066]\n",
      " [-1.43364376 -0.82301709]\n",
      " [-1.43364376  1.8556706 ]\n",
      " [-1.39547433 -0.59008772]\n",
      " [-1.39547433  0.88513158]\n",
      " [-1.3573049  -1.75473454]\n",
      " [-1.3573049   0.88513158]\n",
      " [-1.24279661 -1.4053405 ]\n",
      " [-1.24279661  1.23452563]\n",
      " [-1.24279661 -0.7065524 ]\n",
      " [-1.24279661  0.41927286]\n",
      " [-1.20462718 -0.74537397]\n",
      " [-1.20462718  1.42863343]\n",
      " [-1.16645776 -1.7935561 ]\n",
      " [-1.16645776  0.88513158]\n",
      " [-1.05194947 -1.7935561 ]\n",
      " [-1.05194947  1.62274124]\n",
      " [-1.05194947 -1.4053405 ]\n",
      " [-1.05194947  1.19570407]\n",
      " [-1.01378004 -1.28887582]\n",
      " [-1.01378004  0.88513158]\n",
      " [-0.89927175 -0.93948177]\n",
      " [-0.89927175  0.96277471]\n",
      " [-0.86110232 -0.59008772]\n",
      " [-0.86110232  1.62274124]\n",
      " [-0.82293289 -0.55126616]\n",
      " [-0.82293289  0.41927286]\n",
      " [-0.82293289 -0.86183865]\n",
      " [-0.82293289  0.5745591 ]\n",
      " [-0.78476346  0.18634349]\n",
      " [-0.78476346 -0.12422899]\n",
      " [-0.78476346 -0.3183368 ]\n",
      " [-0.78476346 -0.3183368 ]\n",
      " [-0.70842461  0.06987881]\n",
      " [-0.70842461  0.38045129]\n",
      " [-0.67025518  0.14752193]\n",
      " [-0.67025518  0.38045129]\n",
      " [-0.67025518 -0.20187212]\n",
      " [-0.67025518 -0.35715836]\n",
      " [-0.63208575 -0.00776431]\n",
      " [-0.63208575 -0.16305055]\n",
      " [-0.55574689  0.03105725]\n",
      " [-0.55574689 -0.16305055]\n",
      " [-0.55574689  0.22516505]\n",
      " [-0.55574689  0.18634349]\n",
      " [-0.51757746  0.06987881]\n",
      " [-0.51757746  0.34162973]\n",
      " [-0.47940803  0.03105725]\n",
      " [-0.47940803  0.34162973]\n",
      " [-0.47940803 -0.00776431]\n",
      " [-0.47940803 -0.08540743]\n",
      " [-0.47940803  0.34162973]\n",
      " [-0.47940803 -0.12422899]\n",
      " [-0.4412386   0.18634349]\n",
      " [-0.4412386  -0.3183368 ]\n",
      " [-0.40306917 -0.04658587]\n",
      " [-0.40306917  0.22516505]\n",
      " [-0.25039146 -0.12422899]\n",
      " [-0.25039146  0.14752193]\n",
      " [-0.25039146  0.10870037]\n",
      " [-0.25039146 -0.08540743]\n",
      " [-0.25039146  0.06987881]\n",
      " [-0.25039146 -0.3183368 ]\n",
      " [-0.25039146  0.03105725]\n",
      " [-0.25039146  0.18634349]\n",
      " [-0.25039146 -0.35715836]\n",
      " [-0.25039146 -0.24069368]\n",
      " [-0.25039146  0.26398661]\n",
      " [-0.25039146 -0.16305055]\n",
      " [-0.13588317  0.30280817]\n",
      " [-0.13588317  0.18634349]\n",
      " [-0.09771374  0.38045129]\n",
      " [-0.09771374 -0.16305055]\n",
      " [-0.05954431  0.18634349]\n",
      " [-0.05954431 -0.35715836]\n",
      " [-0.02137488 -0.04658587]\n",
      " [-0.02137488 -0.39597992]\n",
      " [-0.02137488 -0.3183368 ]\n",
      " [-0.02137488  0.06987881]\n",
      " [-0.02137488 -0.12422899]\n",
      " [-0.02137488 -0.00776431]\n",
      " [ 0.01679455 -0.3183368 ]\n",
      " [ 0.01679455 -0.04658587]\n",
      " [ 0.05496398 -0.35715836]\n",
      " [ 0.05496398 -0.08540743]\n",
      " [ 0.05496398  0.34162973]\n",
      " [ 0.05496398  0.18634349]\n",
      " [ 0.05496398  0.22516505]\n",
      " [ 0.05496398 -0.3183368 ]\n",
      " [ 0.09313341 -0.00776431]\n",
      " [ 0.09313341 -0.16305055]\n",
      " [ 0.09313341 -0.27951524]\n",
      " [ 0.09313341 -0.08540743]\n",
      " [ 0.09313341  0.06987881]\n",
      " [ 0.09313341  0.14752193]\n",
      " [ 0.13130284 -0.3183368 ]\n",
      " [ 0.13130284 -0.16305055]\n",
      " [ 0.16947227 -0.08540743]\n",
      " [ 0.16947227 -0.00776431]\n",
      " [ 0.16947227 -0.27951524]\n",
      " [ 0.16947227  0.34162973]\n",
      " [ 0.24581112 -0.27951524]\n",
      " [ 0.24581112  0.26398661]\n",
      " [ 0.24581112  0.22516505]\n",
      " [ 0.24581112 -0.39597992]\n",
      " [ 0.32214998  0.30280817]\n",
      " [ 0.32214998  1.58391968]\n",
      " [ 0.36031941 -0.82301709]\n",
      " [ 0.36031941  1.04041783]\n",
      " [ 0.39848884 -0.59008772]\n",
      " [ 0.39848884  1.73920592]\n",
      " [ 0.39848884 -1.52180518]\n",
      " [ 0.39848884  0.96277471]\n",
      " [ 0.39848884 -1.5994483 ]\n",
      " [ 0.39848884  0.96277471]\n",
      " [ 0.43665827 -0.62890928]\n",
      " [ 0.43665827  0.80748846]\n",
      " [ 0.4748277  -1.75473454]\n",
      " [ 0.4748277   1.46745499]\n",
      " [ 0.4748277  -1.67709142]\n",
      " [ 0.4748277   0.88513158]\n",
      " [ 0.51299713 -1.56062674]\n",
      " [ 0.51299713  0.84631002]\n",
      " [ 0.55116656 -1.75473454]\n",
      " [ 0.55116656  1.6615628 ]\n",
      " [ 0.58933599 -0.39597992]\n",
      " [ 0.58933599  1.42863343]\n",
      " [ 0.62750542 -1.48298362]\n",
      " [ 0.62750542  1.81684904]\n",
      " [ 0.62750542 -0.55126616]\n",
      " [ 0.62750542  0.92395314]\n",
      " [ 0.66567484 -1.09476801]\n",
      " [ 0.66567484  1.54509812]\n",
      " [ 0.66567484 -1.28887582]\n",
      " [ 0.66567484  1.46745499]\n",
      " [ 0.66567484 -1.17241113]\n",
      " [ 0.66567484  1.00159627]\n",
      " [ 0.66567484 -1.32769738]\n",
      " [ 0.66567484  1.50627656]\n",
      " [ 0.66567484 -1.91002079]\n",
      " [ 0.66567484  1.07923939]\n",
      " [ 0.66567484 -1.91002079]\n",
      " [ 0.66567484  0.88513158]\n",
      " [ 0.70384427 -0.59008772]\n",
      " [ 0.70384427  1.27334719]\n",
      " [ 0.78018313 -1.75473454]\n",
      " [ 0.78018313  1.6615628 ]\n",
      " [ 0.93286085 -0.93948177]\n",
      " [ 0.93286085  0.96277471]\n",
      " [ 0.97103028 -1.17241113]\n",
      " [ 0.97103028  1.73920592]\n",
      " [ 1.00919971 -0.90066021]\n",
      " [ 1.00919971  0.49691598]\n",
      " [ 1.00919971 -1.44416206]\n",
      " [ 1.00919971  0.96277471]\n",
      " [ 1.00919971 -1.56062674]\n",
      " [ 1.00919971  1.62274124]\n",
      " [ 1.04736914 -1.44416206]\n",
      " [ 1.04736914  1.38981187]\n",
      " [ 1.04736914 -1.36651894]\n",
      " [ 1.04736914  0.72984534]\n",
      " [ 1.23821628 -1.4053405 ]\n",
      " [ 1.23821628  1.54509812]\n",
      " [ 1.390894   -0.7065524 ]\n",
      " [ 1.390894    1.38981187]\n",
      " [ 1.42906343 -1.36651894]\n",
      " [ 1.42906343  1.46745499]\n",
      " [ 1.46723286 -0.43480148]\n",
      " [ 1.46723286  1.81684904]\n",
      " [ 1.54357172 -1.01712489]\n",
      " [ 1.54357172  0.69102378]\n",
      " [ 1.61991057 -1.28887582]\n",
      " [ 1.61991057  1.35099031]\n",
      " [ 1.61991057 -1.05594645]\n",
      " [ 1.61991057  0.72984534]\n",
      " [ 2.00160487 -1.63826986]\n",
      " [ 2.00160487  1.58391968]\n",
      " [ 2.26879087 -1.32769738]\n",
      " [ 2.26879087  1.11806095]\n",
      " [ 2.49780745 -0.86183865]\n",
      " [ 2.49780745  0.92395314]\n",
      " [ 2.91767117 -1.25005425]\n",
      " [ 2.91767117  1.27334719]]\n"
     ]
    }
   ],
   "source": [
    "#scaller  yuusan model moodin in ay kala muhiimsan yihiin\n",
    "scaler = StandardScaler()\n",
    "x_scaled = scaler.fit_transform(x)\n",
    "print(f\"after scaled\", x_scaled)"
   ]
  },
  {
   "cell_type": "code",
   "execution_count": 123,
   "id": "361ffba5-2f98-4bc7-b26a-c5e1cc1097e9",
   "metadata": {},
   "outputs": [
    {
     "name": "stdout",
     "output_type": "stream",
     "text": [
      "k 1\n",
      "K = 1 ==> SSE = 400.00\n",
      "k 2\n",
      "K = 2 ==> SSE = 273.67\n",
      "k 3\n",
      "K = 3 ==> SSE = 157.70\n",
      "k 4\n",
      "K = 4 ==> SSE = 109.23\n",
      "k 5\n",
      "K = 5 ==> SSE = 65.57\n",
      "k 6\n",
      "K = 6 ==> SSE = 60.13\n",
      "k 7\n",
      "K = 7 ==> SSE = 49.67\n",
      "k 8\n",
      "K = 8 ==> SSE = 37.32\n",
      "k 9\n",
      "K = 9 ==> SSE = 32.50\n",
      "k 10\n",
      "K = 10 ==> SSE = 30.06\n",
      "k 11\n",
      "K = 11 ==> SSE = 26.76\n"
     ]
    }
   ],
   "source": [
    "#Elbow method   \n",
    "# soo hel k da\n",
    "for k in range(1, 12):\n",
    "  print(\"k\", k)\n",
    "  km = KMeans(n_clusters=k, random_state=42) \n",
    "  km.fit(x_scaled)\n",
    "  print(f\"K = {k} ==> SSE = {km.inertia_:.2f}\")"
   ]
  },
  {
   "cell_type": "code",
   "execution_count": 124,
   "id": "341fe43a-0e21-4137-a071-35caf272927b",
   "metadata": {},
   "outputs": [],
   "source": [
    "#Evaluate Clustering\n",
    "SIL = silhouette_score(x_scaled, Labels)\n",
    "DBI = davies_bouldin_score(x_scaled, Labels)"
   ]
  },
  {
   "cell_type": "code",
   "execution_count": 125,
   "id": "c2c85544-7f05-405a-8e62-23066964cfbc",
   "metadata": {},
   "outputs": [
    {
     "name": "stdout",
     "output_type": "stream",
     "text": [
      "Cluster sample\n",
      "   CustomerID  Gender  Age  Annual Income ($)  Spending Score (1-100)  \\\n",
      "0           1    Male   19                 15                      39   \n",
      "1           2    Male   21                 15                      81   \n",
      "2           3  Female   20                 16                       6   \n",
      "3           4  Female   23                 16                      77   \n",
      "4           5  Female   31                 17                      40   \n",
      "\n",
      "   Cluster_Groups  \n",
      "0               3  \n",
      "1               4  \n",
      "2               3  \n",
      "3               4  \n",
      "4               3  \n"
     ]
    }
   ],
   "source": [
    "#wan helay k da\n",
    "kmeans = KMeans(n_clusters=6, random_state=42, n_init=10)\n",
    "Labels = kmeans.fit_predict(x_scaled)\n",
    "\n",
    "df[\"Cluster_Groups\"] = Labels.astype(int)\n",
    "print(\"Cluster sample\")\n",
    "print(df.head())"
   ]
  },
  {
   "cell_type": "code",
   "execution_count": 126,
   "id": "3647d864-e20b-4dd2-bd9b-d5ed1997c803",
   "metadata": {},
   "outputs": [
    {
     "name": "stdout",
     "output_type": "stream",
     "text": [
      "__Metrics__\n",
      "silhouette_score: 0.540 (closer +1 is good) \n",
      "davies_bouldin_score: 0.655 (lower is better) \n"
     ]
    }
   ],
   "source": [
    "#metrics\n",
    "print(\"__Metrics__\")\n",
    "print(f\"silhouette_score: {SIL:.3f} (closer +1 is good) \") \n",
    "print(f\"davies_bouldin_score: {DBI:.3f} (lower is better) \") "
   ]
  },
  {
   "cell_type": "code",
   "execution_count": 127,
   "id": "bfa1b0fd-4a41-48fb-8225-77119133ecf3",
   "metadata": {},
   "outputs": [
    {
     "name": "stdout",
     "output_type": "stream",
     "text": [
      "changed to original unit:     Annual Income ($)  Spending Score (1-100)\n",
      "0              55.30                   49.52\n",
      "1              88.20                   17.11\n",
      "2             109.70                   82.00\n",
      "3              26.30                   20.91\n",
      "4              25.73                   79.36\n",
      "5              78.55                   82.17\n"
     ]
    }
   ],
   "source": [
    "#Soo celinta centers, Cluster Centers Original Units\n",
    "centers_scaled = kmeans.cluster_centers_\n",
    "centers_original = scaler.inverse_transform(centers_scaled) \n",
    "\n",
    "\n",
    "#update dataframe \n",
    "centers_df = pd.DataFrame(centers_original, columns=FEATURES)\n",
    "print(\"changed to original unit: \", centers_df.round(2))"
   ]
  },
  {
   "cell_type": "code",
   "execution_count": 128,
   "id": "8ce8cd5a-3cf7-4ea2-977d-905d871f317c",
   "metadata": {},
   "outputs": [
    {
     "name": "stdout",
     "output_type": "stream",
     "text": [
      "sanity_check (5 customers)\n",
      "   Annual Income ($)  Spending Score (1-100)  Cluster_Groups\n",
      "0                 15                      39               3\n",
      "1                 15                      81               4\n",
      "2                 16                       6               3\n",
      "3                 16                      77               4\n",
      "4                 17                      40               3\n"
     ]
    }
   ],
   "source": [
    "#sanit check\n",
    "sample_idx = [0, 1, 2, 3, 4 ]\n",
    "sanity = df.loc[sample_idx, FEATURES + [\"Cluster_Groups\"]]\n",
    "print(\"sanity_check (5 customers)\")\n",
    "print(sanity)\n"
   ]
  },
  {
   "cell_type": "code",
   "execution_count": 129,
   "id": "613fc8c9-d114-4b96-a4bc-a4caf21cef9f",
   "metadata": {},
   "outputs": [
    {
     "name": "stdout",
     "output_type": "stream",
     "text": [
      "saved Dataset   Name: spending_labeled_clusters.csv\n"
     ]
    }
   ],
   "source": [
    "#save gareyn\n",
    "OUT_PATH = \"spending_labeled_clusters.csv\"\n",
    "df.to_csv(OUT_PATH, index=False)\n",
    "print(\"saved Dataset   Name:\",OUT_PATH)"
   ]
  },
  {
   "cell_type": "code",
   "execution_count": null,
   "id": "f5120f33-d8cc-4662-a8d6-9ca74e6a77d2",
   "metadata": {},
   "outputs": [],
   "source": []
  }
 ],
 "metadata": {
  "kernelspec": {
   "display_name": "Python 3 (ipykernel)",
   "language": "python",
   "name": "python3"
  },
  "language_info": {
   "codemirror_mode": {
    "name": "ipython",
    "version": 3
   },
   "file_extension": ".py",
   "mimetype": "text/x-python",
   "name": "python",
   "nbconvert_exporter": "python",
   "pygments_lexer": "ipython3",
   "version": "3.13.5"
  }
 },
 "nbformat": 4,
 "nbformat_minor": 5
}
