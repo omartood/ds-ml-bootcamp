{
 "cells": [
  {
   "cell_type": "code",
   "execution_count": 1,
   "id": "780b744d-f24b-45b9-941a-a9472fd599a7",
   "metadata": {},
   "outputs": [],
   "source": [
    "import pandas as pd\n",
    "from sklearn.cluster import KMeans\n",
    "from sklearn.preprocessing import StandardScaler\n",
    "from sklearn.metrics import silhouette_score, davies_bouldin_score\n"
   ]
  },
  {
   "cell_type": "code",
   "execution_count": 2,
   "id": "3d460d1f-38a4-413d-b1a1-5dc6e4a85ec6",
   "metadata": {},
   "outputs": [
    {
     "name": "stdout",
     "output_type": "stream",
     "text": [
      "\n",
      "=== INITIAL ===\n",
      "   CustomerID  Age  Income_$  SpendingScore  VisitsPerMonth  OnlinePurchases  \\\n",
      "0           1   28        33             78              14                9   \n",
      "1           2   21        25             87               8               23   \n",
      "2           3   23        24             88              13               10   \n",
      "3           4   24        25             73              16               11   \n",
      "4           5   20        23             88              17               16   \n",
      "\n",
      "   Gender Region  \n",
      "0  Female   East  \n",
      "1    Male  North  \n",
      "2    Male  South  \n",
      "3  Female   West  \n",
      "4    Male   West  \n"
     ]
    }
   ],
   "source": [
    "CSV_PATH = \"spending_l9_dataset.csv\"\n",
    "df = pd.read_csv(CSV_PATH)\n",
    "print(\"\\n=== INITIAL ===\")\n",
    "print(df.head())"
   ]
  },
  {
   "cell_type": "code",
   "execution_count": 3,
   "id": "b285cc2d-ef1c-4b1d-a0f6-7eebca99e614",
   "metadata": {},
   "outputs": [],
   "source": [
    "# 2) Select features for clustering\n",
    "\n",
    "FEATURES = [\"Income_$\", \"SpendingScore\"]\n",
    "X = df[FEATURES].copy()"
   ]
  },
  {
   "cell_type": "code",
   "execution_count": 4,
   "id": "bd6828e4-e16b-4d6d-a772-5f77be40e714",
   "metadata": {},
   "outputs": [],
   "source": [
    "# Fill missing \n",
    "\n",
    "for col in FEATURES:\n",
    "  if X[col].isna().any():\n",
    "     X[col] = X[col].fillna(X[col].median())"
   ]
  },
  {
   "cell_type": "code",
   "execution_count": 5,
   "id": "3c60de1c-ae19-485b-859c-fb6206bbd6aa",
   "metadata": {},
   "outputs": [
    {
     "name": "stdout",
     "output_type": "stream",
     "text": [
      "\n",
      "=== FEATURES HEAD ===\n",
      "   Income_$  SpendingScore\n",
      "0        33             78\n",
      "1        25             87\n",
      "2        24             88\n",
      "3        25             73\n",
      "4        23             88\n"
     ]
    }
   ],
   "source": [
    "print(\"\\n=== FEATURES HEAD ===\")\n",
    "print(X.head())"
   ]
  },
  {
   "cell_type": "code",
   "execution_count": 6,
   "id": "810c1f4b-ed87-4436-8b3d-7e6ed030341b",
   "metadata": {},
   "outputs": [
    {
     "name": "stdout",
     "output_type": "stream",
     "text": [
      "\n",
      "Scaled shape:  (200, 2)\n"
     ]
    }
   ],
   "source": [
    "# 3) Scale features\n",
    "\n",
    "scaler = StandardScaler()\n",
    "X_scaled = scaler.fit_transform(X)\n",
    "print(\"\\nScaled shape: \", X_scaled.shape)\n"
   ]
  },
  {
   "cell_type": "code",
   "execution_count": 9,
   "id": "1167afd9-525f-4aa7-a49c-74153deefa0d",
   "metadata": {},
   "outputs": [],
   "source": [
    "import os; os.environ[\"OMP_NUM_THREADS\"] = \"1\"\n"
   ]
  },
  {
   "cell_type": "code",
   "execution_count": 13,
   "id": "c847a872-49b5-43cb-8d19-61b5187d5ad1",
   "metadata": {},
   "outputs": [
    {
     "name": "stdout",
     "output_type": "stream",
     "text": [
      "\n",
      "=== ELBOW METHOD (SSE  k1-k11) ===\n",
      "k=1 -> SSE=400.00\n",
      "k=2 -> SSE=199.70\n",
      "k=3 -> SSE=77.01\n",
      "k=4 -> SSE=21.37\n",
      "k=5 -> SSE=17.93\n",
      "k=6 -> SSE=15.65\n"
     ]
    },
    {
     "name": "stderr",
     "output_type": "stream",
     "text": [
      "C:\\Users\\ASAL\\anaconda3\\Lib\\site-packages\\sklearn\\cluster\\_kmeans.py:1419: UserWarning: KMeans is known to have a memory leak on Windows with MKL, when there are less chunks than available threads. You can avoid it by setting the environment variable OMP_NUM_THREADS=1.\n",
      "  warnings.warn(\n",
      "C:\\Users\\ASAL\\anaconda3\\Lib\\site-packages\\sklearn\\cluster\\_kmeans.py:1419: UserWarning: KMeans is known to have a memory leak on Windows with MKL, when there are less chunks than available threads. You can avoid it by setting the environment variable OMP_NUM_THREADS=1.\n",
      "  warnings.warn(\n",
      "C:\\Users\\ASAL\\anaconda3\\Lib\\site-packages\\sklearn\\cluster\\_kmeans.py:1419: UserWarning: KMeans is known to have a memory leak on Windows with MKL, when there are less chunks than available threads. You can avoid it by setting the environment variable OMP_NUM_THREADS=1.\n",
      "  warnings.warn(\n",
      "C:\\Users\\ASAL\\anaconda3\\Lib\\site-packages\\sklearn\\cluster\\_kmeans.py:1419: UserWarning: KMeans is known to have a memory leak on Windows with MKL, when there are less chunks than available threads. You can avoid it by setting the environment variable OMP_NUM_THREADS=1.\n",
      "  warnings.warn(\n",
      "C:\\Users\\ASAL\\anaconda3\\Lib\\site-packages\\sklearn\\cluster\\_kmeans.py:1419: UserWarning: KMeans is known to have a memory leak on Windows with MKL, when there are less chunks than available threads. You can avoid it by setting the environment variable OMP_NUM_THREADS=1.\n",
      "  warnings.warn(\n",
      "C:\\Users\\ASAL\\anaconda3\\Lib\\site-packages\\sklearn\\cluster\\_kmeans.py:1419: UserWarning: KMeans is known to have a memory leak on Windows with MKL, when there are less chunks than available threads. You can avoid it by setting the environment variable OMP_NUM_THREADS=1.\n",
      "  warnings.warn(\n",
      "C:\\Users\\ASAL\\anaconda3\\Lib\\site-packages\\sklearn\\cluster\\_kmeans.py:1419: UserWarning: KMeans is known to have a memory leak on Windows with MKL, when there are less chunks than available threads. You can avoid it by setting the environment variable OMP_NUM_THREADS=1.\n",
      "  warnings.warn(\n"
     ]
    },
    {
     "name": "stdout",
     "output_type": "stream",
     "text": [
      "k=7 -> SSE=13.88\n",
      "k=8 -> SSE=12.45\n",
      "k=9 -> SSE=11.06\n",
      "k=10 -> SSE=9.93\n"
     ]
    },
    {
     "name": "stderr",
     "output_type": "stream",
     "text": [
      "C:\\Users\\ASAL\\anaconda3\\Lib\\site-packages\\sklearn\\cluster\\_kmeans.py:1419: UserWarning: KMeans is known to have a memory leak on Windows with MKL, when there are less chunks than available threads. You can avoid it by setting the environment variable OMP_NUM_THREADS=1.\n",
      "  warnings.warn(\n",
      "C:\\Users\\ASAL\\anaconda3\\Lib\\site-packages\\sklearn\\cluster\\_kmeans.py:1419: UserWarning: KMeans is known to have a memory leak on Windows with MKL, when there are less chunks than available threads. You can avoid it by setting the environment variable OMP_NUM_THREADS=1.\n",
      "  warnings.warn(\n",
      "C:\\Users\\ASAL\\anaconda3\\Lib\\site-packages\\sklearn\\cluster\\_kmeans.py:1419: UserWarning: KMeans is known to have a memory leak on Windows with MKL, when there are less chunks than available threads. You can avoid it by setting the environment variable OMP_NUM_THREADS=1.\n",
      "  warnings.warn(\n"
     ]
    }
   ],
   "source": [
    "# 4) Elbow method\n",
    "\n",
    "print(\"\\n=== ELBOW METHOD (SSE  k1-k11) ===\")\n",
    "for k in range(1, 11):\n",
    " km = KMeans(n_clusters=k, n_init=10, random_state=42)\n",
    " km.fit(X_scaled)\n",
    " print(f\"k={k} -> SSE={km.inertia_:.2f}\")"
   ]
  },
  {
   "cell_type": "code",
   "execution_count": 14,
   "id": "5146f43d-a338-4510-b9e4-4aafbc5d99fa",
   "metadata": {},
   "outputs": [
    {
     "name": "stdout",
     "output_type": "stream",
     "text": [
      "\n",
      "=== SAMPLE WITH CLUSTERS ===\n",
      "   CustomerID  Age  Income_$  SpendingScore  VisitsPerMonth  OnlinePurchases  \\\n",
      "0           1   28        33             78              14                9   \n",
      "1           2   21        25             87               8               23   \n",
      "2           3   23        24             88              13               10   \n",
      "3           4   24        25             73              16               11   \n",
      "4           5   20        23             88              17               16   \n",
      "\n",
      "   Gender Region  Cluster  \n",
      "0  Female   East        2  \n",
      "1    Male  North        2  \n",
      "2    Male  South        2  \n",
      "3  Female   West        2  \n",
      "4    Male   West        2  \n"
     ]
    },
    {
     "name": "stderr",
     "output_type": "stream",
     "text": [
      "C:\\Users\\ASAL\\anaconda3\\Lib\\site-packages\\sklearn\\cluster\\_kmeans.py:1419: UserWarning: KMeans is known to have a memory leak on Windows with MKL, when there are less chunks than available threads. You can avoid it by setting the environment variable OMP_NUM_THREADS=1.\n",
      "  warnings.warn(\n"
     ]
    }
   ],
   "source": [
    "# 5) Fit K-Means with best k\n",
    "\n",
    "K = 4  \n",
    "kmeans = KMeans(n_clusters=K, n_init=10, random_state=42)\n",
    "labels = kmeans.fit_predict(X_scaled)\n",
    "\n",
    "df[\"Cluster\"] = labels.astype(int)\n",
    "print(\"\\n=== SAMPLE WITH CLUSTERS ===\")\n",
    "print(df.head())\n"
   ]
  },
  {
   "cell_type": "code",
   "execution_count": 16,
   "id": "8b764712-964b-4b7d-a7db-f8f3583ed237",
   "metadata": {},
   "outputs": [
    {
     "name": "stdout",
     "output_type": "stream",
     "text": [
      "\n",
      "=== METRICS ===\n",
      "Silhouette Score : 0.729 (closer to +1 is better)\n",
      "Davies–Bouldin   : 0.387 (lower is better)\n"
     ]
    }
   ],
   "source": [
    "sil = silhouette_score(X_scaled, labels)\n",
    "dbi = davies_bouldin_score(X_scaled, labels)\n",
    "print(\"\\n=== METRICS ===\")\n",
    "print(f\"Silhouette Score : {sil:.3f} (closer to +1 is better)\")\n",
    "print(f\"Davies–Bouldin   : {dbi:.3f} (lower is better)\")"
   ]
  },
  {
   "cell_type": "code",
   "execution_count": 17,
   "id": "7ee42fbf-c080-46cd-94de-4c12fd96b89b",
   "metadata": {},
   "outputs": [
    {
     "name": "stdout",
     "output_type": "stream",
     "text": [
      "\n",
      "=== CLUSTER CENTERS ===\n",
      "         Income_$  SpendingScore\n",
      "Cluster                         \n",
      "0           56.32          53.58\n",
      "1           28.92          19.60\n",
      "2           24.14          83.10\n",
      "3           99.16          79.24\n"
     ]
    }
   ],
   "source": [
    "# Cluster centers (original units)\n",
    "\n",
    "centers_scaled = kmeans.cluster_centers_\n",
    "centers_original = scaler.inverse_transform(centers_scaled)\n",
    "\n",
    "centers_df = pd.DataFrame(centers_original, columns=FEATURES)\n",
    "centers_df.index.name = \"Cluster\"\n",
    "\n",
    "print(\"\\n=== CLUSTER CENTERS ===\")\n",
    "print(centers_df.round(2))"
   ]
  },
  {
   "cell_type": "code",
   "execution_count": 18,
   "id": "8c68ac05-c3d6-432c-a6f7-c02649a18982",
   "metadata": {},
   "outputs": [
    {
     "name": "stdout",
     "output_type": "stream",
     "text": [
      "\n",
      "=== SANITY CHECK (3 Customers) ===\n",
      "     Income_$  SpendingScore  Cluster\n",
      "6          16             96        2\n",
      "100        32             20        1\n",
      "190       104             77        3\n"
     ]
    }
   ],
   "source": [
    "sample_idx = [6,100, 190]  # pick any three\n",
    "sanity = df.loc[sample_idx, FEATURES + [\"Cluster\"]]\n",
    "print(\"\\n=== SANITY CHECK (3 Customers) ===\")\n",
    "print(sanity)"
   ]
  },
  {
   "cell_type": "code",
   "execution_count": 19,
   "id": "44594411-f0cc-4156-9b04-dd35d3be45b0",
   "metadata": {},
   "outputs": [
    {
     "name": "stdout",
     "output_type": "stream",
     "text": [
      "\n",
      "Saved clustered dataset -> spending_labeled_clusters.csv\n"
     ]
    }
   ],
   "source": [
    "OUT_PATH = \"spending_labeled_clusters.csv\"\n",
    "df.to_csv(OUT_PATH, index=False)\n",
    "print(f\"\\nSaved clustered dataset -> {OUT_PATH}\")"
   ]
  },
  {
   "cell_type": "code",
   "execution_count": null,
   "id": "6c5426a2-c64d-4b23-ac0e-fdeb142262fc",
   "metadata": {},
   "outputs": [],
   "source": []
  }
 ],
 "metadata": {
  "kernelspec": {
   "display_name": "Python [conda env:base] *",
   "language": "python",
   "name": "conda-base-py"
  },
  "language_info": {
   "codemirror_mode": {
    "name": "ipython",
    "version": 3
   },
   "file_extension": ".py",
   "mimetype": "text/x-python",
   "name": "python",
   "nbconvert_exporter": "python",
   "pygments_lexer": "ipython3",
   "version": "3.13.5"
  }
 },
 "nbformat": 4,
 "nbformat_minor": 5
}
