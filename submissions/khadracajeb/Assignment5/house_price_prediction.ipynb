{
 "cells": [
  {
   "cell_type": "code",
   "execution_count": 27,
   "id": "69ef9109-3252-4cd1-aee6-bdd085314df1",
   "metadata": {},
   "outputs": [],
   "source": [
    "import pandas  as pd\n",
    "import numpy  as np\n",
    "from sklearn.model_selection import train_test_split\n",
    "from sklearn.linear_model import LinearRegression\n",
    "from sklearn.ensemble import RandomForestRegressor\n",
    "from sklearn.metrics import mean_absolute_error, mean_squared_error, r2_score"
   ]
  },
  {
   "cell_type": "code",
   "execution_count": 28,
   "id": "5d6d1e42-08ea-4f0e-a69a-cf8a5925b0a7",
   "metadata": {},
   "outputs": [],
   "source": [
    "#1 data processing\n",
    "#load data \n",
    "df =pd.read_csv(\"house_data.csv\")"
   ]
  },
  {
   "cell_type": "code",
   "execution_count": 29,
   "id": "285db6da-9a62-4d5e-a61e-5d2930c67e31",
   "metadata": {},
   "outputs": [
    {
     "data": {
      "text/html": [
       "<div>\n",
       "<style scoped>\n",
       "    .dataframe tbody tr th:only-of-type {\n",
       "        vertical-align: middle;\n",
       "    }\n",
       "\n",
       "    .dataframe tbody tr th {\n",
       "        vertical-align: top;\n",
       "    }\n",
       "\n",
       "    .dataframe thead th {\n",
       "        text-align: right;\n",
       "    }\n",
       "</style>\n",
       "<table border=\"1\" class=\"dataframe\">\n",
       "  <thead>\n",
       "    <tr style=\"text-align: right;\">\n",
       "      <th></th>\n",
       "      <th>Size_sqft</th>\n",
       "      <th>Bedrooms</th>\n",
       "      <th>Bathrooms</th>\n",
       "      <th>YearBuilt</th>\n",
       "      <th>Price</th>\n",
       "      <th>Location_City</th>\n",
       "      <th>Location_Rural</th>\n",
       "      <th>Location_Suburb</th>\n",
       "      <th>HouseAge</th>\n",
       "      <th>Rooms_per_1000sqft</th>\n",
       "      <th>Size_per_Bedroom</th>\n",
       "      <th>Is_City</th>\n",
       "      <th>LogPrice</th>\n",
       "    </tr>\n",
       "  </thead>\n",
       "  <tbody>\n",
       "    <tr>\n",
       "      <th>0</th>\n",
       "      <td>1.030281</td>\n",
       "      <td>-1.463643</td>\n",
       "      <td>0.088986</td>\n",
       "      <td>-1.279342</td>\n",
       "      <td>812100.0</td>\n",
       "      <td>1</td>\n",
       "      <td>0</td>\n",
       "      <td>0</td>\n",
       "      <td>1.279342</td>\n",
       "      <td>-1.061465</td>\n",
       "      <td>3.123085</td>\n",
       "      <td>1</td>\n",
       "      <td>13.607380</td>\n",
       "    </tr>\n",
       "    <tr>\n",
       "      <th>1</th>\n",
       "      <td>-0.482463</td>\n",
       "      <td>-1.463643</td>\n",
       "      <td>1.347506</td>\n",
       "      <td>1.326476</td>\n",
       "      <td>547000.0</td>\n",
       "      <td>1</td>\n",
       "      <td>0</td>\n",
       "      <td>0</td>\n",
       "      <td>-1.326476</td>\n",
       "      <td>-0.265637</td>\n",
       "      <td>1.309520</td>\n",
       "      <td>1</td>\n",
       "      <td>13.212206</td>\n",
       "    </tr>\n",
       "    <tr>\n",
       "      <th>2</th>\n",
       "      <td>0.468877</td>\n",
       "      <td>0.007430</td>\n",
       "      <td>-1.169534</td>\n",
       "      <td>-1.339942</td>\n",
       "      <td>693700.0</td>\n",
       "      <td>1</td>\n",
       "      <td>0</td>\n",
       "      <td>0</td>\n",
       "      <td>1.339942</td>\n",
       "      <td>-0.689547</td>\n",
       "      <td>-0.163970</td>\n",
       "      <td>1</td>\n",
       "      <td>13.449796</td>\n",
       "    </tr>\n",
       "    <tr>\n",
       "      <th>3</th>\n",
       "      <td>1.079817</td>\n",
       "      <td>0.742966</td>\n",
       "      <td>1.347506</td>\n",
       "      <td>-0.915740</td>\n",
       "      <td>848300.0</td>\n",
       "      <td>1</td>\n",
       "      <td>0</td>\n",
       "      <td>0</td>\n",
       "      <td>0.915740</td>\n",
       "      <td>-0.199111</td>\n",
       "      <td>-0.307614</td>\n",
       "      <td>1</td>\n",
       "      <td>13.650991</td>\n",
       "    </tr>\n",
       "    <tr>\n",
       "      <th>4</th>\n",
       "      <td>0.788954</td>\n",
       "      <td>1.478502</td>\n",
       "      <td>-1.169534</td>\n",
       "      <td>0.962873</td>\n",
       "      <td>806000.0</td>\n",
       "      <td>0</td>\n",
       "      <td>0</td>\n",
       "      <td>1</td>\n",
       "      <td>-0.962873</td>\n",
       "      <td>-0.311002</td>\n",
       "      <td>-0.610027</td>\n",
       "      <td>0</td>\n",
       "      <td>13.599840</td>\n",
       "    </tr>\n",
       "  </tbody>\n",
       "</table>\n",
       "</div>"
      ],
      "text/plain": [
       "   Size_sqft  Bedrooms  Bathrooms  YearBuilt     Price  Location_City  \\\n",
       "0   1.030281 -1.463643   0.088986  -1.279342  812100.0              1   \n",
       "1  -0.482463 -1.463643   1.347506   1.326476  547000.0              1   \n",
       "2   0.468877  0.007430  -1.169534  -1.339942  693700.0              1   \n",
       "3   1.079817  0.742966   1.347506  -0.915740  848300.0              1   \n",
       "4   0.788954  1.478502  -1.169534   0.962873  806000.0              0   \n",
       "\n",
       "   Location_Rural  Location_Suburb  HouseAge  Rooms_per_1000sqft  \\\n",
       "0               0                0  1.279342           -1.061465   \n",
       "1               0                0 -1.326476           -0.265637   \n",
       "2               0                0  1.339942           -0.689547   \n",
       "3               0                0  0.915740           -0.199111   \n",
       "4               0                1 -0.962873           -0.311002   \n",
       "\n",
       "   Size_per_Bedroom  Is_City   LogPrice  \n",
       "0          3.123085        1  13.607380  \n",
       "1          1.309520        1  13.212206  \n",
       "2         -0.163970        1  13.449796  \n",
       "3         -0.307614        1  13.650991  \n",
       "4         -0.610027        0  13.599840  "
      ]
     },
     "execution_count": 29,
     "metadata": {},
     "output_type": "execute_result"
    }
   ],
   "source": [
    "df.head()"
   ]
  },
  {
   "cell_type": "code",
   "execution_count": 30,
   "id": "25b4589c-2dfc-4dce-86ae-27d0563935f2",
   "metadata": {},
   "outputs": [
    {
     "data": {
      "text/plain": [
       "<bound method DataFrame.info of     Size_sqft  Bedrooms  Bathrooms  YearBuilt     Price  Location_City  \\\n",
       "0    1.030281 -1.463643   0.088986  -1.279342  812100.0              1   \n",
       "1   -0.482463 -1.463643   1.347506   1.326476  547000.0              1   \n",
       "2    0.468877  0.007430  -1.169534  -1.339942  693700.0              1   \n",
       "3    1.079817  0.742966   1.347506  -0.915740  848300.0              1   \n",
       "4    0.788954  1.478502  -1.169534   0.962873  806000.0              0   \n",
       "..        ...       ...        ...        ...       ...            ...   \n",
       "94   0.326620  0.742966   0.088986  -0.370336  655100.0              0   \n",
       "95  -1.642107 -0.728107   0.088986   0.417469  292500.0              0   \n",
       "96   0.376156  0.007430  -1.169534  -0.673338  722400.0              1   \n",
       "97  -0.243676 -1.463643   0.088986   0.175068  535300.0              1   \n",
       "98   0.498090  1.478502   1.347506  -0.006733  688000.0              1   \n",
       "\n",
       "    Location_Rural  Location_Suburb  HouseAge  Rooms_per_1000sqft  \\\n",
       "0                0                0  1.279342           -1.061465   \n",
       "1                0                0 -1.326476           -0.265637   \n",
       "2                0                0  1.339942           -0.689547   \n",
       "3                0                0  0.915740           -0.199111   \n",
       "4                0                1 -0.962873           -0.311002   \n",
       "..             ...              ...       ...                 ...   \n",
       "94               1                0  0.370336           -0.102326   \n",
       "95               1                0 -0.417469            1.191731   \n",
       "96               0                0  0.673338           -0.659394   \n",
       "97               0                0 -0.175068           -0.732009   \n",
       "98               0                0  0.006733            0.325612   \n",
       "\n",
       "    Size_per_Bedroom  Is_City   LogPrice  \n",
       "0           3.123085        1  13.607380  \n",
       "1           1.309520        1  13.212206  \n",
       "2          -0.163970        1  13.449796  \n",
       "3          -0.307614        1  13.650991  \n",
       "4          -0.610027        0  13.599840  \n",
       "..               ...      ...        ...  \n",
       "94         -0.533358        0  13.392545  \n",
       "95         -0.775852        0  12.586223  \n",
       "96         -0.201023        1  13.490336  \n",
       "97          1.595792        1  13.190584  \n",
       "98         -0.679768        1  13.441546  \n",
       "\n",
       "[99 rows x 13 columns]>"
      ]
     },
     "execution_count": 30,
     "metadata": {},
     "output_type": "execute_result"
    }
   ],
   "source": [
    "df.info"
   ]
  },
  {
   "cell_type": "code",
   "execution_count": 31,
   "id": "1e68fef8-8f93-4de5-93fc-e68ed9b612c3",
   "metadata": {},
   "outputs": [
    {
     "data": {
      "text/plain": [
       "(99, 13)"
      ]
     },
     "execution_count": 31,
     "metadata": {},
     "output_type": "execute_result"
    }
   ],
   "source": [
    "df.shape"
   ]
  },
  {
   "cell_type": "code",
   "execution_count": 32,
   "id": "bbb00b52-df29-4063-9be1-e42a0b403a74",
   "metadata": {},
   "outputs": [
    {
     "data": {
      "text/plain": [
       "Size_sqft             0\n",
       "Bedrooms              0\n",
       "Bathrooms             0\n",
       "YearBuilt             0\n",
       "Price                 0\n",
       "Location_City         0\n",
       "Location_Rural        0\n",
       "Location_Suburb       0\n",
       "HouseAge              0\n",
       "Rooms_per_1000sqft    0\n",
       "Size_per_Bedroom      0\n",
       "Is_City               0\n",
       "LogPrice              0\n",
       "dtype: int64"
      ]
     },
     "execution_count": 32,
     "metadata": {},
     "output_type": "execute_result"
    }
   ],
   "source": [
    "df.isnull().sum()"
   ]
  },
  {
   "cell_type": "code",
   "execution_count": 33,
   "id": "eeb4673f-66f1-4411-b5ce-41aa0188487b",
   "metadata": {},
   "outputs": [],
   "source": [
    "x= df.drop(columns=[\"Price\", \"LogPrice\"])\n",
    "y=df[\"Price\"]"
   ]
  },
  {
   "cell_type": "code",
   "execution_count": 34,
   "id": "e6affadb-3cea-4f77-aaf3-bbe11f9f4633",
   "metadata": {},
   "outputs": [],
   "source": [
    "x_train, x_test, y_train, y_test = train_test_split(x, y ,test_size=0.2 , random_state=42)"
   ]
  },
  {
   "cell_type": "code",
   "execution_count": 36,
   "id": "550103e8-b121-4931-af9b-eaaf58a7a118",
   "metadata": {},
   "outputs": [],
   "source": [
    "lr = LinearRegression()\n",
    "rf = RandomForestRegressor(n_estimators=100, random_state=42)\n",
    "\n",
    "lr.fit(x_train, y_train)\n",
    "rf.fit(x_train, y_train)\n",
    "\n",
    "lr_pred = lr.predict(x_test)\n",
    "rf_pred = rf.predict(x_test)\n",
    "\n",
    "#print(lr_pred[:30])"
   ]
  },
  {
   "cell_type": "code",
   "execution_count": 38,
   "id": "b2f5dd9c-499f-4f83-8ac5-d5f43eead04c",
   "metadata": {},
   "outputs": [
    {
     "name": "stdout",
     "output_type": "stream",
     "text": [
      "prediction of LR\n",
      "R2:  0.848\n",
      "MAE: 63,086\n",
      "MSE: 5,718,940,941\n",
      "RMSE 75,624\n",
      "prediction of RF\n",
      "R2:  0.859\n",
      "MAE: 52,524\n",
      "MSE: 5,283,317,455\n",
      "RMSE 72,686\n"
     ]
    }
   ],
   "source": [
    "def print_metrics(name, y, y_preidct):\n",
    "    r2= r2_score(y, y_preidct)\n",
    "    mae = mean_absolute_error (y, y_preidct)\n",
    "    mse = mean_squared_error(y, y_preidct)\n",
    "    rmse = np.sqrt(mse)\n",
    "\n",
    "    print(f\"prediction of {name}\")\n",
    "    print(f\"R2:  {r2:,.3f}\")\n",
    "    print(f\"MAE: {mae:,.0f}\")\n",
    "    print(f\"MSE: {mse:,.0f}\")\n",
    "    print(f\"RMSE {rmse:,.0f}\")\n",
    "\n",
    "print_metrics(\"LR\", y_test, lr_pred)\n",
    "print_metrics(\"RF\", y_test, rf_pred)\n",
    "\n",
    "    "
   ]
  },
  {
   "cell_type": "code",
   "execution_count": null,
   "id": "b5972b7d-6411-4d23-8f0a-46c0348ff073",
   "metadata": {},
   "outputs": [
    {
     "name": "stdout",
     "output_type": "stream",
     "text": [
      "sibgle row sanity check\n",
      "actual price of selected row: $642,500\n",
      "LR prediction: $656,755\n",
      "Rf prediction: $789,031\n"
     ]
    }
   ],
   "source": [
    "i=0\n",
    "x_one_df = x_test.iloc[[i]]\n",
    "y_true = y_test.iloc[i]\n",
    "\n",
    "p_lr_one = float(lr.predict(x_one_df)[0])\n",
    "p_rf_one = float(rf.predict(x_one_df)[0])\n",
    "\n",
    "print(\"sibgle row sanity check\")\n",
    "\n",
    "print(f\"actual price of selected row: ${y_true:,.0f}\")\n",
    "print(f\"LR prediction: ${p_lr_one:,.0f}\")\n",
    "print(f\"Rf prediction: ${p_rf_one:,.0f}\")"
   ]
  },
  {
   "cell_type": "code",
   "execution_count": null,
   "id": "6172070a-0f7c-44bd-8fe9-843c57d8bd0c",
   "metadata": {},
   "outputs": [],
   "source": []
  }
 ],
 "metadata": {
  "kernelspec": {
   "display_name": "Python [conda env:base] *",
   "language": "python",
   "name": "conda-base-py"
  },
  "language_info": {
   "codemirror_mode": {
    "name": "ipython",
    "version": 3
   },
   "file_extension": ".py",
   "mimetype": "text/x-python",
   "name": "python",
   "nbconvert_exporter": "python",
   "pygments_lexer": "ipython3",
   "version": "3.13.5"
  }
 },
 "nbformat": 4,
 "nbformat_minor": 5
}
