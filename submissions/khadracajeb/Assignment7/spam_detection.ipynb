{
 "cells": [
  {
   "cell_type": "code",
   "execution_count": 9,
   "id": "76eebd55-8582-420d-9803-bf58501f9cbe",
   "metadata": {},
   "outputs": [],
   "source": [
    "# Imports\n",
    "\n",
    "import numpy as np \n",
    "import pandas as pd \n",
    "\n",
    "from sklearn.model_selection import train_test_split\n",
    "from sklearn.feature_extraction.text import TfidfVectorizer \n",
    "\n",
    "from sklearn.linear_model import LogisticRegression \n",
    "from sklearn.ensemble import RandomForestClassifier\n",
    "\n",
    "from sklearn.naive_bayes import MultinomialNB  \n",
    "\n",
    "from sklearn.metrics import ( # type: ignore\n",
    "    accuracy_score, precision_score, recall_score, f1_score, confusion_matrix\n",
    ")\n"
   ]
  },
  {
   "cell_type": "code",
   "execution_count": 10,
   "id": "12e8513f-cadb-449c-8fff-3857bfbb2019",
   "metadata": {},
   "outputs": [],
   "source": [
    "RANDOM_STATE = 42  "
   ]
  },
  {
   "cell_type": "code",
   "execution_count": 11,
   "id": "fa7cab6a-55cf-4a06-be4a-505a2478b91b",
   "metadata": {},
   "outputs": [],
   "source": [
    "# 1) Load the dataset\n",
    "df = pd.read_csv(\"mail_l7_dataset.csv\")\n"
   ]
  },
  {
   "cell_type": "code",
   "execution_count": 12,
   "id": "0f7bdc73-f819-472b-b8ce-925141ba24e8",
   "metadata": {},
   "outputs": [],
   "source": [
    "# replace NaNs with empty strings \n",
    "df = df.where(pd.notnull(df), \"\")"
   ]
  },
  {
   "cell_type": "code",
   "execution_count": 13,
   "id": "a12bf594-7e74-4170-9ed3-cb5751ff6825",
   "metadata": {},
   "outputs": [],
   "source": [
    "# Encode labels: spam -> 0, ham -> 1  \n",
    "df.loc[df[\"Category\"].str.lower().str.strip() == \"spam\", \"Category\"] = 0\n",
    "df.loc[df[\"Category\"].str.lower().str.strip() == \"ham\",  \"Category\"] = 1\n"
   ]
  },
  {
   "cell_type": "code",
   "execution_count": 14,
   "id": "1bb31c1e-3af8-4f65-af17-4ba7cf922c6a",
   "metadata": {},
   "outputs": [
    {
     "name": "stdout",
     "output_type": "stream",
     "text": [
      "  Category                                            Message\n",
      "0        1  Go until jurong point, crazy.. Available only ...\n",
      "1        1                      Ok lar... Joking wif u oni...\n",
      "2        0  Free entry in 2 a wkly comp to win FA Cup fina...\n",
      "3        1  U dun say so early hor... U c already then say...\n",
      "4        1  Nah I don't think he goes to usf, he lives aro...\n"
     ]
    }
   ],
   "source": [
    "print(df.head())"
   ]
  },
  {
   "cell_type": "code",
   "execution_count": 15,
   "id": "9c7ff26d-f393-46e7-986f-739462953d2d",
   "metadata": {},
   "outputs": [],
   "source": [
    "# 2) Split features (X) and target (y)\n",
    "# --------------------------------\n",
    "X = df[\"Message\"].astype(str)\n",
    "y = df[\"Category\"].astype(int)"
   ]
  },
  {
   "cell_type": "code",
   "execution_count": 16,
   "id": "9a16723f-29e1-4be4-856d-c4b7cee95d58",
   "metadata": {},
   "outputs": [],
   "source": [
    "# 3) Train and test split\n",
    "\n",
    "X_train, X_test, y_train, y_test = train_test_split(\n",
    "    X, y, test_size=0.2, random_state=RANDOM_STATE\n",
    ")"
   ]
  },
  {
   "cell_type": "code",
   "execution_count": 17,
   "id": "a109c1f2-2dde-4dab-9430-1728c2c67fa3",
   "metadata": {},
   "outputs": [
    {
     "name": "stdout",
     "output_type": "stream",
     "text": [
      "=== SPLIT SIZES ===\n",
      "Train: 4457  | Test: 1115\n"
     ]
    }
   ],
   "source": [
    "print(\"=== SPLIT SIZES ===\")\n",
    "print(\"Train:\", X_train.shape[0], \" | Test:\", X_test.shape[0])\n"
   ]
  },
  {
   "cell_type": "code",
   "execution_count": 18,
   "id": "277c4ce6-5135-455c-9b0e-3f014e8a9229",
   "metadata": {},
   "outputs": [
    {
     "name": "stdout",
     "output_type": "stream",
     "text": [
      "\n",
      "=== TF-IDF SHAPES ===\n",
      "X_train: (4457, 7440)  | X_test: (1115, 7440)\n"
     ]
    }
   ],
   "source": [
    "# 4) Text → TF-IDF features\n",
    "\n",
    "tfidf = TfidfVectorizer(min_df=1, stop_words=\"english\", lowercase=True)\n",
    "X_train_features = tfidf.fit_transform(X_train)\n",
    "X_test_features  = tfidf.transform(X_test)\n",
    "\n",
    "print(\"\\n=== TF-IDF SHAPES ===\")\n",
    "print(\"X_train:\", X_train_features.shape, \" | X_test:\", X_test_features.shape)\n"
   ]
  },
  {
   "cell_type": "code",
   "execution_count": 19,
   "id": "8afebbe7-93c5-44e0-a1e7-1cdf8ca61fb9",
   "metadata": {},
   "outputs": [],
   "source": [
    "# 5) Train Logistic Regression\n",
    "lr = LogisticRegression(max_iter=1000, random_state=RANDOM_STATE)\n",
    "lr.fit(X_train_features, y_train)\n",
    "lr_pred = lr.predict(X_test_features)"
   ]
  },
  {
   "cell_type": "code",
   "execution_count": 20,
   "id": "8cfb07e0-a650-4015-bd9d-bd0b3fa1fdec",
   "metadata": {},
   "outputs": [],
   "source": [
    "# 6) Train Random Forest\n",
    "#    (convert TF-IDF to dense for tree models)\n",
    "\n",
    "rf = RandomForestClassifier(n_estimators=200, random_state=RANDOM_STATE)\n",
    "rf.fit(X_train_features, y_train)\n",
    "rf_pred = rf.predict(X_test_features.toarray())"
   ]
  },
  {
   "cell_type": "code",
   "execution_count": 21,
   "id": "444fc983-d5a3-4e11-9541-c8e73ca611f6",
   "metadata": {},
   "outputs": [],
   "source": [
    "# 7) Train Naive Bayes (MultinomialNB)\n",
    "# --------------------------------\n",
    "nb = MultinomialNB()\n",
    "nb.fit(X_train_features, y_train)\n",
    "nb_pred = nb.predict(X_test_features)"
   ]
  },
  {
   "cell_type": "code",
   "execution_count": 22,
   "id": "e6b8320a-77c6-4375-82c5-9475e658de33",
   "metadata": {},
   "outputs": [],
   "source": [
    "# 7) Helper functions: metrics + confusion matrix print\n",
    "# --------------------------------\n",
    "def print_clf_metrics(name, y_true, y_pred, pos_label=0):\n",
    "    \"\"\"Print Accuracy, Precision, Recall, F1. pos_label=0 means 'spam' is positive.\"\"\"\n",
    "    acc  = accuracy_score(y_true, y_pred)\n",
    "    prec = precision_score(y_true, y_pred, pos_label=pos_label)\n",
    "    rec  = recall_score(y_true, y_pred, pos_label=pos_label)\n",
    "    f1   = f1_score(y_true, y_pred, pos_label=pos_label)\n",
    "    print(f\"\\n{name} Performance:\")\n",
    "    print(f\"  Accuracy : {acc:.3f}\")\n",
    "    print(f\"  Precision: {prec:.3f}  (positive = spam=0)\")\n",
    "    print(f\"  Recall   : {rec:.3f}  (positive = spam=0)\")\n",
    "    print(f\"  F1-Score : {f1:.3f}  (positive = spam=0)\")"
   ]
  },
  {
   "cell_type": "code",
   "execution_count": 23,
   "id": "07ffd514-eaa9-4590-8f92-4e360ac356be",
   "metadata": {},
   "outputs": [],
   "source": [
    "def print_confmat(name, y_true, y_pred):\n",
    "    \"\"\"\n",
    "    Confusion matrix with readable labels.\n",
    "    Rows = Actual, Cols = Predicted\n",
    "    Order: [Ham(1), Spam(0)]\n",
    "    \"\"\"\n",
    "    cm = confusion_matrix(y_true, y_pred, labels=[1, 0])\n",
    "    cm_df = pd.DataFrame(\n",
    "        cm,\n",
    "        index   =[\"Actual: Ham (1)\",  \"Actual: Spam (0)\"],\n",
    "        columns = [\"Pred: Ham (1)\",   \"Pred: Spam (0)\"]\n",
    "    )\n",
    "    print(f\"\\n{name} – Confusion Matrix:\\n{cm_df}\")\n"
   ]
  },
  {
   "cell_type": "code",
   "execution_count": 24,
   "id": "5494f1da-cf19-4911-99b8-f3041cb7780c",
   "metadata": {},
   "outputs": [
    {
     "name": "stdout",
     "output_type": "stream",
     "text": [
      "\n",
      "Logistic Regression Performance:\n",
      "  Accuracy : 0.968\n",
      "  Precision: 1.000  (positive = spam=0)\n",
      "  Recall   : 0.758  (positive = spam=0)\n",
      "  F1-Score : 0.863  (positive = spam=0)\n",
      "\n",
      "Logistic Regression – Confusion Matrix:\n",
      "                  Pred: Ham (1)  Pred: Spam (0)\n",
      "Actual: Ham (1)             966               0\n",
      "Actual: Spam (0)             36             113\n",
      "\n",
      "Random Forest Performance:\n",
      "  Accuracy : 0.983\n",
      "  Precision: 1.000  (positive = spam=0)\n",
      "  Recall   : 0.872  (positive = spam=0)\n",
      "  F1-Score : 0.932  (positive = spam=0)\n",
      "\n",
      "Random Forest – Confusion Matrix:\n",
      "                  Pred: Ham (1)  Pred: Spam (0)\n",
      "Actual: Ham (1)             966               0\n",
      "Actual: Spam (0)             19             130\n",
      "\n",
      "Naive Bayes Performance:\n",
      "  Accuracy : 0.977\n",
      "  Precision: 1.000  (positive = spam=0)\n",
      "  Recall   : 0.826  (positive = spam=0)\n",
      "  F1-Score : 0.904  (positive = spam=0)\n",
      "\n",
      "Naive Bayes – Confusion Matrix:\n",
      "                  Pred: Ham (1)  Pred: Spam (0)\n",
      "Actual: Ham (1)             966               0\n",
      "Actual: Spam (0)             26             123\n"
     ]
    }
   ],
   "source": [
    "\n",
    "\n",
    "# 8) Show results for 3 models\n",
    "# --------------------------------\n",
    "print_clf_metrics(\"Logistic Regression\", y_test, lr_pred, pos_label=0)\n",
    "print_confmat(\"Logistic Regression\", y_test, lr_pred)\n",
    "\n",
    "print_clf_metrics(\"Random Forest\", y_test, rf_pred, pos_label=0)\n",
    "print_confmat(\"Random Forest\", y_test, rf_pred)\n",
    "\n",
    "#side models ki hore o kale ayu so mujin naive\n",
    "print_clf_metrics(\"Naive Bayes\", y_test, nb_pred, pos_label=0)  \n",
    "print_confmat(\"Naive Bayes\", y_test, nb_pred) "
   ]
  },
  {
   "cell_type": "code",
   "execution_count": 163,
   "id": "366ad6dc-b01f-4bb2-850a-aaa33d07bb29",
   "metadata": {},
   "outputs": [],
   "source": [
    "# 9) Single-message sanity check\n",
    "# --------------------------------\n",
    "i = 700\n",
    "sample_text = X_test.iloc[i]\n",
    "true_label  = y_test.iloc[i]"
   ]
  },
  {
   "cell_type": "code",
   "execution_count": 164,
   "id": "6fd74d62-8e1f-4894-840b-f84bc33237fd",
   "metadata": {},
   "outputs": [],
   "source": [
    "# Predict with 3 models\n",
    "lr_pred_one = int(lr.predict(tfidf.transform([sample_text]))[0])\n",
    "rf_pred_one = int(rf.predict(tfidf.transform([sample_text]).toarray())[0])\n",
    "nb_pred_one = int(nb.predict(tfidf.transform([sample_text]))[0])\n"
   ]
  },
  {
   "cell_type": "code",
   "execution_count": 165,
   "id": "524ddbf2-135a-4493-be29-47ecd9ea8aaa",
   "metadata": {},
   "outputs": [
    {
     "name": "stdout",
     "output_type": "stream",
     "text": [
      "\n",
      "=== SINGLE MESSAGE CHECK ===\n",
      "Text snippet: But i'm surprised she still can guess right lor...\n",
      "Actual      : Ham (1)\n",
      "LR Pred     : Ham (1)\n",
      "RF Pred     : Ham (1)\n",
      "NB Pred     : Ham (1)\n"
     ]
    }
   ],
   "source": [
    "def lab2str(v):  # same readable output style\n",
    "    return \"Spam (0)\" if v == 0 else \"Ham (1)\"\n",
    "\n",
    "print(\"\\n=== SINGLE MESSAGE CHECK ===\")\n",
    "snippet = (sample_text[:160] + \"...\") if len(sample_text) > 160 else sample_text\n",
    "print(\"Text snippet:\", snippet)\n",
    "print(\"Actual      :\", lab2str(true_label))\n",
    "print(\"LR Pred     :\", lab2str(lr_pred_one))\n",
    "print(\"RF Pred     :\", lab2str(rf_pred_one))\n",
    "print(\"NB Pred     :\", lab2str(nb_pred_one))"
   ]
  },
  {
   "cell_type": "code",
   "execution_count": null,
   "id": "75f2bfd6-8e3e-4490-9b27-ef97719920d8",
   "metadata": {},
   "outputs": [],
   "source": []
  }
 ],
 "metadata": {
  "kernelspec": {
   "display_name": "Python [conda env:base] *",
   "language": "python",
   "name": "conda-base-py"
  },
  "language_info": {
   "codemirror_mode": {
    "name": "ipython",
    "version": 3
   },
   "file_extension": ".py",
   "mimetype": "text/x-python",
   "name": "python",
   "nbconvert_exporter": "python",
   "pygments_lexer": "ipython3",
   "version": "3.13.5"
  }
 },
 "nbformat": 4,
 "nbformat_minor": 5
}
