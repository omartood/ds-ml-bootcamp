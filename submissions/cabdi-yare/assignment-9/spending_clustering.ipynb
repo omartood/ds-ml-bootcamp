{
 "cells": [
  {
   "cell_type": "code",
   "execution_count": 41,
   "id": "7b49571e-ebfe-4b82-9e74-36b03cc89ec3",
   "metadata": {},
   "outputs": [],
   "source": [
    "import warnings \n",
    "warnings.filterwarnings(\"ignore\")"
   ]
  },
  {
   "cell_type": "code",
   "execution_count": 42,
   "id": "09e64bfb-a5b2-47ef-ae5d-d5eba6fc5b44",
   "metadata": {},
   "outputs": [],
   "source": [
    "import pandas as pd\n",
    "import numpy as np\n",
    "from sklearn.preprocessing import StandardScaler\n",
    "from sklearn.cluster import KMeans\n",
    "from sklearn.metrics import silhouette_score, davies_bouldin_score\n"
   ]
  },
  {
   "cell_type": "code",
   "execution_count": 43,
   "id": "c5ddd524-dd8d-47c8-8ea8-0ed9d03eae9f",
   "metadata": {},
   "outputs": [
    {
     "name": "stdout",
     "output_type": "stream",
     "text": [
      "\n",
      "=== INITIAL SNAPSHOT ===\n",
      "   CustomerID  Age  Income_$  SpendingScore  VisitsPerMonth  OnlinePurchases  \\\n",
      "0           1   28        33             78              14                9   \n",
      "1           2   21        25             87               8               23   \n",
      "2           3   23        24             88              13               10   \n",
      "3           4   24        25             73              16               11   \n",
      "4           5   20        23             88              17               16   \n",
      "\n",
      "   Gender Region  \n",
      "0  Female   East  \n",
      "1    Male  North  \n",
      "2    Male  South  \n",
      "3  Female   West  \n",
      "4    Male   West  \n"
     ]
    }
   ],
   "source": [
    "# --------------------------------\n",
    "# 1) Load dataset\n",
    "# --------------------------------\n",
    "CSV_PATH = \"customers_l9_dataset.csv\"\n",
    "df = pd.read_csv(CSV_PATH)\n",
    "print(\"\\n=== INITIAL SNAPSHOT ===\")\n",
    "print(df.head())\n"
   ]
  },
  {
   "cell_type": "code",
   "execution_count": 44,
   "id": "53a8c49c-7cc7-4246-8009-bbc4fc900642",
   "metadata": {},
   "outputs": [],
   "source": [
    "# Rename for consistency\n",
    "df = df.rename(columns={\"Annual Income ($)\": \"Income_$\", \"Spending Score (1-100)\": \"SpendingScore\"})"
   ]
  },
  {
   "cell_type": "code",
   "execution_count": 45,
   "id": "dc5e059f-3302-4aad-a469-b7dc0044b185",
   "metadata": {},
   "outputs": [],
   "source": [
    "# 2. Prepare Features\n",
    "features = [\"Income_$\", \"SpendingScore\"]\n",
    "X = df[features]\n"
   ]
  },
  {
   "cell_type": "code",
   "execution_count": 46,
   "id": "2eaa42a4-436f-4734-9732-cd40cea0e5bc",
   "metadata": {},
   "outputs": [],
   "source": [
    "# Handle missing numeric values (median)\n",
    "X = X.fillna(X.median())"
   ]
  },
  {
   "cell_type": "code",
   "execution_count": 47,
   "id": "be796df4-402a-47fa-a814-43b33dd391ba",
   "metadata": {},
   "outputs": [],
   "source": [
    "# Scale features\n",
    "scaler = StandardScaler()\n",
    "X_scaled = scaler.fit_transform(X)\n"
   ]
  },
  {
   "cell_type": "code",
   "execution_count": 48,
   "id": "dfb23333-07a4-4aa8-9857-ecc3d94958d7",
   "metadata": {},
   "outputs": [
    {
     "name": "stdout",
     "output_type": "stream",
     "text": [
      "=== ELBOW CHECK (SSE) ===\n",
      "k=1 -> SSE=400.00\n",
      "k=2 -> SSE=199.70\n",
      "k=3 -> SSE=77.01\n",
      "k=4 -> SSE=21.37\n",
      "k=5 -> SSE=17.93\n",
      "k=6 -> SSE=15.65\n",
      "k=7 -> SSE=13.88\n",
      "k=8 -> SSE=12.45\n",
      "k=9 -> SSE=11.06\n"
     ]
    }
   ],
   "source": [
    "# 3. Elbow Check (SSE)\n",
    "print(\"=== ELBOW CHECK (SSE) ===\")\n",
    "sse = []\n",
    "for k in range(1, 10):\n",
    "    kmeans = KMeans(n_clusters=k, random_state=42, n_init=10)\n",
    "    kmeans.fit(X_scaled)\n",
    "    sse.append(kmeans.inertia_)\n",
    "    print(f\"k={k} -> SSE={kmeans.inertia_:.2f}\")"
   ]
  },
  {
   "cell_type": "code",
   "execution_count": null,
   "id": "eb39d263-8f2f-458a-942e-aed2899482aa",
   "metadata": {},
   "outputs": [
    {
     "name": "stdout",
     "output_type": "stream",
     "text": [
      "\n",
      "=== TRAINING FINAL MODEL WITH K= ===\n"
     ]
    }
   ],
   "source": [
    "# 4. Choosen K\n",
    "k = 4\n",
    "print(f\"\\n=== TRAINING FINAL MODEL WITH K= ===\")\n",
    "kmeans = KMeans(n_clusters=4, random_state=42, n_init='auto')\n",
    "labels = kmeans.fit_predict(X_scaled)\n"
   ]
  },
  {
   "cell_type": "code",
   "execution_count": 50,
   "id": "4da69314-4158-43f4-8fe2-6fbedde80773",
   "metadata": {},
   "outputs": [],
   "source": [
    "# Add cluster column\n",
    "df[\"Cluster\"] = labels.astype(int)"
   ]
  },
  {
   "cell_type": "code",
   "execution_count": 51,
   "id": "7134d8f8-86cd-453e-94b2-d14d0ec0d538",
   "metadata": {},
   "outputs": [
    {
     "name": "stdout",
     "output_type": "stream",
     "text": [
      "\n",
      "Silhouette Score : 0.729\n",
      "Davies-Bouldin: 0.387\n"
     ]
    }
   ],
   "source": [
    "# 5. Evaluate Clustering\n",
    "sil_score = silhouette_score(X_scaled, labels)\n",
    "dbi_score = davies_bouldin_score(X_scaled, labels)\n",
    "print(f\"\\nSilhouette Score : {sil_score:.3f}\")\n",
    "print(f\"Davies-Bouldin: {dbi_score:.3f}\")\n"
   ]
  },
  {
   "cell_type": "code",
   "execution_count": 52,
   "id": "bb590170-4e72-4eff-8c20-c78795fdf892",
   "metadata": {},
   "outputs": [
    {
     "name": "stdout",
     "output_type": "stream",
     "text": [
      "\n",
      "=== CLUSTER CENTERS (Original Units) ===\n",
      "         Income_$  SpendingScore\n",
      "Cluster                         \n",
      "0           56.32          53.58\n",
      "1           28.92          19.60\n",
      "2           24.14          83.10\n",
      "3           99.16          79.24\n"
     ]
    }
   ],
   "source": [
    "# 6. Cluster Centers (Original Units)\n",
    "centers_scaled = kmeans.cluster_centers_\n",
    "centers_original = scaler.inverse_transform(centers_scaled)\n",
    "centers_df = pd.DataFrame(centers_original, columns=features)\n",
    "centers_df.index.name = \"Cluster\"\n",
    "print(\"\\n=== CLUSTER CENTERS (Original Units) ===\")\n",
    "print(centers_df.round(2))"
   ]
  },
  {
   "cell_type": "code",
   "execution_count": 53,
   "id": "cdf3689b-3676-43f7-8a3d-25f827f11b81",
   "metadata": {},
   "outputs": [
    {
     "name": "stdout",
     "output_type": "stream",
     "text": [
      "\n",
      "=== SAMPLE ROWS WITH CLUSTERS ===\n",
      "     Income_$  SpendingScore  Cluster\n",
      "111        24             26        1\n",
      "71         59             43        0\n",
      "140        27             21        1\n"
     ]
    }
   ],
   "source": [
    "# 7. Sanity Check: Print 3 Sample Rows\n",
    "print(\"\\n=== SAMPLE ROWS WITH CLUSTERS ===\")\n",
    "print(df.sample(3)[[\"Income_$\", \"SpendingScore\", \"Cluster\"]])"
   ]
  },
  {
   "cell_type": "code",
   "execution_count": 54,
   "id": "6eb92e05-2c40-46ea-9e92-b0ab71fdc4c6",
   "metadata": {},
   "outputs": [
    {
     "name": "stdout",
     "output_type": "stream",
     "text": [
      "     CustomerID  Age  Income_$  SpendingScore  VisitsPerMonth  \\\n",
      "0             1   28        33             78              14   \n",
      "1             2   21        25             87               8   \n",
      "2             3   23        24             88              13   \n",
      "3             4   24        25             73              16   \n",
      "4             5   20        23             88              17   \n",
      "..          ...  ...       ...            ...             ...   \n",
      "195         196   35       112             76              18   \n",
      "196         197   40       115             87              17   \n",
      "197         198   38        86             73              15   \n",
      "198         199   36       105             72              10   \n",
      "199         200   41       115             95              15   \n",
      "\n",
      "     OnlinePurchases  Gender Region  Cluster  \n",
      "0                  9  Female   East        2  \n",
      "1                 23    Male  North        2  \n",
      "2                 10    Male  South        2  \n",
      "3                 11  Female   West        2  \n",
      "4                 16    Male   West        2  \n",
      "..               ...     ...    ...      ...  \n",
      "195               22    Male   West        3  \n",
      "196               24    Male  North        3  \n",
      "197               20  Female   West        3  \n",
      "198               19  Female  North        3  \n",
      "199               19    Male   East        3  \n",
      "\n",
      "[200 rows x 9 columns]\n"
     ]
    }
   ],
   "source": [
    "# 8. Save Output\n",
    "df.to_csv(\"spending_labeled_clusters.csv\", index=False)\n",
    "print(df)"
   ]
  },
  {
   "cell_type": "code",
   "execution_count": null,
   "id": "84677e0d-a40f-4594-849c-df5010bb18c1",
   "metadata": {},
   "outputs": [],
   "source": []
  }
 ],
 "metadata": {
  "kernelspec": {
   "display_name": "base",
   "language": "python",
   "name": "python3"
  },
  "language_info": {
   "codemirror_mode": {
    "name": "ipython",
    "version": 3
   },
   "file_extension": ".py",
   "mimetype": "text/x-python",
   "name": "python",
   "nbconvert_exporter": "python",
   "pygments_lexer": "ipython3",
   "version": "3.13.5"
  }
 },
 "nbformat": 4,
 "nbformat_minor": 5
}
