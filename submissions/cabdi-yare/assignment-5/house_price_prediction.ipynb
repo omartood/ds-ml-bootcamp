{
 "cells": [
  {
   "cell_type": "code",
   "execution_count": 19,
   "id": "72593393-c97e-4e61-9057-dd28fd73b308",
   "metadata": {},
   "outputs": [],
   "source": [
    "# ===============================\n",
    "# House Price Prediction (assignment-5 )\n",
    "# - Linear Regression & Random Forest\n",
    "# - Using Cleaned Dataset\n",
    "# ===============================\n"
   ]
  },
  {
   "cell_type": "code",
   "execution_count": 20,
   "id": "afd97759-868a-4366-b909-24c65b3b653e",
   "metadata": {},
   "outputs": [],
   "source": [
    "import pandas as pd\n",
    "import numpy as np\n",
    "from sklearn.model_selection import train_test_split\n",
    "from sklearn.linear_model import LinearRegression\n",
    "from sklearn.ensemble import RandomForestRegressor\n",
    "from sklearn.metrics import r2_score, mean_absolute_error, mean_squared_error\n"
   ]
  },
  {
   "cell_type": "code",
   "execution_count": 22,
   "id": "6bceaa68-704e-4dc2-b756-475168d65f14",
   "metadata": {},
   "outputs": [
    {
     "name": "stdout",
     "output_type": "stream",
     "text": [
      " Dataset Loaded! Shape: (99, 13)\n"
     ]
    }
   ],
   "source": [
    "# 1) Load Dataset\n",
    "CSV_PATH = \"clean_house_l5_dataset.csv\" \n",
    "df = pd.read_csv(CSV_PATH)\n",
    "print(\" Dataset Loaded! Shape:\", df.shape)\n"
   ]
  },
  {
   "cell_type": "code",
   "execution_count": 23,
   "id": "74d0f2d5-31ee-4163-b2b4-c5c747eb1c51",
   "metadata": {},
   "outputs": [],
   "source": [
    "# 2) Prepare Features (X) and Target (y)\n",
    "X = df.drop(columns=[\"Price\", \"LogPrice\"])\n",
    "y = df[\"Price\"]\n",
    "\n"
   ]
  },
  {
   "cell_type": "code",
   "execution_count": 32,
   "id": "fff29225-3f00-40a3-a5a9-2bd9f56dfe20",
   "metadata": {},
   "outputs": [],
   "source": [
    "\n",
    "# 3) Train-Test Split\n",
    "X_train, X_test, y_train, y_test = train_test_split(\n",
    "    X, y, test_size=0.2, random_state=42\n",
    ")\n"
   ]
  },
  {
   "cell_type": "code",
   "execution_count": null,
   "id": "3e50b678-233c-4a9a-9120-503455128b11",
   "metadata": {},
   "outputs": [],
   "source": [
    "# 4) Helper to print metrics nicely\n",
    "def evaluate_model(name, model, X_test, y_test):\n",
    "    y_pred = model.predict(X_test)\n",
    "    r2 = r2_score(y_test, y_pred)\n",
    "    mae = mean_absolute_error(y_test, y_pred)\n",
    "    mse = mean_squared_error(y_test, y_pred)\n",
    "    rmse = np.sqrt(mse)\n",
    "\n",
    "    print(f\"\\n{name} Performance:\")\n",
    "    print(f\"  R²   : {r2:.3f}\")\n",
    "    print(f\"  MAE  : {mae:,.0f}\")\n",
    "    print(f\"  MSE  : {mse:,.0f}\")\n",
    "    print(f\"  RMSE : {rmse:,.0f}\")\n",
    "    return y_pred\n"
   ]
  },
  {
   "cell_type": "code",
   "execution_count": null,
   "id": "4f0d6c61-7f29-42d3-b275-c19183b28e60",
   "metadata": {},
   "outputs": [
    {
     "name": "stdout",
     "output_type": "stream",
     "text": [
      "\n",
      "Linear Regression Performance:\n",
      "  R²   : 0.848\n",
      "  MAE  : 63,086\n",
      "  MSE  : 5,718,940,941\n",
      "  RMSE : 75,624\n"
     ]
    }
   ],
   "source": [
    "# 5) Train Linear Regression\n",
    "lr = LinearRegression()\n",
    "lr.fit(X_train, y_train)\n",
    "lr_preds = evaluate_model(\"Linear Regression\", lr, X_test, y_test)\n"
   ]
  },
  {
   "cell_type": "code",
   "execution_count": 39,
   "id": "cad5fdc9-80f2-48d6-9583-d9907ed9d980",
   "metadata": {},
   "outputs": [
    {
     "name": "stdout",
     "output_type": "stream",
     "text": [
      "\n",
      "Random Forest Performance:\n",
      "  R²   : 0.859\n",
      "  MAE  : 52,524\n",
      "  MSE  : 5,283,317,455\n",
      "  RMSE : 72,686\n"
     ]
    }
   ],
   "source": [
    "# 6) Train Random Forest\n",
    "rf = RandomForestRegressor(n_estimators=100, random_state=42)\n",
    "rf.fit(X_train, y_train)\n",
    "rf_preds = evaluate_model(\"Random Forest\", rf, X_test, y_test)\n"
   ]
  },
  {
   "cell_type": "code",
   "execution_count": null,
   "id": "61b290a0-7c1e-49c6-9845-ee74789d9bf3",
   "metadata": {},
   "outputs": [
    {
     "name": "stdout",
     "output_type": "stream",
     "text": [
      "\n",
      "Single-row sanity check:\n",
      "  Actual Price: $554,800\n",
      "  LR Pred     : $594,041\n",
      "  RF Pred     : $557,028\n"
     ]
    }
   ],
   "source": [
    "# 7) Compare Rows Sanity Check\n",
    "i = 3 \n",
    "row = X_test.iloc[[i]]\n",
    "actual_price = y_test.iloc[i]\n",
    "lr_price = lr.predict(row)[0]\n",
    "rf_price = rf.predict(row)[0]\n",
    "\n",
    "print(\"\\nSingle-row sanity check:\")\n",
    "print(f\"  Actual Price: ${actual_price:,.0f}\")\n",
    "print(f\"  LR Pred     : ${lr_price:,.0f}\")\n",
    "print(f\"  RF Pred     : ${rf_price:,.0f}\")"
   ]
  },
  {
   "cell_type": "code",
   "execution_count": null,
   "id": "c8e78ba2-7749-4a51-8b3c-437b2ddb9cd1",
   "metadata": {},
   "outputs": [
    {
     "name": "stdout",
     "output_type": "stream",
     "text": [
      "\n",
      "Single-row sanity check:\n",
      "  Actual Price: $743,700\n",
      "  LR Pred     : $727,107\n",
      "  RF Pred     : $724,944\n"
     ]
    }
   ],
   "source": [
    "# ) Compare Rows Sanity Check\n",
    "i = 7  \n",
    "row = X_test.iloc[[i]]\n",
    "actual_price = y_test.iloc[i]\n",
    "lr_price = lr.predict(row)[0]\n",
    "rf_price = rf.predict(row)[0]\n",
    "\n",
    "print(\"\\nSingle-row sanity check:\")\n",
    "print(f\"  Actual Price: ${actual_price:,.0f}\")\n",
    "print(f\"  LR Pred     : ${lr_price:,.0f}\")\n",
    "print(f\"  RF Pred     : ${rf_price:,.0f}\")"
   ]
  },
  {
   "cell_type": "code",
   "execution_count": null,
   "id": "cdfe4c86-50ba-4b0e-b910-71866863886b",
   "metadata": {},
   "outputs": [
    {
     "name": "stdout",
     "output_type": "stream",
     "text": [
      "\n",
      "Single-row sanity check:\n",
      "  Actual Price: $366,000\n",
      "  LR Pred     : $299,971\n",
      "  RF Pred     : $311,571\n"
     ]
    }
   ],
   "source": [
    "# ) Single Row Sanity Check\n",
    "i = 10 \n",
    "row = X_test.iloc[[i]]\n",
    "actual_price = y_test.iloc[i]\n",
    "lr_price = lr.predict(row)[0]\n",
    "rf_price = rf.predict(row)[0]\n",
    "\n",
    "print(\"\\nSingle-row sanity check:\")\n",
    "print(f\"  Actual Price: ${actual_price:,.0f}\")\n",
    "print(f\"  LR Pred     : ${lr_price:,.0f}\")\n",
    "print(f\"  RF Pred     : ${rf_price:,.0f}\")"
   ]
  },
  {
   "cell_type": "code",
   "execution_count": null,
   "id": "144156a8-5a39-4f9b-a7f5-d5e650554566",
   "metadata": {},
   "outputs": [
    {
     "name": "stdout",
     "output_type": "stream",
     "text": [
      "\n",
      "Single-row sanity check:\n",
      "  Actual Price: $806,000\n",
      "  LR Pred     : $747,846\n",
      "  RF Pred     : $779,024\n"
     ]
    }
   ],
   "source": [
    "# ) Single Row Sanity Check\n",
    "i = 15 \n",
    "row = X_test.iloc[[i]]\n",
    "actual_price = y_test.iloc[i]\n",
    "lr_price = lr.predict(row)[0]\n",
    "rf_price = rf.predict(row)[0]\n",
    "\n",
    "print(\"\\nSingle-row sanity check:\")\n",
    "print(f\"  Actual Price: ${actual_price:,.0f}\")\n",
    "print(f\"  LR Pred     : ${lr_price:,.0f}\")\n",
    "print(f\"  RF Pred     : ${rf_price:,.0f}\")"
   ]
  },
  {
   "cell_type": "code",
   "execution_count": null,
   "id": "86b856f6-6b2f-4584-a64a-8b75998d34ed",
   "metadata": {},
   "outputs": [],
   "source": []
  }
 ],
 "metadata": {
  "kernelspec": {
   "display_name": "Python 3 (ipykernel)",
   "language": "python",
   "name": "python3"
  },
  "language_info": {
   "codemirror_mode": {
    "name": "ipython",
    "version": 3
   },
   "file_extension": ".py",
   "mimetype": "text/x-python",
   "name": "python",
   "nbconvert_exporter": "python",
   "pygments_lexer": "ipython3",
   "version": "3.13.5"
  }
 },
 "nbformat": 4,
 "nbformat_minor": 5
}
