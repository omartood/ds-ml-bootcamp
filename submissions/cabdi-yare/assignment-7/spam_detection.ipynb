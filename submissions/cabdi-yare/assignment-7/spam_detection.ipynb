{
 "cells": [
  {
   "cell_type": "code",
   "execution_count": 139,
   "id": "f954f666-d5cc-4338-a14a-510423f8666a",
   "metadata": {},
   "outputs": [],
   "source": [
    "#  Imports\n",
    "\n",
    "import numpy as np\n",
    "import pandas as pd\n",
    "import matplotlib.pyplot as plt\n",
    "\n",
    "from sklearn.model_selection import train_test_split\n",
    "from sklearn.feature_extraction.text import TfidfVectorizer\n",
    "\n",
    "from sklearn.linear_model import LogisticRegression\n",
    "from sklearn.ensemble import RandomForestClassifier\n",
    "from sklearn.naive_bayes import MultinomialNB\n",
    "\n",
    "from sklearn.metrics import (\n",
    "    accuracy_score, precision_score, recall_score, f1_score, confusion_matrix\n",
    ")\n",
    "\n",
    "RANDOM_STATE = 42  # reproducibility\n",
    "\n"
   ]
  },
  {
   "cell_type": "code",
   "execution_count": 140,
   "id": "0729716f-96d5-4bec-bf27-419974d8c102",
   "metadata": {},
   "outputs": [],
   "source": [
    "# --------------------------------\n",
    "# 1) Load the dataset\n",
    "# --------------------------------\n",
    "# Expected columns: \"Category\" (ham/spam) \"Message\" (Text)\n",
    "df = pd.read_csv(\"mail_l7_dataset.csv\")\n",
    "\n",
    "# Basic cleaning: replace NaNs with empty strings (text models can't handle NaN)\n",
    "df = df.fillna(\"\")\n",
    "# Encode Labels: spam -> 0, ham -> 1\n",
    "df.loc[df[\"Category\"].str.lower().str.strip() == \"spam\", \"Category\"] = 0\n",
    "df.loc[df[\"Category\"].str.lower().str.strip() == \"ham\",  \"Category\"] = 1\n",
    "\n"
   ]
  },
  {
   "cell_type": "code",
   "execution_count": 141,
   "id": "ce96db23-fc84-48c2-a987-7449e56ff4b8",
   "metadata": {},
   "outputs": [
    {
     "name": "stdout",
     "output_type": "stream",
     "text": [
      "  Category                                            Message\n",
      "0        1  Go until jurong point, crazy.. Available only ...\n",
      "1        1                      Ok lar... Joking wif u oni...\n",
      "2        0  Free entry in 2 a wkly comp to win FA Cup fina...\n",
      "3        1  U dun say so early hor... U c already then say...\n",
      "4        1  Nah I don't think he goes to usf, he lives aro...\n"
     ]
    }
   ],
   "source": [
    "# --------------------------------\n",
    "# 2) Split features (X) and target (y)\n",
    "# --------------------------------\n",
    "X = df[\"Message\"].astype(str)\n",
    "y = df[\"Category\"].astype(int)\n",
    "\n",
    "print(df.head())"
   ]
  },
  {
   "cell_type": "code",
   "execution_count": 128,
   "id": "92e06db5-f29d-4722-8f3f-5907ee04236a",
   "metadata": {},
   "outputs": [],
   "source": [
    "# --------------------------------\n",
    "# 3) Train/Test Split\n",
    "# --------------------------------\n",
    "X_train, X_test, y_train, y_test = train_test_split(\n",
    "    X, y, test_size=0.2, random_state=RANDOM_STATE\n",
    ")\n",
    "\n"
   ]
  },
  {
   "cell_type": "code",
   "execution_count": 129,
   "id": "9a59eac0-14da-49e8-9c4b-37a16edd7a72",
   "metadata": {},
   "outputs": [],
   "source": [
    "# --------------------------------\n",
    "# 4) Text → TF-IDF features \n",
    "# --------------------------------\n",
    "tfidf = TfidfVectorizer(min_df=1, stop_words=\"english\", lowercase=True)\n",
    "X_train_features = tfidf.fit_transform(X_train)\n",
    "X_test_features  = tfidf.transform(X_test)\n",
    "\n"
   ]
  },
  {
   "cell_type": "code",
   "execution_count": 130,
   "id": "501277cb-a0ef-47da-80f2-50ed8089e8c5",
   "metadata": {},
   "outputs": [],
   "source": [
    "# --------------------------------\n",
    "# 5) Train Logistic Regression (baseline)\n",
    "# --------------------------------\n",
    "lr = LogisticRegression(max_iter=1000, random_state=RANDOM_STATE)\n",
    "lr.fit(X_train_features, y_train)\n",
    "lr_pred = lr.predict(X_test_features)\n"
   ]
  },
  {
   "cell_type": "code",
   "execution_count": 142,
   "id": "c1b945bb-5a01-4338-afda-e71815fd4f68",
   "metadata": {},
   "outputs": [],
   "source": [
    "# --------------------------------\n",
    "# 6) Train Random Forest (convert TF-IDF to dense for tree models)\n",
    "# --------------------------------\n",
    "rf = RandomForestClassifier(n_estimators=200, random_state=RANDOM_STATE)\n",
    "rf.fit(X_train_features.toarray(), y_train)  # convert to dense\n",
    "rf_pred = rf.predict(X_test_features.toarray())\n",
    "\n"
   ]
  },
  {
   "cell_type": "code",
   "execution_count": 136,
   "id": "b48f21b7-61bc-49a5-b85b-01fa5d80437d",
   "metadata": {},
   "outputs": [],
   "source": [
    "# --------------------------------\n",
    "# 7) Train Naive Bayes\n",
    "# --------------------------------\n",
    "nb = MultinomialNB()\n",
    "nb.fit(X_train_features, y_train)\n",
    "nb_pred = nb.predict(X_test_features)\n",
    "\n"
   ]
  },
  {
   "cell_type": "code",
   "execution_count": 143,
   "id": "ce9cc567-718f-46b4-a0c2-c386f292bf0c",
   "metadata": {},
   "outputs": [],
   "source": [
    "# --------------------------------\n",
    "# 8) Helper functions: metrics + confusion matrix\n",
    "# --------------------------------\n",
    "def print_clf_metrics(name, y_true, y_pred, pos_label=0):\n",
    "    acc  = accuracy_score(y_true, y_pred)\n",
    "    prec = precision_score(y_true, y_pred, pos_label=pos_label)\n",
    "    rec  = recall_score(y_true, y_pred, pos_label=pos_label)\n",
    "    f1   = f1_score(y_true, y_pred, pos_label=pos_label)\n",
    "    print(f\"\\n{name} Performance:\")\n",
    "    print(f\"  Accuracy : {acc:.3f}\")\n",
    "    print(f\"  Precision: {prec:.3f}  (positive = spam=0)\")\n",
    "    print(f\"  Recall   : {rec:.3f}  (positive = spam=0)\")\n",
    "    print(f\"  F1-Score : {f1:.3f}  (positive = spam=0)\")\n",
    "\n",
    "def print_confmat(name, y_true, y_pred):\n",
    "    cm = confusion_matrix(y_true, y_pred, labels=[1,0])\n",
    "    cm_df = pd.DataFrame(\n",
    "        cm,\n",
    "        index=[\"Actual: Ham (1)\", \"Actual: Spam (0)\"],\n",
    "        columns=[\"Pred: Ham (1)\", \"Pred: Spam (0)\"]\n",
    "    )\n",
    "    print(f\"\\n{name} – Confusion Matrix:\\n{cm_df}\")\n",
    "\n",
    "    \n",
    "\n"
   ]
  },
  {
   "cell_type": "code",
   "execution_count": 144,
   "id": "26ad816b-460a-4661-bef0-77e3e9dbb4c7",
   "metadata": {},
   "outputs": [
    {
     "name": "stdout",
     "output_type": "stream",
     "text": [
      "\n",
      "Logistic Regression Performance:\n",
      "  Accuracy : 0.968\n",
      "  Precision: 1.000  (positive = spam=0)\n",
      "  Recall   : 0.758  (positive = spam=0)\n",
      "  F1-Score : 0.863  (positive = spam=0)\n",
      "\n",
      "Logistic Regression – Confusion Matrix:\n",
      "                  Pred: Ham (1)  Pred: Spam (0)\n",
      "Actual: Ham (1)             966               0\n",
      "Actual: Spam (0)             36             113\n",
      "\n",
      "Random Forest Performance:\n",
      "  Accuracy : 0.983\n",
      "  Precision: 1.000  (positive = spam=0)\n",
      "  Recall   : 0.872  (positive = spam=0)\n",
      "  F1-Score : 0.932  (positive = spam=0)\n",
      "\n",
      "Random Forest – Confusion Matrix:\n",
      "                  Pred: Ham (1)  Pred: Spam (0)\n",
      "Actual: Ham (1)             966               0\n",
      "Actual: Spam (0)             19             130\n",
      "\n",
      "Naive Bayes Performance:\n",
      "  Accuracy : 0.977\n",
      "  Precision: 1.000  (positive = spam=0)\n",
      "  Recall   : 0.826  (positive = spam=0)\n",
      "  F1-Score : 0.904  (positive = spam=0)\n",
      "\n",
      "Naive Bayes – Confusion Matrix:\n",
      "                  Pred: Ham (1)  Pred: Spam (0)\n",
      "Actual: Ham (1)             966               0\n",
      "Actual: Spam (0)             26             123\n"
     ]
    }
   ],
   "source": [
    "# --------------------------------\n",
    "# 9) Show results for all models\n",
    "# --------------------------------\n",
    "for model_name, y_pred in [(\"Logistic Regression\", lr_pred),\n",
    "                           (\"Random Forest\", rf_pred),\n",
    "                           (\"Naive Bayes\", nb_pred)]:\n",
    "    print_clf_metrics(model_name, y_test, y_pred, pos_label=0)\n",
    "    print_confmat(model_name, y_test, y_pred)\n",
    "\n"
   ]
  },
  {
   "cell_type": "code",
   "execution_count": 145,
   "id": "44d78e68-07fe-4650-b129-c97dfad5ec48",
   "metadata": {},
   "outputs": [],
   "source": [
    "# --------------------------------\n",
    "# 10) Sanity check – 3 sample messages\n",
    "# --------------------------------\n",
    "samples = [\n",
    "    \"Free entry in 2 a weekly competition!\",\n",
    "    \"I will meet you at the cafe tomorrow\",\n",
    "    \"Congratulations, you won a free ticket\"\n",
    "]\n",
    "\n"
   ]
  },
  {
   "cell_type": "code",
   "execution_count": 146,
   "id": "dd4ed2bb-16a7-4e92-9f46-175ffc6a02e9",
   "metadata": {},
   "outputs": [
    {
     "name": "stdout",
     "output_type": "stream",
     "text": [
      "\n",
      "Text: Free entry in 2 a weekly competition!\n",
      "LR Prediction : Ham\n",
      "RF Prediction : Ham\n",
      "NB Prediction : Spam\n",
      "\n",
      "Text: I will meet you at the cafe tomorrow\n",
      "LR Prediction : Ham\n",
      "RF Prediction : Ham\n",
      "NB Prediction : Ham\n",
      "\n",
      "Text: Congratulations, you won a free ticket\n",
      "LR Prediction : Ham\n",
      "RF Prediction : Ham\n",
      "NB Prediction : Ham\n"
     ]
    }
   ],
   "source": [
    "for text in samples:\n",
    "    lr_p = lr.predict(tfidf.transform([text]))[0]\n",
    "    rf_p = rf.predict(tfidf.transform([text]).toarray())[0]\n",
    "    nb_p = nb.predict(tfidf.transform([text]))[0]\n",
    "    print(f\"\\nText: {text}\")\n",
    "    print(f\"LR Prediction : {'Spam' if lr_p==0 else 'Ham'}\")\n",
    "    print(f\"RF Prediction : {'Spam' if rf_p==0 else 'Ham'}\")\n",
    "    print(f\"NB Prediction : {'Spam' if nb_p==0 else 'Ham'}\")\n",
    "\n"
   ]
  },
  {
   "cell_type": "code",
   "execution_count": null,
   "id": "7a6e792f-9621-420d-a027-a18990d91635",
   "metadata": {},
   "outputs": [],
   "source": []
  }
 ],
 "metadata": {
  "kernelspec": {
   "display_name": "base",
   "language": "python",
   "name": "python3"
  },
  "language_info": {
   "codemirror_mode": {
    "name": "ipython",
    "version": 3
   },
   "file_extension": ".py",
   "mimetype": "text/x-python",
   "name": "python",
   "nbconvert_exporter": "python",
   "pygments_lexer": "ipython3",
   "version": "3.13.5"
  }
 },
 "nbformat": 4,
 "nbformat_minor": 5
}
