{
 "cells": [
  {
   "cell_type": "code",
   "execution_count": 1,
   "id": "30c596cc-b2f2-41eb-93f8-c642f3d65b00",
   "metadata": {},
   "outputs": [],
   "source": [
    "import pandas as pd\n",
    "import numpy as np\n",
    "\n",
    "from sklearn.model_selection import train_test_split\n",
    "from sklearn.linear_model import LinearRegression\n",
    "from sklearn.ensemble import RandomForestRegressor\n",
    "from sklearn.metrics import mean_absolute_error, mean_squared_error, r2_score\n"
   ]
  },
  {
   "cell_type": "code",
   "execution_count": 2,
   "id": "015ffb5f-978d-45bf-a048-7862db828437",
   "metadata": {},
   "outputs": [],
   "source": [
    "CSV_PATH = \"clean_house_dataset.csv\"\n",
    "df = pd.read_csv(CSV_PATH)\n"
   ]
  },
  {
   "cell_type": "code",
   "execution_count": 11,
   "id": "444a1b61-cf63-4880-b1d6-910759e82341",
   "metadata": {},
   "outputs": [
    {
     "name": "stdout",
     "output_type": "stream",
     "text": [
      "----Dataset Snapshot---\n",
      "   Size_sqft  Bedrooms  Bathrooms  YearBuilt     Price  Location_City  \\\n",
      "0   1.030281 -1.463643   0.088986  -1.279342  812100.0              1   \n",
      "1  -0.482463 -1.463643   1.347506   1.326476  547000.0              1   \n",
      "2   0.468877  0.007430  -1.169534  -1.339942  693700.0              1   \n",
      "3   1.079817  0.742966   1.347506  -0.915740  848300.0              1   \n",
      "4   0.788954  1.478502  -1.169534   0.962873  806000.0              0   \n",
      "\n",
      "   Location_Rural  Location_Suburb  HouseAge  Rooms_per_1000sqft  \\\n",
      "0               0                0  1.279342           -1.061465   \n",
      "1               0                0 -1.326476           -0.265637   \n",
      "2               0                0  1.339942           -0.689547   \n",
      "3               0                0  0.915740           -0.199111   \n",
      "4               0                1 -0.962873           -0.311002   \n",
      "\n",
      "   Size_per_Bedroom  Is_City   LogPrice  \n",
      "0          3.123085        1  13.607380  \n",
      "1          1.309520        1  13.212206  \n",
      "2         -0.163970        1  13.449796  \n",
      "3         -0.307614        1  13.650991  \n",
      "4         -0.610027        0  13.599840  \n",
      "<class 'pandas.core.frame.DataFrame'>\n",
      "RangeIndex: 99 entries, 0 to 98\n",
      "Data columns (total 13 columns):\n",
      " #   Column              Non-Null Count  Dtype  \n",
      "---  ------              --------------  -----  \n",
      " 0   Size_sqft           99 non-null     float64\n",
      " 1   Bedrooms            99 non-null     float64\n",
      " 2   Bathrooms           99 non-null     float64\n",
      " 3   YearBuilt           99 non-null     float64\n",
      " 4   Price               99 non-null     float64\n",
      " 5   Location_City       99 non-null     int64  \n",
      " 6   Location_Rural      99 non-null     int64  \n",
      " 7   Location_Suburb     99 non-null     int64  \n",
      " 8   HouseAge            99 non-null     float64\n",
      " 9   Rooms_per_1000sqft  99 non-null     float64\n",
      " 10  Size_per_Bedroom    99 non-null     float64\n",
      " 11  Is_City             99 non-null     int64  \n",
      " 12  LogPrice            99 non-null     float64\n",
      "dtypes: float64(9), int64(4)\n",
      "memory usage: 10.2 KB\n",
      "None\n"
     ]
    }
   ],
   "source": [
    "print(\"----Dataset Snapshot---\")\n",
    "print(df.head())\n",
    "print(df.info())"
   ]
  },
  {
   "cell_type": "code",
   "execution_count": 4,
   "id": "cef96fdd-6976-48fb-920d-6a70149323db",
   "metadata": {},
   "outputs": [],
   "source": [
    "X = df.drop(columns=[\"Price\", \"LogPrice\"])\n",
    "y = df[\"Price\"]"
   ]
  },
  {
   "cell_type": "code",
   "execution_count": 5,
   "id": "56b3ee02-5c0c-44c7-9fa7-91bdcbf824b0",
   "metadata": {},
   "outputs": [],
   "source": [
    "X_train, X_test, y_train, y_test = train_test_split(\n",
    "    X, y, test_size=0.2, random_state=42\n",
    ")"
   ]
  },
  {
   "cell_type": "code",
   "execution_count": 6,
   "id": "186f4851-d6dc-42d1-9bbf-114aa36a0942",
   "metadata": {},
   "outputs": [],
   "source": [
    "lr = LinearRegression()\n",
    "lr.fit(X_train, y_train)\n",
    "lr_pred = lr.predict(X_test)\n",
    "\n",
    "rf = RandomForestRegressor(n_estimators=100, random_state=42)\n",
    "rf.fit(X_train, y_train)\n",
    "rf_pred = rf.predict(X_test)"
   ]
  },
  {
   "cell_type": "code",
   "execution_count": 7,
   "id": "dc60489a-6180-4a32-84a9-747a6e29b069",
   "metadata": {},
   "outputs": [],
   "source": [
    "def print_metrics(name, y_true, y_pred):\n",
    "    r2  = r2_score(y_true, y_pred)\n",
    "    mae = mean_absolute_error(y_true, y_pred)\n",
    "    mse = mean_squared_error(y_true, y_pred)\n",
    "    rmse = np.sqrt(mse)\n",
    "    print(f\"\\n{name} Performance:\")\n",
    "    print(f\"  R2   : {r2:.3f}\")\n",
    "    print(f\"  MAE  : {mae:,.0f}\")\n",
    "    print(f\"  MSE  : {mse:,.0f}\")\n",
    "    print(f\"  RMSE : {rmse:,.0f}\")\n"
   ]
  },
  {
   "cell_type": "code",
   "execution_count": 8,
   "id": "7f28e5b0-69d7-449e-ba44-2d9cdc6bef9b",
   "metadata": {},
   "outputs": [
    {
     "name": "stdout",
     "output_type": "stream",
     "text": [
      "\n",
      "Linear Regression Performance:\n",
      "  R2   : 0.848\n",
      "  MAE  : 63,086\n",
      "  MSE  : 5,718,940,941\n",
      "  RMSE : 75,624\n",
      "\n",
      "Random Forest Performance:\n",
      "  R2   : 0.859\n",
      "  MAE  : 52,524\n",
      "  MSE  : 5,283,317,455\n",
      "  RMSE : 72,686\n"
     ]
    }
   ],
   "source": [
    "print_metrics(\"Linear Regression\", y_test, lr_pred)\n",
    "print_metrics(\"Random Forest\", y_test, rf_pred)"
   ]
  },
  {
   "cell_type": "code",
   "execution_count": 10,
   "id": "b7479392-7e76-4c0c-9f53-389705af20a9",
   "metadata": {},
   "outputs": [
    {
     "name": "stdout",
     "output_type": "stream",
     "text": [
      "\n",
      "-------Single-row sanity check----------\n",
      "  Actual Price: $554,800\n",
      "  LR Pred     : $594,041\n",
      "  RF Pred     : $557,028\n"
     ]
    }
   ],
   "source": [
    "i = 3  # Example row\n",
    "x_one_df = X_test.iloc[[i]]   # Keep DataFrame structure\n",
    "y_true   = y_test.iloc[i]\n",
    "\n",
    "p_lr_one = float(lr.predict(x_one_df)[0])\n",
    "p_rf_one = float(rf.predict(x_one_df)[0])\n",
    "\n",
    "print(\"\\n-------Single-row sanity check----------\")\n",
    "print(f\"  Actual Price: ${y_true:,.0f}\")\n",
    "print(f\"  LR Pred     : ${p_lr_one:,.0f}\")\n",
    "print(f\"  RF Pred     : ${p_rf_one:,.0f}\")"
   ]
  },
  {
   "cell_type": "code",
   "execution_count": null,
   "id": "fdd10f4d-9c8b-42e3-8ea4-5bba3f78690e",
   "metadata": {},
   "outputs": [],
   "source": []
  }
 ],
 "metadata": {
  "kernelspec": {
   "display_name": "Python [conda env:base] *",
   "language": "python",
   "name": "conda-base-py"
  },
  "language_info": {
   "codemirror_mode": {
    "name": "ipython",
    "version": 3
   },
   "file_extension": ".py",
   "mimetype": "text/x-python",
   "name": "python",
   "nbconvert_exporter": "python",
   "pygments_lexer": "ipython3",
   "version": "3.13.5"
  }
 },
 "nbformat": 4,
 "nbformat_minor": 5
}
