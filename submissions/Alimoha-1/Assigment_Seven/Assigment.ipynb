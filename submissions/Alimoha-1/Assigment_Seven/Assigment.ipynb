{
 "cells": [
  {
   "cell_type": "code",
   "execution_count": 5,
   "id": "a415f63e-9050-4e2c-b3a4-7788cd7cb880",
   "metadata": {},
   "outputs": [
    {
     "ename": "ModuleNotFoundError",
     "evalue": "No module named 'numpy'",
     "output_type": "error",
     "traceback": [
      "\u001b[1;31m---------------------------------------------------------------------------\u001b[0m",
      "\u001b[1;31mModuleNotFoundError\u001b[0m                       Traceback (most recent call last)",
      "Cell \u001b[1;32mIn[5], line 1\u001b[0m\n\u001b[1;32m----> 1\u001b[0m \u001b[38;5;28;01mimport\u001b[39;00m\u001b[38;5;250m \u001b[39m\u001b[38;5;21;01mnumpy\u001b[39;00m\u001b[38;5;250m \u001b[39m\u001b[38;5;28;01mas\u001b[39;00m\u001b[38;5;250m \u001b[39m\u001b[38;5;21;01mnp\u001b[39;00m\n\u001b[0;32m      2\u001b[0m \u001b[38;5;28;01mimport\u001b[39;00m\u001b[38;5;250m \u001b[39m\u001b[38;5;21;01mpandas\u001b[39;00m\u001b[38;5;250m \u001b[39m\u001b[38;5;28;01mas\u001b[39;00m\u001b[38;5;250m \u001b[39m\u001b[38;5;21;01mpd\u001b[39;00m\n\u001b[0;32m      4\u001b[0m \u001b[38;5;28;01mfrom\u001b[39;00m\u001b[38;5;250m \u001b[39m\u001b[38;5;21;01msklearn\u001b[39;00m\u001b[38;5;21;01m.\u001b[39;00m\u001b[38;5;21;01mmodel_selection\u001b[39;00m\u001b[38;5;250m \u001b[39m\u001b[38;5;28;01mimport\u001b[39;00m train_test_split\n",
      "\u001b[1;31mModuleNotFoundError\u001b[0m: No module named 'numpy'"
     ]
    }
   ],
   "source": [
    "import numpy as np\n",
    "import pandas as pd\n",
    "\n",
    "from sklearn.model_selection import train_test_split\n",
    "from sklearn.feature_extraction.text import TfidfVectorizer\n",
    "\n",
    "from sklearn.linear_model import LogisticRegression\n",
    "from sklearn.ensemble import RandomForestClassifier\n",
    "from sklearn.naive_bayes import MultinomialNB\n",
    "\n",
    "from sklearn.metrics import (\n",
    "    accuracy_score, precision_score, recall_score, f1_score, confusion_matrix\n",
    ")"
   ]
  },
  {
   "cell_type": "code",
   "execution_count": null,
   "id": "43d3625d-638b-458b-8697-5c2509960b50",
   "metadata": {},
   "outputs": [],
   "source": [
    "RANDOM_STATE = 42"
   ]
  },
  {
   "cell_type": "code",
   "execution_count": null,
   "id": "519539c2-65a4-4a82-9f05-a17395ce14e8",
   "metadata": {},
   "outputs": [
    {
     "name": "stdout",
     "output_type": "stream",
     "text": [
      "  Category                                            Message\n",
      "0        1  Go until jurong point, crazy.. Available only ...\n",
      "1        1                      Ok lar... Joking wif u oni...\n",
      "2        0  Free entry in 2 a wkly comp to win FA Cup fina...\n",
      "3        1  U dun say so early hor... U c already then say...\n",
      "4        1  Nah I don't think he goes to usf, he lives aro...\n"
     ]
    }
   ],
   "source": [
    "df = pd.read_csv(\"mail_l7_dataset.csv\")\n",
    "df = df.where(pd.notnull(df), \"\")\n",
    "\n",
    "df.loc[df[\"Category\"].str.lower().str.strip() == \"spam\", \"Category\"] = 0\n",
    "df.loc[df[\"Category\"].str.lower().str.strip() == \"ham\",  \"Category\"] = 1\n",
    "\n",
    "print(df.head())"
   ]
  },
  {
   "cell_type": "code",
   "execution_count": null,
   "id": "9c32a923-01e9-4958-95f7-48efdcba5c3b",
   "metadata": {},
   "outputs": [],
   "source": [
    "X = df[\"Message\"].astype(str)\n",
    "y = df[\"Category\"].astype(int)"
   ]
  },
  {
   "cell_type": "code",
   "execution_count": null,
   "id": "fc46ff6b-95c3-49c4-9783-82bae54e8361",
   "metadata": {},
   "outputs": [
    {
     "name": "stdout",
     "output_type": "stream",
     "text": [
      "=== SPLIT SIZES ===\n",
      "Train: 4457  | Test: 1115\n"
     ]
    }
   ],
   "source": [
    "X_train, X_test, y_train, y_test = train_test_split(\n",
    "    X, y, test_size=0.2, random_state=RANDOM_STATE, stratify=y\n",
    ")\n",
    "\n",
    "print(\"=== SPLIT SIZES ===\")\n",
    "print(\"Train:\", X_train.shape[0], \" | Test:\", X_test.shape[0])"
   ]
  },
  {
   "cell_type": "code",
   "execution_count": null,
   "id": "6c38b2b7-6a14-4ff7-9b64-4254d7ae9283",
   "metadata": {},
   "outputs": [
    {
     "name": "stdout",
     "output_type": "stream",
     "text": [
      "\n",
      "=== TF-IDF SHAPES ===\n",
      "X_train: (4457, 7473)  | X_test: (1115, 7473)\n"
     ]
    }
   ],
   "source": [
    "tfidf = TfidfVectorizer(min_df=1, stop_words=\"english\", lowercase=True)\n",
    "X_train_features = tfidf.fit_transform(X_train)\n",
    "X_test_features  = tfidf.transform(X_test)\n",
    "\n",
    "print(\"\\n=== TF-IDF SHAPES ===\")\n",
    "print(\"X_train:\", X_train_features.shape, \" | X_test:\", X_test_features.shape)"
   ]
  },
  {
   "cell_type": "code",
   "execution_count": null,
   "id": "cdb36acc-3e3f-4573-ab1d-ec9d5ece3b96",
   "metadata": {},
   "outputs": [
    {
     "ename": "NameError",
     "evalue": "name 'print_clf_metrics' is not defined",
     "output_type": "error",
     "traceback": [
      "\u001b[1;31m---------------------------------------------------------------------------\u001b[0m",
      "\u001b[1;31mNameError\u001b[0m                                 Traceback (most recent call last)",
      "Cell \u001b[1;32mIn[11], line 12\u001b[0m\n\u001b[0;32m     10\u001b[0m nb\u001b[38;5;241m.\u001b[39mfit(X_train_features, y_train)\n\u001b[0;32m     11\u001b[0m nb_pred \u001b[38;5;241m=\u001b[39m nb\u001b[38;5;241m.\u001b[39mpredict(X_test_features)\n\u001b[1;32m---> 12\u001b[0m print_clf_metrics(\u001b[38;5;124m\"\u001b[39m\u001b[38;5;124mNaive Bayes\u001b[39m\u001b[38;5;124m\"\u001b[39m, y_test, nb_pred, pos_label\u001b[38;5;241m=\u001b[39m\u001b[38;5;241m0\u001b[39m)\n\u001b[0;32m     13\u001b[0m print_confmat(\u001b[38;5;124m\"\u001b[39m\u001b[38;5;124mNaive Bayes\u001b[39m\u001b[38;5;124m\"\u001b[39m, y_test, nb_pred)\n",
      "\u001b[1;31mNameError\u001b[0m: name 'print_clf_metrics' is not defined"
     ]
    }
   ],
   "source": [
    "\n",
    "lr = LogisticRegression(max_iter=1000, random_state=RANDOM_STATE)\n",
    "lr.fit(X_train_features, y_train)\n",
    "lr_pred = lr.predict(X_test_features)\n",
    "\n",
    "rf = RandomForestClassifier(n_estimators=200, random_state=RANDOM_STATE)\n",
    "rf.fit(X_train_features.toarray(), y_train)  # RF needs dense input\n",
    "rf_pred = rf.predict(X_test_features.toarray())\n",
    "\n",
    "nb = MultinomialNB()\n",
    "nb.fit(X_train_features, y_train)\n",
    "nb_pred = nb.predict(X_test_features)\n",
    "print_clf_metrics(\"Naive Bayes\", y_test, nb_pred, pos_label=0)\n",
    "print_confmat(\"Naive Bayes\", y_test, nb_pred)"
   ]
  },
  {
   "cell_type": "code",
   "execution_count": null,
   "id": "0494da3d-2c62-4765-8505-3c9dc682f193",
   "metadata": {},
   "outputs": [],
   "source": [
    "def print_model_report(name, y_true, y_pred, pos_label=0):\n",
    "    \"\"\"\n",
    "    Print Accuracy, Precision, Recall, F1 + Confusion Matrix\n",
    "    pos_label=0 → spam considered positive.\n",
    "    \"\"\"\n",
    "    acc  = accuracy_score(y_true, y_pred)\n",
    "    prec = precision_score(y_true, y_pred, pos_label=pos_label)\n",
    "    rec  = recall_score(y_true, y_pred, pos_label=pos_label)\n",
    "    f1   = f1_score(y_true, y_pred, pos_label=pos_label)\n",
    "    \n",
    "    print(f\"\\n=== {name} Performance ===\")\n",
    "    print(f\"Accuracy : {acc:.3f}\")\n",
    "    print(f\"Precision: {prec:.3f}\")\n",
    "    print(f\"Recall   : {rec:.3f}\")\n",
    "    print(f\"F1 Score : {f1:.3f}\")\n",
    "    \n",
    "    cm = confusion_matrix(y_true, y_pred, labels=[0,1])  # spam=0, ham=1\n",
    "    cm_df = pd.DataFrame(\n",
    "        cm,\n",
    "        index   = [\"Actual: Spam (0)\", \"Actual: Ham (1)\"],\n",
    "        columns = [\"Pred: Spam (0)\",  \"Pred: Ham (1)\"]\n",
    "    )\n",
    "    print(f\"\\n{name} Confusion Matrix:\\n{cm_df}\")"
   ]
  },
  {
   "cell_type": "code",
   "execution_count": null,
   "id": "f6aaf2ff-fdd8-4783-9a36-6fc04abb8c31",
   "metadata": {},
   "outputs": [],
   "source": [
    "print_model_report(\"Logistic Regression\", y_test, lr_pred, pos_label=0)\n",
    "print_model_report(\"Random Forest\", y_test, rf_pred, pos_label=0)\n",
    "print_model_report(\"Naive Bayes\", y_test, nb_pred, pos_label=0)"
   ]
  },
  {
   "cell_type": "code",
   "execution_count": null,
   "id": "d87e466c-6ea0-4a4b-ab5d-b35c640c1c38",
   "metadata": {},
   "outputs": [],
   "source": [
    "sample_messages = [\n",
    "    \"Free entry in 2 a weekly competition!\",\n",
    "    \"I will meet you at the cafe tomorrow\",\n",
    "    \"Congratulations, you won a free ticket\"\n",
    "]\n",
    "\n",
    "def lab2str(v):\n",
    "    return \"Spam (0)\" if v == 0 else \"Ham (1)\"\n",
    "\n",
    "print(\"\\n=== SANITY CHECK ===\")\n",
    "for text in sample_messages:\n",
    "    print(\"\\nMessage:\", text)\n",
    "    lr_out = lab2str(int(lr.predict(tfidf.transform([text]))[0]))\n",
    "    rf_out = lab2str(int(rf.predict(tfidf.transform([text]).toarray())[0]))\n",
    "    nb_out = lab2str(int(nb.predict(tfidf.transform([text]))[0]))\n",
    "    print(\"Logistic Regression:\", lr_out)\n",
    "    print(\"Random Forest      :\", rf_out)\n",
    "    print(\"Naive Bayes        :\", nb_out)"
   ]
  },
  {
   "cell_type": "code",
   "execution_count": null,
   "id": "04308a28-c682-4f36-93b3-ab071975e074",
   "metadata": {},
   "outputs": [],
   "source": []
  }
 ],
 "metadata": {
  "kernelspec": {
   "display_name": "Python 3 (ipykernel)",
   "language": "python",
   "name": "python3"
  },
  "language_info": {
   "codemirror_mode": {
    "name": "ipython",
    "version": 3
   },
   "file_extension": ".py",
   "mimetype": "text/x-python",
   "name": "python",
   "nbconvert_exporter": "python",
   "pygments_lexer": "ipython3",
   "version": "3.13.5"
  }
 },
 "nbformat": 4,
 "nbformat_minor": 5
}
