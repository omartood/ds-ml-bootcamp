{
 "cells": [
  {
   "cell_type": "markdown",
   "id": "bd58d314",
   "metadata": {},
   "source": [
    "\n",
    "# Part A – Practical: House Price Prediction\n",
    "\n",
    "This notebook trains **Linear Regression** and **Random Forest Regressor** on your cleaned dataset and compares performance.\n",
    "\n",
    "> **Expected input file:** `clean_house_dataset.csv` in the **same folder** as this notebook.\n"
   ]
  },
  {
   "cell_type": "code",
   "execution_count": null,
   "id": "07ae795f",
   "metadata": {},
   "outputs": [],
   "source": [
    "\n",
    "# 1) Notebook Setup\n",
    "import os\n",
    "import pandas as pd\n",
    "import numpy as np\n",
    "\n",
    "from sklearn.model_selection import train_test_split\n",
    "from sklearn.linear_model import LinearRegression\n",
    "from sklearn.ensemble import RandomForestRegressor\n",
    "from sklearn.metrics import r2_score, mean_absolute_error, mean_squared_error\n",
    "\n",
    "print(\"Working directory:\", os.getcwd())\n",
    "print(\"Files in this folder:\", os.listdir())\n"
   ]
  },
  {
   "cell_type": "code",
   "execution_count": null,
   "id": "6303e533",
   "metadata": {},
   "outputs": [],
   "source": [
    "\n",
    "# 2) Load Dataset\n",
    "CSV_PATH = \"clean_house_dataset.csv\"  # Put your dataset next to this notebook\n",
    "\n",
    "if not os.path.exists(CSV_PATH):\n",
    "    raise FileNotFoundError(\n",
    "        f\"Could not find '{CSV_PATH}'. Move it next to this notebook or edit CSV_PATH to the correct path.\"\n",
    "    )\n",
    "\n",
    "df = pd.read_csv(CSV_PATH)\n",
    "print(\"Dataset Shape:\", df.shape)\n",
    "display(df.head())\n"
   ]
  },
  {
   "cell_type": "code",
   "execution_count": null,
   "id": "34f6d4cd",
   "metadata": {},
   "outputs": [],
   "source": [
    "\n",
    "# 3) Prepare Features & Target\n",
    "# Target (y) = Price\n",
    "# Features (X) = all columns except Price and LogPrice\n",
    "\n",
    "if \"Price\" not in df.columns:\n",
    "    raise KeyError(\"Column 'Price' not found. Ensure your cleaned dataset includes a 'Price' column.\")\n",
    "\n",
    "drop_cols = [c for c in [\"Price\", \"LogPrice\"] if c in df.columns]\n",
    "X_full = df.drop(columns=drop_cols)\n",
    "y = df[\"Price\"]\n",
    "\n",
    "# Keep only numeric features for robust Linear Regression\n",
    "numeric_cols = X_full.select_dtypes(include=[np.number]).columns.tolist()\n",
    "if len(numeric_cols) < X_full.shape[1]:\n",
    "    print(\"NOTE: Dropping non-numeric columns:\", [c for c in X_full.columns if c not in numeric_cols])\n",
    "\n",
    "X = X_full[numeric_cols]\n",
    "\n",
    "print(\"Features shape:\", X.shape)\n",
    "print(\"Target shape:\", y.shape)\n"
   ]
  },
  {
   "cell_type": "code",
   "execution_count": null,
   "id": "2ce7a224",
   "metadata": {},
   "outputs": [],
   "source": [
    "\n",
    "# 4) Split Data (80/20, random_state=42)\n",
    "X_train, X_test, y_train, y_test = train_test_split(\n",
    "    X, y, test_size=0.2, random_state=42\n",
    ")\n",
    "\n",
    "print(\"Training set:\", X_train.shape, y_train.shape)\n",
    "print(\"Test set    :\", X_test.shape, y_test.shape)\n"
   ]
  },
  {
   "cell_type": "code",
   "execution_count": null,
   "id": "4f82cfca",
   "metadata": {},
   "outputs": [],
   "source": [
    "\n",
    "# 5) Train Models\n",
    "lin_reg = LinearRegression()\n",
    "lin_reg.fit(X_train, y_train)\n",
    "\n",
    "rf_reg = RandomForestRegressor(n_estimators=100, random_state=42)\n",
    "rf_reg.fit(X_train, y_train)\n",
    "\n",
    "print(\"Models trained.\")\n"
   ]
  },
  {
   "cell_type": "code",
   "execution_count": null,
   "id": "748de069",
   "metadata": {},
   "outputs": [],
   "source": [
    "\n",
    "# 6) Evaluation Helper\n",
    "def evaluate_model(name, model, X_test, y_test):\n",
    "    y_pred = model.predict(X_test)\n",
    "    r2 = r2_score(y_test, y_pred)\n",
    "    mae = mean_absolute_error(y_test, y_pred)\n",
    "    mse = mean_squared_error(y_test, y_pred)\n",
    "    rmse = np.sqrt(mse)\n",
    "    print(f\"{name} Performance:\")\n",
    "    print(f\"  R²   : {r2:.4f}\")\n",
    "    print(f\"  MAE  : {mae:,.0f}\")\n",
    "    print(f\"  MSE  : {mse:,.0f}\")\n",
    "    print(f\"  RMSE : {rmse:,.0f}\")\n",
    "    print(\"-\" * 40)\n",
    "    return {\"R2\": r2, \"MAE\": mae, \"MSE\": mse, \"RMSE\": rmse}\n"
   ]
  },
  {
   "cell_type": "code",
   "execution_count": null,
   "id": "3ec090a9",
   "metadata": {},
   "outputs": [],
   "source": [
    "\n",
    "# 7) Evaluate Both Models\n",
    "lin_metrics = evaluate_model(\"Linear Regression\", lin_reg, X_test, y_test)\n",
    "rf_metrics  = evaluate_model(\"Random Forest\", rf_reg, X_test, y_test)\n"
   ]
  },
  {
   "cell_type": "code",
   "execution_count": null,
   "id": "31729336",
   "metadata": {},
   "outputs": [],
   "source": [
    "\n",
    "# 8) Single-row Sanity Check\n",
    "i = 5  # You can change this to any index within range\n",
    "i = min(i, len(X_test) - 1)\n",
    "row = X_test.iloc[[i]]\n",
    "actual = y_test.iloc[i]\n",
    "lin_pred = float(lin_reg.predict(row)[0])\n",
    "rf_pred  = float(rf_reg.predict(row)[0])\n",
    "\n",
    "print(\"Sanity Check (Single Row)\")\n",
    "print(f\"  Index           : {i}\")\n",
    "print(f\"  Actual Price    : {actual:,.0f}\")\n",
    "print(f\"  Linear Predicted: {lin_pred:,.0f}\")\n",
    "print(f\"  RF Predicted    : {rf_pred:,.0f}\")\n"
   ]
  }
 ],
 "metadata": {},
 "nbformat": 4,
 "nbformat_minor": 5
}