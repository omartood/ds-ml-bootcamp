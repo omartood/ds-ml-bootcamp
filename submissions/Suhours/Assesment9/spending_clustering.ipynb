{
 "cells": [
  {
   "cell_type": "code",
   "execution_count": 9,
   "id": "14adf180-551a-4ab7-976f-5d6f84985f06",
   "metadata": {},
   "outputs": [],
   "source": [
    "\n",
    "import pandas as pd\n",
    "from sklearn.cluster import KMeans\n",
    "from sklearn.preprocessing import StandardScaler\n",
    "from sklearn.metrics import silhouette_score, davies_bouldin_score\n",
    "import os\n",
    "import warnings"
   ]
  },
  {
   "cell_type": "code",
   "execution_count": 3,
   "id": "ccd61abb-4975-41e7-8efc-fd66e9bf2fb7",
   "metadata": {},
   "outputs": [],
   "source": [
    "# Data Load\n",
    "df = pd.read_csv(\"spending_l9_dataset.csv\")\n"
   ]
  },
  {
   "cell_type": "code",
   "execution_count": 4,
   "id": "7d6667c0-1a8f-4e47-afc3-0d79cb94a78c",
   "metadata": {},
   "outputs": [
    {
     "name": "stdout",
     "output_type": "stream",
     "text": [
      "\n",
      "=== INITIAL SNAPSHOT ===\n",
      "   CustomerID  Age  Income_$  SpendingScore  VisitsPerMonth  OnlinePurchases  \\\n",
      "0           1   28        33             78              14                9   \n",
      "1           2   21        25             87               8               23   \n",
      "2           3   23        24             88              13               10   \n",
      "3           4   24        25             73              16               11   \n",
      "4           5   20        23             88              17               16   \n",
      "\n",
      "   Gender Region  \n",
      "0  Female   East  \n",
      "1    Male  North  \n",
      "2    Male  South  \n",
      "3  Female   West  \n",
      "4    Male   West  \n",
      "<class 'pandas.core.frame.DataFrame'>\n",
      "RangeIndex: 200 entries, 0 to 199\n",
      "Data columns (total 8 columns):\n",
      " #   Column           Non-Null Count  Dtype \n",
      "---  ------           --------------  ----- \n",
      " 0   CustomerID       200 non-null    int64 \n",
      " 1   Age              200 non-null    int64 \n",
      " 2   Income_$         200 non-null    int64 \n",
      " 3   SpendingScore    200 non-null    int64 \n",
      " 4   VisitsPerMonth   200 non-null    int64 \n",
      " 5   OnlinePurchases  200 non-null    int64 \n",
      " 6   Gender           200 non-null    object\n",
      " 7   Region           200 non-null    object\n",
      "dtypes: int64(6), object(2)\n",
      "memory usage: 12.6+ KB\n",
      "None\n",
      "CustomerID         0\n",
      "Age                0\n",
      "Income_$           0\n",
      "SpendingScore      0\n",
      "VisitsPerMonth     0\n",
      "OnlinePurchases    0\n",
      "Gender             0\n",
      "Region             0\n",
      "dtype: int64\n"
     ]
    }
   ],
   "source": [
    "print(\"\\n=== INITIAL SNAPSHOT ===\")\n",
    "print(df.head())\n",
    "print(df.info())\n",
    "print(df.isnull().sum())"
   ]
  },
  {
   "cell_type": "code",
   "execution_count": 5,
   "id": "b0f5b072-f5d3-4192-8b79-9f83dba039ee",
   "metadata": {},
   "outputs": [
    {
     "name": "stdout",
     "output_type": "stream",
     "text": [
      "\n",
      "=== FEATURES HEAD ===\n",
      "   Income_$  SpendingScore\n",
      "0        33             78\n",
      "1        25             87\n",
      "2        24             88\n",
      "3        25             73\n",
      "4        23             88\n"
     ]
    }
   ],
   "source": [
    "# Prepare Features\n",
    "FEATURES = [\"Income_$\", \"SpendingScore\"]\n",
    "X = df[FEATURES].copy()\n",
    "print(\"\\n=== FEATURES HEAD ===\")\n",
    "print(X.head())"
   ]
  },
  {
   "cell_type": "code",
   "execution_count": 6,
   "id": "5c606363-6169-40ce-99f6-f61d5f9f0dfa",
   "metadata": {},
   "outputs": [],
   "source": [
    "# Handle any missing values via median (numeric only).\n",
    "for col in FEATURES:\n",
    "     if X[col].isna().any():\n",
    "         X[col].fillna(X[col].median())\n",
    "         "
   ]
  },
  {
   "cell_type": "code",
   "execution_count": 7,
   "id": "5daec3c9-c10a-4e56-b9a8-4256ba2a4fa3",
   "metadata": {},
   "outputs": [],
   "source": [
    "# scale features with StanderScle\n",
    "scaler = StandardScaler()\n",
    "X = scaler.fit_transform(X)\n"
   ]
  },
  {
   "cell_type": "code",
   "execution_count": 10,
   "id": "857941b9-b42a-4494-a337-691c2b8ddbc4",
   "metadata": {},
   "outputs": [],
   "source": [
    "os.environ[\"LOKY_MAX_CPU_COUNT\"] = \"4\"   # replace 4 with your CPU's physical cores\n",
    "\n",
    "# Fix KMeans MKL memory leak warning\n",
    "os.environ[\"OMP_NUM_THREADS\"] = \"1\"\n",
    "\n",
    "# Hide warnings completely\n",
    "warnings.filterwarnings(\"ignore\")"
   ]
  },
  {
   "cell_type": "code",
   "execution_count": 11,
   "id": "145fd258-947d-4b93-903d-669305cee4e5",
   "metadata": {},
   "outputs": [
    {
     "name": "stdout",
     "output_type": "stream",
     "text": [
      "\n",
      "=== ELBOW METHOD (SSE per k) ===\n",
      "k=1 → SSE=400.00\n",
      "k=2 → SSE=199.70\n",
      "k=3 → SSE=79.37\n",
      "k=4 → SSE=21.37\n",
      "k=5 → SSE=19.09\n",
      "k=6 → SSE=15.65\n",
      "k=7 → SSE=14.48\n",
      "k=8 → SSE=13.81\n",
      "k=9 → SSE=12.94\n",
      "k=10 → SSE=11.52\n"
     ]
    }
   ],
   "source": [
    "\n",
    "# Cluster using K-Means.    \n",
    "# Use Elbow method to determine k (1 to 10, print SSE).\n",
    "print(\"\\n=== ELBOW METHOD (SSE per k) ===\") \n",
    "for k in range(1, 11):\n",
    "    km = KMeans(n_clusters=k, n_init=\"auto\", random_state=42)\n",
    "    km.fit(X)\n",
    "    print(f\"k={k} → SSE={km.inertia_:.2f}\")"
   ]
  },
  {
   "cell_type": "code",
   "execution_count": 12,
   "id": "696b7678-9ff2-4032-ad85-05ff6b26c16a",
   "metadata": {},
   "outputs": [
    {
     "name": "stdout",
     "output_type": "stream",
     "text": [
      "\n",
      "=== SAMPLE WITH CLUSTERS ===\n",
      "   CustomerID  Age  Income_$  SpendingScore  VisitsPerMonth  OnlinePurchases  \\\n",
      "0           1   28        33             78              14                9   \n",
      "1           2   21        25             87               8               23   \n",
      "2           3   23        24             88              13               10   \n",
      "3           4   24        25             73              16               11   \n",
      "4           5   20        23             88              17               16   \n",
      "\n",
      "   Gender Region  Cluster  \n",
      "0  Female   East        2  \n",
      "1    Male  North        4  \n",
      "2    Male  South        4  \n",
      "3  Female   West        2  \n",
      "4    Male   West        4  \n"
     ]
    }
   ],
   "source": [
    "\n",
    "# Cluster using K-Means.\n",
    "K = 5  # adjust based on SSE values above\n",
    "kmeans = KMeans(n_clusters=K, n_init=\"auto\", random_state=42)\n",
    "labels = kmeans.fit_predict(X)\n",
    "\n",
    "df[\"Cluster\"] = labels.astype(int)\n",
    "print(\"\\n=== SAMPLE WITH CLUSTERS ===\") \n",
    "print(df.head())"
   ]
  },
  {
   "cell_type": "code",
   "execution_count": 13,
   "id": "6a8422c2-4fa9-4560-8c4b-ba005bb42bf0",
   "metadata": {},
   "outputs": [
    {
     "name": "stdout",
     "output_type": "stream",
     "text": [
      "\n",
      "=== METRICS ===\n",
      "Silhouette Score : 0.64 (closer to +1 is better)\n",
      "Davies-Bouldin  : 0.57 (closer to 0 is better)\n"
     ]
    }
   ],
   "source": [
    "# Evaluate clustering.\n",
    "sil = silhouette_score(X, labels)   \n",
    "dbi = davies_bouldin_score(X, labels)   \n",
    "print(\"\\n=== METRICS ===\")\n",
    "print(f\"Silhouette Score : {sil:.2f} (closer to +1 is better)\")\n",
    "print(f\"Davies-Bouldin  : {dbi:.2f} (closer to 0 is better)\")"
   ]
  },
  {
   "cell_type": "code",
   "execution_count": 14,
   "id": "2cc6b3ab-09bb-4ce4-b1e6-5748b2180045",
   "metadata": {},
   "outputs": [
    {
     "name": "stdout",
     "output_type": "stream",
     "text": [
      "\n",
      "=== CLUSTER CENTERS (Original Units) ===\n",
      "         Income_$  SpendingScore\n",
      "Cluster                         \n",
      "0           56.32          53.58\n",
      "1           28.92          19.60\n",
      "2           25.33          78.04\n",
      "3           99.16          79.24\n",
      "4           22.74          89.04\n"
     ]
    }
   ],
   "source": [
    "\n",
    "#  Cluster centers (back to original units)\n",
    "\n",
    "centers_scaled = kmeans.cluster_centers_\n",
    "centers_original = scaler.inverse_transform(centers_scaled)\n",
    "\n",
    "centers_df = pd.DataFrame(centers_original, columns=FEATURES)\n",
    "centers_df.index.name = \"Cluster\"\n",
    "\n",
    "print(\"\\n=== CLUSTER CENTERS (Original Units) ===\")\n",
    "print(centers_df.round(2))"
   ]
  },
  {
   "cell_type": "code",
   "execution_count": 15,
   "id": "cd86dcf7-1368-4f76-80be-406056b2b460",
   "metadata": {},
   "outputs": [
    {
     "name": "stdout",
     "output_type": "stream",
     "text": [
      "\n",
      "=== SANITY CHECK (3 Customers) ===\n",
      "   Income_$  SpendingScore  Cluster\n",
      "0        33             78        2\n",
      "1        25             87        4\n",
      "2        24             88        4\n"
     ]
    }
   ],
   "source": [
    "# Sanity Check\n",
    "\n",
    "sample_idx = [0, 1, 2]  # change to any row numbers\n",
    "sanity = df.loc[sample_idx, FEATURES + [\"Cluster\"]]\n",
    "print(\"\\n=== SANITY CHECK (3 Customers) ===\")\n",
    "print(sanity)"
   ]
  },
  {
   "cell_type": "code",
   "execution_count": 16,
   "id": "d2765245-0b18-41b5-a3a0-2edcaec56c88",
   "metadata": {},
   "outputs": [
    {
     "name": "stdout",
     "output_type": "stream",
     "text": [
      "\n",
      "Saved clustered dataset → spending_labeled_clusters.csv\n"
     ]
    }
   ],
   "source": [
    "#  Save labeled dataset\n",
    "OUT_PATH = \"spending_labeled_clusters.csv\"\n",
    "df.to_csv(OUT_PATH, index=False)\n",
    "print(f\"\\nSaved clustered dataset → {OUT_PATH}\")"
   ]
  },
  {
   "cell_type": "code",
   "execution_count": null,
   "id": "401d0d17-45d5-4197-9257-ddeb87c422d9",
   "metadata": {},
   "outputs": [],
   "source": []
  }
 ],
 "metadata": {
  "kernelspec": {
   "display_name": "Python 3 (ipykernel)",
   "language": "python",
   "name": "python3"
  },
  "language_info": {
   "codemirror_mode": {
    "name": "ipython",
    "version": 3
   },
   "file_extension": ".py",
   "mimetype": "text/x-python",
   "name": "python",
   "nbconvert_exporter": "python",
   "pygments_lexer": "ipython3",
   "version": "3.13.5"
  }
 },
 "nbformat": 4,
 "nbformat_minor": 5
}
