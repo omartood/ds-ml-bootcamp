{
 "cells": [
  {
   "cell_type": "code",
   "execution_count": 54,
   "id": "81ac3d51-9f1c-4b56-abf1-66a2cd7d9362",
   "metadata": {},
   "outputs": [],
   "source": [
    "import pandas as pd\n",
    "import numpy as np\n",
    "from sklearn.model_selection import train_test_split\n",
    "from sklearn.feature_extraction.text import TfidfVectorizer\n",
    "from sklearn.naive_bayes import MultinomialNB\n",
    "from sklearn.linear_model import LinearRegression\n",
    "from sklearn.linear_model import LogisticRegression\n",
    "from sklearn.ensemble import RandomForestClassifier\n",
    "from sklearn.ensemble import RandomForestRegressor\n",
    "from sklearn.metrics import (accuracy_score, precision_score, recall_score, f1_score, confusion_matrix)\n"
   ]
  },
  {
   "cell_type": "code",
   "execution_count": 55,
   "id": "5ebc2adc-dbb1-4932-b937-af42352fc29e",
   "metadata": {},
   "outputs": [
    {
     "name": "stdout",
     "output_type": "stream",
     "text": [
      "(5572, 2)\n"
     ]
    },
    {
     "data": {
      "text/html": [
       "<div>\n",
       "<style scoped>\n",
       "    .dataframe tbody tr th:only-of-type {\n",
       "        vertical-align: middle;\n",
       "    }\n",
       "\n",
       "    .dataframe tbody tr th {\n",
       "        vertical-align: top;\n",
       "    }\n",
       "\n",
       "    .dataframe thead th {\n",
       "        text-align: right;\n",
       "    }\n",
       "</style>\n",
       "<table border=\"1\" class=\"dataframe\">\n",
       "  <thead>\n",
       "    <tr style=\"text-align: right;\">\n",
       "      <th></th>\n",
       "      <th>Category</th>\n",
       "      <th>Message</th>\n",
       "    </tr>\n",
       "  </thead>\n",
       "  <tbody>\n",
       "    <tr>\n",
       "      <th>0</th>\n",
       "      <td>ham</td>\n",
       "      <td>Go until jurong point, crazy.. Available only ...</td>\n",
       "    </tr>\n",
       "    <tr>\n",
       "      <th>1</th>\n",
       "      <td>ham</td>\n",
       "      <td>Ok lar... Joking wif u oni...</td>\n",
       "    </tr>\n",
       "    <tr>\n",
       "      <th>2</th>\n",
       "      <td>spam</td>\n",
       "      <td>Free entry in 2 a wkly comp to win FA Cup fina...</td>\n",
       "    </tr>\n",
       "    <tr>\n",
       "      <th>3</th>\n",
       "      <td>ham</td>\n",
       "      <td>U dun say so early hor... U c already then say...</td>\n",
       "    </tr>\n",
       "    <tr>\n",
       "      <th>4</th>\n",
       "      <td>ham</td>\n",
       "      <td>Nah I don't think he goes to usf, he lives aro...</td>\n",
       "    </tr>\n",
       "  </tbody>\n",
       "</table>\n",
       "</div>"
      ],
      "text/plain": [
       "  Category                                            Message\n",
       "0      ham  Go until jurong point, crazy.. Available only ...\n",
       "1      ham                      Ok lar... Joking wif u oni...\n",
       "2     spam  Free entry in 2 a wkly comp to win FA Cup fina...\n",
       "3      ham  U dun say so early hor... U c already then say...\n",
       "4      ham  Nah I don't think he goes to usf, he lives aro..."
      ]
     },
     "execution_count": 55,
     "metadata": {},
     "output_type": "execute_result"
    }
   ],
   "source": [
    "# Data Load\n",
    "df = pd.read_csv(\"mail_l7_dataset.csv\")\n",
    "print(df.shape)\n",
    "df.head()"
   ]
  },
  {
   "cell_type": "code",
   "execution_count": 56,
   "id": "8781fcad-4f00-4c14-8883-eb97cedca611",
   "metadata": {},
   "outputs": [
    {
     "name": "stdout",
     "output_type": "stream",
     "text": [
      "  Category                                            Message\n",
      "0        1  Go until jurong point, crazy.. Available only ...\n",
      "1        1                      Ok lar... Joking wif u oni...\n",
      "2        0  Free entry in 2 a wkly comp to win FA Cup fina...\n",
      "3        1  U dun say so early hor... U c already then say...\n",
      "4        1  Nah I don't think he goes to usf, he lives aro...\n"
     ]
    }
   ],
   "source": [
    "# encode labels spam -> 0, ham -> 1\n",
    "df.loc[df[\"Category\"].str.lower().str.strip() == \"spam\", \"Category\"] = 0\n",
    "df.loc[df[\"Category\"].str.lower().str.strip() == \"ham\",  \"Category\"] = 1\n",
    "print(df.head(5))"
   ]
  },
  {
   "cell_type": "code",
   "execution_count": 57,
   "id": "d8739f25-5a04-49f5-a52b-eb010c20c541",
   "metadata": {},
   "outputs": [],
   "source": [
    "#  label and feature or x and y \n",
    "X = df[\"Message\"].astype(str)\n",
    "y = df[\"Category\"].astype(int)"
   ]
  },
  {
   "cell_type": "code",
   "execution_count": 58,
   "id": "bd642be0-548b-4259-9229-8c606990dd07",
   "metadata": {},
   "outputs": [
    {
     "name": "stdout",
     "output_type": "stream",
     "text": [
      "=== SPLIT SIZES ===\n",
      "Train: 4457  | Test: 1115\n"
     ]
    }
   ],
   "source": [
    "#  train test split\n",
    "X_train, X_test, y_train, y_test = train_test_split(X,y ,test_size=0.2, random_state=42 )\n",
    "print(\"=== SPLIT SIZES ===\")\n",
    "print(\"Train:\", X_train.shape[0], \" | Test:\", X_test.shape[0])"
   ]
  },
  {
   "cell_type": "code",
   "execution_count": 59,
   "id": "05f6fc6a-d3b4-4246-a767-7dc98c20928b",
   "metadata": {},
   "outputs": [
    {
     "name": "stdout",
     "output_type": "stream",
     "text": [
      "\n",
      "=== TF-IDF SHAPES ===\n",
      "X_train: (4457, 7440)  | X_test: (1115, 7440)\n"
     ]
    }
   ],
   "source": [
    "# tdf telling the spam words \n",
    "tfidf = TfidfVectorizer(min_df=1, stop_words=\"english\", lowercase=True)\n",
    "X_train_features = tfidf.fit_transform(X_train)\n",
    "X_test_features  = tfidf.transform(X_test)\n",
    "print(\"\\n=== TF-IDF SHAPES ===\")\n",
    "print(\"X_train:\", X_train_features.shape, \" | X_test:\", X_test_features.shape)"
   ]
  },
  {
   "cell_type": "code",
   "execution_count": 60,
   "id": "72a47cdd-51e0-4afa-9319-52c91dac80e6",
   "metadata": {},
   "outputs": [
    {
     "name": "stdout",
     "output_type": "stream",
     "text": [
      "[1 1 1 ... 1 1 1]\n"
     ]
    }
   ],
   "source": [
    "\n",
    "# model training logistic regression\n",
    "lr =  LogisticRegression(max_iter=1000, random_state=42)\n",
    "lr.fit(X_train_features, y_train)\n",
    "lr_predict = lr.predict(X_test_features)\n",
    "print(lr_predict)"
   ]
  },
  {
   "cell_type": "code",
   "execution_count": 62,
   "id": "f8921e6a-0901-4df5-99e3-8e7c637199d0",
   "metadata": {},
   "outputs": [
    {
     "name": "stdout",
     "output_type": "stream",
     "text": [
      "[1 1 1 ... 1 1 1]\n"
     ]
    }
   ],
   "source": [
    "#  random forest classifier\n",
    "rf = RandomForestClassifier(n_estimators=100, random_state=42)\n",
    "rf.fit(X_train_features, y_train)\n",
    "rf_predict = rf.predict(X_test_features)\n",
    "print(rf_predict)"
   ]
  },
  {
   "cell_type": "code",
   "execution_count": 65,
   "id": "3a0aac83-9dd4-4844-86d8-91109fd0c7e1",
   "metadata": {},
   "outputs": [
    {
     "name": "stdout",
     "output_type": "stream",
     "text": [
      "[1 1 1 ... 1 1 1]\n"
     ]
    }
   ],
   "source": [
    "nb = MultinomialNB()\n",
    "nb.fit(X_train_features, y_train)\n",
    "nb_predict = nb.predict(X_test_features)\n",
    "print(nb_predict)"
   ]
  },
  {
   "cell_type": "code",
   "execution_count": 67,
   "id": "727adea9-11fc-476b-a2ce-325646aaf6be",
   "metadata": {},
   "outputs": [
    {
     "name": "stdout",
     "output_type": "stream",
     "text": [
      "Logistic Regression performance:\n",
      "  Accuracy:  0.968\n",
      "  Precision: 1.000\n",
      "  Recall:    0.758\n",
      "  F1-Score:  0.982\n",
      "Random Forest performance:\n",
      "  Accuracy:  0.981\n",
      "  Precision: 1.000\n",
      "  Recall:    0.859\n",
      "  F1-Score:  0.989\n",
      "Naive Bayes performance:\n",
      "  Accuracy:  0.977\n",
      "  Precision: 1.000\n",
      "  Recall:    0.826\n",
      "  F1-Score:  0.987\n"
     ]
    }
   ],
   "source": [
    "# metrics and confusion matrix\n",
    "def print_metrics(name, y_true, y_pred, pos_label=0):\n",
    "    acc = accuracy_score(y_true, y_pred)\n",
    "    prec = precision_score(y_true, y_pred, pos_label=pos_label)\n",
    "    rec = recall_score(y_true, y_pred , pos_label=pos_label)\n",
    "    f1 = f1_score(y_true, y_pred)\n",
    "    print(f\"{name} performance:\")\n",
    "    print(f\"  Accuracy:  {acc:.3f}\")\n",
    "    print(f\"  Precision: {prec:.3f}\")\n",
    "    print(f\"  Recall:    {rec:.3f}\")\n",
    "    print(f\"  F1-Score:  {f1:.3f}\")\n",
    "print_metrics(\"Logistic Regression\", y_test, lr_predict)\n",
    "print_metrics(\"Random Forest\", y_test, rf_predict)\n",
    "print_metrics(\"Naive Bayes\", y_test, nb_predict)\n",
    "\n"
   ]
  },
  {
   "cell_type": "code",
   "execution_count": 68,
   "id": "5459c753-9fbf-49b8-ac18-aa66616e3a40",
   "metadata": {},
   "outputs": [
    {
     "name": "stdout",
     "output_type": "stream",
     "text": [
      "Logistic Regression performance:\n",
      "  Accuracy:  0.968\n",
      "  Precision: 1.000\n",
      "  Recall:    0.758\n",
      "  F1-Score:  0.982\n",
      "\n",
      "Logistic Regression Confusion Matrix:\n",
      "                 Predicted Ham (1)  Predicted Spam (0)\n",
      "Actual Ham (1)                 966                   0\n",
      "Actual Spam (0)                 36                 113\n",
      "Random Forest performance:\n",
      "  Accuracy:  0.981\n",
      "  Precision: 1.000\n",
      "  Recall:    0.859\n",
      "  F1-Score:  0.989\n",
      "\n",
      "Random Forest Confusion Matrix:\n",
      "                 Predicted Ham (1)  Predicted Spam (0)\n",
      "Actual Ham (1)                 966                   0\n",
      "Actual Spam (0)                 21                 128\n",
      "Naive Bayes performance:\n",
      "  Accuracy:  0.977\n",
      "  Precision: 1.000\n",
      "  Recall:    0.826\n",
      "  F1-Score:  0.987\n",
      "\n",
      "Naive Bayes Confusion Matrix:\n",
      "                 Predicted Ham (1)  Predicted Spam (0)\n",
      "Actual Ham (1)                 966                   0\n",
      "Actual Spam (0)                 26                 123\n"
     ]
    }
   ],
   "source": [
    "# confusion matrix\n",
    "def print_confmat(name,y_true, y_pred):\n",
    "    cm = confusion_matrix(y_true, y_pred, labels=[1,0])\n",
    "    cm_df = pd.DataFrame(\n",
    "        cm,\n",
    "        index=[\"Actual Ham (1)\", \"Actual Spam (0)\"],\n",
    "        columns=[\"Predicted Ham (1)\", \"Predicted Spam (0)\"]\n",
    "    )\n",
    "    \n",
    "    print(f\"\\n{name} Confusion Matrix:\\n{cm_df}\")\n",
    "    \n",
    "\n",
    "print_metrics(\"Logistic Regression\", y_test, lr_predict)\n",
    "print_confmat(\"Logistic Regression\", y_test, lr_predict)\n",
    "\n",
    "print_metrics(\"Random Forest\", y_test, rf_predict)\n",
    "print_confmat(\"Random Forest\", y_test, rf_predict)\n",
    "\n",
    "print_metrics(\"Naive Bayes\", y_test, nb_predict)\n",
    "print_confmat(\"Naive Bayes\", y_test, nb_predict)\n"
   ]
  },
  {
   "cell_type": "code",
   "execution_count": 69,
   "id": "c3a18f51-0f6a-45e4-a3a0-de37aa9d51c7",
   "metadata": {},
   "outputs": [
    {
     "name": "stdout",
     "output_type": "stream",
     "text": [
      "\n",
      "=== SANITY CHECK ===\n",
      "Sample text: I guess that's why you re worried. You must know that there's a way the body repairs itself. And i'm quite sure you shouldn't worry. We'll take it slow. First the tests, they will guide when your ovulation is then just relax. Nothing you've said is a reason to worry but i.ll keep on followin you up.\n",
      "Actual label: Ham (1)\n",
      "LR predicted: Ham (1)\n",
      "RF predicted: Ham (1)\n",
      "NB predicted: Ham (1)\n"
     ]
    }
   ],
   "source": [
    "# sanity check\n",
    "i = 23\n",
    "sample_text = X_test.iloc[i]\n",
    "true_label = y_test.iloc[i]\n",
    "\n",
    "lr_pred_one = int(lr.predict(tfidf.transform([sample_text]))[0])\n",
    "rf_pred_one = int(rf.predict(tfidf.transform([sample_text]))[0])\n",
    "nb_pred_one = int(nb.predict(tfidf.transform([sample_text]))[0])\n",
    "def label_to_str(label):\n",
    "    return \"Ham (1)\" if label == 1 else \"Spam (0)\"\n",
    "print(\"\\n=== SANITY CHECK ===\")\n",
    "print(\"Sample text:\", sample_text)\n",
    "print(\"Actual label:\", label_to_str(true_label))\n",
    "print(\"LR predicted:\", label_to_str(lr_pred_one))\n",
    "print(\"RF predicted:\", label_to_str(rf_pred_one))\n",
    "print(\"NB predicted:\", label_to_str(nb_pred_one))\n"
   ]
  },
  {
   "cell_type": "code",
   "execution_count": 70,
   "id": "efc5f968-accd-467d-af22-e57f8ce4987e",
   "metadata": {},
   "outputs": [
    {
     "name": "stdout",
     "output_type": "stream",
     "text": [
      "\n",
      "=== SANITY CHECKS: 3 MESSAGES ===\n",
      "\n",
      "Message: Free entry in 2 a weekly competition!\n",
      "  Logistic Regression Prediction: Ham (1)\n",
      "  Random Forest Prediction:       Ham (1)\n",
      "  Naive Bayes Prediction:         Spam (0)\n",
      "\n",
      "Message: I will meet you at the cafe tomorrow\n",
      "  Logistic Regression Prediction: Ham (1)\n",
      "  Random Forest Prediction:       Ham (1)\n",
      "  Naive Bayes Prediction:         Ham (1)\n",
      "\n",
      "Message: Congratulations, you won a free ticket\n",
      "  Logistic Regression Prediction: Ham (1)\n",
      "  Random Forest Prediction:       Ham (1)\n",
      "  Naive Bayes Prediction:         Ham (1)\n"
     ]
    }
   ],
   "source": [
    "# -------------------------------\n",
    "# SANITY CHECKS: 3 SINGLE MESSAGES\n",
    "# -------------------------------\n",
    "\n",
    "test_messages = [\n",
    "    \"Free entry in 2 a weekly competition!\",  # Likely spam\n",
    "    \"I will meet you at the cafe tomorrow\",  # Likely ham\n",
    "    \"Congratulations, you won a free ticket\" # Likely spam\n",
    "]\n",
    "\n",
    "print(\"\\n=== SANITY CHECKS: 3 MESSAGES ===\")\n",
    "for msg in test_messages:\n",
    "    lr_pred = int(lr.predict(tfidf.transform([msg]))[0])\n",
    "    rf_pred = int(rf.predict(tfidf.transform([msg]))[0])\n",
    "    nb_pred = int(nb.predict(tfidf.transform([msg]))[0])\n",
    "    \n",
    "    print(f\"\\nMessage: {msg}\")\n",
    "    print(f\"  Logistic Regression Prediction: {label_to_str(lr_pred)}\")\n",
    "    print(f\"  Random Forest Prediction:       {label_to_str(rf_pred)}\")\n",
    "    print(f\"  Naive Bayes Prediction:         {label_to_str(nb_pred)}\")\n"
   ]
  },
  {
   "cell_type": "code",
   "execution_count": null,
   "id": "c750de75-a739-457c-8170-5294419edec8",
   "metadata": {},
   "outputs": [],
   "source": []
  }
 ],
 "metadata": {
  "kernelspec": {
   "display_name": "Python 3 (ipykernel)",
   "language": "python",
   "name": "python3"
  },
  "language_info": {
   "codemirror_mode": {
    "name": "ipython",
    "version": 3
   },
   "file_extension": ".py",
   "mimetype": "text/x-python",
   "name": "python",
   "nbconvert_exporter": "python",
   "pygments_lexer": "ipython3",
   "version": "3.13.5"
  }
 },
 "nbformat": 4,
 "nbformat_minor": 5
}
