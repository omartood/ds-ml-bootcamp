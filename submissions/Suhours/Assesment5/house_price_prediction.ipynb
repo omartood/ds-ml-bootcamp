{
 "cells": [
  {
   "cell_type": "code",
   "execution_count": 1,
   "id": "7f99abbc-3538-4b81-b5a2-15473ea9e58e",
   "metadata": {},
   "outputs": [],
   "source": [
    "import pandas as pd\n",
    "import numpy as np\n",
    "from sklearn.model_selection import train_test_split\n",
    "from sklearn.linear_model import LinearRegression\n",
    "from sklearn.ensemble import RandomForestRegressor\n",
    "from sklearn.metrics import mean_absolute_error, mean_squared_error, r2_score"
   ]
  },
  {
   "cell_type": "code",
   "execution_count": 2,
   "id": "2a112e18-950b-4b98-ab1c-abe3c8915755",
   "metadata": {},
   "outputs": [
    {
     "name": "stdout",
     "output_type": "stream",
     "text": [
      "(99, 13)\n"
     ]
    },
    {
     "data": {
      "text/html": [
       "<div>\n",
       "<style scoped>\n",
       "    .dataframe tbody tr th:only-of-type {\n",
       "        vertical-align: middle;\n",
       "    }\n",
       "\n",
       "    .dataframe tbody tr th {\n",
       "        vertical-align: top;\n",
       "    }\n",
       "\n",
       "    .dataframe thead th {\n",
       "        text-align: right;\n",
       "    }\n",
       "</style>\n",
       "<table border=\"1\" class=\"dataframe\">\n",
       "  <thead>\n",
       "    <tr style=\"text-align: right;\">\n",
       "      <th></th>\n",
       "      <th>Size_sqft</th>\n",
       "      <th>Bedrooms</th>\n",
       "      <th>Bathrooms</th>\n",
       "      <th>YearBuilt</th>\n",
       "      <th>Price</th>\n",
       "      <th>Location_City</th>\n",
       "      <th>Location_Rural</th>\n",
       "      <th>Location_Suburb</th>\n",
       "      <th>HouseAge</th>\n",
       "      <th>Rooms_per_1000sqft</th>\n",
       "      <th>Size_per_Bedroom</th>\n",
       "      <th>Is_City</th>\n",
       "      <th>LogPrice</th>\n",
       "    </tr>\n",
       "  </thead>\n",
       "  <tbody>\n",
       "    <tr>\n",
       "      <th>0</th>\n",
       "      <td>1.030281</td>\n",
       "      <td>-1.463643</td>\n",
       "      <td>0.088986</td>\n",
       "      <td>-1.279342</td>\n",
       "      <td>812100.0</td>\n",
       "      <td>1</td>\n",
       "      <td>0</td>\n",
       "      <td>0</td>\n",
       "      <td>1.279342</td>\n",
       "      <td>-1.061465</td>\n",
       "      <td>3.123085</td>\n",
       "      <td>1</td>\n",
       "      <td>13.607380</td>\n",
       "    </tr>\n",
       "    <tr>\n",
       "      <th>1</th>\n",
       "      <td>-0.482463</td>\n",
       "      <td>-1.463643</td>\n",
       "      <td>1.347506</td>\n",
       "      <td>1.326476</td>\n",
       "      <td>547000.0</td>\n",
       "      <td>1</td>\n",
       "      <td>0</td>\n",
       "      <td>0</td>\n",
       "      <td>-1.326476</td>\n",
       "      <td>-0.265637</td>\n",
       "      <td>1.309520</td>\n",
       "      <td>1</td>\n",
       "      <td>13.212206</td>\n",
       "    </tr>\n",
       "    <tr>\n",
       "      <th>2</th>\n",
       "      <td>0.468877</td>\n",
       "      <td>0.007430</td>\n",
       "      <td>-1.169534</td>\n",
       "      <td>-1.339942</td>\n",
       "      <td>693700.0</td>\n",
       "      <td>1</td>\n",
       "      <td>0</td>\n",
       "      <td>0</td>\n",
       "      <td>1.339942</td>\n",
       "      <td>-0.689547</td>\n",
       "      <td>-0.163970</td>\n",
       "      <td>1</td>\n",
       "      <td>13.449796</td>\n",
       "    </tr>\n",
       "    <tr>\n",
       "      <th>3</th>\n",
       "      <td>1.079817</td>\n",
       "      <td>0.742966</td>\n",
       "      <td>1.347506</td>\n",
       "      <td>-0.915740</td>\n",
       "      <td>848300.0</td>\n",
       "      <td>1</td>\n",
       "      <td>0</td>\n",
       "      <td>0</td>\n",
       "      <td>0.915740</td>\n",
       "      <td>-0.199111</td>\n",
       "      <td>-0.307614</td>\n",
       "      <td>1</td>\n",
       "      <td>13.650991</td>\n",
       "    </tr>\n",
       "    <tr>\n",
       "      <th>4</th>\n",
       "      <td>0.788954</td>\n",
       "      <td>1.478502</td>\n",
       "      <td>-1.169534</td>\n",
       "      <td>0.962873</td>\n",
       "      <td>806000.0</td>\n",
       "      <td>0</td>\n",
       "      <td>0</td>\n",
       "      <td>1</td>\n",
       "      <td>-0.962873</td>\n",
       "      <td>-0.311002</td>\n",
       "      <td>-0.610027</td>\n",
       "      <td>0</td>\n",
       "      <td>13.599840</td>\n",
       "    </tr>\n",
       "  </tbody>\n",
       "</table>\n",
       "</div>"
      ],
      "text/plain": [
       "   Size_sqft  Bedrooms  Bathrooms  YearBuilt     Price  Location_City  \\\n",
       "0   1.030281 -1.463643   0.088986  -1.279342  812100.0              1   \n",
       "1  -0.482463 -1.463643   1.347506   1.326476  547000.0              1   \n",
       "2   0.468877  0.007430  -1.169534  -1.339942  693700.0              1   \n",
       "3   1.079817  0.742966   1.347506  -0.915740  848300.0              1   \n",
       "4   0.788954  1.478502  -1.169534   0.962873  806000.0              0   \n",
       "\n",
       "   Location_Rural  Location_Suburb  HouseAge  Rooms_per_1000sqft  \\\n",
       "0               0                0  1.279342           -1.061465   \n",
       "1               0                0 -1.326476           -0.265637   \n",
       "2               0                0  1.339942           -0.689547   \n",
       "3               0                0  0.915740           -0.199111   \n",
       "4               0                1 -0.962873           -0.311002   \n",
       "\n",
       "   Size_per_Bedroom  Is_City   LogPrice  \n",
       "0          3.123085        1  13.607380  \n",
       "1          1.309520        1  13.212206  \n",
       "2         -0.163970        1  13.449796  \n",
       "3         -0.307614        1  13.650991  \n",
       "4         -0.610027        0  13.599840  "
      ]
     },
     "execution_count": 2,
     "metadata": {},
     "output_type": "execute_result"
    }
   ],
   "source": [
    "# data load\n",
    "df = pd.read_csv(\"clean_house_l5_dataset.csv\")\n",
    "print(df.shape)\n",
    "df.head()"
   ]
  },
  {
   "cell_type": "code",
   "execution_count": 3,
   "id": "6010cd09-945b-4b96-9e8e-c2e37ecfc186",
   "metadata": {},
   "outputs": [],
   "source": [
    "# Prepare Features & Target\n",
    "X = df.drop(columns=[\"Price\", \"LogPrice\"])\n",
    "y = df[\"Price\"]\n"
   ]
  },
  {
   "cell_type": "code",
   "execution_count": 4,
   "id": "a1a0e16c-0771-4c87-b414-f6d4c2387f31",
   "metadata": {},
   "outputs": [
    {
     "name": "stdout",
     "output_type": "stream",
     "text": [
      "Train shape: (79, 11), Test shape: (20, 11)\n"
     ]
    }
   ],
   "source": [
    "# Split Data\n",
    "X_train, X_test, y_train, y_test = train_test_split(\n",
    "    X, y, test_size=0.2, random_state=42\n",
    ")\n",
    "print(f\"Train shape: {X_train.shape}, Test shape: {X_test.shape}\")"
   ]
  },
  {
   "cell_type": "code",
   "execution_count": 5,
   "id": "31e39aec-23d0-4f0a-9b6d-eb6806b65297",
   "metadata": {},
   "outputs": [],
   "source": [
    "# Train Models\n",
    "lr = LinearRegression()\n",
    "lr.fit(X_train, y_train)\n",
    "lr_pred = lr.predict(X_test)\n"
   ]
  },
  {
   "cell_type": "code",
   "execution_count": 6,
   "id": "97e0f494-115c-479d-9838-e0aff458f16e",
   "metadata": {},
   "outputs": [],
   "source": [
    "# train random \n",
    "rf = RandomForestRegressor(n_estimators=100, random_state=42)\n",
    "rf.fit(X_train, y_train)\n",
    "rf_pred = rf.predict(X_test)"
   ]
  },
  {
   "cell_type": "code",
   "execution_count": 10,
   "id": "dbae1fdb-9ff9-4379-9c44-b65b4ebe5ca3",
   "metadata": {},
   "outputs": [],
   "source": [
    "# Evaluate Performance using helper function\n",
    "def print_metrics(name, y_true, y_pred):\n",
    "    \"\"\"Print R², MAE, MSE, RMSE for a model's predictions.\"\"\"\n",
    "    r2  = r2_score(y_true, y_pred)\n",
    "    mae = mean_absolute_error(y_true, y_pred)\n",
    "    mse = mean_squared_error(y_true, y_pred)\n",
    "    rmse = np.sqrt(mse)\n",
    "    print(f\"\\n{name} Performance:\")\n",
    "    print(f\"  R²   : {r2:.2f}\")        \n",
    "    print(f\"  MAE  : {mae:,.0f}\")        \n",
    "    print(f\"  MSE  : {mse:,.0f}\")\n",
    "    print(f\"  RMSE : {rmse:,.0f}\")"
   ]
  },
  {
   "cell_type": "code",
   "execution_count": 11,
   "id": "cd35d054-2827-42ea-a4c8-d8920d48a37f",
   "metadata": {},
   "outputs": [
    {
     "name": "stdout",
     "output_type": "stream",
     "text": [
      "\n",
      "Linear Regression Performance:\n",
      "  R²   : 0.85\n",
      "  MAE  : 63,086\n",
      "  MSE  : 5,718,940,941\n",
      "  RMSE : 75,624\n",
      "\n",
      "Random Forest Performance:\n",
      "  R²   : 0.86\n",
      "  MAE  : 52,524\n",
      "  MSE  : 5,283,317,455\n",
      "  RMSE : 72,686\n"
     ]
    }
   ],
   "source": [
    "print_metrics(\"Linear Regression\", y_test, lr_pred)\n",
    "print_metrics(\"Random Forest\",     y_test, rf_pred)"
   ]
  },
  {
   "cell_type": "code",
   "execution_count": 15,
   "id": "01252ac6-ca2a-4085-9933-63c2ce5558eb",
   "metadata": {},
   "outputs": [
    {
     "name": "stdout",
     "output_type": "stream",
     "text": [
      "\n",
      "Single-row sanity check:\n",
      "  Actual Price: $535,300\n",
      "  LR Pred     : $609,615\n",
      "  RF Pred     : $538,756\n"
     ]
    }
   ],
   "source": [
    "# single row prediction (sanity check)\n",
    "i = 4\n",
    "x_one_df = X_test.iloc[[i]]  \n",
    "y_true   = y_test.iloc[i]\n",
    "\n",
    "p_lr_one = float(lr.predict(x_one_df)[0])\n",
    "p_rf_one = float(rf.predict(x_one_df)[0])\n",
    "\n",
    "print(\"\\nSingle-row sanity check:\")\n",
    "print(f\"  Actual Price: ${y_true:,.0f}\")\n",
    "print(f\"  LR Pred     : ${p_lr_one:,.0f}\")\n",
    "print(f\"  RF Pred     : ${p_rf_one:,.0f}\")"
   ]
  },
  {
   "cell_type": "code",
   "execution_count": null,
   "id": "85b3f9f8-9556-4e5f-b770-2a7f8ebfb72e",
   "metadata": {},
   "outputs": [],
   "source": []
  }
 ],
 "metadata": {
  "kernelspec": {
   "display_name": "Python 3 (ipykernel)",
   "language": "python",
   "name": "python3"
  },
  "language_info": {
   "codemirror_mode": {
    "name": "ipython",
    "version": 3
   },
   "file_extension": ".py",
   "mimetype": "text/x-python",
   "name": "python",
   "nbconvert_exporter": "python",
   "pygments_lexer": "ipython3",
   "version": "3.13.5"
  }
 },
 "nbformat": 4,
 "nbformat_minor": 5
}
