{
 "cells": [
  {
   "cell_type": "code",
   "execution_count": 1,
   "id": "9d269381",
   "metadata": {},
   "outputs": [],
   "source": [
    "import pandas as pd\n",
    "import numpy as np\n",
    "from sklearn.model_selection import train_test_split\n",
    "from sklearn.linear_model import LinearRegression\n",
    "from sklearn.ensemble import RandomForestRegressor\n",
    "from sklearn.metrics import mean_absolute_error, mean_squared_error, r2_score"
   ]
  },
  {
   "cell_type": "code",
   "execution_count": 2,
   "id": "cad3f148",
   "metadata": {},
   "outputs": [
    {
     "name": "stdout",
     "output_type": "stream",
     "text": [
      "    Price  Odometer_km     Doors  Accidents      Year    CarAge  \\\n",
      "0  1500.0     0.128390  0.254091   0.316968 -1.686714  1.686714   \n",
      "1  4171.0    -0.044709  0.254091  -0.820867  0.794617 -0.794617   \n",
      "2  5331.0    -0.440923  0.254091  -0.820867  0.518913 -0.518913   \n",
      "3  1500.0     0.203135  0.254091   0.316968 -1.548862  1.548862   \n",
      "4  1500.0    -0.044709 -0.931668  -0.820867  1.621727 -1.621727   \n",
      "\n",
      "   Location_City  Location_Rural  Location_Suburb  Is_Cheap  Mileage_per_Year  \\\n",
      "0              1               0                0  0.756990         -0.553364   \n",
      "1              0               1                0 -1.321022         -0.003812   \n",
      "2              0               0                1 -1.321022         -0.274949   \n",
      "3              0               0                1  0.756990         -0.532378   \n",
      "4              1               0                0  0.756990          1.706594   \n",
      "\n",
      "   High_Accident_Risk  \n",
      "0                -0.5  \n",
      "1                -0.5  \n",
      "2                -0.5  \n",
      "3                -0.5  \n",
      "4                -0.5  \n"
     ]
    }
   ],
   "source": [
    "CSV_PATH = \"../../assignment3/car/Caring_cleared.csv\"\n",
    "df = pd.read_csv(CSV_PATH)\n",
    "print(df.head())"
   ]
  },
  {
   "cell_type": "code",
   "execution_count": 3,
   "id": "0cd56501",
   "metadata": {},
   "outputs": [],
   "source": [
    "x = df.drop(columns=[\"Price\"])\n",
    "y = df[\"Price\"]"
   ]
  },
  {
   "cell_type": "code",
   "execution_count": 4,
   "id": "710539bf",
   "metadata": {},
   "outputs": [],
   "source": [
    "xTrain, xTest, yTrain, yTest = train_test_split(x, y, test_size=0.2, random_state=42)\n",
    "lr = LinearRegression()\n",
    "lr.fit(xTrain, yTrain)\n",
    "lr_predictions = lr.predict(xTest)\n",
    "\n",
    "rf = RandomForestRegressor(n_estimators=100, random_state=42)\n",
    "rf.fit(xTrain, yTrain)\n",
    "rf_predictions = rf.predict(xTest)"
   ]
  },
  {
   "cell_type": "code",
   "execution_count": 5,
   "id": "f26a7535",
   "metadata": {},
   "outputs": [
    {
     "name": "stdout",
     "output_type": "stream",
     "text": [
      "Linear Regression Performance:\n",
      "R2: 0.657\n",
      "MAE: 1,147\n",
      "MSE: 2,280,201.64\n",
      "RMSE: 1,510.03\n",
      "Random Forest Performance:\n",
      "R2: 0.646\n",
      "MAE: 885\n",
      "MSE: 2,352,939.72\n",
      "RMSE: 1,533.93\n"
     ]
    }
   ],
   "source": [
    "def print_metrics(name,yTrue,yPred):\n",
    "    r2 = r2_score(yTrue, yPred)\n",
    "    mae = mean_absolute_error(yTrue, yPred)\n",
    "    mse = mean_squared_error(yTrue, yPred)\n",
    "    rmse = np.sqrt(mse)\n",
    "    print(f\"{name} Performance:\")\n",
    "    print(f\"R2: {r2:.3f}\")\n",
    "    print(f\"MAE: {mae:,.0f}\")\n",
    "    print(f\"MSE: {mse:,.2f}\")\n",
    "    print(f\"RMSE: {rmse:,.2f}\")\n",
    "print_metrics(\"Linear Regression\", yTest, lr_predictions)\n",
    "print_metrics(\"Random Forest\", yTest, rf_predictions)"
   ]
  },
  {
   "cell_type": "code",
   "execution_count": 8,
   "id": "dbcc1e83",
   "metadata": {},
   "outputs": [
    {
     "name": "stdout",
     "output_type": "stream",
     "text": [
      "  Actual Price: $1,500\n",
      "  LR Pred     : $1,591\n",
      "  RF Pred     : $1,500\n"
     ]
    }
   ],
   "source": [
    "i = 2\n",
    "x_one_df = xTest.iloc[[i]]\n",
    "y_true = yTest.iloc[i]\n",
    "\n",
    "p_lr_one = float(lr.predict(x_one_df)[0])\n",
    "p_rf_one = float(rf.predict(x_one_df)[0])\n",
    "\n",
    "print(f\"  Actual Price: ${y_true:,.0f}\")\n",
    "print(f\"  LR Pred     : ${p_lr_one:,.0f}\")\n",
    "print(f\"  RF Pred     : ${p_rf_one:,.0f}\")"
   ]
  }
 ],
 "metadata": {
  "kernelspec": {
   "display_name": "Python 3",
   "language": "python",
   "name": "python3"
  },
  "language_info": {
   "codemirror_mode": {
    "name": "ipython",
    "version": 3
   },
   "file_extension": ".py",
   "mimetype": "text/x-python",
   "name": "python",
   "nbconvert_exporter": "python",
   "pygments_lexer": "ipython3",
   "version": "3.13.7"
  }
 },
 "nbformat": 4,
 "nbformat_minor": 5
}
