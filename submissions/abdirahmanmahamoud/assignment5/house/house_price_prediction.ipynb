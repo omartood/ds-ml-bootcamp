{
 "cells": [
  {
   "cell_type": "code",
   "execution_count": 3,
   "id": "28e7a984",
   "metadata": {},
   "outputs": [],
   "source": [
    "import pandas as pd\n",
    "import numpy as np\n",
    "from sklearn.model_selection import train_test_split\n",
    "from sklearn.linear_model import LinearRegression\n",
    "from sklearn.ensemble import RandomForestRegressor\n",
    "from sklearn.metrics import mean_absolute_error, mean_squared_error, r2_score"
   ]
  },
  {
   "cell_type": "code",
   "execution_count": 4,
   "id": "a0a276c9",
   "metadata": {},
   "outputs": [
    {
     "name": "stdout",
     "output_type": "stream",
     "text": [
      "   Size_sqft  Bedrooms  Bathrooms  YearBuilt     Price  Location_City  \\\n",
      "0   1.030281 -1.463643   0.088986  -1.279342  812100.0              1   \n",
      "1  -0.482463 -1.463643   1.347506   1.326476  547000.0              1   \n",
      "2   0.468877  0.007430  -1.169534  -1.339942  693700.0              1   \n",
      "3   1.079817  0.742966   1.347506  -0.915740  848300.0              1   \n",
      "4   0.788954  1.478502  -1.169534   0.962873  806000.0              0   \n",
      "\n",
      "   Location_Rural  Location_Suburb  HouseAge  Rooms_per_1000sqft  \\\n",
      "0               0                0  1.279342           -1.061465   \n",
      "1               0                0 -1.326476           -0.265637   \n",
      "2               0                0  1.339942           -0.689547   \n",
      "3               0                0  0.915740           -0.199111   \n",
      "4               0                1 -0.962873           -0.311002   \n",
      "\n",
      "   Size_per_Bedroom  Is_City   LogPrice  \n",
      "0          3.123085        1  13.607380  \n",
      "1          1.309520        1  13.212206  \n",
      "2         -0.163970        1  13.449796  \n",
      "3         -0.307614        1  13.650991  \n",
      "4         -0.610027        0  13.599840  \n"
     ]
    }
   ],
   "source": [
    "CSV_PATH = \"../../../../dataset/clean_house_l5_dataset.csv\"\n",
    "df = pd.read_csv(CSV_PATH)\n",
    "print(df.head())"
   ]
  },
  {
   "cell_type": "code",
   "execution_count": null,
   "id": "c0cebc62",
   "metadata": {},
   "outputs": [],
   "source": []
  },
  {
   "cell_type": "code",
   "execution_count": 5,
   "id": "487ae925",
   "metadata": {},
   "outputs": [],
   "source": [
    "x = df.drop(columns=[\"Price\", \"LogPrice\"])\n",
    "y = df[\"Price\"]"
   ]
  },
  {
   "cell_type": "code",
   "execution_count": 6,
   "id": "bfcfe4ea",
   "metadata": {},
   "outputs": [],
   "source": [
    "xTrain, xTest, yTrain, yTest = train_test_split(x, y, test_size=0.2, random_state=42)\n",
    "lr = LinearRegression()\n",
    "lr.fit(xTrain, yTrain)\n",
    "lr_predictions = lr.predict(xTest)\n",
    "\n",
    "rf = RandomForestRegressor(n_estimators=100, random_state=42)\n",
    "rf.fit(xTrain, yTrain)\n",
    "rf_predictions = rf.predict(xTest)"
   ]
  },
  {
   "cell_type": "code",
   "execution_count": null,
   "id": "24d414ac",
   "metadata": {},
   "outputs": [],
   "source": []
  },
  {
   "cell_type": "code",
   "execution_count": 7,
   "id": "01245840",
   "metadata": {},
   "outputs": [
    {
     "name": "stdout",
     "output_type": "stream",
     "text": [
      "Linear Regression Performance:\n",
      "R2: 0.848\n",
      "MAE: 63,086\n",
      "MSE: 5,718,940,940.60\n",
      "RMSE: 75,623.68\n",
      "Random Forest Performance:\n",
      "R2: 0.859\n",
      "MAE: 52,524\n",
      "MSE: 5,283,317,454.95\n",
      "RMSE: 72,686.43\n"
     ]
    }
   ],
   "source": [
    "def print_metrics(name,yTrue,yPred):\n",
    "    r2 = r2_score(yTrue, yPred)\n",
    "    mae = mean_absolute_error(yTrue, yPred)\n",
    "    mse = mean_squared_error(yTrue, yPred)\n",
    "    rmse = np.sqrt(mse)\n",
    "    print(f\"{name} Performance:\")\n",
    "    print(f\"R2: {r2:.3f}\")\n",
    "    print(f\"MAE: {mae:,.0f}\")\n",
    "    print(f\"MSE: {mse:,.2f}\")\n",
    "    print(f\"RMSE: {rmse:,.2f}\")\n",
    "print_metrics(\"Linear Regression\", yTest, lr_predictions)\n",
    "print_metrics(\"Random Forest\", yTest, rf_predictions)"
   ]
  },
  {
   "cell_type": "code",
   "execution_count": 8,
   "id": "062447df",
   "metadata": {},
   "outputs": [
    {
     "name": "stdout",
     "output_type": "stream",
     "text": [
      "  Actual Price: $535,300\n",
      "  LR Pred     : $609,615\n",
      "  RF Pred     : $538,756\n"
     ]
    }
   ],
   "source": [
    "i = 4\n",
    "x_one_df = xTest.iloc[[i]]\n",
    "y_true = yTest.iloc[i]\n",
    "\n",
    "p_lr_one = float(lr.predict(x_one_df)[0])\n",
    "p_rf_one = float(rf.predict(x_one_df)[0])\n",
    "\n",
    "print(f\"  Actual Price: ${y_true:,.0f}\")\n",
    "print(f\"  LR Pred     : ${p_lr_one:,.0f}\")\n",
    "print(f\"  RF Pred     : ${p_rf_one:,.0f}\")"
   ]
  }
 ],
 "metadata": {
  "kernelspec": {
   "display_name": "Python 3",
   "language": "python",
   "name": "python3"
  },
  "language_info": {
   "codemirror_mode": {
    "name": "ipython",
    "version": 3
   },
   "file_extension": ".py",
   "mimetype": "text/x-python",
   "name": "python",
   "nbconvert_exporter": "python",
   "pygments_lexer": "ipython3",
   "version": "3.13.7"
  }
 },
 "nbformat": 4,
 "nbformat_minor": 5
}
