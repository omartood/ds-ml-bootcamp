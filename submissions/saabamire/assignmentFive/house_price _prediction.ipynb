{
 "cells": [
  {
   "cell_type": "code",
   "execution_count": 34,
   "id": "5595c0bc-fb04-4d52-bf72-ce19c74d106c",
   "metadata": {},
   "outputs": [],
   "source": [
    "import pandas as pd\n",
    "import numpy as np\n",
    "from sklearn.model_selection import train_test_split\n",
    "from sklearn.linear_model import LinearRegression\n",
    "from sklearn.metrics import mean_absolute_error , mean_squared_error, r2_score\n",
    "from sklearn.ensemble import RandomForestRegressor\n",
    "\n"
   ]
  },
  {
   "cell_type": "code",
   "execution_count": 14,
   "id": "1ae98c49-7e6c-40ea-b43c-6a0d83f00064",
   "metadata": {},
   "outputs": [
    {
     "name": "stdout",
     "output_type": "stream",
     "text": [
      "(99, 13)\n"
     ]
    }
   ],
   "source": [
    "\n",
    "CSV_PATH=\"clean_house_l5_dataset.csv\"\n",
    "df = pd.read_csv(CSV_PATH)\n",
    "print(df.shape)"
   ]
  },
  {
   "cell_type": "code",
   "execution_count": 16,
   "id": "7c62e5e1-f8d7-4a50-85cc-1c8830775cdc",
   "metadata": {},
   "outputs": [],
   "source": [
    "\n",
    "x = df.drop(columns=[\"Price\",\"LogPrice\"])\n",
    "y = df[\"Price\"]"
   ]
  },
  {
   "cell_type": "code",
   "execution_count": 56,
   "id": "b25bbf36-2b02-47e2-903d-d558bebee840",
   "metadata": {},
   "outputs": [
    {
     "name": "stdout",
     "output_type": "stream",
     "text": [
      "the prediction Linear Regression: \n",
      "R2 score  is :0.848\n",
      "the mean absolute error is :63,086\n",
      "the mean squared error is :5,718,940,941\n",
      "the root mean squared error is :75,624\n",
      "the prediction Random Forest Regressor: \n",
      "R2 score  is :0.859\n",
      "the mean absolute error is :52,524\n",
      "the mean squared error is :5,283,317,455\n",
      "the root mean squared error is :72,686\n"
     ]
    }
   ],
   "source": [
    "X_train, X_test, y_train, y_test = train_test_split(x, y , test_size=0.2, random_state=42)\n",
    "\n",
    "lr = LinearRegression()\n",
    "rf =  RandomForestRegressor(n_estimators=100, random_state=42)\n",
    "\n",
    "lr.fit(X_train, y_train)\n",
    "rf.fit(X_train, y_train)\n",
    "\n",
    "lr_predict=lr.predict(X_test)\n",
    "rf_predict=rf.predict(X_test)\n",
    "\n",
    "def print_metrics(model_name, y, y_predict):\n",
    "    r2 = r2_score(y, y_predict)\n",
    "    mae = mean_absolute_error(y, y_predict)\n",
    "    mse = mean_squared_error(y , y_predict)\n",
    "    rmse = np.sqrt(mse)\n",
    "    print(f\"the prediction {model_name}\")\n",
    "    print(f\"R2 score  is :{r2:.3f}\")\n",
    "    print(f\"the mean absolute error is :{ mae:,.0f}\")\n",
    "    print(f\"the mean squared error is :{mse:,.0f}\")\n",
    "    print(f\"the root mean squared error is :{rmse:,.0f}\")\n",
    "\n",
    "print_metrics(\"Linear Regression: \", y_test, lr_predict)\n",
    "print_metrics(\"Random Forest Regressor: \",y_test, rf_predict)\n",
    "    \n",
    "    "
   ]
  },
  {
   "cell_type": "code",
   "execution_count": 77,
   "id": "81fcee96-eccd-4109-bff2-ebe072d9f388",
   "metadata": {},
   "outputs": [
    {
     "name": "stdout",
     "output_type": "stream",
     "text": [
      "Single row sanity check\n",
      "actual value: 366,000\n",
      "linear regression: 299,971\n",
      "Rrandom Forest Regressor: 311,571\n"
     ]
    }
   ],
   "source": [
    "i=10\n",
    "x_one_df = X_test.iloc[[i]]\n",
    "y_true =  y_test.iloc[i]\n",
    "\n",
    "p_lr_one = float(lr.predict(x_one_df)[0])\n",
    "p_rf_one = float(rf.predict(x_one_df)[0])\n",
    "\n",
    "print(\"Single row sanity check\")\n",
    "\n",
    "print(f\"actual value: {y_true:,.0f}\")\n",
    "print(f\"linear regression: {p_lr_one:,.0f}\")\n",
    "print(f\"Rrandom Forest Regressor: {p_rf_one:,.0f}\")"
   ]
  },
  {
   "cell_type": "code",
   "execution_count": null,
   "id": "8c92e3b8-8588-4126-bf8e-0263cfd7e5db",
   "metadata": {},
   "outputs": [],
   "source": []
  }
 ],
 "metadata": {
  "kernelspec": {
   "display_name": "Python 3 (ipykernel)",
   "language": "python",
   "name": "python3"
  },
  "language_info": {
   "codemirror_mode": {
    "name": "ipython",
    "version": 3
   },
   "file_extension": ".py",
   "mimetype": "text/x-python",
   "name": "python",
   "nbconvert_exporter": "python",
   "pygments_lexer": "ipython3",
   "version": "3.12.4"
  }
 },
 "nbformat": 4,
 "nbformat_minor": 5
}
