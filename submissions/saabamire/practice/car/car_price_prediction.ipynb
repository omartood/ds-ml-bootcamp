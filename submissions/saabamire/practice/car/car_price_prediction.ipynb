{
 "cells": [
  {
   "cell_type": "code",
   "execution_count": 1,
   "id": "b1b3f225-1377-478d-ac48-80aba0822cf7",
   "metadata": {},
   "outputs": [],
   "source": [
    "import pandas as pd\n",
    "import numpy as np\n",
    "from sklearn.model_selection import train_test_split\n",
    "from sklearn.linear_model import LinearRegression\n",
    "from sklearn.metrics import mean_absolute_error, mean_squared_error , r2_score\n",
    "from sklearn.ensemble import RandomForestRegressor\n"
   ]
  },
  {
   "cell_type": "code",
   "execution_count": 3,
   "id": "ae96fa87-0815-4f82-81d9-bfbadf725bd2",
   "metadata": {},
   "outputs": [
    {
     "name": "stdout",
     "output_type": "stream",
     "text": [
      "(140, 12)\n"
     ]
    }
   ],
   "source": [
    "df = pd.read_csv(\"car_l3_clean_ready.csv\")\n",
    "print(df.shape)"
   ]
  },
  {
   "cell_type": "code",
   "execution_count": 7,
   "id": "12d247a2-39c2-41e5-8f29-4ff222e8af53",
   "metadata": {},
   "outputs": [],
   "source": [
    "x = df.drop(columns=[\"Price\", \"LogPrice\"])\n",
    "y = df[\"Price\"]"
   ]
  },
  {
   "cell_type": "code",
   "execution_count": 15,
   "id": "63604bed-b7a3-45d6-b020-18725b5adc81",
   "metadata": {},
   "outputs": [
    {
     "name": "stdout",
     "output_type": "stream",
     "text": [
      "the prediction Linear Regression: \n",
      "R2 score  is :0.436\n",
      "the mean absolute error is :1,428\n",
      "the mean squared error is :3,755,299\n",
      "the root mean squared error is :1,938\n",
      "the prediction Random Forest Regressor: \n",
      "R2 score  is :0.243\n",
      "the mean absolute error is :1,238\n",
      "the mean squared error is :5,038,456\n",
      "the root mean squared error is :2,245\n"
     ]
    }
   ],
   "source": [
    "X_train, X_test, y_train, y_test = train_test_split(x, y, test_size=0.2, random_state=42)\n",
    "\n",
    "lr = LinearRegression()\n",
    "rf = RandomForestRegressor(n_estimators=100, random_state=42)\n",
    "\n",
    "\n",
    "lr.fit(X_train, y_train)\n",
    "rf.fit(X_train, y_train)\n",
    "\n",
    "lr_predict = lr.predict(X_test)\n",
    "rf_predict = rf.predict(X_test)\n",
    "\n",
    "def print_metrics(name, y, y_predict):\n",
    "    r2 = r2_score(y, y_predict)\n",
    "    mae = mean_absolute_error(y, y_predict)\n",
    "    mse = mean_squared_error(y , y_predict)\n",
    "    rmse = np.sqrt(mse)\n",
    "    print(f\"the prediction {name}\")\n",
    "    print(f\"R2 score  is :{r2:.3f}\")\n",
    "    print(f\"the mean absolute error is :{ mae:,.0f}\")\n",
    "    print(f\"the mean squared error is :{mse:,.0f}\")\n",
    "    print(f\"the root mean squared error is :{rmse:,.0f}\")\n",
    "\n",
    "print_metrics(\"Linear Regression: \", y_test, lr_predict)\n",
    "print_metrics(\"Random Forest Regressor: \",y_test, rf_predict)"
   ]
  },
  {
   "cell_type": "code",
   "execution_count": 21,
   "id": "e21ddd83-ecca-498e-9533-a090fe1afcdc",
   "metadata": {},
   "outputs": [
    {
     "name": "stdout",
     "output_type": "stream",
     "text": [
      "Single row sanity check\n",
      "actual value: 1,500\n",
      "linear regression: 2,560\n",
      "Rrandom Forest Regressor: 1,666\n"
     ]
    }
   ],
   "source": [
    "i=2\n",
    "x_one_df = X_test.iloc[[i]]\n",
    "y_true =  y_test.iloc[i]\n",
    "\n",
    "p_lr_one = float(lr.predict(x_one_df)[0])\n",
    "p_rf_one = float(rf.predict(x_one_df)[0])\n",
    "\n",
    "print(\"checkig single row\")\n",
    "\n",
    "print(f\"actual value: {y_true:,.0f}\")\n",
    "print(f\"linear regression: {p_lr_one:,.0f}\")\n",
    "print(f\"Rrandom Forest Regressor: {p_rf_one:,.0f}\")"
   ]
  }
 ],
 "metadata": {
  "kernelspec": {
   "display_name": "Python 3 (ipykernel)",
   "language": "python",
   "name": "python3"
  },
  "language_info": {
   "codemirror_mode": {
    "name": "ipython",
    "version": 3
   },
   "file_extension": ".py",
   "mimetype": "text/x-python",
   "name": "python",
   "nbconvert_exporter": "python",
   "pygments_lexer": "ipython3",
   "version": "3.12.4"
  }
 },
 "nbformat": 4,
 "nbformat_minor": 5
}
