{
 "cells": [
  {
   "cell_type": "code",
   "execution_count": 77,
   "id": "65974960-3d73-403e-a926-536fcb6725fd",
   "metadata": {},
   "outputs": [],
   "source": [
    "import pandas as pd\n",
    "import numpy as np\n",
    "from sklearn.model_selection import train_test_split\n",
    "from sklearn.feature_extraction.text import TfidfVectorizer\n",
    "from sklearn.linear_model import LogisticRegression\n",
    "from sklearn.metrics import (accuracy_score, precision_score, recall_score, f1_score, confusion_matrix)\n",
    "from sklearn.ensemble import RandomForestClassifier\n",
    "from sklearn.naive_bayes import MultinomialNB\n",
    "RANDOM_STATE = 42 "
   ]
  },
  {
   "cell_type": "code",
   "execution_count": 3,
   "id": "183ce1e5-fdcd-4231-af2a-024c3227bf45",
   "metadata": {},
   "outputs": [
    {
     "name": "stdout",
     "output_type": "stream",
     "text": [
      "  Category                                            Message\n",
      "0      ham  Go until jurong point, crazy.. Available only ...\n",
      "1      ham                      Ok lar... Joking wif u oni...\n",
      "2     spam  Free entry in 2 a wkly comp to win FA Cup fina...\n",
      "3      ham  U dun say so early hor... U c already then say...\n",
      "4      ham  Nah I don't think he goes to usf, he lives aro...\n",
      "5     spam  FreeMsg Hey there darling it's been 3 week's n...\n",
      "6      ham  Even my brother is not like to speak with me. ...\n",
      "7      ham  As per your request 'Melle Melle (Oru Minnamin...\n",
      "8     spam  WINNER!! As a valued network customer you have...\n",
      "9     spam  Had your mobile 11 months or more? U R entitle...\n"
     ]
    }
   ],
   "source": [
    "df = pd.read_csv(\"mail_l7_dataset.csv\")\n",
    "print(df.head(10))\n"
   ]
  },
  {
   "cell_type": "code",
   "execution_count": 9,
   "id": "ea456cbd-d467-45d9-a6e1-7bf866572a7a",
   "metadata": {},
   "outputs": [
    {
     "name": "stdout",
     "output_type": "stream",
     "text": [
      "  Category                                            Message\n",
      "0        1  Go until jurong point, crazy.. Available only ...\n",
      "1        1                      Ok lar... Joking wif u oni...\n",
      "2        0  Free entry in 2 a wkly comp to win FA Cup fina...\n",
      "3        1  U dun say so early hor... U c already then say...\n",
      "4        1  Nah I don't think he goes to usf, he lives aro...\n"
     ]
    }
   ],
   "source": [
    "# handle missing value and encoding the label \n",
    "df[\"Category\"] = df[\"Category\"].fillna(\"\").astype(str).str.lower().str.strip()\n",
    "\n",
    "df[\"Category\"] = df[\"Category\"].astype(str).str.lower().str.strip()\n",
    "df[\"Category\"] = df[\"Category\"].replace({\"spam\": 0, \"ham\": 1})\n",
    "print(df.head())\n"
   ]
  },
  {
   "cell_type": "code",
   "execution_count": 55,
   "id": "1167dcc1-dce2-425b-af44-8ad196c3ead3",
   "metadata": {},
   "outputs": [
    {
     "name": "stdout",
     "output_type": "stream",
     "text": [
      "the X train data is:  (4457,)\n",
      "the X test data is:  (1115,)\n",
      "the Y train data is:  (4457,)\n",
      "the Y test data is:  (1115,)\n"
     ]
    }
   ],
   "source": [
    "\n",
    "X = df[\"Message\"].astype(str)   \n",
    "y = df[\"Category\"].astype(int) \n",
    "\n",
    "X_train, X_test, y_train, y_test = train_test_split(X, y, test_size=0.2, random_state=42)\n",
    "\n",
    "print( \"the X train data is: \",X_train.shape)\n",
    "print(\"the X test data is: \",X_test.shape)\n",
    "print(\"the Y train data is: \",y_train.shape)\n",
    "print(\"the Y test data is: \",y_test.shape)"
   ]
  },
  {
   "cell_type": "code",
   "execution_count": 67,
   "id": "1605b2b6-7280-4c9f-89dd-35c4bb3b758f",
   "metadata": {},
   "outputs": [
    {
     "name": "stdout",
     "output_type": "stream",
     "text": [
      "[1 1 1 ... 1 1 1]\n",
      "[1 1 1 ... 1 1 1]\n",
      "[1 1 1 ... 1 1 1]\n"
     ]
    }
   ],
   "source": [
    "tfidf = TfidfVectorizer(min_df = 1, stop_words=\"english\", lowercase=True)\n",
    "X_train_features = tfidf.fit_transform(X_train)\n",
    "X_test_features = tfidf.transform(X_test)\n",
    "\n",
    "lr =  LogisticRegression(max_iter=1000, random_state=42)\n",
    "lr.fit(X_train_features, y_train)\n",
    "lr_predict = lr.predict(X_test_features)\n",
    "print(lr_predict)\n",
    "\n",
    "rf =  RandomForestClassifier(n_estimators=200, random_state=RANDOM_STATE)\n",
    "rf.fit(X_train_features, y_train)\n",
    "rf_predict = rf.predict(X_test_features.toarray())\n",
    "print(rf_predict)\n",
    "\n",
    "nb = MultinomialNB()\n",
    "nb.fit(X_train_features, y_train)\n",
    "nb_predict = nb.predict(X_test_features)\n",
    "print(nb_predict)"
   ]
  },
  {
   "cell_type": "code",
   "execution_count": 97,
   "id": "e9158922-3b66-46e3-813c-93645e4a86a1",
   "metadata": {},
   "outputs": [
    {
     "name": "stdout",
     "output_type": "stream",
     "text": [
      " Performance Logistic Regression : \n",
      "accurancy : 0.97\n",
      "precision : 1.00 (Positive = Spam = 0)\n",
      "recall : 0.76 (positive=spam=0)\n",
      "F1 score : 0.86 (positive=spam=0)\n",
      "Confusion Matrix:\n",
      "                  Pred: Ham (1)  Pred: Spam (0)\n",
      "Actual: Ham (1)             966               0\n",
      "Actual: Spam (0)             36             113 \n",
      "\n",
      " Performance Random Forest Classifier : \n",
      "accurancy : 0.98\n",
      "precision : 1.00 (Positive = Spam = 0)\n",
      "recall : 0.87 (positive=spam=0)\n",
      "F1 score : 0.93 (positive=spam=0)\n",
      "Confusion Matrix:\n",
      "                  Pred: Ham (1)  Pred: Spam (0)\n",
      "Actual: Ham (1)             966               0\n",
      "Actual: Spam (0)             19             130 \n",
      "\n",
      " Performance Naive Bayes(MultinomialNB) classifier :\n",
      "accurancy : 0.98\n",
      "precision : 1.00 (Positive = Spam = 0)\n",
      "recall : 0.83 (positive=spam=0)\n",
      "F1 score : 0.90 (positive=spam=0)\n",
      "Confusion Matrix:\n",
      "                  Pred: Ham (1)  Pred: Spam (0)\n",
      "Actual: Ham (1)             966               0\n",
      "Actual: Spam (0)             26             123 \n",
      "\n"
     ]
    }
   ],
   "source": [
    "def  print_metrics(name, y_true, y_predict, pos_label=0):\n",
    "    acc = accuracy_score (y_true, y_predict)\n",
    "    prec = precision_score(y_true, y_predict , pos_label=pos_label)\n",
    "    rec = recall_score(y_true, y_predict, pos_label = pos_label)\n",
    "    f1 = f1_score(y_true, y_predict, pos_label = pos_label)\n",
    "    print(f\" Performance {name}\")\n",
    "    print(f\"accurancy : {acc:.2f}\")\n",
    "    print(f\"precision : {prec:.2f} (Positive = Spam = 0)\")\n",
    "    print(f\"recall : {rec:.2f} (positive=spam=0)\")\n",
    "    print(f\"F1 score : {f1:.2f} (positive=spam=0)\")\n",
    "    \n",
    "def print_confmat(name, y_true, y_predict):\n",
    "\n",
    "    cm = confusion_matrix(y_true, y_predict, labels=[1, 0])\n",
    "    cm_df = pd.DataFrame(\n",
    "        cm,\n",
    "        index   = [\"Actual: Ham (1)\",  \"Actual: Spam (0)\"],\n",
    "        columns = [\"Pred: Ham (1)\",    \"Pred: Spam (0)\"]\n",
    "    )\n",
    "    print(f\"Confusion Matrix:\\n{cm_df} \\n\")\n",
    "    \n",
    "print_metrics(\"Logistic Regression : \", y_test, lr_predict)\n",
    "print_confmat(\"Logistic Regression\", y_test, lr_predict )\n",
    "\n",
    "print_metrics(\"Random Forest Classifier : \", y_test, rf_predict)\n",
    "print_confmat(\"Random Forest\", y_test, rf_predict)\n",
    "\n",
    "print_metrics(\"Naive Bayes(MultinomialNB) classifier :\", y_test, nb_predict)\n",
    "print_confmat(\"Naive Bayes(MultinomialNB) classifier\", y_test, nb_predict)\n",
    "    "
   ]
  },
  {
   "cell_type": "code",
   "execution_count": 107,
   "id": "b54e95d6-c417-4023-bf03-baeeaab3b2b5",
   "metadata": {},
   "outputs": [
    {
     "name": "stdout",
     "output_type": "stream",
     "text": [
      "\n",
      "=== SINGLE MESSAGE CHECK (index = 5 ) ===\n",
      "Text snippet: Sary just need Tim in the bollox &it hurt him a lot so he tol me!\n",
      "Actual      : Ham (1)\n",
      "LR Pred     : Ham (1)\n",
      "RF Pred     : Ham (1)\n",
      "NB Pred     : Ham (1)\n",
      "\n",
      "=== SINGLE MESSAGE CHECK (index = 14 ) ===\n",
      "Text snippet: FREE RINGTONE text FIRST to 87131 for a poly or text GET to 87131 for a true tone! Help? 0845 2814032 16 after 1st free, tones are 3x£150pw to e£nd txt stop\n",
      "Actual      : Spam (0)\n",
      "LR Pred     : Spam (0)\n",
      "RF Pred     : Spam (0)\n",
      "NB Pred     : Spam (0)\n",
      "\n",
      "=== SINGLE MESSAGE CHECK (index = 27 ) ===\n",
      "Text snippet: Gud gud..k, chikku tke care.. sleep well gud nyt\n",
      "Actual      : Ham (1)\n",
      "LR Pred     : Ham (1)\n",
      "RF Pred     : Ham (1)\n",
      "NB Pred     : Ham (1)\n"
     ]
    }
   ],
   "source": [
    "\n",
    "indices = [5, 14, 27]   \n",
    "\n",
    "def lab2str(v): \n",
    "    return \"Spam (0)\" if v == 0 else \"Ham (1)\"\n",
    "\n",
    "for i in indices:\n",
    "    sample_text = X_test.iloc[i]\n",
    "    true_label  = y_test.iloc[i]\n",
    "\n",
    "    # Predictions from 3 models\n",
    "    lr_pred_one = int(lr.predict(tfidf.transform([sample_text]))[0])\n",
    "    rf_pred_one = int(rf.predict(tfidf.transform([sample_text]).toarray())[0])\n",
    "    nb_pred_one = int(nb.predict(tfidf.transform([sample_text]))[0])\n",
    "\n",
    "    print(\"\\n=== SINGLE MESSAGE CHECK (index =\", i, \") ===\")\n",
    "    snippet = (sample_text[:160] + \"...\") if len(sample_text) > 160 else sample_text\n",
    "    print(\"Text snippet:\", snippet)\n",
    "    print(\"Actual      :\", lab2str(true_label))\n",
    "    print(\"LR Pred     :\", lab2str(lr_pred_one))\n",
    "    print(\"RF Pred     :\", lab2str(rf_pred_one))\n",
    "    print(\"NB Pred     :\", lab2str(nb_pred_one))\n",
    "\n"
   ]
  },
  {
   "cell_type": "code",
   "execution_count": null,
   "id": "3e815eb0-7750-47d4-b59f-4c0d1c29bfea",
   "metadata": {},
   "outputs": [],
   "source": []
  }
 ],
 "metadata": {
  "kernelspec": {
   "display_name": "Python 3 (ipykernel)",
   "language": "python",
   "name": "python3"
  },
  "language_info": {
   "codemirror_mode": {
    "name": "ipython",
    "version": 3
   },
   "file_extension": ".py",
   "mimetype": "text/x-python",
   "name": "python",
   "nbconvert_exporter": "python",
   "pygments_lexer": "ipython3",
   "version": "3.12.4"
  }
 },
 "nbformat": 4,
 "nbformat_minor": 5
}
