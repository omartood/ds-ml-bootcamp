{
 "cells": [
  {
   "cell_type": "code",
   "execution_count": 35,
   "id": "ab15b625-1c5a-40d7-981d-e600424cdb13",
   "metadata": {},
   "outputs": [],
   "source": [
    "import os\n",
    "os.environ[\"OMP_NUM_THREADS\"] = \"1\"\n",
    "\n",
    "import pandas as pd\n",
    "from sklearn.preprocessing import StandardScaler\n",
    "from sklearn.cluster import KMeans\n",
    "from sklearn.metrics import silhouette_score, davies_bouldin_score\n"
   ]
  },
  {
   "cell_type": "code",
   "execution_count": 3,
   "id": "1a6be319-c80e-4e0e-b13c-e9997a6dbc4f",
   "metadata": {},
   "outputs": [
    {
     "name": "stdout",
     "output_type": "stream",
     "text": [
      "The first 5 rows\n",
      "   CustomerID  Age  Income_$  SpendingScore  VisitsPerMonth  OnlinePurchases  \\\n",
      "0           1   28        33             78              14                9   \n",
      "1           2   21        25             87               8               23   \n",
      "2           3   23        24             88              13               10   \n",
      "3           4   24        25             73              16               11   \n",
      "4           5   20        23             88              17               16   \n",
      "\n",
      "   Gender Region  \n",
      "0  Female   East  \n",
      "1    Male  North  \n",
      "2    Male  South  \n",
      "3  Female   West  \n",
      "4    Male   West  \n"
     ]
    }
   ],
   "source": [
    "CSV_PATH = \"spending_l9_dataset.csv\"\n",
    "df = pd.read_csv(CSV_PATH)\n",
    "print(\"The first 5 rows\")\n",
    "print(df.head())"
   ]
  },
  {
   "cell_type": "code",
   "execution_count": 5,
   "id": "08242879-d8b6-4ee2-b449-3a75cf652be5",
   "metadata": {},
   "outputs": [],
   "source": [
    "Features = [\"Income_$\", \"SpendingScore\"]\n",
    "X = df[Features].copy()\n"
   ]
  },
  {
   "cell_type": "code",
   "execution_count": 7,
   "id": "2dea8c6d-73cf-4426-bd1d-786259d56be6",
   "metadata": {},
   "outputs": [],
   "source": [
    "#handling missing numeric values using medaian\n",
    "for col in Features:\n",
    "    if X[col].isna().any():\n",
    "        X[col] = X[col].fillna(X[col].median())"
   ]
  },
  {
   "cell_type": "code",
   "execution_count": 31,
   "id": "281d5e0c-1e26-43a4-aa4b-a9d794e0ffcc",
   "metadata": {},
   "outputs": [
    {
     "name": "stdout",
     "output_type": "stream",
     "text": [
      "\n",
      "Scaled :  (200, 2)\n"
     ]
    }
   ],
   "source": [
    "#scaling features\n",
    "scaler = StandardScaler()\n",
    "X_scaled = scaler.fit_transform(X)\n",
    "print(\"\\nScaled : \", X_scaled.shape)"
   ]
  },
  {
   "cell_type": "code",
   "execution_count": 11,
   "id": "c927a8bf-d74e-418e-aee2-55e3c3d8be98",
   "metadata": {},
   "outputs": [
    {
     "name": "stdout",
     "output_type": "stream",
     "text": [
      "        ELBOW METHOD (SSE per k)         \n",
      "k=1 → SSE=400.00\n",
      "k=2 → SSE=199.70\n",
      "k=3 → SSE=79.37\n",
      "k=4 → SSE=21.37\n",
      "k=5 → SSE=19.09\n",
      "k=6 → SSE=15.65\n",
      "k=7 → SSE=14.48\n",
      "k=8 → SSE=13.81\n",
      "k=9 → SSE=12.94\n",
      "k=10 → SSE=11.52\n"
     ]
    }
   ],
   "source": [
    "print(\"        ELBOW METHOD (SSE per k)         \")\n",
    "for k in range(1, 11):\n",
    "    km = KMeans(n_clusters=k, n_init=\"auto\",random_state=42)\n",
    "    km.fit(X_scaled)\n",
    "    print(f\"k={k} → SSE={km.inertia_:.2f}\")"
   ]
  },
  {
   "cell_type": "code",
   "execution_count": 29,
   "id": "9d50723c-f3ef-4259-b4e9-41710e8400f8",
   "metadata": {},
   "outputs": [
    {
     "name": "stdout",
     "output_type": "stream",
     "text": [
      "\n",
      "=== SAMPLE WITH CLUSTERS ===\n",
      "   CustomerID  Age  Income_$  SpendingScore  VisitsPerMonth  OnlinePurchases  \\\n",
      "0           1   28        33             78              14                9   \n",
      "1           2   21        25             87               8               23   \n",
      "2           3   23        24             88              13               10   \n",
      "3           4   24        25             73              16               11   \n",
      "4           5   20        23             88              17               16   \n",
      "\n",
      "   Gender Region  Cluster  \n",
      "0  Female   East        2  \n",
      "1    Male  North        2  \n",
      "2    Male  South        2  \n",
      "3  Female   West        2  \n",
      "4    Male   West        2  \n"
     ]
    }
   ],
   "source": [
    "# choose the k\n",
    "\n",
    "k = 4 \n",
    "kmeans = KMeans(n_clusters = k , n_init = \"auto\", random_state = 42)\n",
    "labels =kmeans.fit_predict(X_scaled)\n",
    "\n",
    "\n",
    "df[\"Cluster\"] = labels.astype(int)\n",
    "print(\"\\n=== SAMPLE WITH CLUSTERS ===\")\n",
    "print(df.head())"
   ]
  },
  {
   "cell_type": "code",
   "execution_count": 39,
   "id": "c4b32591-b549-4539-b2f2-ad4bfc836f4d",
   "metadata": {},
   "outputs": [
    {
     "name": "stdout",
     "output_type": "stream",
     "text": [
      "     METRICS     \n",
      "Silhouette Score : 0.73 (closer to +1 is better)\n",
      "Davies–Bouldin   : 0.39 (lower is better)\n"
     ]
    }
   ],
   "source": [
    "sil = silhouette_score(X_scaled, labels)\n",
    "dbi = davies_bouldin_score(X_scaled, labels)\n",
    "print(\"     METRICS     \")\n",
    "print(f\"Silhouette Score : {sil:.2f} (closer to +1 is better)\")\n",
    "print(f\"Davies–Bouldin   : {dbi:.2f} (lower is better)\")"
   ]
  },
  {
   "cell_type": "code",
   "execution_count": 53,
   "id": "1a5db0d5-bcf9-4ee7-99de-f6bfb400e59d",
   "metadata": {},
   "outputs": [
    {
     "name": "stdout",
     "output_type": "stream",
     "text": [
      "  CLUSTER CENTERS (Original Units)\n",
      "         Income_$  SpendingScore\n",
      "Cluster                         \n",
      "0           56.32          53.58\n",
      "1           28.92          19.60\n",
      "2           24.14          83.10\n",
      "3           99.16          79.24\n"
     ]
    }
   ],
   "source": [
    "centers_scaled = kmeans.cluster_centers_\n",
    "centers_original = scaler.inverse_transform(centers_scaled)\n",
    "\n",
    "centers_df = pd.DataFrame(centers_original, columns=Features)\n",
    "centers_df.index.name = \"Cluster\"\n",
    "\n",
    "print(\"  CLUSTER CENTERS (Original Units)\")\n",
    "print(centers_df.round(2))\n"
   ]
  },
  {
   "cell_type": "code",
   "execution_count": 75,
   "id": "2b88ad1a-6c82-4bbf-a97c-86b244e9139f",
   "metadata": {},
   "outputs": [
    {
     "name": "stdout",
     "output_type": "stream",
     "text": [
      "   SANITY CHECK (6 Customers) \n",
      "     Income_$  SpendingScore  Cluster\n",
      "30         27             80        2\n",
      "72         50             55        0\n",
      "106        31             26        1\n",
      "56         57             38        0\n",
      "178        92             81        3\n",
      "28         23             92        2\n"
     ]
    }
   ],
   "source": [
    "# sanity check\n",
    "\n",
    "sample_idx = [30, 72, 106,56,178,28]  # change to any row numbers\n",
    "sanity = df.loc[sample_idx, Features + [\"Cluster\"]]\n",
    "print(\"   SANITY CHECK (6 Customers) \")\n",
    "print(sanity)"
   ]
  },
  {
   "cell_type": "code",
   "execution_count": 79,
   "id": "dd4556c1-6970-4789-a205-842bb9af71cb",
   "metadata": {},
   "outputs": [],
   "source": [
    "# saving labeled cluster\n",
    "OUT_PATH = \"spending_labeled_clusters.csv\"\n",
    "df.to_csv(OUT_PATH, index=False)\n"
   ]
  },
  {
   "cell_type": "code",
   "execution_count": null,
   "id": "a2ec3a44-b9af-4785-a269-beb806ad832b",
   "metadata": {},
   "outputs": [],
   "source": []
  }
 ],
 "metadata": {
  "kernelspec": {
   "display_name": "Python 3 (ipykernel)",
   "language": "python",
   "name": "python3"
  },
  "language_info": {
   "codemirror_mode": {
    "name": "ipython",
    "version": 3
   },
   "file_extension": ".py",
   "mimetype": "text/x-python",
   "name": "python",
   "nbconvert_exporter": "python",
   "pygments_lexer": "ipython3",
   "version": "3.12.4"
  }
 },
 "nbformat": 4,
 "nbformat_minor": 5
}
